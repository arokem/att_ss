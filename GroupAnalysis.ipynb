{
 "metadata": {
  "name": "GroupAnalysis"
 },
 "nbformat": 3,
 "nbformat_minor": 0,
 "worksheets": [
  {
   "cells": [
    {
     "cell_type": "code",
     "collapsed": false,
     "input": [
      "%load_ext rmagic \n",
      "%R library(ez)\n",
      "\n",
      "# Import some stuff from mpl for customizing colors:\n",
      "import matplotlib.colors as co\n",
      "import matplotlib.cm as cm\n",
      "\n",
      "# Import our own analysis stuff\n",
      "import tools\n",
      "import scipy.stats as stats\n",
      "reload(tools)\n",
      "import pandas as pd"
     ],
     "language": "python",
     "metadata": {},
     "outputs": [
      {
       "output_type": "display_data",
       "text": [
        "Loading required package: car\n",
        "Loading required package: MASS\n",
        "Loading required package: nnet\n",
        "Loading required package: ggplot2\n",
        "Loading required package: lme4\n",
        "Loading required package: Matrix\n",
        "Loading required package: lattice\n",
        "\n",
        "Attaching package: \u2018lme4\u2019\n",
        "\n",
        "The following object(s) are masked from \u2018package:stats\u2019:\n",
        "\n",
        "    AIC, BIC\n",
        "\n",
        "Loading required package: mgcv\n",
        "This is mgcv 1.7-22. For overview type 'help(\"mgcv-package\")'.\n",
        "Loading required package: memoise\n",
        "Loading required package: plyr\n",
        "Loading required package: reshape2\n",
        "Loading required package: scales\n",
        "Loading required package: stringr\n",
        "\n",
        "Attaching package: \u2018ez\u2019\n",
        "\n",
        "The following object(s) are masked from \u2018package:plyr\u2019:\n",
        "\n",
        "    progress_time\n",
        "\n"
       ]
      }
     ],
     "prompt_number": 1
    },
    {
     "cell_type": "code",
     "collapsed": false,
     "input": [
      "cue_conds = ['cued', 'other', 'neutral']\n",
      "# Which function to use for plotting: \n",
      "plot_func=tools.cumgauss\n",
      "# Should match up with whatever you use for fitting:\n",
      "fit_func='cumgauss'\n",
      "path_to_files='/Users/arokem/projects/att_ss/data/'\n",
      "# We're going to use these colors to mark the different conditions.\n",
      "# Made with http://colorbrewer2.org, to be qualitative, color-blind safe and printer-friendly:\n",
      "colors = dict(cued=np.array([17, 148, 109])/255.,\n",
      "              other=np.array([207, 85, 1])/255., \n",
      "              neutral=np.array([107, 102, 169])/255.)"
     ],
     "language": "python",
     "metadata": {},
     "outputs": [],
     "prompt_number": 2
    },
    {
     "cell_type": "code",
     "collapsed": false,
     "input": [
      "df1, df2 = tools.get_df(17,\n",
      "\t\t  path_to_files=path_to_files,\n",
      "          boots=1,\n",
      "\t\t  exclude=[13,8],\n",
      "\t\t  cue_conds=cue_conds,\n",
      "\t      fit_func=fit_func,\n",
      "            )\n",
      "\n",
      "n_subjects = len(df1.columns)\n"
     ],
     "language": "python",
     "metadata": {},
     "outputs": [
      {
       "output_type": "stream",
       "stream": "stdout",
       "text": [
        "['S01', 'S02', 'S03', 'S04', 'S05', 'S06', 'S07', 'S09', 'S10', 'S11', 'S12', 'S14', 'S15', 'S16', 'S17']\n",
        "Analyzing S01\n",
        "File: S01HS_0_0_02092012_1_att_ss.csv\n",
        "Condition: cued\n",
        "Using the cumgauss function to analyze this"
       ]
      },
      {
       "output_type": "stream",
       "stream": "stdout",
       "text": [
        "\n",
        "Condition: other\n",
        "Using the cumgauss function to analyze this\n",
        "File: S01HS_0_90_02092012_1_att_ss.csv\n",
        "Condition: cued"
       ]
      },
      {
       "output_type": "stream",
       "stream": "stdout",
       "text": [
        "\n",
        "Using the cumgauss function to analyze this\n",
        "Condition: other\n",
        "Using the cumgauss function to analyze this"
       ]
      },
      {
       "output_type": "stream",
       "stream": "stdout",
       "text": [
        "\n",
        "File: S01HS_90_0_02092012_1_att_ss.csv\n",
        "Condition: cued\n",
        "Using the cumgauss function to analyze this"
       ]
      },
      {
       "output_type": "stream",
       "stream": "stdout",
       "text": [
        "\n",
        "Condition: other\n",
        "Using the cumgauss function to analyze this\n",
        "File: S01HS_90_90_02092012_1_att_ss.csv\n",
        "Condition: cued"
       ]
      },
      {
       "output_type": "stream",
       "stream": "stdout",
       "text": [
        "\n",
        "Using the cumgauss function to analyze this\n",
        "Condition: other\n",
        "Using the cumgauss function to analyze this"
       ]
      },
      {
       "output_type": "stream",
       "stream": "stdout",
       "text": [
        "\n",
        "File: S01HSn_0_0_02162012_1_att_ss.csv\n",
        "Condition: neutral\n",
        "Using the cumgauss function to analyze this\n",
        "File: S01HSn_0_90_02162012_1_att_ss.csv\n",
        "Condition: neutral\n",
        "Using the cumgauss function to analyze this"
       ]
      },
      {
       "output_type": "stream",
       "stream": "stdout",
       "text": [
        "\n",
        "File: S01HSn_90_0_02162012_1_att_ss.csv\n",
        "Condition: neutral\n",
        "Using the cumgauss function to analyze this\n",
        "File: S01HSn_90_90_02162012_1_att_ss.csv\n",
        "Condition: neutral\n",
        "Using the cumgauss function to analyze this\n",
        "Analyzing S02"
       ]
      },
      {
       "output_type": "stream",
       "stream": "stdout",
       "text": [
        "\n",
        "File: S02DT_0_0_02092012_1_att_ss.csv\n",
        "Condition: cued\n",
        "Using the cumgauss function to analyze this"
       ]
      },
      {
       "output_type": "stream",
       "stream": "stdout",
       "text": [
        "\n",
        "Condition: other\n",
        "Using the cumgauss function to analyze this"
       ]
      },
      {
       "output_type": "stream",
       "stream": "stdout",
       "text": [
        "\n",
        "File: S02DT_0_90_02092012_1_att_ss.csv\n",
        "Condition: cued\n",
        "Using the cumgauss function to analyze this"
       ]
      },
      {
       "output_type": "stream",
       "stream": "stdout",
       "text": [
        "\n",
        "Condition: other\n",
        "Using the cumgauss function to analyze this\n",
        "File: S02DT_90_0_02092012_1_att_ss.csv"
       ]
      },
      {
       "output_type": "stream",
       "stream": "stdout",
       "text": [
        "\n",
        "Condition: cued\n",
        "Using the cumgauss function to analyze this"
       ]
      },
      {
       "output_type": "stream",
       "stream": "stdout",
       "text": [
        "\n",
        "Condition: other\n",
        "Using the cumgauss function to analyze this\n",
        "File: S02DT_90_90_02092012_1_att_ss.csv"
       ]
      },
      {
       "output_type": "stream",
       "stream": "stdout",
       "text": [
        "\n",
        "Condition: cued\n",
        "Using the cumgauss function to analyze this"
       ]
      },
      {
       "output_type": "stream",
       "stream": "stdout",
       "text": [
        "\n",
        "Condition: other\n",
        "Using the cumgauss function to analyze this\n",
        "File: S02DTn_0_0_02162012_1_att_ss.csv"
       ]
      },
      {
       "output_type": "stream",
       "stream": "stdout",
       "text": [
        "\n",
        "Condition: neutral\n",
        "Using the cumgauss function to analyze this\n",
        "File: S02DTn_0_90_02162012_1_att_ss.csv\n",
        "Condition: neutral\n",
        "Using the cumgauss function to analyze this"
       ]
      },
      {
       "output_type": "stream",
       "stream": "stdout",
       "text": [
        "\n",
        "File: S02DTn_90_0_02162012_1_att_ss.csv\n",
        "Condition: neutral\n",
        "Using the cumgauss function to analyze this\n",
        "File: S02DTn_90_90_02162012_1_att_ss.csv\n",
        "Condition: neutral\n",
        "Using the cumgauss function to analyze this"
       ]
      },
      {
       "output_type": "stream",
       "stream": "stdout",
       "text": [
        "\n",
        "Analyzing S03\n",
        "File: S03AB_0_0_02102012_1_att_ss.csv\n",
        "Condition: cued\n",
        "Using the cumgauss function to analyze this"
       ]
      },
      {
       "output_type": "stream",
       "stream": "stdout",
       "text": [
        "\n",
        "Condition: other\n",
        "Using the cumgauss function to analyze this\n",
        "File: S03AB_0_90_02102012_1_att_ss.csv\n",
        "Condition: cued"
       ]
      },
      {
       "output_type": "stream",
       "stream": "stdout",
       "text": [
        "\n",
        "Using the cumgauss function to analyze this\n",
        "Condition: other\n",
        "Using the cumgauss function to analyze this"
       ]
      },
      {
       "output_type": "stream",
       "stream": "stdout",
       "text": [
        "\n",
        "File: S03AB_90_0_02102012_1_att_ss.csv\n",
        "Condition: cued\n",
        "Using the cumgauss function to analyze this"
       ]
      },
      {
       "output_type": "stream",
       "stream": "stdout",
       "text": [
        "\n",
        "Condition: other\n",
        "Using the cumgauss function to analyze this\n",
        "File: S03AB_90_90_02102012_1_att_ss.csv\n",
        "Condition: cued"
       ]
      },
      {
       "output_type": "stream",
       "stream": "stdout",
       "text": [
        "\n",
        "Using the cumgauss function to analyze this\n",
        "1.24794489615\n",
        "1.0\n",
        "Condition: other\n",
        "Using the cumgauss function to analyze this"
       ]
      },
      {
       "output_type": "stream",
       "stream": "stdout",
       "text": [
        "\n",
        "File: S03ABn_0_0_02102012_1_att_ss.csv\n",
        "Condition: neutral\n",
        "Using the cumgauss function to analyze this\n",
        "File: S03ABn_0_90_02102012_1_att_ss.csv\n",
        "Condition: neutral\n",
        "Using the cumgauss function to analyze this"
       ]
      },
      {
       "output_type": "stream",
       "stream": "stdout",
       "text": [
        "\n",
        "File: S03ABn_90_0_02102012_2_att_ss.csv\n",
        "Condition: neutral\n",
        "Using the cumgauss function to analyze this\n",
        "File: S03ABn_90_90_02102012_1_att_ss.csv\n",
        "Condition: neutral\n",
        "Using the cumgauss function to analyze this\n",
        "Analyzing S04"
       ]
      },
      {
       "output_type": "stream",
       "stream": "stdout",
       "text": [
        "\n",
        "File: S04LC_0_0_02162012_1_att_ss.csv\n",
        "Condition: cued\n",
        "Using the cumgauss function to analyze this"
       ]
      },
      {
       "output_type": "stream",
       "stream": "stdout",
       "text": [
        "\n",
        "Condition: other\n",
        "Using the cumgauss function to analyze this\n",
        "File: S04LC_0_90_02162012_1_att_ss.csv\n",
        "Condition: cued"
       ]
      },
      {
       "output_type": "stream",
       "stream": "stdout",
       "text": [
        "\n",
        "Using the cumgauss function to analyze this\n",
        "Condition: other"
       ]
      },
      {
       "output_type": "stream",
       "stream": "stdout",
       "text": [
        "\n",
        "Using the cumgauss function to analyze this\n",
        "File: S04LC_90_0_02162012_1_att_ss.csv\n",
        "Condition: cued"
       ]
      },
      {
       "output_type": "stream",
       "stream": "stdout",
       "text": [
        "\n",
        "Using the cumgauss function to analyze this\n",
        "Condition: other"
       ]
      },
      {
       "output_type": "stream",
       "stream": "stdout",
       "text": [
        "\n",
        "Using the cumgauss function to analyze this\n",
        "File: S04LC_90_90_02162012_1_att_ss.csv\n",
        "Condition: cued"
       ]
      },
      {
       "output_type": "stream",
       "stream": "stdout",
       "text": [
        "\n",
        "Using the cumgauss function to analyze this\n",
        "Condition: other\n",
        "Using the cumgauss function to analyze this"
       ]
      },
      {
       "output_type": "stream",
       "stream": "stdout",
       "text": [
        "\n",
        "File: S04LCn_0_0_02162012_1_att_ss.csv\n",
        "Condition: neutral\n",
        "Using the cumgauss function to analyze this\n",
        "File: S04LCn_0_90_02162012_1_att_ss.csv\n",
        "Condition: neutral\n",
        "Using the cumgauss function to analyze this"
       ]
      },
      {
       "output_type": "stream",
       "stream": "stdout",
       "text": [
        "\n",
        "File: S04LCn_90_0_02162012_1_att_ss.csv\n",
        "Condition: neutral\n",
        "Using the cumgauss function to analyze this\n",
        "File: S04LCn_90_90_02162012_1_att_ss.csv\n",
        "Condition: neutral\n",
        "Using the cumgauss function to analyze this\n",
        "Analyzing S05"
       ]
      },
      {
       "output_type": "stream",
       "stream": "stdout",
       "text": [
        "\n",
        "File: S05JV_0_0_02162012_1_att_ss.csv\n",
        "Condition: cued\n",
        "Using the cumgauss function to analyze this\n",
        "Condition: other"
       ]
      },
      {
       "output_type": "stream",
       "stream": "stdout",
       "text": [
        "\n",
        "Using the cumgauss function to analyze this\n",
        "File: S05JV_0_90_02162012_1_att_ss.csv\n",
        "Condition: cued\n",
        "Using the cumgauss function to analyze this"
       ]
      },
      {
       "output_type": "stream",
       "stream": "stdout",
       "text": [
        "\n",
        "Condition: other\n",
        "Using the cumgauss function to analyze this\n",
        "File: S05JV_90_0_02162012_1_att_ss.csv\n",
        "Condition: cued"
       ]
      },
      {
       "output_type": "stream",
       "stream": "stdout",
       "text": [
        "\n",
        "Using the cumgauss function to analyze this\n",
        "Condition: other\n",
        "Using the cumgauss function to analyze this"
       ]
      },
      {
       "output_type": "stream",
       "stream": "stdout",
       "text": [
        "\n",
        "File: S05JV_90_90_02162012_1_att_ss.csv\n",
        "Condition: cued\n",
        "Using the cumgauss function to analyze this"
       ]
      },
      {
       "output_type": "stream",
       "stream": "stdout",
       "text": [
        "\n",
        "Condition: other\n",
        "Using the cumgauss function to analyze this\n",
        "File: S05JV_90_90_02232012_1_att_ss.csv\n",
        "Condition: cued"
       ]
      },
      {
       "output_type": "stream",
       "stream": "stdout",
       "text": [
        "\n",
        "Using the cumgauss function to analyze this\n",
        "Condition: other\n",
        "Using the cumgauss function to analyze this"
       ]
      },
      {
       "output_type": "stream",
       "stream": "stdout",
       "text": [
        "\n",
        "File: S05JVn_0_0_02162012_1_att_ss.csv\n",
        "Condition: neutral\n",
        "Using the cumgauss function to analyze this\n",
        "File: S05JVn_0_90_02162012_1_att_ss.csv\n",
        "Condition: neutral\n",
        "Using the cumgauss function to analyze this\n",
        "File: S05JVn_90_0_02162012_1_att_ss.csv"
       ]
      },
      {
       "output_type": "stream",
       "stream": "stdout",
       "text": [
        "\n",
        "Condition: neutral\n",
        "Using the cumgauss function to analyze this\n",
        "File: S05JVn_90_90_02162012_1_att_ss.csv\n",
        "Condition: neutral\n",
        "Using the cumgauss function to analyze this\n",
        "Analyzing S06\n",
        "File: S06LN_0_0_02212012_1_att_ss.csv\n",
        "Condition: cued"
       ]
      },
      {
       "output_type": "stream",
       "stream": "stdout",
       "text": [
        "\n",
        "Using the cumgauss function to analyze this\n",
        "Condition: other\n",
        "Using the cumgauss function to analyze this"
       ]
      },
      {
       "output_type": "stream",
       "stream": "stdout",
       "text": [
        "\n",
        "File: S06LN_0_90_02212012_1_att_ss.csv\n",
        "Condition: cued\n",
        "Using the cumgauss function to analyze this\n",
        "Condition: other"
       ]
      },
      {
       "output_type": "stream",
       "stream": "stdout",
       "text": [
        "\n",
        "Using the cumgauss function to analyze this\n",
        "File: S06LN_90_0_02212012_1_att_ss.csv\n",
        "Condition: cued"
       ]
      },
      {
       "output_type": "stream",
       "stream": "stdout",
       "text": [
        "\n",
        "Using the cumgauss function to analyze this\n",
        "Condition: other\n",
        "Using the cumgauss function to analyze this"
       ]
      },
      {
       "output_type": "stream",
       "stream": "stdout",
       "text": [
        "\n",
        "File: S06LN_90_90_02212012_1_att_ss.csv\n",
        "Condition: cued\n",
        "Using the cumgauss function to analyze this"
       ]
      },
      {
       "output_type": "stream",
       "stream": "stdout",
       "text": [
        "\n",
        "Condition: other\n",
        "Using the cumgauss function to analyze this\n",
        "File: S06LNn_0_0_02212012_1_att_ss.csv"
       ]
      },
      {
       "output_type": "stream",
       "stream": "stdout",
       "text": [
        "\n",
        "Condition: neutral\n",
        "Using the cumgauss function to analyze this\n",
        "File: S06LNn_0_90_02212012_1_att_ss.csv\n",
        "Condition: neutral\n",
        "Using the cumgauss function to analyze this"
       ]
      },
      {
       "output_type": "stream",
       "stream": "stdout",
       "text": [
        "\n",
        "File: S06LNn_90_0_02212012_1_att_ss.csv\n",
        "Condition: neutral\n",
        "Using the cumgauss function to analyze this\n",
        "File: S06LNn_90_90_02212012_1_att_ss.csv\n",
        "Condition: neutral\n",
        "Using the cumgauss function to analyze this"
       ]
      },
      {
       "output_type": "stream",
       "stream": "stdout",
       "text": [
        "\n",
        "Analyzing S07\n",
        "File: S07GM_0_0_02232012_1_att_ss.csv\n",
        "Condition: cued\n",
        "Using the cumgauss function to analyze this"
       ]
      },
      {
       "output_type": "stream",
       "stream": "stdout",
       "text": [
        "\n",
        "Condition: other\n",
        "Using the cumgauss function to analyze this"
       ]
      },
      {
       "output_type": "stream",
       "stream": "stdout",
       "text": [
        "\n",
        "File: S07GM_0_90_02232012_1_att_ss.csv\n",
        "Condition: cued\n",
        "Using the cumgauss function to analyze this"
       ]
      },
      {
       "output_type": "stream",
       "stream": "stdout",
       "text": [
        "\n",
        "Condition: other\n",
        "Using the cumgauss function to analyze this\n",
        "File: S07GM_90_0_02232012_1_att_ss.csv\n",
        "Condition: cued"
       ]
      },
      {
       "output_type": "stream",
       "stream": "stdout",
       "text": [
        "\n",
        "Using the cumgauss function to analyze this\n",
        "Condition: other"
       ]
      },
      {
       "output_type": "stream",
       "stream": "stdout",
       "text": [
        "\n",
        "Using the cumgauss function to analyze this\n",
        "File: S07GM_90_90_02232012_1_att_ss.csv\n",
        "Condition: cued\n",
        "Using the cumgauss function to analyze this"
       ]
      },
      {
       "output_type": "stream",
       "stream": "stdout",
       "text": [
        "\n",
        "Condition: other\n",
        "Using the cumgauss function to analyze this\n",
        "File: S07GMn_0_0_02232012_1_att_ss.csv\n",
        "Condition: neutral\n",
        "Using the cumgauss function to analyze this"
       ]
      },
      {
       "output_type": "stream",
       "stream": "stdout",
       "text": [
        "\n",
        "File: S07GMn_0_90_02232012_1_att_ss.csv\n",
        "Condition: neutral\n",
        "Using the cumgauss function to analyze this\n",
        "File: S07GMn_90_0_02232012_1_att_ss.csv\n",
        "Condition: neutral\n",
        "Using the cumgauss function to analyze this"
       ]
      },
      {
       "output_type": "stream",
       "stream": "stdout",
       "text": [
        "\n",
        "File: S07GMn_90_90_02232012_1_att_ss.csv\n",
        "Condition: neutral\n",
        "Using the cumgauss function to analyze this\n",
        "File: S07MGn_0_0_05292012_1_att_ss.csv\n",
        "Condition: neutral\n",
        "Using the cumgauss function to analyze this\n",
        "File: S07MGn_0_90_05292012_1_att_ss.csv"
       ]
      },
      {
       "output_type": "stream",
       "stream": "stdout",
       "text": [
        "\n",
        "Condition: neutral\n",
        "Using the cumgauss function to analyze this\n",
        "File: S07MGn_90_0_05292012_1_att_ss.csv\n",
        "Condition: neutral\n",
        "Using the cumgauss function to analyze this\n",
        "File: S07MGn_90_90_05292012_1_att_ss.csv\n",
        "Condition: neutral\n",
        "Using the cumgauss function to analyze this"
       ]
      },
      {
       "output_type": "stream",
       "stream": "stdout",
       "text": [
        "\n",
        "Analyzing S09\n",
        "File: S09CL_0_0_02292012_1_att_ss.csv\n",
        "Condition: cued\n",
        "Using the cumgauss function to analyze this\n",
        "Condition: other"
       ]
      },
      {
       "output_type": "stream",
       "stream": "stdout",
       "text": [
        "\n",
        "Using the cumgauss function to analyze this\n",
        "File: S09CL_0_90_02292012_1_att_ss.csv\n",
        "Condition: cued\n",
        "Using the cumgauss function to analyze this"
       ]
      },
      {
       "output_type": "stream",
       "stream": "stdout",
       "text": [
        "\n",
        "Condition: other\n",
        "Using the cumgauss function to analyze this\n",
        "File: S09CL_90_0_02292012_1_att_ss.csv"
       ]
      },
      {
       "output_type": "stream",
       "stream": "stdout",
       "text": [
        "\n",
        "Condition: cued\n",
        "Using the cumgauss function to analyze this"
       ]
      },
      {
       "output_type": "stream",
       "stream": "stdout",
       "text": [
        "\n",
        "Condition: other\n",
        "Using the cumgauss function to analyze this\n",
        "File: S09CL_90_90_02292012_1_att_ss.csv"
       ]
      },
      {
       "output_type": "stream",
       "stream": "stdout",
       "text": [
        "\n",
        "Condition: cued\n",
        "Using the cumgauss function to analyze this"
       ]
      },
      {
       "output_type": "stream",
       "stream": "stdout",
       "text": [
        "\n",
        "Condition: other\n",
        "Using the cumgauss function to analyze this\n",
        "File: S09CL_90_90_02292012_2_att_ss.csv\n",
        "Condition: cued"
       ]
      },
      {
       "output_type": "stream",
       "stream": "stdout",
       "text": [
        "\n",
        "Using the cumgauss function to analyze this\n",
        "Condition: other\n",
        "Using the cumgauss function to analyze this"
       ]
      },
      {
       "output_type": "stream",
       "stream": "stdout",
       "text": [
        "\n",
        "File: S09CLn_0_0_02292012_1_att_ss.csv\n",
        "Condition: neutral\n",
        "Using the cumgauss function to analyze this\n",
        "File: S09CLn_0_90_02292012_1_att_ss.csv\n",
        "Condition: neutral"
       ]
      },
      {
       "output_type": "stream",
       "stream": "stdout",
       "text": [
        "\n",
        "Using the cumgauss function to analyze this\n",
        "File: S09CLn_90_0_02292012_1_att_ss.csv\n",
        "Condition: neutral\n",
        "Using the cumgauss function to analyze this\n",
        "File: S09CLn_90_90_02292012_1_att_ss.csv\n",
        "Condition: neutral"
       ]
      },
      {
       "output_type": "stream",
       "stream": "stdout",
       "text": [
        "\n",
        "Using the cumgauss function to analyze this\n",
        "Analyzing S10\n",
        "File: S10SH_0_0_03012012_1_att_ss.csv\n",
        "Condition: cued"
       ]
      },
      {
       "output_type": "stream",
       "stream": "stdout",
       "text": [
        "\n",
        "Using the cumgauss function to analyze this\n",
        "Condition: other\n",
        "Using the cumgauss function to analyze this"
       ]
      },
      {
       "output_type": "stream",
       "stream": "stdout",
       "text": [
        "\n",
        "File: S10SH_0_90_03012012_1_att_ss.csv\n",
        "Condition: cued\n",
        "Using the cumgauss function to analyze this"
       ]
      },
      {
       "output_type": "stream",
       "stream": "stdout",
       "text": [
        "\n",
        "Condition: other\n",
        "Using the cumgauss function to analyze this"
       ]
      },
      {
       "output_type": "stream",
       "stream": "stdout",
       "text": [
        "\n",
        "File: S10SH_90_0_03012012_1_att_ss.csv\n",
        "Condition: cued\n",
        "Using the cumgauss function to analyze this"
       ]
      },
      {
       "output_type": "stream",
       "stream": "stdout",
       "text": [
        "\n",
        "Condition: other\n",
        "Using the cumgauss function to analyze this\n",
        "File: S10SH_90_90_03012012_1_att_ss.csv"
       ]
      },
      {
       "output_type": "stream",
       "stream": "stdout",
       "text": [
        "\n",
        "Condition: cued\n",
        "Using the cumgauss function to analyze this\n",
        "Condition: other"
       ]
      },
      {
       "output_type": "stream",
       "stream": "stdout",
       "text": [
        "\n",
        "Using the cumgauss function to analyze this\n",
        "File: S10SHn_0_0_03012012_1_att_ss.csv\n",
        "Condition: neutral\n",
        "Using the cumgauss function to analyze this\n",
        "File: S10SHn_0_90_03012012_1_att_ss.csv"
       ]
      },
      {
       "output_type": "stream",
       "stream": "stdout",
       "text": [
        "\n",
        "Condition: neutral\n",
        "Using the cumgauss function to analyze this\n",
        "File: S10SHn_90_0_03012012_1_att_ss.csv\n",
        "Condition: neutral\n",
        "Using the cumgauss function to analyze this"
       ]
      },
      {
       "output_type": "stream",
       "stream": "stdout",
       "text": [
        "\n",
        "File: S10SHn_90_90_03012012_1_att_ss.csv\n",
        "Condition: neutral\n",
        "Using the cumgauss function to analyze this\n",
        "Analyzing S11\n",
        "File: S11TL_0_0_03132012_1_att_ss.csv\n",
        "Condition: cued"
       ]
      },
      {
       "output_type": "stream",
       "stream": "stdout",
       "text": [
        "\n",
        "Using the cumgauss function to analyze this\n",
        "Condition: other"
       ]
      },
      {
       "output_type": "stream",
       "stream": "stdout",
       "text": [
        "\n",
        "Using the cumgauss function to analyze this\n",
        "File: S11TL_0_90_03132012_1_att_ss.csv\n",
        "Condition: cued"
       ]
      },
      {
       "output_type": "stream",
       "stream": "stdout",
       "text": [
        "\n",
        "Using the cumgauss function to analyze this\n",
        "Condition: other"
       ]
      },
      {
       "output_type": "stream",
       "stream": "stdout",
       "text": [
        "\n",
        "Using the cumgauss function to analyze this\n",
        "File: S11TL_90_0_03132012_1_att_ss.csv\n",
        "Condition: cued"
       ]
      },
      {
       "output_type": "stream",
       "stream": "stdout",
       "text": [
        "\n",
        "Using the cumgauss function to analyze this\n",
        "Condition: other\n",
        "Using the cumgauss function to analyze this"
       ]
      },
      {
       "output_type": "stream",
       "stream": "stdout",
       "text": [
        "\n",
        "File: S11TL_90_90_03132012_1_att_ss.csv\n",
        "Condition: cued\n",
        "Using the cumgauss function to analyze this"
       ]
      },
      {
       "output_type": "stream",
       "stream": "stdout",
       "text": [
        "\n",
        "Condition: other\n",
        "Using the cumgauss function to analyze this\n",
        "File: S11TLn_0_0_03132012_1_att_ss.csv"
       ]
      },
      {
       "output_type": "stream",
       "stream": "stdout",
       "text": [
        "\n",
        "Condition: neutral\n",
        "Using the cumgauss function to analyze this\n",
        "File: S11TLn_0_90_03132012_1_att_ss.csv\n",
        "Condition: neutral\n",
        "Using the cumgauss function to analyze this"
       ]
      },
      {
       "output_type": "stream",
       "stream": "stdout",
       "text": [
        "\n",
        "File: S11TLn_90_0_03132012_1_att_ss.csv\n",
        "Condition: neutral\n",
        "Using the cumgauss function to analyze this\n",
        "File: S11TLn_90_90_03132012_1_att_ss.csv\n",
        "Condition: neutral\n",
        "Using the cumgauss function to analyze this"
       ]
      },
      {
       "output_type": "stream",
       "stream": "stdout",
       "text": [
        "\n",
        "Analyzing S12\n",
        "File: S12JD_0_0_05232012_1_att_ss.csv\n",
        "Condition: cued\n",
        "Using the cumgauss function to analyze this"
       ]
      },
      {
       "output_type": "stream",
       "stream": "stdout",
       "text": [
        "\n",
        "Condition: other\n",
        "Using the cumgauss function to analyze this\n",
        "2.04917177592"
       ]
      },
      {
       "output_type": "stream",
       "stream": "stdout",
       "text": [
        "\n",
        "1.0\n",
        "File: S12JD_0_90_05232012_1_att_ss.csv\n",
        "Condition: cued\n",
        "Using the cumgauss function to analyze this"
       ]
      },
      {
       "output_type": "stream",
       "stream": "stdout",
       "text": [
        "\n",
        "Condition: other\n",
        "Using the cumgauss function to analyze this\n",
        "File: S12JD_90_0_05232012_1_att_ss.csv"
       ]
      },
      {
       "output_type": "stream",
       "stream": "stdout",
       "text": [
        "\n",
        "Condition: cued\n",
        "Using the cumgauss function to analyze this"
       ]
      },
      {
       "output_type": "stream",
       "stream": "stdout",
       "text": [
        "\n",
        "Condition: other\n",
        "Using the cumgauss function to analyze this\n",
        "File: S12JD_90_90_05232012_1_att_ss.csv\n",
        "Condition: cued"
       ]
      },
      {
       "output_type": "stream",
       "stream": "stdout",
       "text": [
        "\n",
        "Using the cumgauss function to analyze this\n",
        "Condition: other"
       ]
      },
      {
       "output_type": "stream",
       "stream": "stdout",
       "text": [
        "\n",
        "Using the cumgauss function to analyze this\n",
        "File: S12JD_n_0_0_05232012_1_att_ss.csv\n",
        "Condition: neutral\n",
        "Using the cumgauss function to analyze this"
       ]
      },
      {
       "output_type": "stream",
       "stream": "stdout",
       "text": [
        "\n",
        "File: S12JD_n_0_90_05232012_1_att_ss.csv\n",
        "Condition: neutral\n",
        "Using the cumgauss function to analyze this\n",
        "File: S12JD_n_90_0_05232012_1_att_ss.csv\n",
        "Condition: neutral"
       ]
      },
      {
       "output_type": "stream",
       "stream": "stdout",
       "text": [
        "\n",
        "Using the cumgauss function to analyze this\n",
        "File: S12JD_n_90_90_05232012_1_att_ss.csv\n",
        "Condition: neutral\n",
        "Using the cumgauss function to analyze this\n",
        "Analyzing S14"
       ]
      },
      {
       "output_type": "stream",
       "stream": "stdout",
       "text": [
        "\n",
        "File: S14JN_0_0_06052012_1_att_ss.csv\n",
        "Condition: cued\n",
        "Using the cumgauss function to analyze this"
       ]
      },
      {
       "output_type": "stream",
       "stream": "stdout",
       "text": [
        "\n",
        "Condition: other\n",
        "Using the cumgauss function to analyze this\n",
        "File: S14JN_0_90_06052012_1_att_ss.csv\n",
        "Condition: cued"
       ]
      },
      {
       "output_type": "stream",
       "stream": "stdout",
       "text": [
        "\n",
        "Using the cumgauss function to analyze this\n",
        "Condition: other\n",
        "Using the cumgauss function to analyze this"
       ]
      },
      {
       "output_type": "stream",
       "stream": "stdout",
       "text": [
        "\n",
        "File: S14JN_90_0_06052012_1_att_ss.csv\n",
        "Condition: cued\n",
        "Using the cumgauss function to analyze this"
       ]
      },
      {
       "output_type": "stream",
       "stream": "stdout",
       "text": [
        "\n",
        "Condition: other\n",
        "Using the cumgauss function to analyze this"
       ]
      },
      {
       "output_type": "stream",
       "stream": "stdout",
       "text": [
        "\n",
        "File: S14JN_90_90_06052012_1_att_ss.csv\n",
        "Condition: cued\n",
        "Using the cumgauss function to analyze this"
       ]
      },
      {
       "output_type": "stream",
       "stream": "stdout",
       "text": [
        "\n",
        "1.00267466657\n",
        "1.0\n",
        "Condition: other\n",
        "Using the cumgauss function to analyze this\n",
        "File: S14JNn_0_0_06052012_1_att_ss.csv\n",
        "Condition: neutral"
       ]
      },
      {
       "output_type": "stream",
       "stream": "stdout",
       "text": [
        "\n",
        "Using the cumgauss function to analyze this\n",
        "File: S14JNn_0_90_06052012_1_att_ss.csv\n",
        "Condition: neutral\n",
        "Using the cumgauss function to analyze this\n",
        "File: S14JNn_90_0_06052012_1_att_ss.csv\n",
        "Condition: neutral"
       ]
      },
      {
       "output_type": "stream",
       "stream": "stdout",
       "text": [
        "\n",
        "Using the cumgauss function to analyze this\n",
        "File: S14JNn_90_90_06052012_1_att_ss.csv\n",
        "Condition: neutral\n",
        "Using the cumgauss function to analyze this\n",
        "Analyzing S15"
       ]
      },
      {
       "output_type": "stream",
       "stream": "stdout",
       "text": [
        "\n",
        "File: S15KB_0_0_06052012_1_att_ss.csv\n",
        "Condition: cued\n",
        "Using the cumgauss function to analyze this"
       ]
      },
      {
       "output_type": "stream",
       "stream": "stdout",
       "text": [
        "\n",
        "Condition: other\n",
        "Using the cumgauss function to analyze this"
       ]
      },
      {
       "output_type": "stream",
       "stream": "stdout",
       "text": [
        "\n",
        "1.51696888533\n",
        "1.0\n",
        "File: S15KB_0_90_06052012_1_att_ss.csv\n",
        "Condition: cued\n",
        "Using the cumgauss function to analyze this"
       ]
      },
      {
       "output_type": "stream",
       "stream": "stdout",
       "text": [
        "\n",
        "Condition: other\n",
        "Using the cumgauss function to analyze this\n",
        "File: S15KB_90_0_06052012_1_att_ss.csv"
       ]
      },
      {
       "output_type": "stream",
       "stream": "stdout",
       "text": [
        "\n",
        "Condition: cued\n",
        "Using the cumgauss function to analyze this"
       ]
      },
      {
       "output_type": "stream",
       "stream": "stdout",
       "text": [
        "\n",
        "Condition: other\n",
        "Using the cumgauss function to analyze this"
       ]
      },
      {
       "output_type": "stream",
       "stream": "stdout",
       "text": [
        "\n",
        "File: S15KB_90_90_06052012_1_att_ss.csv\n",
        "Condition: cued\n",
        "Using the cumgauss function to analyze this"
       ]
      },
      {
       "output_type": "stream",
       "stream": "stdout",
       "text": [
        "\n",
        "Condition: other\n",
        "Using the cumgauss function to analyze this\n",
        "File: S15KBn_0_0_06052012_1_att_ss.csv\n",
        "Condition: neutral"
       ]
      },
      {
       "output_type": "stream",
       "stream": "stdout",
       "text": [
        "\n",
        "Using the cumgauss function to analyze this\n",
        "File: S15KBn_0_90_06052012_1_att_ss.csv\n",
        "Condition: neutral\n",
        "Using the cumgauss function to analyze this\n",
        "File: S15KBn_90_0_06052012_1_att_ss.csv"
       ]
      },
      {
       "output_type": "stream",
       "stream": "stdout",
       "text": [
        "\n",
        "Condition: neutral\n",
        "Using the cumgauss function to analyze this\n",
        "File: S15KBn_90_90_06052012_1_att_ss.csv\n",
        "Condition: neutral\n",
        "Using the cumgauss function to analyze this"
       ]
      },
      {
       "output_type": "stream",
       "stream": "stdout",
       "text": [
        "\n",
        "Analyzing S16\n",
        "File: S16PW_0_0_06082012_1_att_ss.csv\n",
        "Condition: cued\n",
        "Using the cumgauss function to analyze this"
       ]
      },
      {
       "output_type": "stream",
       "stream": "stdout",
       "text": [
        "\n",
        "Condition: other\n",
        "Using the cumgauss function to analyze this\n",
        "File: S16PW_0_90_06082012_1_att_ss.csv"
       ]
      },
      {
       "output_type": "stream",
       "stream": "stdout",
       "text": [
        "\n",
        "Condition: cued\n",
        "Using the cumgauss function to analyze this"
       ]
      },
      {
       "output_type": "stream",
       "stream": "stdout",
       "text": [
        "\n",
        "Condition: other\n",
        "Using the cumgauss function to analyze this\n",
        "File: S16PW_90_0_06082012_1_att_ss.csv\n",
        "Condition: cued"
       ]
      },
      {
       "output_type": "stream",
       "stream": "stdout",
       "text": [
        "\n",
        "Using the cumgauss function to analyze this\n",
        "Condition: other\n",
        "Using the cumgauss function to analyze this"
       ]
      },
      {
       "output_type": "stream",
       "stream": "stdout",
       "text": [
        "\n",
        "File: S16PW_90_90_06082012_1_att_ss.csv\n",
        "Condition: cued\n",
        "Using the cumgauss function to analyze this"
       ]
      },
      {
       "output_type": "stream",
       "stream": "stdout",
       "text": [
        "\n",
        "Condition: other\n",
        "Using the cumgauss function to analyze this\n",
        "File: S16PWn_0_0_06082012_1_att_ss.csv"
       ]
      },
      {
       "output_type": "stream",
       "stream": "stdout",
       "text": [
        "\n",
        "Condition: neutral\n",
        "Using the cumgauss function to analyze this\n",
        "File: S16PWn_0_90_06082012_1_att_ss.csv\n",
        "Condition: neutral\n",
        "Using the cumgauss function to analyze this\n",
        "File: S16PWn_90_0_06082012_1_att_ss.csv\n",
        "Condition: neutral"
       ]
      },
      {
       "output_type": "stream",
       "stream": "stdout",
       "text": [
        "\n",
        "Using the cumgauss function to analyze this\n",
        "File: S16PWn_90_90_06082012_1_att_ss.csv\n",
        "Condition: neutral\n",
        "Using the cumgauss function to analyze this"
       ]
      },
      {
       "output_type": "stream",
       "stream": "stdout",
       "text": [
        "\n",
        "Analyzing S17\n",
        "File: S17LD_0_0_06262012_1_att_ss.csv\n",
        "Condition: cued\n",
        "Using the cumgauss function to analyze this"
       ]
      },
      {
       "output_type": "stream",
       "stream": "stdout",
       "text": [
        "\n",
        "Condition: other\n",
        "Using the cumgauss function to analyze this\n",
        "File: S17LD_0_90_06262012_1_att_ss.csv"
       ]
      },
      {
       "output_type": "stream",
       "stream": "stdout",
       "text": [
        "\n",
        "Condition: cued\n",
        "Using the cumgauss function to analyze this"
       ]
      },
      {
       "output_type": "stream",
       "stream": "stdout",
       "text": [
        "\n",
        "Condition: other\n",
        "Using the cumgauss function to analyze this\n",
        "File: S17LD_90_0_06262012_1_att_ss.csv"
       ]
      },
      {
       "output_type": "stream",
       "stream": "stdout",
       "text": [
        "\n",
        "Condition: cued\n",
        "Using the cumgauss function to analyze this"
       ]
      },
      {
       "output_type": "stream",
       "stream": "stdout",
       "text": [
        "\n",
        "Condition: other\n",
        "Using the cumgauss function to analyze this\n",
        "File: S17LD_90_90_06262012_1_att_ss.csv\n",
        "Condition: cued"
       ]
      },
      {
       "output_type": "stream",
       "stream": "stdout",
       "text": [
        "\n",
        "Using the cumgauss function to analyze this\n",
        "Condition: other"
       ]
      },
      {
       "output_type": "stream",
       "stream": "stdout",
       "text": [
        "\n",
        "Using the cumgauss function to analyze this\n",
        "File: S17LDn_0_0_06262012_1_att_ss.csv\n",
        "Condition: neutral\n",
        "Using the cumgauss function to analyze this"
       ]
      },
      {
       "output_type": "stream",
       "stream": "stdout",
       "text": [
        "\n",
        "File: S17LDn_0_90_06262012_1_att_ss.csv\n",
        "Condition: neutral\n",
        "Using the cumgauss function to analyze this\n",
        "File: S17LDn_90_0_06262012_2_att_ss.csv\n",
        "Condition: neutral\n",
        "Using the cumgauss function to analyze this"
       ]
      },
      {
       "output_type": "stream",
       "stream": "stdout",
       "text": [
        "\n",
        "File: S17LDn_90_90_06262012_1_att_ss.csv\n",
        "Condition: neutral\n",
        "Using the cumgauss function to analyze this\n"
       ]
      }
     ],
     "prompt_number": 3
    },
    {
     "cell_type": "code",
     "collapsed": false,
     "input": [
      "%%R -i df2\n",
      "\n",
      "aov_th = ezANOVA(df2,\n",
      "                 wid=.(subject),\n",
      "                 dv=.(p1),\n",
      "                 within=.(cue, rel_ori, abs_ori),\n",
      "                 )\n",
      "aov_sl = ezANOVA(df2,\n",
      "                 wid=.(subject),\n",
      "                 dv=.(p2),\n",
      "                 within=.(cue, rel_ori, abs_ori),\n",
      "                 )\n",
      "print(\"ANOVA:BIAS\")\n",
      "print(aov_th)\n",
      "print(\"ANOVA:SENSITIVITY\")\n",
      "print(aov_sl)"
     ],
     "language": "python",
     "metadata": {},
     "outputs": [
      {
       "output_type": "display_data",
       "text": [
        "Warning: Converting \"subject\" to factor for ANOVA.\n",
        "Warning: Converting \"cue\" to factor for ANOVA.\n",
        "Warning: Converting \"rel_ori\" to factor for ANOVA.\n",
        "Warning: Converting \"abs_ori\" to factor for ANOVA.\n",
        "Warning: Collapsing data to cell means. *IF* the requested effects are a subset of the full design, you must use the \"within_full\" argument, else results may be inaccurate.\n",
        "Warning: Converting \"subject\" to factor for ANOVA.\n",
        "Warning: Converting \"cue\" to factor for ANOVA.\n",
        "Warning: Converting \"rel_ori\" to factor for ANOVA.\n",
        "Warning: Converting \"abs_ori\" to factor for ANOVA.\n",
        "Warning: Collapsing data to cell means. *IF* the requested effects are a subset of the full design, you must use the \"within_full\" argument, else results may be inaccurate.\n",
        "[1] \"ANOVA:BIAS\"\n",
        "$ANOVA\n",
        "               Effect DFn DFd            F            p p<.05          ges\n",
        "2                 cue   1  14  0.177544795 0.6798894122       4.504406e-04\n",
        "3             rel_ori   1  14 27.319484931 0.0001281544     * 3.594618e-01\n",
        "4             abs_ori   1  14  2.895493609 0.1109201280       9.969241e-03\n",
        "5         cue:rel_ori   1  14  1.291572142 0.2748381375       4.647744e-03\n",
        "6         cue:abs_ori   1  14  0.006652562 0.9361486296       1.045122e-05\n",
        "7     rel_ori:abs_ori   1  14  0.075114830 0.7880325195       2.908414e-04\n",
        "8 cue:rel_ori:abs_ori   1  14  0.138741654 0.7151133556       2.129896e-04\n",
        "\n",
        "[1] \"ANOVA:SENSITIVITY\"\n",
        "$ANOVA\n",
        "               Effect DFn DFd            F          p p<.05          ges\n",
        "2                 cue   1  14 7.6701364067 0.01505697     * 4.753448e-02\n",
        "3             rel_ori   1  14 7.7636726440 0.01456671     * 8.497326e-02\n",
        "4             abs_ori   1  14 0.0116974462 0.91540773       5.320889e-05\n",
        "5         cue:rel_ori   1  14 0.0008967813 0.97653259       6.098834e-06\n",
        "6         cue:abs_ori   1  14 0.1489674082 0.70532583       2.713736e-04\n",
        "7     rel_ori:abs_ori   1  14 0.1551459578 0.69959940       5.731889e-04\n",
        "8 cue:rel_ori:abs_ori   1  14 0.9206875665 0.35357372       3.490966e-03\n",
        "\n"
       ]
      }
     ],
     "prompt_number": 4
    },
    {
     "cell_type": "code",
     "collapsed": false,
     "input": [
      "# Save files for potential SPSS analysis:\n",
      "tools.save_spss_files(df1)"
     ],
     "language": "python",
     "metadata": {},
     "outputs": [],
     "prompt_number": 5
    },
    {
     "cell_type": "code",
     "collapsed": false,
     "input": [
      "fig, axes = plt.subplots(2,2)\n",
      "fig.set_size_inches([10,10])\n",
      "fig.set_tight_layout(True)\n",
      "\n",
      "for ori_idx, ori in enumerate([(0,90),(0,0),(90,0),(90,90)]):\n",
      "    x = dict(cued=[], other=[], neutral=[])\n",
      "    y = dict(cued=[], other=[], neutral=[])\n",
      "    th = dict(cued=[], other=[], neutral=[])\n",
      "    sl = dict(cued=[], other=[], neutral=[])\n",
      "    fit = dict(cued=[], other=[], neutral=[])\n",
      "\n",
      "    for sub in df1.columns:\n",
      "        for cue_cond in cue_conds: \n",
      "            x[cue_cond].append(df1[sub][ori][cue_cond]['x'])\n",
      "            y[cue_cond].append(df1[sub][ori][cue_cond]['y'])\n",
      "            th[cue_cond].append(df1[sub][ori][cue_cond]['fit'][0][0])\n",
      "            sl[cue_cond].append(df1[sub][ori][cue_cond]['fit'][0][1])\n",
      "            fit[cue_cond].append(df1[sub][ori][cue_cond]['fit'][0])\n",
      "\n",
      "    ax = axes.ravel()[ori_idx]\n",
      "    \n",
      "    for cue_idx, cue_cond in enumerate(cue_conds):\n",
      "        ax.errorbar(np.mean(np.array(x[cue_cond]), 0),\n",
      "                    np.mean(np.array(y[cue_cond]), 0),\n",
      "                    yerr=stats.sem(np.array(y[cue_cond]), 0),\n",
      "                    ls='None',\n",
      "                    marker='o',\n",
      "            color=colors[cue_cond])\n",
      "        \n",
      "        x_for_plot = np.linspace(0,1,100)\n",
      "\t\n",
      "\tp_args = [np.mean(it, 0) for it in np.array(fit[cue_cond]).T]\n",
      "        psycho = plot_func(x_for_plot, *p_args)\n",
      "\n",
      "\tpsycho_lower = []\n",
      "\tpsycho_upper = []\n",
      "\tif fit_func == 'cumgauss':\n",
      "\t\tfor this_x_for_plot in x_for_plot:\n",
      "\t\t\tpsycho_lower.append(np.min([plot_func(this_x_for_plot,\n",
      "\t\t\t\t\t\t\tnp.mean(th[cue_cond]) -\n",
      "\t\t\t\t\t\t\tstats.sem(th[cue_cond]),\n",
      "\t\t\t\t\t\t\tnp.mean(sl[cue_cond]) +\n",
      "\t\t\t\t\t\t\tstats.sem(sl[cue_cond])),\n",
      "\t\t\t\t\t          plot_func(this_x_for_plot,\n",
      "\t\t\t\t\t\t\tnp.mean(th[cue_cond]) +\n",
      "\t\t\t\t\t\t\tstats.sem(th[cue_cond]),\n",
      "\t\t\t\t\t\t\tnp.mean(sl[cue_cond]) -\n",
      "\t\t\t\t\t\tstats.sem(sl[cue_cond])),\n",
      "                          plot_func(this_x_for_plot,\n",
      "\t\t\t\t\t\t\tnp.mean(th[cue_cond]) +\n",
      "\t\t\t\t\t\t\tstats.sem(th[cue_cond]),\n",
      "\t\t\t\t\t\t\tnp.mean(sl[cue_cond]) +\n",
      "\t\t\t\t\t\tstats.sem(sl[cue_cond])),\n",
      "                          plot_func(this_x_for_plot,\n",
      "\t\t\t\t\t\t\tnp.mean(th[cue_cond]) -\n",
      "\t\t\t\t\t\t\tstats.sem(th[cue_cond]),\n",
      "\t\t\t\t\t\t\tnp.mean(sl[cue_cond]) -\n",
      "\t\t\t\t\t\tstats.sem(sl[cue_cond])),\n",
      "                        ]))\n",
      "\n",
      "\t\t\tpsycho_upper.append(np.max([plot_func(this_x_for_plot,\n",
      "\t\t\t\t\t\t\tnp.mean(th[cue_cond]) -\n",
      "\t\t\t\t\t\t\tstats.sem(th[cue_cond]),\n",
      "\t\t\t\t\t\t\tnp.mean(sl[cue_cond]) +\n",
      "\t\t\t\t\t\t\tstats.sem(sl[cue_cond])),\n",
      "\t\t\t\t\t          plot_func(this_x_for_plot,\n",
      "\t\t\t\t\t\t\tnp.mean(th[cue_cond]) +\n",
      "\t\t\t\t\t\t\tstats.sem(th[cue_cond]),\n",
      "\t\t\t\t\t\t\tnp.mean(sl[cue_cond]) -\n",
      "\t\t\t\t\t\tstats.sem(sl[cue_cond])),\n",
      "                          plot_func(this_x_for_plot,\n",
      "\t\t\t\t\t\t\tnp.mean(th[cue_cond]) +\n",
      "\t\t\t\t\t\t\tstats.sem(th[cue_cond]),\n",
      "\t\t\t\t\t\t\tnp.mean(sl[cue_cond]) +\n",
      "\t\t\t\t\t\tstats.sem(sl[cue_cond])),\n",
      "                          plot_func(this_x_for_plot,\n",
      "\t\t\t\t\t\t\tnp.mean(th[cue_cond]) -\n",
      "\t\t\t\t\t\t\tstats.sem(th[cue_cond]),\n",
      "\t\t\t\t\t\t\tnp.mean(sl[cue_cond]) -\n",
      "\t\t\t\t\t\tstats.sem(sl[cue_cond])),\n",
      "                        ]))\n",
      "\n",
      "    \n",
      "        ax.plot(x_for_plot, psycho, color=colors[cue_cond])\n",
      "        ax.set_xticks([i for i in np.arange(0,1,0.2)])\n",
      "        ax.set_yticks([i for i in np.arange(0,1,0.2)])\n",
      "        if ori_idx>1:\n",
      "            ax.set_xlabel('Comparison contrast (%)')\n",
      "            ax.set_xticklabels(['%s'%(i*100) for i in np.arange(0,1,0.2)])\n",
      "        else: \n",
      "            ax.set_xticklabels([''])\n",
      "            \n",
      "        if ori_idx == 0 or ori_idx==2:\n",
      "            ax.set_ylabel('Proportion responses \"comparison higher\"')\n",
      "            ax.set_yticklabels(['%s'%(i*100) for i in np.arange(0,1,0.2)])\n",
      "        else: \n",
      "            ax.set_yticklabels([''])\n",
      "        \n",
      "        ax.set_ylim([0,1])\n",
      "        ax.text(0.1,0.9, '%s\\n%s'%(ori[0], ori[1]),\n",
      "             horizontalalignment='left',\n",
      "             verticalalignment='top',\n",
      "             transform = ax.transAxes)\n",
      "\n",
      "\tif fit_func == 'cumgauss':\n",
      "\t\tax.fill_between(x_for_plot, psycho_lower, psycho_upper,\n",
      "\t\t                color=colors[cue_cond], alpha=0.2)\n",
      "        ax.plot([0.3,0.3], [0,100], 'k--')\n",
      "        \n",
      "        ax.errorbar(np.mean(th[cue_cond]),\n",
      "                    0.5,\n",
      "                    xerr=stats.sem(th[cue_cond]),\n",
      "            color=colors[cue_cond])\n",
      "\n",
      "fig.savefig(path_to_files + 'figures/psycho_curves.svg')"
     ],
     "language": "python",
     "metadata": {},
     "outputs": [
      {
       "output_type": "stream",
       "stream": "stderr",
       "text": [
        "/Users/arokem/anaconda/lib/python2.7/site-packages/matplotlib/figure.py:1533: UserWarning: This figure includes Axes that are not compatible with tight_layout, so its results might be incorrect.\n",
        "  warnings.warn(\"This figure includes Axes that are not \"\n"
       ]
      },
      {
       "output_type": "display_data",
       "png": "[encoded data removed]",
       "text": [
        "<matplotlib.figure.Figure at 0x10b649b50>"
       ]
      }
     ],
     "prompt_number": 6
    },
    {
     "cell_type": "code",
     "collapsed": false,
     "input": [
      "# Now organize things according to relative orientation and proceed to compare across absolute orientations directly:\n",
      "bias = {}\n",
      "sens = {}\n",
      "\n",
      "for ori_idx, ori in enumerate([(0,0),(0,90),(90,0),(90,90)]):\n",
      "    rel_ori = np.abs(ori[0]-ori[1])\n",
      "    if not bias.has_key(rel_ori):\n",
      "        bias[rel_ori] = dict(cued=[], other=[], neutral=[])\n",
      "        sens[rel_ori] = dict(cued=[], other=[], neutral=[])\n",
      "    \n",
      "    for cue_idx, cue_cond in enumerate(cue_conds): \n",
      "        for sub in df1.columns:\n",
      "            bias[rel_ori][cue_cond].append(df1[sub][ori][cue_cond]['fit'][0][0])\n",
      "            sens[rel_ori][cue_cond].append(df1[sub][ori][cue_cond]['fit'][0][1])\n"
     ],
     "language": "python",
     "metadata": {},
     "outputs": [],
     "prompt_number": 7
    },
    {
     "cell_type": "code",
     "collapsed": false,
     "input": [
      "# Plot the reproducibility of the results across the two absolute orientations:\n",
      "\n",
      "# Reordering for the plot\n",
      "this_cue_conds = ['cued', 'neutral', 'other']\n",
      "\n",
      "# We give each subject their own color which we will use across:\n",
      "cNorm  = co.Normalize(vmin=0, vmax=n_subjects)\n",
      "scalarMap = cm.ScalarMappable(norm=cNorm, cmap=matplotlib.cm.gist_rainbow)\n",
      "sub_colors = scalarMap.to_rgba(range(n_subjects))\n",
      "\n",
      "titles = ['Bias', 'Sensitivity']\n",
      "ori_labels = ['parallel', 'orthogonal']\n",
      "\n",
      "for title_idx, plot_this in enumerate([bias, sens]):\n",
      "    fig, ax = plt.subplots(2, 3)\n",
      "    fig.set_tight_layout(True)\n",
      "    fig.set_size_inches([9,6])\n",
      "    #fig.suptitle(titles[title_idx])\n",
      "    for ori_idx, ori in enumerate([0,90]):\n",
      "        for cue_idx, cue_cond in enumerate(this_cue_conds): \n",
      "            a = ax[ori_idx, cue_idx]\n",
      "            a.grid('on')\n",
      "            a.text(0.1,0.9, '%s\\n%s'%(cue_cond, ori_labels[ori_idx]),\n",
      "             horizontalalignment='left',\n",
      "             verticalalignment='top',\n",
      "             transform = a.transAxes)\n",
      "\n",
      "            meaner1 = np.mean(plot_this[ori][cue_cond][:n_subjects]) \n",
      "            meaner2 = np.mean(plot_this[ori][cue_cond][n_subjects:]) \n",
      "            semer1 = stats.sem(plot_this[ori][cue_cond][:n_subjects]) \n",
      "            semer2 = stats.sem(plot_this[ori][cue_cond][n_subjects:]) \n",
      "            a.plot(meaner1, meaner2, 'o', color='k', markersize=10)\n",
      "            a.errorbar(meaner1, meaner2, xerr=semer1, yerr=semer2, marker='o', color='k', markersize=10)\n",
      "\n",
      "            a.plot([0, 1], [0, 1], 'k--')\n",
      "            a.set_xlim([0, 1])\n",
      "            a.set_ylim([0, 1])\n",
      "            \n",
      "            if ori_idx == 1:\n",
      "                a.set_xlabel('Vertical')\n",
      "                a.set_xticks([i for i in np.arange(0.2,1,0.2)])\n",
      "                a.set_xticklabels(['%s'%(i*100) for i in np.arange(0.2,1,0.2)])\n",
      "            else: \n",
      "                a.set_xticklabels([''])\n",
      "\n",
      "            if cue_idx == 0:\n",
      "                a.set_ylabel('Horizontal')\n",
      "                a.set_yticks([i for i in np.arange(0.2,1,0.2)])\n",
      "                a.set_yticklabels(['%s'%(i*100) for i in np.arange(0.2,1,0.2)])\n",
      "            else: \n",
      "                a.set_yticklabels([''])\n",
      "                \n",
      "            for sub_idx in range(n_subjects):\n",
      "                a.plot(plot_this[ori][cue_cond][sub_idx], plot_this[ori][cue_cond][sub_idx + n_subjects], 'o', color=sub_colors[sub_idx])\n",
      "        \n",
      "\n",
      "    fig.savefig(path_to_files + 'figures/%s_reliability.svg'%titles[title_idx])\n"
     ],
     "language": "python",
     "metadata": {},
     "outputs": [
      {
       "output_type": "display_data",
       "png": "[encoded data removed]",
       "text": [
        "<matplotlib.figure.Figure at 0x11aa58350>"
       ]
      },
      {
       "output_type": "display_data",
       "png": "[encoded data removed]",
       "text": [
        "<matplotlib.figure.Figure at 0x11ad9fad0>"
       ]
      }
     ],
     "prompt_number": 8
    },
    {
     "cell_type": "code",
     "collapsed": false,
     "input": [
      "for quant_idx, quant in enumerate([bias, sens]):\n",
      "    for ori_idx, ori in enumerate([0,90]):\n",
      "        for cue_idx, cue_cond in enumerate(this_cue_conds): \n",
      "            table = np.vstack([quant[ori][cue_cond][:n_subjects], quant[ori][cue_cond][n_subjects:]])\n",
      "            print (\"Quantity: %s, relative orientation:%s cue condition: %s F_(1,14)=%3.3f\"%(titles[quant_idx],ori,cue_cond,\n",
      "                                     np.mean(np.var(table,1))/\n",
      "                                     np.mean(np.var(table,0))))"
     ],
     "language": "python",
     "metadata": {},
     "outputs": [
      {
       "output_type": "stream",
       "stream": "stdout",
       "text": [
        "Quantity: Bias, relative orientation:0 cue condition: cued F_(1,14)=9.944\n",
        "Quantity: Bias, relative orientation:0 cue condition: neutral F_(1,14)=6.936\n",
        "Quantity: Bias, relative orientation:0 cue condition: other F_(1,14)=3.513\n",
        "Quantity: Bias, relative orientation:90 cue condition: cued F_(1,14)=8.509\n",
        "Quantity: Bias, relative orientation:90 cue condition: neutral F_(1,14)=6.399\n",
        "Quantity: Bias, relative orientation:90 cue condition: other F_(1,14)=5.579\n",
        "Quantity: Sensitivity, relative orientation:0 cue condition: cued F_(1,14)=4.261\n",
        "Quantity: Sensitivity, relative orientation:0 cue condition: neutral F_(1,14)=3.870\n",
        "Quantity: Sensitivity, relative orientation:0 cue condition: other F_(1,14)=3.590\n",
        "Quantity: Sensitivity, relative orientation:90 cue condition: cued F_(1,14)=2.818\n",
        "Quantity: Sensitivity, relative orientation:90 cue condition: neutral F_(1,14)=2.973\n",
        "Quantity: Sensitivity, relative orientation:90 cue condition: other F_(1,14)=6.144\n"
       ]
      }
     ],
     "prompt_number": 9
    },
    {
     "cell_type": "code",
     "collapsed": false,
     "input": [
      "np.var(table,1)"
     ],
     "language": "python",
     "metadata": {},
     "outputs": [
      {
       "output_type": "pyout",
       "prompt_number": 10,
       "text": [
        "array([ 0.02157863,  0.05442388])"
       ]
      }
     ],
     "prompt_number": 10
    },
    {
     "cell_type": "code",
     "collapsed": false,
     "input": [
      "# Plot the mean and single-subject data for each condition (now averaging over horizontal/vertical center)\n",
      "\n",
      "fig_bias = plt.figure()\n",
      "fig_bias.set_size_inches([8,8])\n",
      "fig_sens = plt.figure()\n",
      "fig_sens.set_size_inches([8,8])\n",
      "ax_bias = fig_bias.add_subplot(111)\n",
      "ax_sens = fig_sens.add_subplot(111)\n",
      "\n",
      "cond_bias = [[],[],[],[],[],[]] \n",
      "cond_sens = [[],[],[],[],[],[]]\n",
      "\n",
      "x = [0,4, 1,5, 2,6]\n",
      "for sub_idx in range(n_subjects):\n",
      "    ii = 0 \n",
      "    sub_bias = []\n",
      "    sub_sens = []\n",
      "    for cue_idx, cue_cond in enumerate(this_cue_conds): \n",
      "          for rel_ori in [0,90]:\n",
      "            this_bias = np.mean([bias[rel_ori][cue_cond][sub_idx + n_subjects], bias[rel_ori][cue_cond][sub_idx]])\n",
      "            this_sens = np.mean([sens[rel_ori][cue_cond][sub_idx + n_subjects], sens[rel_ori][cue_cond][sub_idx]])\n",
      "            sub_bias.append(this_bias)\n",
      "            sub_sens.append(this_sens)\n",
      "            cond_bias[ii].append(this_bias)\n",
      "            cond_sens[ii].append(this_sens)\n",
      "            ii += 1\n",
      "                \n",
      "    ax_bias.plot(x, sub_bias, 'x', color=sub_colors[sub_idx], markersize=10)\n",
      "    ax_sens.plot(x, sub_sens, 'x', color=sub_colors[sub_idx], markersize=10)\n",
      "\n",
      "\n",
      "mean_bias = np.mean(cond_bias, -1)\n",
      "sem_bias = stats.sem(cond_bias, -1)\n",
      "\n",
      "ax_bias.bar(np.array(x[:2])-0.4, mean_bias[:2], edgecolor=colors[this_cue_conds[0]], color=[0,0,0,0], yerr=sem_bias[:2], linewidth=4,\n",
      "            error_kw=dict(capsize=0, linewidth=5, ecolor=colors[this_cue_conds[0]]))#, marker='o', markersize=10)\n",
      "ax_bias.bar(np.array(x[2:4])-0.4, mean_bias[2:4], edgecolor=colors[this_cue_conds[1]], color=[0,0,0,0], yerr=sem_bias[2:4], linewidth=4,\n",
      "            error_kw=dict(capsize=0, linewidth=5, ecolor=colors[this_cue_conds[1]]))#, marker='o', markersize=10)\n",
      "ax_bias.bar(np.array(x[4:])-0.4, mean_bias[4:], edgecolor=colors[this_cue_conds[2]], color=[0,0,0,0], yerr=sem_bias[4:], linewidth=4,\n",
      "            error_kw=dict(capsize=0, linewidth=5, ecolor=colors[this_cue_conds[2]]))#, marker='o', markersize=10)\n",
      "\n",
      "#ax_bias.errorbar(x, np.mean(cond_bias,-1), yerr=stats.sem(cond_bias, -1), linestyle='none', color='k')\n",
      "\n",
      "ax_bias.set_xlim([-1.0,6.5])\n",
      "ax_bias.set_title('Bias')\n",
      "ax_bias.set_xlabel('Condition')\n",
      "ax_bias.set_ylabel('Bias (contrast, relative to standard)')\n",
      "\n",
      "ax_bias.set_xticks(x)\n",
      "ax_bias.set_xticklabels(['%s/para'%this_cue_conds[0],\n",
      "                         '%s/ortho'%this_cue_conds[0], \n",
      "                         '%s/para'%this_cue_conds[1], \n",
      "                         '%s/ortho'%this_cue_conds[1], \n",
      "                         '%s/para'%this_cue_conds[2], \n",
      "                         '%s/ortho'%this_cue_conds[2]])\n",
      "\n",
      "yticker = np.arange(0,1.0,0.1)\n",
      "ax_bias.set_yticks(yticker)\n",
      "ax_bias.set_yticklabels(['%s'%int(thistick*100-30) for thistick in yticker])\n",
      "\n",
      "mean_sens = np.mean(cond_sens,-1)\n",
      "sem_sens = stats.sem(cond_sens, -1)\n",
      "\n",
      "ax_sens.bar(np.array(x[:2])-0.4, mean_sens[:2], edgecolor=colors[this_cue_conds[0]], color=[0,0,0,0], yerr=sem_sens[:2], linewidth=4,\n",
      "            error_kw=dict(capsize=0, linewidth=5, ecolor=colors[this_cue_conds[0]]))#, marker='o', markersize=10)\n",
      "\n",
      "ax_sens.bar(np.array(x[2:4])-0.4, mean_sens[2:4], edgecolor=colors[this_cue_conds[1]], color=[0,0,0,0], yerr=sem_sens[2:4], linewidth=4,\n",
      "            error_kw=dict(capsize=0, linewidth=5, ecolor=colors[this_cue_conds[1]]))#, marker='o', markersize=10)\n",
      "\n",
      "ax_sens.bar(np.array(x[4:])-0.4, mean_sens[4:], edgecolor=colors[this_cue_conds[2]], color=[0,0,0,0], yerr=sem_sens[4:], linewidth=4,\n",
      "            error_kw=dict(capsize=0, linewidth=5, ecolor=colors[this_cue_conds[2]]))#, marker='o', markersize=10)\n",
      "\n",
      "#ax_sens.errorbar(x, np.mean(cond_sens,-1), yerr=stats.sem(cond_sens, -1), linestyle='none', color='k')\n",
      "\n",
      "ax_sens.set_xticks(x)\n",
      "ax_sens.set_xticklabels(['%s/para'%this_cue_conds[0],\n",
      "                         '%s/ortho'%this_cue_conds[0], \n",
      "                         '%s/para'%this_cue_conds[1], \n",
      "                         '%s/ortho'%this_cue_conds[1], \n",
      "                         '%s/para'%this_cue_conds[2], \n",
      "                         '%s/ortho'%this_cue_conds[2]])\n",
      "\n",
      "ax_sens.set_xlim([-1.0,6.5])\n",
      "ax_sens.set_xlabel('Condition')\n",
      "ax_sens.set_ylabel(r'Threshold (%contrast)')\n",
      "ax_sens.set_title('Threshold')\n",
      "\n",
      "fig_bias.savefig(path_to_files + 'figures/bias.svg')\n",
      "fig_sens.savefig(path_to_files + 'figures/threshold.svg')"
     ],
     "language": "python",
     "metadata": {},
     "outputs": [
      {
       "output_type": "display_data",
       "png": "[encoded data removed]",
       "text": [
        "<matplotlib.figure.Figure at 0x11db9e350>"
       ]
      },
      {
       "output_type": "display_data",
       "png": "[encoded data removed]",
       "text": [
        "<matplotlib.figure.Figure at 0x11db9ec10>"
       ]
      }
     ],
     "prompt_number": 11
    },
    {
     "cell_type": "code",
     "collapsed": false,
     "input": [],
     "language": "python",
     "metadata": {},
     "outputs": [],
     "prompt_number": 11
    },
    {
     "cell_type": "code",
     "collapsed": false,
     "input": [
      "# Calculate a suppression index and plot it:\n",
      "\n",
      "fig_supp = plt.figure()\n",
      "fig_supp.set_size_inches([8,8])\n",
      "ax_supp = fig_sens.add_subplot(111)\n",
      "\n",
      "cond_bias = [[],[],[]] \n",
      "cond_sens = [[],[],[]]\n",
      "\n",
      "x = np.array([0,1,2])\n",
      "\n",
      "for sub_idx in range(n_subjects):\n",
      "    ii = 0 \n",
      "    sub_bias = []\n",
      "    sub_sens = []\n",
      "    for cue_idx, cue_cond in enumerate(this_cue_conds): \n",
      "        ortho_bias = np.mean([bias[90][cue_cond][sub_idx + n_subjects], bias[rel_ori][cue_cond][sub_idx]])\n",
      "        para_bias = np.mean([bias[0][cue_cond][sub_idx + n_subjects], bias[rel_ori][cue_cond][sub_idx]])\n",
      "        this_bias = (para_bias - ortho_bias)/(para_bias + ortho_bias)\n",
      "        ortho_sens = np.mean([sens[90][cue_cond][sub_idx + n_subjects], sens[rel_ori][cue_cond][sub_idx]])\n",
      "        para_sens = np.mean([sens[0][cue_cond][sub_idx + n_subjects], sens[rel_ori][cue_cond][sub_idx]])\n",
      "        this_sens = (para_sens - ortho_sens)/(para_sens + ortho_sens)\n",
      "        sub_bias.append(this_bias)\n",
      "        sub_sens.append(this_sens)\n",
      "        cond_bias[ii].append(this_bias)\n",
      "        cond_sens[ii].append(this_sens)\n",
      "        ii += 1\n",
      "                \n",
      "    ax_supp.plot(x, sub_bias, 'x', color=sub_colors[sub_idx], markersize=10)\n",
      "    ax_supp.plot(x+3, sub_sens, 'x', color=sub_colors[sub_idx], markersize=10)\n",
      "\n",
      "#mean_bias = np.mean(cond_bias, -1)\n",
      "#sem_bias = stats.sem(cond_bias, -1)\n",
      "\n",
      "#mean_sens = np.mean(cond_sens,-1)\n",
      "#sem_sens = stats.sem(cond_sens, -1)\n",
      "\n",
      "#ax_supp.bar(np.array(x[0])-0.4, mean_bias[0], edgecolor=colors[this_cue_conds[0]], color=[0,0,0,0], yerr=sem_bias[0], linewidth=4,\n",
      "#            error_kw=dict(capsize=0, linewidth=5, ecolor=colors[this_cue_conds[0]]))#, marker='o', markersize=10)\n",
      "#ax_supp.bar(np.array(x[1])-0.4, mean_bias[1], edgecolor=colors[this_cue_conds[1]], color=[0,0,0,0], yerr=sem_bias[1], linewidth=4,\n",
      "#            error_kw=dict(capsize=0, linewidth=5, ecolor=colors[this_cue_conds[1]]))#, marker='o', markersize=10)\n",
      "#ax_supp.bar(np.array(x[2])-0.4, mean_bias[2], edgecolor=colors[this_cue_conds[2]], color=[0,0,0,0], yerr=sem_bias[2], linewidth=4,\n",
      "#            error_kw=dict(capsize=0, linewidth=5, ecolor=colors[this_cue_conds[2]]))#, marker='o', markersize=10)\n",
      "\n",
      "#ax_supp.bar(x[0]+3-0.4, mean_sens[0], edgecolor=colors[this_cue_conds[0]], color=[0,0,0,0], yerr=sem_sens[0], linewidth=4,\n",
      "#            error_kw=dict(capsize=0, linewidth=5, ecolor=colors[this_cue_conds[0]]))#, marker='o', markersize=10)\n",
      "\n",
      "#ax_supp.bar(x[1]+3-0.4, mean_sens[1], edgecolor=colors[this_cue_conds[1]], color=[0,0,0,0], yerr=sem_sens[1], linewidth=4,\n",
      "#            error_kw=dict(capsize=0, linewidth=5, ecolor=colors[this_cue_conds[1]]))#, marker='o', markersize=10)\n",
      "\n",
      "#ax_supp.bar(x[2]+3-0.4, mean_sens[2], edgecolor=colors[this_cue_conds[2]], color=[0,0,0,0], yerr=sem_sens[2], linewidth=4,\n",
      "#            error_kw=dict(capsize=0, linewidth=5, ecolor=colors[this_cue_conds[2]]))#, marker='o', markersize=10)\n",
      "\n",
      "\n",
      "#ax_supp.set_xticks(x)\n",
      "#ax_supp.set_xticklabels(['%s/para'%this_cue_conds[0],\n",
      "#                         '%s/ortho'%this_cue_conds[0], \n",
      "#                         '%s/para'%this_cue_conds[1], \n",
      "#                         '%s/ortho'%this_cue_conds[1], \n",
      "#                         '%s/para'%this_cue_conds[2], \n",
      "#                         '%s/ortho'%this_cue_conds[2]])\n",
      "\n",
      "#ax_supp.set_xlim([-0.5,2.5])\n",
      "#ax_supp.set_xlabel('Condition')\n",
      "#ax_supp.set_ylabel('Suppression')\n",
      "#ax_supp.set_title('Threshold')\n",
      "\n",
      "fig_supp.savefig(path_to_files + 'figures/suppression_index.svg')"
     ],
     "language": "python",
     "metadata": {},
     "outputs": [
      {
       "output_type": "display_data",
       "text": [
        "<matplotlib.figure.Figure at 0x10b632f10>"
       ]
      }
     ],
     "prompt_number": 12
    },
    {
     "cell_type": "code",
     "collapsed": false,
     "input": [
      "plot(cond_bias[0],cond_sens[0],'o')\n",
      "plot(cond_bias[1],cond_sens[1],'o')\n",
      "plot(cond_bias[2],cond_sens[2],'o')\n",
      "\n",
      "stats.pearsonr(cond_bias[2], cond_sens[2])\n",
      "\n",
      "df = pd.DataFrame(np.concatenate([cond_bias, cond_sens]))\n",
      "\n",
      "df"
     ],
     "language": "python",
     "metadata": {},
     "outputs": [
      {
       "html": [
        "<pre>\n",
        "&ltclass 'pandas.core.frame.DataFrame'&gt\n",
        "Int64Index: 6 entries, 0 to 5\n",
        "Data columns (total 15 columns):\n",
        "0     6  non-null values\n",
        "1     6  non-null values\n",
        "2     6  non-null values\n",
        "3     6  non-null values\n",
        "4     6  non-null values\n",
        "5     6  non-null values\n",
        "6     6  non-null values\n",
        "7     6  non-null values\n",
        "8     6  non-null values\n",
        "9     6  non-null values\n",
        "10    6  non-null values\n",
        "11    6  non-null values\n",
        "12    6  non-null values\n",
        "13    6  non-null values\n",
        "14    6  non-null values\n",
        "dtypes: float64(15)\n",
        "</pre>"
       ],
       "output_type": "pyout",
       "prompt_number": 13,
       "text": [
        "         0         1         2         3         4         5         6   \\\n",
        "0  0.101694  0.160241  0.193278  0.081657  0.052442  0.103435  0.040095   \n",
        "1  0.022189  0.128911  0.137565  0.044837  0.082866  0.056566  0.222278   \n",
        "2  0.074361  0.125959  0.069899  0.053954  0.060246 -0.052934  0.070235   \n",
        "3 -0.175085  0.341962  0.579739  0.042298  0.052636  0.066414 -0.001505   \n",
        "4  0.087500 -0.054512  0.000478  0.407051 -0.258050 -0.093756  0.276923   \n",
        "5 -0.109727 -0.004177  0.195826  0.174458  0.239263 -0.216115  0.014922   \n",
        "\n",
        "         7         8         9         10        11        12        13  \\\n",
        "0  0.070853  0.084211  0.032190 -0.029285  0.128377  0.508661 -0.083552   \n",
        "1  0.196769  0.351948  0.111445  0.382729  0.151979  0.366277 -0.042916   \n",
        "2  0.022722  0.341131  0.032813 -0.000149 -0.086807  0.630759 -0.078039   \n",
        "3 -0.042630 -0.093534  0.201472  0.182818  0.450435  0.157194  0.120279   \n",
        "4 -0.280152  0.120127 -0.148057  0.243833  0.080194  0.448526 -0.160612   \n",
        "5  0.329108 -0.075671 -0.099737  0.110399 -0.011729  0.708692  0.118289   \n",
        "\n",
        "         14  \n",
        "0  0.113070  \n",
        "1  0.167690  \n",
        "2  0.221765  \n",
        "3 -0.205501  \n",
        "4  0.039704  \n",
        "5  0.452603  "
       ]
      },
      {
       "output_type": "display_data",
       "png": "[encoded data removed]",
       "text": [
        "<matplotlib.figure.Figure at 0x11eeffc90>"
       ]
      }
     ],
     "prompt_number": 13
    },
    {
     "cell_type": "code",
     "collapsed": false,
     "input": [
      "def power_law(x, k=1.0):\n",
      "    \"\"\"\n",
      "    A power law\n",
      "    \"\"\"\n",
      "    return (x ** k)\n"
     ],
     "language": "python",
     "metadata": {},
     "outputs": [],
     "prompt_number": 14
    },
    {
     "cell_type": "code",
     "collapsed": false,
     "input": [
      "def err_func(params, x, y, func):\n",
      "        \"\"\"\n",
      "        Error function for fitting a function\n",
      "        \n",
      "        Parameters\n",
      "        ----------\n",
      "        params : tuple\n",
      "            A tuple with the parameters of `func` according to their order of input\n",
      "\n",
      "        x : float array \n",
      "            An independent variable. \n",
      "        \n",
      "        y : float array\n",
      "            The dependent variable. \n",
      "        \n",
      "        func : function\n",
      "            A function with inputs: `(x, *params)`\n",
      "        \n",
      "        Returns\n",
      "        -------\n",
      "        The marginals of the fit to x/y given the params\n",
      "        \"\"\"\n",
      "        # Require k<1.0\n",
      "        #if params[0]>1.0:\n",
      "        #    return np.inf\n",
      "        return y - func(x, *params)"
     ],
     "language": "python",
     "metadata": {},
     "outputs": [],
     "prompt_number": 15
    },
    {
     "cell_type": "code",
     "collapsed": false,
     "input": [
      "import scipy.optimize as opt\n",
      "# Let's guess the inital conditions: \n",
      "initial = 0.5\n",
      "\n",
      "resources = np.array([0.3, 0.5, 0.7])\n",
      "x = np.linspace(0,1,100)\n",
      "\n",
      "prec_para = 1 - np.array([cond_sens[4], cond_sens[2], cond_sens[0]])\n",
      "prec_ortho = 1 - np.array([cond_sens[5], cond_sens[3], cond_sens[1]])\n",
      "fig1, ax1 = plt.subplots(1)\n",
      "fig2, ax2 = plt.subplots(1)\n",
      "\n",
      "k_ortho = []\n",
      "k_para = []\n",
      "\n",
      "for sub_idx in range(n_subjects):\n",
      "    # We get the params, and throw away the second output of leastsq:\n",
      "    params_ortho, _ = opt.leastsq(err_func, initial, args=(resources, prec_ortho[:, sub_idx], power_law))\n",
      "    params_para, _ = opt.leastsq(err_func, initial, args=(resources, prec_para[:, sub_idx], power_law))\n",
      "    k_ortho.append(params_ortho)\n",
      "    k_para.append(params_para)\n",
      "    \n",
      "    ax1.plot(resources, prec_para[:,sub_idx], 'x', color=sub_colors[sub_idx])\n",
      "    ax1.plot(x, power_law(x,*params_para), color=sub_colors[sub_idx], alpha=0.5)\n",
      "\n",
      "    ax2.plot(resources, prec_ortho[:,sub_idx], 'x', color=sub_colors[sub_idx])\n",
      "    ax2.plot(x, power_law(x, *params_ortho), color=sub_colors[sub_idx], alpha=0.5)\n",
      "\n",
      "\n",
      "ax1.set_xlim([0,1.1])\n",
      "ax1.set_ylim([0,1])\n",
      "ax1.set_xlabel('Predictability of target')\n",
      "ax1.set_ylabel('Precision')\n",
      "ax2.set_xlim([0,1.1])\n",
      "ax2.set_ylim([0,1])\n",
      "ax2.set_xlabel('Predictability of target')\n",
      "ax2.set_ylabel('Precision')\n",
      "\n",
      "ax1.errorbar(resources, np.mean(prec_para,-1), yerr=stats.sem(prec_para,-1), color='k',  linestyle='none', marker='o', markersize=10)\n",
      "ax2.errorbar(resources, np.mean(prec_ortho,-1), yerr=stats.sem(prec_ortho,-1), color='k', linestyle='none', marker='o', markersize=10)\n",
      "\n",
      "ax1.plot(x, power_law(x, *np.mean(k_para,0)), color='k')\n",
      "ax1.fill_between(x, power_law(x, np.mean(k_para)-stats.sem(k_para)), power_law(x, np.mean(k_para)+stats.sem(k_para)), color='b', alpha=0.3)\n",
      "\n",
      "ax2.plot(x, power_law(x, *np.mean(k_ortho,0)), color='k')\n",
      "ax2.fill_between(x, power_law(x, np.mean(k_ortho)-stats.sem(k_ortho)), power_law(x, np.mean(k_ortho)+stats.sem(k_ortho)), color='b', alpha=0.3)\n",
      "\n",
      "fig1.savefig(path_to_files + 'figures/model_para.svg')\n",
      "fig2.savefig(path_to_files + 'figures/model_ortho.svg')\n",
      "\n",
      "fig, ax = plt.subplots(1)\n",
      "plot(k_ortho, k_para, 'o')\n",
      "plot([0,3],[0,3], ':')\n",
      "\n",
      "fig, ax = plt.subplots(1)\n",
      "hist(np.array(k_para)-np.array(k_ortho))\n",
      "stats.wilcoxon(np.squeeze(np.array(k_para)-np.array(k_ortho)))\n"
     ],
     "language": "python",
     "metadata": {},
     "outputs": [
      {
       "ename": "IndexError",
       "evalue": "list index out of range",
       "output_type": "pyerr",
       "traceback": [
        "\u001b[0;31m---------------------------------------------------------------------------\u001b[0m\n\u001b[0;31mIndexError\u001b[0m                                Traceback (most recent call last)",
        "\u001b[0;32m<ipython-input-16-3b6ac44016ce>\u001b[0m in \u001b[0;36m<module>\u001b[0;34m()\u001b[0m\n\u001b[1;32m      6\u001b[0m \u001b[0mx\u001b[0m \u001b[0;34m=\u001b[0m \u001b[0mnp\u001b[0m\u001b[0;34m.\u001b[0m\u001b[0mlinspace\u001b[0m\u001b[0;34m(\u001b[0m\u001b[0;36m0\u001b[0m\u001b[0;34m,\u001b[0m\u001b[0;36m1\u001b[0m\u001b[0;34m,\u001b[0m\u001b[0;36m100\u001b[0m\u001b[0;34m)\u001b[0m\u001b[0;34m\u001b[0m\u001b[0m\n\u001b[1;32m      7\u001b[0m \u001b[0;34m\u001b[0m\u001b[0m\n\u001b[0;32m----> 8\u001b[0;31m \u001b[0mprec_para\u001b[0m \u001b[0;34m=\u001b[0m \u001b[0;36m1\u001b[0m \u001b[0;34m-\u001b[0m \u001b[0mnp\u001b[0m\u001b[0;34m.\u001b[0m\u001b[0marray\u001b[0m\u001b[0;34m(\u001b[0m\u001b[0;34m[\u001b[0m\u001b[0mcond_sens\u001b[0m\u001b[0;34m[\u001b[0m\u001b[0;36m4\u001b[0m\u001b[0;34m]\u001b[0m\u001b[0;34m,\u001b[0m \u001b[0mcond_sens\u001b[0m\u001b[0;34m[\u001b[0m\u001b[0;36m2\u001b[0m\u001b[0;34m]\u001b[0m\u001b[0;34m,\u001b[0m \u001b[0mcond_sens\u001b[0m\u001b[0;34m[\u001b[0m\u001b[0;36m0\u001b[0m\u001b[0;34m]\u001b[0m\u001b[0;34m]\u001b[0m\u001b[0;34m)\u001b[0m\u001b[0;34m\u001b[0m\u001b[0m\n\u001b[0m\u001b[1;32m      9\u001b[0m \u001b[0mprec_ortho\u001b[0m \u001b[0;34m=\u001b[0m \u001b[0;36m1\u001b[0m \u001b[0;34m-\u001b[0m \u001b[0mnp\u001b[0m\u001b[0;34m.\u001b[0m\u001b[0marray\u001b[0m\u001b[0;34m(\u001b[0m\u001b[0;34m[\u001b[0m\u001b[0mcond_sens\u001b[0m\u001b[0;34m[\u001b[0m\u001b[0;36m5\u001b[0m\u001b[0;34m]\u001b[0m\u001b[0;34m,\u001b[0m \u001b[0mcond_sens\u001b[0m\u001b[0;34m[\u001b[0m\u001b[0;36m3\u001b[0m\u001b[0;34m]\u001b[0m\u001b[0;34m,\u001b[0m \u001b[0mcond_sens\u001b[0m\u001b[0;34m[\u001b[0m\u001b[0;36m1\u001b[0m\u001b[0;34m]\u001b[0m\u001b[0;34m]\u001b[0m\u001b[0;34m)\u001b[0m\u001b[0;34m\u001b[0m\u001b[0m\n\u001b[1;32m     10\u001b[0m \u001b[0mfig1\u001b[0m\u001b[0;34m,\u001b[0m \u001b[0max1\u001b[0m \u001b[0;34m=\u001b[0m \u001b[0mplt\u001b[0m\u001b[0;34m.\u001b[0m\u001b[0msubplots\u001b[0m\u001b[0;34m(\u001b[0m\u001b[0;36m1\u001b[0m\u001b[0;34m)\u001b[0m\u001b[0;34m\u001b[0m\u001b[0m\n",
        "\u001b[0;31mIndexError\u001b[0m: list index out of range"
       ]
      }
     ],
     "prompt_number": 16
    },
    {
     "cell_type": "code",
     "collapsed": false,
     "input": [
      "len(cond_sens)"
     ],
     "language": "python",
     "metadata": {},
     "outputs": [
      {
       "output_type": "pyout",
       "prompt_number": 18,
       "text": [
        "3"
       ]
      }
     ],
     "prompt_number": 18
    },
    {
     "cell_type": "code",
     "collapsed": false,
     "input": [
      "fig, ax = plt.subplots(1)\n",
      "ax.errorbar(resources, np.mean(prec_para,-1), yerr=stats.sem(prec_para,-1), color='b',  linestyle='none', marker='o', markersize=10)\n",
      "ax.errorbar(resources, np.mean(prec_ortho,-1), yerr=stats.sem(prec_ortho,-1), color='r', linestyle='none', marker='o', markersize=10)\n",
      "ax.plot(x, power_law(x, *np.mean(k_ortho,0)), color='r')\n",
      "ax.plot(x, power_law(x, *np.mean(k_para,0)), color='b')\n",
      "ax.set_ylim([0.2, 1])\n"
     ],
     "language": "python",
     "metadata": {},
     "outputs": []
    },
    {
     "cell_type": "code",
     "collapsed": false,
     "input": [
      "prec = []\n",
      "for sub in df1.columns:\n",
      "    prec.append({(0,0):{}, (0,90):{}, (90,0):{}, (90,90):{}})\n",
      "    for ori1_idx, ori1 in enumerate([0,90]):\n",
      "        for ori2_idx, ori2 in enumerate([0,90]):\n",
      "            for cue_idx, cue_cond in enumerate(cue_conds): \n",
      "                prec[-1][(ori1, ori2)][cue_cond]= 1 - df1[sub][(ori1, ori2)][cue_cond]['fit'][0][1]"
     ],
     "language": "python",
     "metadata": {},
     "outputs": []
    },
    {
     "cell_type": "code",
     "collapsed": false,
     "input": [
      "def power_law2(x, a=0.5, k=1.0):\n",
      "    \"\"\"\n",
      "    A power law\n",
      "    \"\"\"\n",
      "    if a>1.0 or k>1.0 or a<0 or k<0:\n",
      "        return np.nan\n",
      "    return a * (x ** k)\n"
     ],
     "language": "python",
     "metadata": {},
     "outputs": []
    },
    {
     "cell_type": "code",
     "collapsed": false,
     "input": [
      "import scipy.optimize as opt\n",
      "# Let's guess the inital conditions: \n",
      "initial = 0.5,0.5\n",
      "\n",
      "resources = np.array([0.3, 0.5, 0.7])\n",
      "x = np.linspace(0,1,100)\n",
      "\n",
      "prec_para = 1 - np.array([cond_sens[4], cond_sens[2], cond_sens[0]])\n",
      "prec_ortho = 1 - np.array([cond_sens[5], cond_sens[3], cond_sens[1]])\n",
      "fig1, ax1 = plt.subplots(1)\n",
      "fig2, ax2 = plt.subplots(1)\n",
      "\n",
      "k_ortho = []\n",
      "k_para = []\n",
      "\n",
      "for sub_idx in range(n_subjects):\n",
      "    # We get the params, and throw away the second output of leastsq:\n",
      "    params_ortho, _ = opt.leastsq(err_func, initial, args=(resources, prec_ortho[:, sub_idx], power_law2))\n",
      "    params_para, _ = opt.leastsq(err_func, initial, args=(resources, prec_para[:, sub_idx], power_law2))\n",
      "    k_ortho.append(params_ortho)\n",
      "    k_para.append(params_para)\n",
      "    \n",
      "    ax1.plot(resources, prec_para[:,sub_idx], 'x', color=sub_colors[sub_idx])\n",
      "    ax1.plot(x, power_law2(x,*params_para), color=sub_colors[sub_idx], alpha=0.5)\n",
      "\n",
      "    ax2.plot(resources, prec_ortho[:,sub_idx], 'x', color=sub_colors[sub_idx])\n",
      "    ax2.plot(x, power_law2(x, *params_ortho), color=sub_colors[sub_idx], alpha=0.5)\n",
      "\n",
      "\n",
      "ax1.set_xlim([0,1.1])\n",
      "ax1.set_ylim([0,1])\n",
      "ax1.set_xlabel('Predictability of target')\n",
      "ax1.set_ylabel('Precision')\n",
      "ax2.set_xlim([0,1.1])\n",
      "ax2.set_ylim([0,1])\n",
      "ax2.set_xlabel('Predictability of target')\n",
      "ax2.set_ylabel('Precision')\n",
      "\n",
      "#ax1.errorbar(resources, np.mean(prec_para,-1), yerr=stats.sem(prec_para,-1), color='r',  linestyle='none', marker='o', markersize=10)\n",
      "#ax2.errorbar(resources, np.mean(prec_ortho,-1), yerr=stats.sem(prec_ortho,-1), color='b', linestyle='none', marker='o', markersize=10)\n",
      "\n",
      "#ax1.plot(x, power_law2(x, *np.mean(k_para,0)), color='k')\n",
      "#ax1.fill_between(x, power_law2(x, np.mean(k_para)-stats.sem(k_para)), power_law2(x, np.mean(k_para)+stats.sem(k_para)), color='b', alpha=0.3)\n",
      "\n",
      "#ax2.plot(x, power_law2(x, *np.mean(k_ortho,0)), color='k')\n",
      "#ax2.fill_between(x, power_law2(x, *np.mean(k_ortho)-stats.sem(k_ortho)), power_law2(x, *np.mean(k_ortho)+stats.sem(k_ortho)), color='b', alpha=0.3)\n",
      "\n",
      "fig1.savefig(path_to_files + 'figures/model_para.svg')\n",
      "fig2.savefig(path_to_files + 'figures/model_ortho.svg')\n",
      "\n",
      "fig, ax = plt.subplots(1)\n",
      "plot(k_ortho, k_para, 'o')\n",
      "plot([0,3],[0,3], ':')\n",
      "\n",
      "#fig, ax = plt.subplots(1)\n",
      "#hist(np.array(k_para)-np.array(k_ortho))\n",
      "\n",
      "#print stats.wilcoxon(np.squeeze(np.array(k_para)[:,0]-np.array(k_ortho)[:,0]))\n",
      "#print stats.wilcoxon(np.squeeze(np.array(k_para)[:,1]-np.array(k_ortho)[:,1]))"
     ],
     "language": "python",
     "metadata": {},
     "outputs": []
    },
    {
     "cell_type": "code",
     "collapsed": false,
     "input": [
      "fig, ax = plt.subplots(1)\n",
      "ax.errorbar(resources, np.mean(prec_para,-1), yerr=stats.sem(prec_para,-1), color='b',  linestyle='none', marker='o', markersize=10)\n",
      "ax.errorbar(resources, np.mean(prec_ortho,-1), yerr=stats.sem(prec_ortho,-1), color='r', linestyle='none', marker='o', markersize=10)\n",
      "ax.plot(x, power_law2(x, *stats.nanmean(k_ortho,0)), color='r')\n",
      "ax.plot(x, power_law2(x, *stats.nanmean(k_para,0)), color='b')\n",
      "ax.set_ylim([0.2, 1])\n"
     ],
     "language": "python",
     "metadata": {},
     "outputs": []
    },
    {
     "cell_type": "code",
     "collapsed": false,
     "input": [
      "def expo2(x, a, b): \n",
      "    if a>100: \n",
      "        a==100\n",
      "    return b*(1-np.exp(-x/a))"
     ],
     "language": "python",
     "metadata": {},
     "outputs": []
    },
    {
     "cell_type": "code",
     "collapsed": false,
     "input": [
      "plot(expo2(np.linspace(0,10,100),1,0.5))\n"
     ],
     "language": "python",
     "metadata": {},
     "outputs": []
    },
    {
     "cell_type": "code",
     "collapsed": false,
     "input": [
      "import scipy.optimize as opt\n",
      "# Let's guess the inital conditions: \n",
      "initial = 0.5,0.5\n",
      "\n",
      "resources = np.array([0.3, 0.5, 0.7])\n",
      "x = np.linspace(0,1,100)\n",
      "\n",
      "prec_para = 1 - np.array([cond_sens[4], cond_sens[2], cond_sens[0]])\n",
      "prec_ortho = 1 - np.array([cond_sens[5], cond_sens[3], cond_sens[1]])\n",
      "fig1, ax1 = plt.subplots(1)\n",
      "fig2, ax2 = plt.subplots(1)\n",
      "\n",
      "k_ortho = []\n",
      "k_para = []\n",
      "\n",
      "for sub_idx in range(n_subjects):\n",
      "    # We get the params, and throw away the second output of leastsq:\n",
      "    params_ortho, _ = opt.leastsq(err_func, initial, args=(resources, prec_ortho[:, sub_idx], expo2))\n",
      "    params_para, _ = opt.leastsq(err_func, initial, args=(resources, prec_para[:, sub_idx], expo2))\n",
      "    k_ortho.append(params_ortho)\n",
      "    k_para.append(params_para)\n",
      "    \n",
      "    ax1.plot(resources, prec_para[:,sub_idx], 'x', color=sub_colors[sub_idx])\n",
      "    ax1.plot(x, expo2(x,*params_para), color=sub_colors[sub_idx], alpha=0.5)\n",
      "\n",
      "    ax2.plot(resources, prec_ortho[:,sub_idx], 'x', color=sub_colors[sub_idx])\n",
      "    ax2.plot(x, expo2(x, *params_ortho), color=sub_colors[sub_idx], alpha=0.5)\n",
      "\n",
      "\n",
      "ax1.set_xlim([0,1.1])\n",
      "ax1.set_ylim([0,1])\n",
      "ax1.set_xlabel('Predictability of target')\n",
      "ax1.set_ylabel('Precision')\n",
      "ax2.set_xlim([0,1.1])\n",
      "ax2.set_ylim([0,1])\n",
      "ax2.set_xlabel('Predictability of target')\n",
      "ax2.set_ylabel('Precision')\n",
      "\n",
      "#ax1.errorbar(resources, np.mean(prec_para,-1), yerr=stats.sem(prec_para,-1), color='r',  linestyle='none', marker='o', markersize=10)\n",
      "#ax2.errorbar(resources, np.mean(prec_ortho,-1), yerr=stats.sem(prec_ortho,-1), color='b', linestyle='none', marker='o', markersize=10)\n",
      "\n",
      "#ax1.plot(x, power_law2(x, *np.mean(k_para,0)), color='k')\n",
      "#ax1.fill_between(x, power_law2(x, np.mean(k_para)-stats.sem(k_para)), power_law2(x, np.mean(k_para)+stats.sem(k_para)), color='b', alpha=0.3)\n",
      "\n",
      "#ax2.plot(x, power_law2(x, *np.mean(k_ortho,0)), color='k')\n",
      "#ax2.fill_between(x, power_law2(x, *np.mean(k_ortho)-stats.sem(k_ortho)), power_law2(x, *np.mean(k_ortho)+stats.sem(k_ortho)), color='b', alpha=0.3)\n",
      "\n",
      "fig1.savefig(path_to_files + 'figures/model_para.svg')\n",
      "fig2.savefig(path_to_files + 'figures/model_ortho.svg')\n",
      "\n",
      "fig, ax = plt.subplots(1)\n",
      "plot(k_ortho, k_para, 'o')\n",
      "plot([0,3],[0,3], ':')\n",
      "\n",
      "fig, ax = plt.subplots(1)\n",
      "hist(np.array(k_para)-np.array(k_ortho))\n",
      "\n",
      "#print stats.wilcoxon(np.squeeze(np.array(k_para)[:,0]-np.array(k_ortho)[:,0]))\n",
      "#print stats.wilcoxon(np.squeeze(np.array(k_para)[:,1]-np.array(k_ortho)[:,1]))"
     ],
     "language": "python",
     "metadata": {},
     "outputs": []
    },
    {
     "cell_type": "code",
     "collapsed": false,
     "input": [
      "def decay_expo(x,a):\n",
      "    \"\"\"\n",
      "    \n",
      "    \"\"\"\n",
      "    return np.exp(-x/a)\n"
     ],
     "language": "python",
     "metadata": {},
     "outputs": []
    },
    {
     "cell_type": "code",
     "collapsed": false,
     "input": [
      "import scipy.optimize as opt\n",
      "# Let's guess the inital conditions: \n",
      "initial = 0.5\n",
      "\n",
      "resources = np.array([0.3, 0.5, 0.7])\n",
      "x = np.linspace(0,1,100)\n",
      "\n",
      "th_para = np.array([cond_sens[4], cond_sens[2], cond_sens[0]])\n",
      "th_ortho = np.array([cond_sens[5], cond_sens[3], cond_sens[1]])\n",
      "\n",
      "fig1, ax1 = plt.subplots(1)\n",
      "fig2, ax2 = plt.subplots(1)\n",
      "\n",
      "k_ortho = []\n",
      "k_para = []\n",
      "\n",
      "for sub_idx in range(n_subjects):\n",
      "    # We get the params, and throw away the second output of leastsq:\n",
      "    params_ortho, _ = opt.leastsq(err_func, initial, args=(resources, th_ortho[:, sub_idx], decay_expo))\n",
      "    params_para, _ = opt.leastsq(err_func, initial, args=(resources, th_para[:, sub_idx], decay_expo))\n",
      "    k_ortho.append(params_ortho)\n",
      "    k_para.append(params_para)\n",
      "    \n",
      "    ax1.plot(resources, th_para[:,sub_idx], 'x', color=sub_colors[sub_idx])\n",
      "    ax1.plot(x, decay_expo(x, *params_para), color=sub_colors[sub_idx], alpha=0.5)\n",
      "\n",
      "    ax2.plot(resources, th_ortho[:,sub_idx], 'x', color=sub_colors[sub_idx])\n",
      "    ax2.plot(x, decay_expo(x, *params_ortho), color=sub_colors[sub_idx], alpha=0.5)\n",
      "\n",
      "\n",
      "ax1.set_xlim([0,1.1])\n",
      "#ax1.set_ylim([0,1])\n",
      "ax1.set_xlabel('Predictability of target')\n",
      "ax1.set_ylabel('Precision')\n",
      "ax2.set_xlim([0,1.1])\n",
      "#ax2.set_ylim([0,1])\n",
      "ax2.set_xlabel('Predictability of target')\n",
      "ax2.set_ylabel('Precision')\n",
      "\n",
      "ax1.errorbar(resources, np.mean(th_para,-1), yerr=stats.sem(th_para,-1), color='k',  linestyle='none', marker='o', markersize=10)\n",
      "ax2.errorbar(resources, np.mean(th_ortho,-1), yerr=stats.sem(th_ortho,-1), color='k', linestyle='none', marker='o', markersize=10)\n",
      "\n",
      "ax1.plot(x, decay_expo(x, *np.mean(k_para,0)), color='k')\n",
      "ax1.fill_between(x, decay_expo(x, np.mean(k_para)-stats.sem(k_para)), decay_expo(x, np.mean(k_para)+stats.sem(k_para)), color='b', alpha=0.3)\n",
      "\n",
      "ax2.plot(x, decay_expo(x, *np.mean(k_ortho,0)), color='k')\n",
      "ax2.fill_between(x, decay_expo(x, np.mean(k_ortho)-stats.sem(k_ortho)), decay_expo(x, np.mean(k_ortho)+stats.sem(k_ortho)), color='b', alpha=0.3)\n",
      "\n",
      "ax1.set_xticks([0.3,0.5,0.7])\n",
      "ax2.set_xticks([0.3,0.5,0.7])\n",
      "ax1.set_xlim([0,1])\n",
      "ax2.set_xlim([0,1])\n",
      "\n",
      "fig1.savefig(path_to_files + 'figures/model_para.svg')\n",
      "fig2.savefig(path_to_files + 'figures/model_ortho.svg')\n",
      "\n",
      "fig, ax = plt.subplots(1)\n",
      "plot(k_ortho, k_para, 'o')\n",
      "plot([0,3],[0,3], ':')\n",
      "\n",
      "fig, ax = plt.subplots(1)\n",
      "hist(np.array(k_para)-np.array(k_ortho))\n",
      "stats.wilcoxon(np.squeeze(np.array(k_para)-np.array(k_ortho)))\n"
     ],
     "language": "python",
     "metadata": {},
     "outputs": []
    },
    {
     "cell_type": "code",
     "collapsed": false,
     "input": [
      "prec = []\n",
      "for sub in df1.columns:\n",
      "    prec.append({(0,0):{}, (0,90):{}, (90,0):{}, (90,90):{}})\n",
      "    for ori1_idx, ori1 in enumerate([0,90]):\n",
      "        for ori2_idx, ori2 in enumerate([0,90]):\n",
      "            for cue_idx, cue_cond in enumerate(cue_conds): \n",
      "                prec[-1][(ori1, ori2)][cue_cond]= df1[sub][(ori1, ori2)][cue_cond]['fit'][0][1]"
     ],
     "language": "python",
     "metadata": {},
     "outputs": []
    },
    {
     "cell_type": "code",
     "collapsed": false,
     "input": [
      "R2_para = []\n",
      "R2_ortho = []\n",
      "initial = 0.5\n",
      "for sub in prec:\n",
      "    prec_ortho1 = np.array([sub[0, 90]['other'], sub[0, 90]['neutral'], sub[0, 90]['cued']])\n",
      "    prec_ortho2 = np.array([sub[90, 0]['other'], sub[90, 0]['neutral'], sub[90, 0]['cued']])\n",
      "    prec_para1 = np.array([sub[0, 0]['other'], sub[0, 0]['neutral'], sub[0, 0]['cued']])\n",
      "    prec_para2 = np.array([sub[90, 90]['other'], sub[90, 90]['neutral'], sub[90, 90]['cued']])\n",
      "\n",
      "    params_ortho1, _ = opt.leastsq(err_func, initial, args=(resources, prec_ortho1, decay_expo))\n",
      "    params_ortho2, _ = opt.leastsq(err_func, initial, args=(resources, prec_ortho2, decay_expo))\n",
      "    params_para1, _ = opt.leastsq(err_func, initial, args=(resources, prec_para1, decay_expo))\n",
      "    params_para2, _ = opt.leastsq(err_func, initial, args=(resources, prec_para2, decay_expo))\n",
      "\n",
      "    R2_ortho.append(np.mean([(stats.pearsonr(prec_ortho2, decay_expo(resources, params_ortho1))[0]**2),\n",
      "                              stats.pearsonr(prec_ortho1, decay_expo(resources, params_ortho2))[0]**2]))\n",
      "    R2_para.append(np.mean([stats.pearsonr(prec_para2, decay_expo(resources, params_para1))[0]**2,\n",
      "                            stats.pearsonr(prec_para1, decay_expo(resources, params_para2))[0]**2]))\n",
      "    \n",
      "    fig, ax = plt.subplots(1)\n",
      "    #ax.plot(resources, prec_ortho1)\n",
      "    #ax.plot(resources, prec_ortho2)\n"
     ],
     "language": "python",
     "metadata": {},
     "outputs": []
    },
    {
     "cell_type": "code",
     "collapsed": false,
     "input": [
      "np.mean(R2_ortho), np.mean(R2_para)"
     ],
     "language": "python",
     "metadata": {},
     "outputs": []
    },
    {
     "cell_type": "code",
     "collapsed": false,
     "input": [
      "resources = np.array([0.3, 0.5, 0.7])\n",
      "x = np.linspace(0,1,100)\n",
      "\n",
      "th_para = np.array([cond_sens[4], cond_sens[2], cond_sens[0]])\n",
      "th_ortho = np.array([cond_sens[5], cond_sens[3], cond_sens[1]])\n",
      "\n",
      "fig1, ax1 = plt.subplots(1)\n",
      "fig2, ax2 = plt.subplots(1)\n",
      "\n",
      "k_ortho = []\n",
      "k_para = []\n",
      "\n",
      "for sub_idx in range(n_subjects):\n",
      "    params_ortho = np.polyfit(resources, th_ortho[:, sub_idx], 1) \n",
      "    params_para = np.polyfit(resources, th_para[:, sub_idx], 1) \n",
      "    k_ortho.append(params_ortho)\n",
      "    k_para.append(params_para)\n",
      "    \n",
      "    ax1.plot(resources, th_para[:,sub_idx], 'x', color=sub_colors[sub_idx])\n",
      "    ax1.plot(x, np.polyval(params_ortho, x), color=sub_colors[sub_idx], alpha=0.5)\n",
      "\n",
      "    ax2.plot(resources, th_ortho[:,sub_idx], 'x', color=sub_colors[sub_idx])\n",
      "    ax2.plot(x, np.polyval(params_para, x), color=sub_colors[sub_idx], alpha=0.5)\n",
      "\n",
      "\n",
      "ax1.set_xlim([0,1.1])\n",
      "#ax1.set_ylim([0,1])\n",
      "ax1.set_xlabel('Predictability of target')\n",
      "ax1.set_ylabel('Precision')\n",
      "ax2.set_xlim([0,1.1])\n",
      "#ax2.set_ylim([0,1])\n",
      "ax2.set_xlabel('Predictability of target')\n",
      "ax2.set_ylabel('Precision')\n",
      "\n",
      "ax1.errorbar(resources, np.mean(th_para,-1), yerr=stats.sem(th_para,-1), color='k',  linestyle='none', marker='o', markersize=10)\n",
      "ax2.errorbar(resources, np.mean(th_ortho,-1), yerr=stats.sem(th_ortho,-1), color='k', linestyle='none', marker='o', markersize=10)\n",
      "\n",
      "ax1.plot(x, np.polyval(np.mean(k_para,0), x), color='k')\n",
      "#ax1.fill_between(x, np.polyval(np.mean(k_para)-stats.sem(k_para), x), np.polyval(np.mean(k_para)+stats.sem(k_para), x), color='b', alpha=0.3)\n",
      "\n",
      "ax2.plot(x, np.polyval(np.mean(k_ortho,0), x), color='k')\n",
      "#ax2.fill_between(x, np.polyval(np.mean(k_ortho)-stats.sem(k_ortho), x), np.polyval(np.mean(k_ortho)+stats.sem(k_ortho), x), color='b', alpha=0.3)\n",
      "\n",
      "ax1.set_xticks([0.3,0.5,0.7])\n",
      "ax2.set_xticks([0.3,0.5,0.7])\n",
      "ax1.set_xlim([0,1])\n",
      "ax2.set_xlim([0,1])\n",
      "\n",
      "fig1.savefig(path_to_files + 'figures/model_para.svg')\n",
      "fig2.savefig(path_to_files + 'figures/model_ortho.svg')\n",
      "\n",
      "fig, ax = plt.subplots(1)\n",
      "plot(k_ortho, k_para, 'o')\n",
      "plot([0,3],[0,3], ':')\n",
      "\n",
      "fig, ax = plt.subplots(1)\n",
      "hist(np.array(k_para)-np.array(k_ortho))\n",
      "#stats.wilcoxon(np.squeeze(np.array(k_para)-np.array(k_ortho)))\n"
     ],
     "language": "python",
     "metadata": {},
     "outputs": []
    },
    {
     "cell_type": "code",
     "collapsed": false,
     "input": [
      "resources = np.array([0.3, 0.5, 0.7])\n",
      "x = np.linspace(0,1,100)\n",
      "\n",
      "th_para = np.array([cond_sens[4], cond_sens[2], cond_sens[0]])\n",
      "th_ortho = np.array([cond_sens[5], cond_sens[3], cond_sens[1]])\n",
      "\n",
      "fig1, ax1 = plt.subplots(1)\n",
      "\n",
      "k_ortho = []\n",
      "k_para = []\n",
      "\n",
      "for sub_idx in range(n_subjects):\n",
      "    params_ortho = np.polyfit(resources, th_ortho[:, sub_idx], 1) \n",
      "    params_para = np.polyfit(resources, th_para[:, sub_idx], 1) \n",
      "    k_ortho.append(params_ortho)\n",
      "    k_para.append(params_para)\n",
      "    \n",
      "\n",
      "ax1.set_xlim([0,1.1])\n",
      "#ax1.set_ylim([0,1])\n",
      "ax1.set_xlabel('Predictability of target')\n",
      "ax1.set_ylabel('Precision')\n",
      "ax2.set_xlim([0,1.1])\n",
      "#ax2.set_ylim([0,1])\n",
      "ax2.set_xlabel('Predictability of target')\n",
      "ax2.set_ylabel('Precision')\n",
      "\n",
      "ax1.errorbar(resources, np.mean(th_para,-1), yerr=stats.sem(th_para,-1), color='r',  linestyle='none', marker='o', markersize=10)\n",
      "ax1.errorbar(resources, np.mean(th_ortho,-1), yerr=stats.sem(th_ortho,-1), color='b', linestyle='none', marker='o', markersize=10)\n",
      "\n",
      "ax1.plot(x, np.polyval(np.mean(k_para,0), x), color='r')\n",
      "#ax1.fill_between(x, np.polyval(np.mean(k_para)-stats.sem(k_para), x), np.polyval(np.mean(k_para)+stats.sem(k_para), x), color='b', alpha=0.3)\n",
      "\n",
      "ax1.plot(x, np.polyval(np.mean(k_ortho,0), x), color='b')\n",
      "#ax2.fill_between(x, np.polyval(np.mean(k_ortho)-stats.sem(k_ortho), x), np.polyval(np.mean(k_ortho)+stats.sem(k_ortho), x), color='b', alpha=0.3)\n",
      "\n",
      "ax1.set_xticks([0.3,0.5,0.7])\n",
      "ax2.set_xticks([0.3,0.5,0.7])\n",
      "ax1.set_xlim([0,1])\n",
      "ax2.set_xlim([0,1])\n",
      "\n",
      "#fig1.savefig(path_to_files + 'figures/model_para.svg')\n",
      "#fig2.savefig(path_to_files + 'figures/model_ortho.svg')\n",
      "\n",
      "fig, ax = plt.subplots(1)\n",
      "plot(k_ortho, k_para, 'o')\n",
      "plot([0,3],[0,3], ':')\n",
      "\n",
      "fig, ax = plt.subplots(1)\n",
      "hist(np.array(k_para)-np.array(k_ortho))\n",
      "\n",
      "\n",
      "arr = np.array(k_para)-np.array(k_ortho)\n",
      "stats.wilcoxon(np.squeeze(np.array(k_para)[:, 1]-np.array(k_ortho)[:, 1]))\n",
      "stats.ttest_1samp(np.array(k_para)-np.array(k_ortho), 0)"
     ],
     "language": "python",
     "metadata": {},
     "outputs": []
    },
    {
     "cell_type": "code",
     "collapsed": false,
     "input": [
      "# Is there any systematic relationship between bias and sensitivity?\n",
      "fig_scatter, ax_scatter = plt.subplots(2,3)\n",
      "ax_scatter[0,0].plot(cond_bias[0], cond_sens[0], '.')\n",
      "ax_scatter[1,0].plot(cond_bias[1], cond_sens[1], '.')\n",
      "ax_scatter[0,1].plot(cond_bias[2], cond_sens[2], '.')\n",
      "ax_scatter[1,1].plot(cond_bias[3], cond_sens[3], '.')\n",
      "ax_scatter[0,2].plot(cond_bias[4], cond_sens[4], '.')\n",
      "ax_scatter[1,2].plot(cond_bias[5], cond_sens[5], '.')\n",
      "fig_scatter.set_size_inches([8,6])\n",
      "\n",
      "for a in ax_scatter.ravel():\n",
      "    a.set_yticks([i for i in np.arange(0.2,1,0.2)])\n",
      "    a.set_xticks([i for i in np.arange(0.2,1,0.2)])\n",
      "    a.set_yticklabels(['%s'%(i*100) for i in np.arange(0.2,1,0.2)])\n",
      "    a.set_xticklabels(['%s'%(i*100) for i in np.arange(0.2,1,0.2)])\n",
      "    a.set_xlim([0,1])\n",
      "    a.set_ylim([0,1])\n",
      "\n",
      "for ii in range(5):\n",
      "    print stats.pearsonr(cond_bias[ii], cond_sens[ii])\n",
      "\n",
      "fig_scatter.savefig(path_to_files + 'figures/bias_vs_sensitivity.svg')"
     ],
     "language": "python",
     "metadata": {},
     "outputs": []
    },
    {
     "cell_type": "code",
     "collapsed": false,
     "input": [
      "x = {(0,0):dict(cued=[], other=[], neutral=[]),\n",
      "     (0,90):dict(cued=[], other=[], neutral=[]),\n",
      "     (90,0):dict(cued=[], other=[], neutral=[]),\n",
      "     (90,90):dict(cued=[], other=[], neutral=[])}\n",
      "     \n",
      "y = {(0,0):dict(cued=[], other=[], neutral=[]),\n",
      "     (0,90):dict(cued=[], other=[], neutral=[]),\n",
      "     (90,0):dict(cued=[], other=[], neutral=[]),\n",
      "     (90,90):dict(cued=[], other=[], neutral=[])}\n",
      "     \n",
      "th = {(0,0):dict(cued=[], other=[], neutral=[]),\n",
      "     (0,90):dict(cued=[], other=[], neutral=[]),\n",
      "     (90,0):dict(cued=[], other=[], neutral=[]),\n",
      "     (90,90):dict(cued=[], other=[], neutral=[])}\n",
      "\n",
      "sl = {(0,0):dict(cued=[], other=[], neutral=[]),\n",
      "     (0,90):dict(cued=[], other=[], neutral=[]),\n",
      "     (90,0):dict(cued=[], other=[], neutral=[]),\n",
      "     (90,90):dict(cued=[], other=[], neutral=[])}\n",
      "\n",
      "th_ub = {(0,0):dict(cued=[], other=[], neutral=[]),\n",
      "     (0,90):dict(cued=[], other=[], neutral=[]),\n",
      "     (90,0):dict(cued=[], other=[], neutral=[]),\n",
      "     (90,90):dict(cued=[], other=[], neutral=[])}\n",
      "\n",
      "th_lb = {(0,0):dict(cued=[], other=[], neutral=[]),\n",
      "     (0,90):dict(cued=[], other=[], neutral=[]),\n",
      "     (90,0):dict(cued=[], other=[], neutral=[]),\n",
      "     (90,90):dict(cued=[], other=[], neutral=[])}\n",
      "\n",
      "sl_ub = {(0,0):dict(cued=[], other=[], neutral=[]),\n",
      "     (0,90):dict(cued=[], other=[], neutral=[]),\n",
      "     (90,0):dict(cued=[], other=[], neutral=[]),\n",
      "     (90,90):dict(cued=[], other=[], neutral=[])}\n",
      "\n",
      "sl_lb = {(0,0):dict(cued=[], other=[], neutral=[]),\n",
      "     (0,90):dict(cued=[], other=[], neutral=[]),\n",
      "     (90,0):dict(cued=[], other=[], neutral=[]),\n",
      "     (90,90):dict(cued=[], other=[], neutral=[])}\n",
      "\n",
      "\n",
      "for cond_idx, cue_cond in enumerate(cue_conds):\n",
      "    for sub in df1.columns:\n",
      "        for ori in df1.index:\n",
      "            x[ori][cue_cond].append(df1[sub][ori][cue_cond]['x'])\n",
      "            y[ori][cue_cond].append(df1[sub][ori][cue_cond]['y'])\n",
      "            th[ori][cue_cond].append(df1[sub][ori][cue_cond]['fit'][0][0])\n",
      "            sl[ori][cue_cond].append(df1[sub][ori][cue_cond]['fit'][0][1])\n",
      "            th_ub[ori][cue_cond].append(df1[sub][ori][cue_cond]['boot_th_ub'])\n",
      "            th_lb[ori][cue_cond].append(df1[sub][ori][cue_cond]['boot_th_lb'])\n",
      "            sl_ub[ori][cue_cond].append(df1[sub][ori][cue_cond]['boot_sl_ub'])\n",
      "            sl_lb[ori][cue_cond].append(df1[sub][ori][cue_cond]['boot_sl_lb'])\n",
      "            "
     ],
     "language": "python",
     "metadata": {},
     "outputs": []
    },
    {
     "cell_type": "code",
     "collapsed": false,
     "input": [
      "fig = plt.figure()\n",
      "fig.set_size_inches([15,10])\n",
      "for ori_idx, oris in enumerate([[(0,90),(0,0)],[(90,0),(90,90)]]):\n",
      "    for cue_idx, cue_cond in enumerate(['cued','neutral','other']):\n",
      "        ax = fig.add_subplot(2,3, (ori_idx*3) + (cue_idx+1)) \n",
      "\n",
      "        plot_x = th[oris[1]][cue_cond]\n",
      "        plot_y = th[oris[0]][cue_cond]\n",
      "        \n",
      "        err_x = (np.array(th_ub[oris[1]][cue_cond])-\n",
      "                 np.array(th_lb[oris[0]][cue_cond])).squeeze()\n",
      "\n",
      "        err_y = (np.array(th_ub[oris[1]][cue_cond])-\n",
      "                 np.array(th_lb[oris[0]][cue_cond])).squeeze()\n",
      "\n",
      "            #err_x = sl[oris[0]][cue_cond]\n",
      "            #err_y = sl[oris[1]][cue_cond]\n",
      "        \n",
      "        for sub_idx in range(n_subjects):\n",
      "            ax.errorbar(plot_x[sub_idx], plot_y[sub_idx], xerr = err_x[sub_idx], yerr=err_y[sub_idx],\n",
      "                    linestyle='None', marker='o',color=sub_colors[sub_idx])\n",
      "       \n",
      "            \n",
      "        ax.errorbar(np.mean(plot_x), np.mean(plot_y),\n",
      "                    xerr = stats.sem(plot_x),\n",
      "                    yerr=stats.sem(plot_y), marker='o', color='k', markersize=10)\n",
      "\n",
      "        ax.plot([0,1],[0,1],'k--')\n",
      "        ax.set_xlim([0,1])\n",
      "        ax.set_ylim([0,1])\n",
      "        ax.set_title('%s, %s'%(cue_cond,oris[0][0]))\n",
      "        ax.set_ylabel('Orthogonal')\n",
      "        ax.set_xlabel('Parallel')\n",
      "                            \n",
      "fig.savefig(path_to_files + 'figures/scatter_bias.svg')"
     ],
     "language": "python",
     "metadata": {},
     "outputs": []
    },
    {
     "cell_type": "code",
     "collapsed": false,
     "input": [
      "fig = plt.figure()\n",
      "fig.set_size_inches([15,10])\n",
      "for ori_idx, oris in enumerate([[(0,90),(0,0)],[(90,0),(90,90)]]):\n",
      "    for cue_idx, cue_cond in enumerate(['cued','neutral','other']):\n",
      "        ax = fig.add_subplot(2,3, (ori_idx*3) + (cue_idx+1)) \n",
      "\n",
      "        plot_x = sl[oris[1]][cue_cond]\n",
      "        plot_y = sl[oris[0]][cue_cond]\n",
      "        err_x = (np.array(sl_ub[oris[1]][cue_cond])-\n",
      "                 np.array(sl_lb[oris[0]][cue_cond])).squeeze()\n",
      "\n",
      "        err_y = (np.array(sl_ub[oris[1]][cue_cond])-\n",
      "                 np.array(sl_lb[oris[0]][cue_cond])).squeeze()\n",
      "\n",
      "            #err_x = 0# sl[oris[0]][cue_cond]\n",
      "            #err_y = 0#sl[oris[1]][cue_cond]\n",
      "        \n",
      "        for sub_idx in range(n_subjects):\n",
      "            ax.errorbar(plot_x[sub_idx], plot_y[sub_idx], xerr = err_x[sub_idx], yerr=err_y[sub_idx],\n",
      "                    linestyle='None', marker='o',color=sub_colors[sub_idx])\n",
      "\n",
      "            ax.errorbar(np.mean(plot_x), np.mean(plot_y),\n",
      "                    xerr = stats.sem(plot_x),\n",
      "                    yerr=stats.sem(plot_y), marker='o', color='k', markersize=10)\n",
      "\n",
      "        ax.plot([0,1],[0,1],'k--')\n",
      "        ax.set_xlim([0,1])\n",
      "        ax.set_ylim([0,1])\n",
      "        ax.set_title('%s, %s'%(cue_cond,oris[0][0]))\n",
      "        ax.set_ylabel('Orthogonal')\n",
      "        ax.set_xlabel('Parallel')\n",
      "                    \n",
      "        \n",
      "fig.savefig(path_to_files + 'figures/scatter_sensitivity.svg')"
     ],
     "language": "python",
     "metadata": {},
     "outputs": []
    },
    {
     "cell_type": "code",
     "collapsed": false,
     "input": [],
     "language": "python",
     "metadata": {},
     "outputs": []
    },
    {
     "cell_type": "code",
     "collapsed": false,
     "input": [],
     "language": "python",
     "metadata": {},
     "outputs": []
    },
    {
     "cell_type": "code",
     "collapsed": false,
     "input": [],
     "language": "python",
     "metadata": {},
     "outputs": []
    },
    {
     "cell_type": "code",
     "collapsed": false,
     "input": [],
     "language": "python",
     "metadata": {},
     "outputs": []
    }
   ],
   "metadata": {}
  }
 ]
}