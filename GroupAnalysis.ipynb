{
 "metadata": {
  "name": "GroupAnalysis"
 },
 "nbformat": 3,
 "nbformat_minor": 0,
 "worksheets": [
  {
   "cells": [
    {
     "cell_type": "code",
     "collapsed": false,
     "input": [
      "%load_ext rmagic \n",
      "%R library(ez)\n",
      "# Import our own analysis stuff\n",
      "import tools\n",
      "reload(tools)"
     ],
     "language": "python",
     "metadata": {},
     "outputs": []
    },
    {
     "cell_type": "code",
     "collapsed": false,
     "input": [
      "cue_conds = ['cued', 'other', 'neutral']\n",
      "plot_func=tools.cumgauss\n",
      "fit_func='cumgauss'\n",
      "path_to_files='/Users/arokem/Dropbox/att_ss/Analysis/'\n",
      "df1, df2 = tools.get_df(17,\n",
      "\t\t  path_to_files=path_to_files,\n",
      "\t\t  exclude=[13],\n",
      "\t\t  cue_conds=cue_conds,\n",
      "\t          fit_func=fit_func)"
     ],
     "language": "python",
     "metadata": {},
     "outputs": []
    },
    {
     "cell_type": "code",
     "collapsed": false,
     "input": [
      "df_dtypes = df2.dtypes\n",
      "arr_dtype = zip([str(k) for k in df_dtypes.keys()], [df_dtypes[k] for k in df_dtypes.keys()])\n",
      "arr_dtype[1] = ('cue','S4')\n",
      "arr_dtype[-1] = ('subject','S4')\n",
      "\n",
      "df_as_struct = np.asarray([tuple(x) for x in np.array(df2)], dtype=arr_dtype)\n",
      "df_as_struct.dtype"
     ],
     "language": "python",
     "metadata": {},
     "outputs": []
    },
    {
     "cell_type": "code",
     "collapsed": false,
     "input": [
      "%%R -i df_as_struct\n",
      "\n",
      "aov_th = ezANOVA(df_as_struct,\n",
      "                 wid=.(subject),\n",
      "                 dv=.(p1),\n",
      "                 within=.(cue, rel_ori, abs_ori),\n",
      "                 )\n",
      "aov_sl = ezANOVA(df_as_struct,\n",
      "                 wid=.(subject),\n",
      "                 dv=.(p2),\n",
      "                 within=.(cue, rel_ori, abs_ori),\n",
      "                 )\n",
      "print(\"ANOVA:THRESHOLD\")\n",
      "print(aov_th)\n",
      "print(\"ANOVA:SLOPE\")\n",
      "print(aov_sl)"
     ],
     "language": "python",
     "metadata": {},
     "outputs": []
    },
    {
     "cell_type": "code",
     "collapsed": false,
     "input": [],
     "language": "python",
     "metadata": {},
     "outputs": []
    }
   ],
   "metadata": {}
  }
 ]
}