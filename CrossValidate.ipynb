{
 "metadata": {
  "name": "CrossValidate"
 },
 "nbformat": 3,
 "nbformat_minor": 0,
 "worksheets": [
  {
   "cells": [
    {
     "cell_type": "code",
     "collapsed": false,
     "input": [
      "import tools\n",
      "import scipy.stats as stats\n",
      "reload(tools)"
     ],
     "language": "python",
     "metadata": {},
     "outputs": [
      {
       "output_type": "pyout",
       "prompt_number": 1,
       "text": [
        "<module 'tools' from 'tools.pyc'>"
       ]
      }
     ],
     "prompt_number": 1
    },
    {
     "cell_type": "code",
     "collapsed": false,
     "input": [
      "cue_conds = ['cued', 'other', 'neutral']\n",
      "path_to_files='/Users/arokem/Dropbox/att_ss/Analysis/'"
     ],
     "language": "python",
     "metadata": {},
     "outputs": [],
     "prompt_number": 2
    },
    {
     "cell_type": "code",
     "collapsed": false,
     "input": [
      "coeff = {}\n",
      "\n",
      "for fit_func, func in zip(['cumgauss', 'weib'],[tools.cumgauss, tools.weibull]):\n",
      "    df1_odd, df2_odd = tools.get_df(17,\n",
      "                        path_to_files=path_to_files,\n",
      "                        boots=1,\n",
      "                        exclude=[13,8],\n",
      "                        cue_conds=cue_conds,\n",
      "                        fit_func=fit_func,\n",
      "                        even_or_odd='odd')\n",
      "\n",
      "    df1_even, df2_even = tools.get_df(17,\n",
      "                        path_to_files=path_to_files,\n",
      "                        boots=1,\n",
      "                        exclude=[13,8],\n",
      "                        cue_conds=cue_conds,\n",
      "                        fit_func=fit_func,\n",
      "                        even_or_odd='even')\n",
      "    R2 = []\n",
      "\n",
      "    for ori_idx, ori in enumerate([(0,90), (0,0), (90,0), (90,90)]):\n",
      "        R2.append({'cued':[], 'other':[], 'neutral':[]})\n",
      "    \n",
      "        x_even = dict(cued=[], other=[], neutral=[])\n",
      "        y_even = dict(cued=[], other=[], neutral=[])\n",
      "        th_even = dict(cued=[], other=[], neutral=[])\n",
      "        sl_even = dict(cued=[], other=[], neutral=[])\n",
      "        fit_even = dict(cued=[], other=[], neutral=[])\n",
      "\n",
      "        x_odd = dict(cued=[], other=[], neutral=[])\n",
      "        y_odd = dict(cued=[], other=[], neutral=[])\n",
      "        th_odd = dict(cued=[], other=[], neutral=[])\n",
      "        sl_odd = dict(cued=[], other=[], neutral=[])\n",
      "        fit_odd = dict(cued=[], other=[], neutral=[])\n",
      "\n",
      "        for sub in df1_even.columns:\n",
      "            for cue_cond in cue_conds: \n",
      "                x_even[cue_cond].append(df1_even[sub][ori][cue_cond]['x'])\n",
      "                y_even[cue_cond].append(df1_even[sub][ori][cue_cond]['y'])\n",
      "                th_even[cue_cond].append(df1_even[sub][ori][cue_cond]['fit'][0][0])\n",
      "                sl_even[cue_cond].append(df1_even[sub][ori][cue_cond]['fit'][0][1])\n",
      "                fit_even[cue_cond].append(df1_even[sub][ori][cue_cond]['fit'][0])\n",
      "\n",
      "                x_odd[cue_cond].append(df1_odd[sub][ori][cue_cond]['x'])\n",
      "                y_odd[cue_cond].append(df1_odd[sub][ori][cue_cond]['y'])\n",
      "                th_odd[cue_cond].append(df1_odd[sub][ori][cue_cond]['fit'][0][0])\n",
      "                sl_odd[cue_cond].append(df1_odd[sub][ori][cue_cond]['fit'][0][1])\n",
      "                fit_odd[cue_cond].append(df1_odd[sub][ori][cue_cond]['fit'][0])\n",
      "    \n",
      "                predict1 = func(np.array(x_even[cue_cond][-1]), *fit_odd[cue_cond][-1])\n",
      "                actual1 = y_even[cue_cond][-1]\n",
      "                predict2 = func(np.array(x_odd[cue_cond][-1]), *fit_even[cue_cond][-1])\n",
      "                actual2 = y_odd[cue_cond][-1]\n",
      "                R2[-1][cue_cond].append(np.sqrt(np.mean([np.hstack([(predict1-actual1)**2, (predict2-actual2)**2])])))\n",
      "    coeff[fit_func] = R2"
     ],
     "language": "python",
     "metadata": {},
     "outputs": [
      {
       "output_type": "stream",
       "stream": "stdout",
       "text": [
        "['S01', 'S02', 'S03', 'S04', 'S05', 'S06', 'S07', 'S09', 'S10', 'S11', 'S12', 'S14', 'S15', 'S16', 'S17']\n",
        "Analyzing S01\n",
        "File: S01HS_0_0_02092012_1_att_ss.csv\n",
        "Condition: cued\n",
        "Using the cumgauss function to analyze this"
       ]
      },
      {
       "output_type": "stream",
       "stream": "stdout",
       "text": [
        "\n",
        "Condition: other\n",
        "Using the cumgauss function to analyze this\n",
        "File: S01HS_0_90_02092012_1_att_ss.csv"
       ]
      },
      {
       "output_type": "stream",
       "stream": "stdout",
       "text": [
        "\n",
        "Condition: cued\n",
        "Using the cumgauss function to analyze this"
       ]
      },
      {
       "output_type": "stream",
       "stream": "stdout",
       "text": [
        "\n",
        "Condition: other\n",
        "Using the cumgauss function to analyze this\n",
        "File: S01HS_90_0_02092012_1_att_ss.csv\n",
        "Condition: cued"
       ]
      },
      {
       "output_type": "stream",
       "stream": "stdout",
       "text": [
        "\n",
        "Using the cumgauss function to analyze this\n",
        "Condition: other\n",
        "Using the cumgauss function to analyze this"
       ]
      },
      {
       "output_type": "stream",
       "stream": "stdout",
       "text": [
        "\n",
        "File: S01HS_90_90_02092012_1_att_ss.csv\n",
        "Condition: cued\n",
        "Using the cumgauss function to analyze this\n",
        "Condition: other"
       ]
      },
      {
       "output_type": "stream",
       "stream": "stdout",
       "text": [
        "\n",
        "Using the cumgauss function to analyze this\n",
        "File: S01HSn_0_0_02162012_1_att_ss.csv\n",
        "Condition: neutral\n",
        "Using the cumgauss function to analyze this\n",
        "File: S01HSn_0_90_02162012_1_att_ss.csv\n",
        "Condition: neutral"
       ]
      },
      {
       "output_type": "stream",
       "stream": "stdout",
       "text": [
        "\n",
        "Using the cumgauss function to analyze this\n",
        "File: S01HSn_90_0_02162012_1_att_ss.csv\n",
        "Condition: neutral\n",
        "Using the cumgauss function to analyze this\n",
        "File: S01HSn_90_90_02162012_1_att_ss.csv\n",
        "Condition: neutral\n",
        "Using the cumgauss function to analyze this"
       ]
      },
      {
       "output_type": "stream",
       "stream": "stdout",
       "text": [
        "\n",
        "Analyzing S02\n",
        "File: S02DT_0_0_02092012_1_att_ss.csv\n",
        "Condition: cued\n",
        "Using the cumgauss function to analyze this"
       ]
      },
      {
       "output_type": "stream",
       "stream": "stdout",
       "text": [
        "\n",
        "Condition: other"
       ]
      },
      {
       "output_type": "stream",
       "stream": "stdout",
       "text": [
        "\n",
        "Using the cumgauss function to analyze this\n",
        "File: S02DT_0_90_02092012_1_att_ss.csv\n",
        "Condition: cued"
       ]
      },
      {
       "output_type": "stream",
       "stream": "stdout",
       "text": [
        "\n",
        "Using the cumgauss function to analyze this\n",
        "Condition: other\n",
        "Using the cumgauss function to analyze this"
       ]
      },
      {
       "output_type": "stream",
       "stream": "stdout",
       "text": [
        "\n",
        "File: S02DT_90_0_02092012_1_att_ss.csv\n",
        "Condition: cued\n",
        "Using the cumgauss function to analyze this"
       ]
      },
      {
       "output_type": "stream",
       "stream": "stdout",
       "text": [
        "\n",
        "Condition: other\n",
        "Using the cumgauss function to analyze this\n",
        "File: S02DT_90_90_02092012_1_att_ss.csv"
       ]
      },
      {
       "output_type": "stream",
       "stream": "stdout",
       "text": [
        "\n",
        "Condition: cued\n",
        "Using the cumgauss function to analyze this\n",
        "Condition: other\n",
        "Using the cumgauss function to analyze this"
       ]
      },
      {
       "output_type": "stream",
       "stream": "stdout",
       "text": [
        "\n",
        "File: S02DTn_0_0_02162012_1_att_ss.csv\n",
        "Condition: neutral\n",
        "Using the cumgauss function to analyze this\n",
        "File: S02DTn_0_90_02162012_1_att_ss.csv\n",
        "Condition: neutral"
       ]
      },
      {
       "output_type": "stream",
       "stream": "stdout",
       "text": [
        "\n",
        "Using the cumgauss function to analyze this\n",
        "File: S02DTn_90_0_02162012_1_att_ss.csv\n",
        "Condition: neutral\n",
        "Using the cumgauss function to analyze this\n",
        "File: S02DTn_90_90_02162012_1_att_ss.csv\n",
        "Condition: neutral\n",
        "Using the cumgauss function to analyze this"
       ]
      },
      {
       "output_type": "stream",
       "stream": "stdout",
       "text": [
        "\n",
        "Analyzing S03\n",
        "File: S03AB_0_0_02102012_1_att_ss.csv\n",
        "Condition: cued\n",
        "Using the cumgauss function to analyze this"
       ]
      },
      {
       "output_type": "stream",
       "stream": "stdout",
       "text": [
        "\n",
        "Condition: other\n",
        "Using the cumgauss function to analyze this\n",
        "File: S03AB_0_90_02102012_1_att_ss.csv\n",
        "Condition: cued"
       ]
      },
      {
       "output_type": "stream",
       "stream": "stdout",
       "text": [
        "\n",
        "Using the cumgauss function to analyze this\n",
        "Condition: other\n",
        "Using the cumgauss function to analyze this"
       ]
      },
      {
       "output_type": "stream",
       "stream": "stdout",
       "text": [
        "\n",
        "File: S03AB_90_0_02102012_1_att_ss.csv\n",
        "Condition: cued\n",
        "Using the cumgauss function to analyze this"
       ]
      },
      {
       "output_type": "stream",
       "stream": "stdout",
       "text": [
        "\n",
        "Condition: other\n",
        "Using the cumgauss function to analyze this\n",
        "File: S03AB_90_90_02102012_1_att_ss.csv\n",
        "Condition: cued"
       ]
      },
      {
       "output_type": "stream",
       "stream": "stdout",
       "text": [
        "\n",
        "Using the cumgauss function to analyze this\n",
        "Condition: other\n",
        "Using the cumgauss function to analyze this"
       ]
      },
      {
       "output_type": "stream",
       "stream": "stdout",
       "text": [
        "\n",
        "File: S03ABn_0_0_02102012_1_att_ss.csv\n",
        "Condition: neutral\n",
        "Using the cumgauss function to analyze this\n",
        "File: S03ABn_0_90_02102012_1_att_ss.csv\n",
        "Condition: neutral\n",
        "Using the cumgauss function to analyze this"
       ]
      },
      {
       "output_type": "stream",
       "stream": "stdout",
       "text": [
        "\n",
        "File: S03ABn_90_0_02102012_2_att_ss.csv\n",
        "Condition: neutral\n",
        "Using the cumgauss function to analyze this\n",
        "File: S03ABn_90_90_02102012_1_att_ss.csv\n",
        "Condition: neutral\n",
        "Using the cumgauss function to analyze this"
       ]
      },
      {
       "output_type": "stream",
       "stream": "stdout",
       "text": [
        "\n",
        "Analyzing S04\n",
        "File: S04LC_0_0_02162012_1_att_ss.csv\n",
        "Condition: cued\n",
        "Using the cumgauss function to analyze this"
       ]
      },
      {
       "output_type": "stream",
       "stream": "stdout",
       "text": [
        "\n",
        "Condition: other\n",
        "Using the cumgauss function to analyze this\n",
        "File: S04LC_0_90_02162012_1_att_ss.csv\n",
        "Condition: cued"
       ]
      },
      {
       "output_type": "stream",
       "stream": "stdout",
       "text": [
        "\n",
        "Using the cumgauss function to analyze this\n",
        "Condition: other\n",
        "Using the cumgauss function to analyze this"
       ]
      },
      {
       "output_type": "stream",
       "stream": "stdout",
       "text": [
        "\n",
        "File: S04LC_90_0_02162012_1_att_ss.csv\n",
        "Condition: cued"
       ]
      },
      {
       "output_type": "stream",
       "stream": "stdout",
       "text": [
        "\n",
        "Using the cumgauss function to analyze this\n",
        "Condition: other\n",
        "Using the cumgauss function to analyze this"
       ]
      },
      {
       "output_type": "stream",
       "stream": "stdout",
       "text": [
        "\n",
        "File: S04LC_90_90_02162012_1_att_ss.csv\n",
        "Condition: cued\n",
        "Using the cumgauss function to analyze this"
       ]
      },
      {
       "output_type": "stream",
       "stream": "stdout",
       "text": [
        "\n",
        "Condition: other\n",
        "Using the cumgauss function to analyze this\n",
        "File: S04LCn_0_0_02162012_1_att_ss.csv\n",
        "Condition: neutral\n",
        "Using the cumgauss function to analyze this"
       ]
      },
      {
       "output_type": "stream",
       "stream": "stdout",
       "text": [
        "\n",
        "File: S04LCn_0_90_02162012_1_att_ss.csv\n",
        "Condition: neutral\n",
        "Using the cumgauss function to analyze this\n",
        "File: S04LCn_90_0_02162012_1_att_ss.csv"
       ]
      },
      {
       "output_type": "stream",
       "stream": "stdout",
       "text": [
        "\n",
        "Condition: neutral\n",
        "Using the cumgauss function to analyze this\n",
        "File: S04LCn_90_90_02162012_1_att_ss.csv\n",
        "Condition: neutral\n",
        "Using the cumgauss function to analyze this"
       ]
      },
      {
       "output_type": "stream",
       "stream": "stdout",
       "text": [
        "\n",
        "Analyzing S05\n",
        "File: S05JV_0_0_02162012_1_att_ss.csv\n",
        "Condition: cued\n",
        "Using the cumgauss function to analyze this"
       ]
      },
      {
       "output_type": "stream",
       "stream": "stdout",
       "text": [
        "\n",
        "Condition: other\n",
        "Using the cumgauss function to analyze this\n",
        "File: S05JV_0_90_02162012_1_att_ss.csv\n",
        "Condition: cued"
       ]
      },
      {
       "output_type": "stream",
       "stream": "stdout",
       "text": [
        "\n",
        "Using the cumgauss function to analyze this\n",
        "Condition: other\n",
        "Using the cumgauss function to analyze this"
       ]
      },
      {
       "output_type": "stream",
       "stream": "stdout",
       "text": [
        "\n",
        "File: S05JV_90_0_02162012_1_att_ss.csv\n",
        "Condition: cued"
       ]
      },
      {
       "output_type": "stream",
       "stream": "stdout",
       "text": [
        "\n",
        "Using the cumgauss function to analyze this\n",
        "Condition: other\n",
        "Using the cumgauss function to analyze this\n",
        "File: S05JV_90_90_02162012_1_att_ss.csv"
       ]
      },
      {
       "output_type": "stream",
       "stream": "stdout",
       "text": [
        "\n",
        "Condition: cued\n",
        "Using the cumgauss function to analyze this\n",
        "Condition: other\n",
        "Using the cumgauss function to analyze this"
       ]
      },
      {
       "output_type": "stream",
       "stream": "stdout",
       "text": [
        "\n",
        "File: S05JV_90_90_02232012_1_att_ss.csv\n",
        "Condition: cued\n",
        "Using the cumgauss function to analyze this\n",
        "Condition: other"
       ]
      },
      {
       "output_type": "stream",
       "stream": "stdout",
       "text": [
        "\n",
        "Using the cumgauss function to analyze this\n",
        "File: S05JVn_0_0_02162012_1_att_ss.csv\n",
        "Condition: neutral\n",
        "Using the cumgauss function to analyze this\n",
        "File: S05JVn_0_90_02162012_1_att_ss.csv\n",
        "Condition: neutral"
       ]
      },
      {
       "output_type": "stream",
       "stream": "stdout",
       "text": [
        "\n",
        "Using the cumgauss function to analyze this\n",
        "File: S05JVn_90_0_02162012_1_att_ss.csv\n",
        "Condition: neutral\n",
        "Using the cumgauss function to analyze this\n",
        "File: S05JVn_90_90_02162012_1_att_ss.csv\n",
        "Condition: neutral"
       ]
      },
      {
       "output_type": "stream",
       "stream": "stdout",
       "text": [
        "\n",
        "Using the cumgauss function to analyze this\n",
        "Analyzing S06\n",
        "File: S06LN_0_0_02212012_1_att_ss.csv\n",
        "Condition: cued\n",
        "Using the cumgauss function to analyze this"
       ]
      },
      {
       "output_type": "stream",
       "stream": "stdout",
       "text": [
        "\n",
        "Condition: other\n",
        "Using the cumgauss function to analyze this\n",
        "File: S06LN_0_90_02212012_1_att_ss.csv\n",
        "Condition: cued"
       ]
      },
      {
       "output_type": "stream",
       "stream": "stdout",
       "text": [
        "\n",
        "Using the cumgauss function to analyze this\n",
        "Condition: other\n",
        "Using the cumgauss function to analyze this"
       ]
      },
      {
       "output_type": "stream",
       "stream": "stdout",
       "text": [
        "\n",
        "File: S06LN_90_0_02212012_1_att_ss.csv\n",
        "Condition: cued\n",
        "Using the cumgauss function to analyze this"
       ]
      },
      {
       "output_type": "stream",
       "stream": "stdout",
       "text": [
        "\n",
        "Condition: other\n",
        "Using the cumgauss function to analyze this\n",
        "1.21979118799"
       ]
      },
      {
       "output_type": "stream",
       "stream": "stdout",
       "text": [
        "\n",
        "1.0\n",
        "File: S06LN_90_90_02212012_1_att_ss.csv\n",
        "Condition: cued\n",
        "Using the cumgauss function to analyze this"
       ]
      },
      {
       "output_type": "stream",
       "stream": "stdout",
       "text": [
        "\n",
        "Condition: other\n",
        "Using the cumgauss function to analyze this\n",
        "File: S06LNn_0_0_02212012_1_att_ss.csv\n",
        "Condition: neutral"
       ]
      },
      {
       "output_type": "stream",
       "stream": "stdout",
       "text": [
        "\n",
        "Using the cumgauss function to analyze this\n",
        "File: S06LNn_0_90_02212012_1_att_ss.csv\n",
        "Condition: neutral\n",
        "Using the cumgauss function to analyze this\n",
        "File: S06LNn_90_0_02212012_1_att_ss.csv\n",
        "Condition: neutral"
       ]
      },
      {
       "output_type": "stream",
       "stream": "stdout",
       "text": [
        "\n",
        "Using the cumgauss function to analyze this\n",
        "File: S06LNn_90_90_02212012_1_att_ss.csv\n",
        "Condition: neutral\n",
        "Using the cumgauss function to analyze this\n",
        "Analyzing S07\n",
        "File: S07GM_0_0_02232012_1_att_ss.csv\n",
        "Condition: cued"
       ]
      },
      {
       "output_type": "stream",
       "stream": "stdout",
       "text": [
        "\n",
        "Using the cumgauss function to analyze this\n",
        "Condition: other\n",
        "Using the cumgauss function to analyze this"
       ]
      },
      {
       "output_type": "stream",
       "stream": "stdout",
       "text": [
        "\n",
        "1.39317584902\n",
        "1.0\n",
        "File: S07GM_0_90_02232012_1_att_ss.csv\n",
        "Condition: cued\n",
        "Using the cumgauss function to analyze this"
       ]
      },
      {
       "output_type": "stream",
       "stream": "stdout",
       "text": [
        "\n",
        "Condition: other\n",
        "Using the cumgauss function to analyze this\n",
        "File: S07GM_90_0_02232012_1_att_ss.csv"
       ]
      },
      {
       "output_type": "stream",
       "stream": "stdout",
       "text": [
        "\n",
        "Condition: cued\n",
        "Using the cumgauss function to analyze this\n",
        "Condition: other"
       ]
      },
      {
       "output_type": "stream",
       "stream": "stdout",
       "text": [
        "\n",
        "Using the cumgauss function to analyze this\n",
        "2.00911098321\n",
        "1.0\n",
        "File: S07GM_90_90_02232012_1_att_ss.csv\n",
        "Condition: cued\n",
        "Using the cumgauss function to analyze this"
       ]
      },
      {
       "output_type": "stream",
       "stream": "stdout",
       "text": [
        "\n",
        "Condition: other\n",
        "Using the cumgauss function to analyze this\n",
        "File: S07GMn_0_0_02232012_1_att_ss.csv\n",
        "Condition: neutral\n",
        "Using the cumgauss function to analyze this\n",
        "File: S07GMn_0_90_02232012_1_att_ss.csv"
       ]
      },
      {
       "output_type": "stream",
       "stream": "stdout",
       "text": [
        "\n",
        "Condition: neutral\n",
        "Using the cumgauss function to analyze this\n",
        "File: S07GMn_90_0_02232012_1_att_ss.csv\n",
        "Condition: neutral\n",
        "Using the cumgauss function to analyze this\n",
        "File: S07GMn_90_90_02232012_1_att_ss.csv"
       ]
      },
      {
       "output_type": "stream",
       "stream": "stdout",
       "text": [
        "\n",
        "Condition: neutral\n",
        "Using the cumgauss function to analyze this\n",
        "File: S07MGn_0_0_05292012_1_att_ss.csv\n",
        "Condition: neutral\n",
        "Using the cumgauss function to analyze this\n",
        "File: S07MGn_0_90_05292012_1_att_ss.csv\n",
        "Condition: neutral"
       ]
      },
      {
       "output_type": "stream",
       "stream": "stdout",
       "text": [
        "\n",
        "Using the cumgauss function to analyze this\n",
        "File: S07MGn_90_0_05292012_1_att_ss.csv\n",
        "Condition: neutral\n",
        "Using the cumgauss function to analyze this\n",
        "File: S07MGn_90_90_05292012_1_att_ss.csv\n",
        "Condition: neutral\n",
        "Using the cumgauss function to analyze this"
       ]
      },
      {
       "output_type": "stream",
       "stream": "stdout",
       "text": [
        "\n",
        "Analyzing S09\n",
        "File: S09CL_0_0_02292012_1_att_ss.csv\n",
        "Condition: cued\n",
        "Using the cumgauss function to analyze this"
       ]
      },
      {
       "output_type": "stream",
       "stream": "stdout",
       "text": [
        "\n",
        "Condition: other\n",
        "Using the cumgauss function to analyze this\n",
        "File: S09CL_0_90_02292012_1_att_ss.csv\n",
        "Condition: cued"
       ]
      },
      {
       "output_type": "stream",
       "stream": "stdout",
       "text": [
        "\n",
        "Using the cumgauss function to analyze this\n",
        "Condition: other\n",
        "Using the cumgauss function to analyze this\n",
        "File: S09CL_90_0_02292012_1_att_ss.csv"
       ]
      },
      {
       "output_type": "stream",
       "stream": "stdout",
       "text": [
        "\n",
        "Condition: cued\n",
        "Using the cumgauss function to analyze this\n",
        "Condition: other"
       ]
      },
      {
       "output_type": "stream",
       "stream": "stdout",
       "text": [
        "\n",
        "Using the cumgauss function to analyze this\n",
        "File: S09CL_90_90_02292012_1_att_ss.csv\n",
        "Condition: cued\n",
        "Using the cumgauss function to analyze this"
       ]
      },
      {
       "output_type": "stream",
       "stream": "stdout",
       "text": [
        "\n",
        "Condition: other\n",
        "Using the cumgauss function to analyze this\n",
        "File: S09CL_90_90_02292012_2_att_ss.csv\n",
        "Condition: cued"
       ]
      },
      {
       "output_type": "stream",
       "stream": "stdout",
       "text": [
        "\n",
        "Using the cumgauss function to analyze this\n",
        "Condition: other\n",
        "Using the cumgauss function to analyze this"
       ]
      },
      {
       "output_type": "stream",
       "stream": "stdout",
       "text": [
        "\n",
        "File: S09CLn_0_0_02292012_1_att_ss.csv\n",
        "Condition: neutral\n",
        "Using the cumgauss function to analyze this\n",
        "File: S09CLn_0_90_02292012_1_att_ss.csv\n",
        "Condition: neutral\n",
        "Using the cumgauss function to analyze this"
       ]
      },
      {
       "output_type": "stream",
       "stream": "stdout",
       "text": [
        "\n",
        "File: S09CLn_90_0_02292012_1_att_ss.csv\n",
        "Condition: neutral\n",
        "Using the cumgauss function to analyze this\n",
        "File: S09CLn_90_90_02292012_1_att_ss.csv\n",
        "Condition: neutral\n",
        "Using the cumgauss function to analyze this"
       ]
      },
      {
       "output_type": "stream",
       "stream": "stdout",
       "text": [
        "\n",
        "Analyzing S10\n",
        "File: S10SH_0_0_03012012_1_att_ss.csv\n",
        "Condition: cued\n",
        "Using the cumgauss function to analyze this"
       ]
      },
      {
       "output_type": "stream",
       "stream": "stdout",
       "text": [
        "\n",
        "Condition: other\n",
        "Using the cumgauss function to analyze this\n",
        "File: S10SH_0_90_03012012_1_att_ss.csv\n",
        "Condition: cued"
       ]
      },
      {
       "output_type": "stream",
       "stream": "stdout",
       "text": [
        "\n",
        "Using the cumgauss function to analyze this\n",
        "Condition: other\n",
        "Using the cumgauss function to analyze this"
       ]
      },
      {
       "output_type": "stream",
       "stream": "stdout",
       "text": [
        "\n",
        "File: S10SH_90_0_03012012_1_att_ss.csv\n",
        "Condition: cued\n",
        "Using the cumgauss function to analyze this\n",
        "Condition: other"
       ]
      },
      {
       "output_type": "stream",
       "stream": "stdout",
       "text": [
        "\n",
        "Using the cumgauss function to analyze this\n",
        "1.231497589\n",
        "1.0\n",
        "File: S10SH_90_90_03012012_1_att_ss.csv\n",
        "Condition: cued"
       ]
      },
      {
       "output_type": "stream",
       "stream": "stdout",
       "text": [
        "\n",
        "Using the cumgauss function to analyze this\n",
        "Condition: other\n",
        "Using the cumgauss function to analyze this"
       ]
      },
      {
       "output_type": "stream",
       "stream": "stdout",
       "text": [
        "\n",
        "File: S10SHn_0_0_03012012_1_att_ss.csv\n",
        "Condition: neutral\n",
        "Using the cumgauss function to analyze this\n",
        "File: S10SHn_0_90_03012012_1_att_ss.csv\n",
        "Condition: neutral\n",
        "Using the cumgauss function to analyze this"
       ]
      },
      {
       "output_type": "stream",
       "stream": "stdout",
       "text": [
        "\n",
        "File: S10SHn_90_0_03012012_1_att_ss.csv\n",
        "Condition: neutral\n",
        "Using the cumgauss function to analyze this\n",
        "File: S10SHn_90_90_03012012_1_att_ss.csv\n",
        "Condition: neutral\n",
        "Using the cumgauss function to analyze this"
       ]
      },
      {
       "output_type": "stream",
       "stream": "stdout",
       "text": [
        "\n",
        "Analyzing S11\n",
        "File: S11TL_0_0_03132012_1_att_ss.csv\n",
        "Condition: cued\n",
        "Using the cumgauss function to analyze this"
       ]
      },
      {
       "output_type": "stream",
       "stream": "stdout",
       "text": [
        "\n",
        "Condition: other\n",
        "Using the cumgauss function to analyze this\n",
        "File: S11TL_0_90_03132012_1_att_ss.csv\n",
        "Condition: cued"
       ]
      },
      {
       "output_type": "stream",
       "stream": "stdout",
       "text": [
        "\n",
        "Using the cumgauss function to analyze this\n",
        "Condition: other\n",
        "Using the cumgauss function to analyze this\n",
        "File: S11TL_90_0_03132012_1_att_ss.csv"
       ]
      },
      {
       "output_type": "stream",
       "stream": "stdout",
       "text": [
        "\n",
        "Condition: cued\n",
        "Using the cumgauss function to analyze this\n",
        "Condition: other\n",
        "Using the cumgauss function to analyze this"
       ]
      },
      {
       "output_type": "stream",
       "stream": "stdout",
       "text": [
        "\n",
        "File: S11TL_90_90_03132012_1_att_ss.csv\n",
        "Condition: cued\n",
        "Using the cumgauss function to analyze this"
       ]
      },
      {
       "output_type": "stream",
       "stream": "stdout",
       "text": [
        "\n",
        "Condition: other\n",
        "Using the cumgauss function to analyze this\n",
        "File: S11TLn_0_0_03132012_1_att_ss.csv\n",
        "Condition: neutral\n",
        "Using the cumgauss function to analyze this"
       ]
      },
      {
       "output_type": "stream",
       "stream": "stdout",
       "text": [
        "\n",
        "File: S11TLn_0_90_03132012_1_att_ss.csv\n",
        "Condition: neutral\n",
        "Using the cumgauss function to analyze this\n",
        "File: S11TLn_90_0_03132012_1_att_ss.csv\n",
        "Condition: neutral\n",
        "Using the cumgauss function to analyze this"
       ]
      },
      {
       "output_type": "stream",
       "stream": "stdout",
       "text": [
        "\n",
        "File: S11TLn_90_90_03132012_1_att_ss.csv\n",
        "Condition: neutral\n",
        "Using the cumgauss function to analyze this\n",
        "Analyzing S12\n",
        "File: S12JD_0_0_05232012_1_att_ss.csv\n",
        "Condition: cued\n",
        "Using the cumgauss function to analyze this"
       ]
      },
      {
       "output_type": "stream",
       "stream": "stdout",
       "text": [
        "\n",
        "Condition: other\n",
        "Using the cumgauss function to analyze this\n",
        "4.45143609421\n",
        "1.0\n",
        "File: S12JD_0_90_05232012_1_att_ss.csv\n",
        "Condition: cued\n",
        "Using the cumgauss function to analyze this"
       ]
      },
      {
       "output_type": "stream",
       "stream": "stdout",
       "text": [
        "\n",
        "Condition: other\n",
        "Using the cumgauss function to analyze this\n",
        "File: S12JD_90_0_05232012_1_att_ss.csv\n",
        "Condition: cued\n",
        "Using the cumgauss function to analyze this"
       ]
      },
      {
       "output_type": "stream",
       "stream": "stdout",
       "text": [
        "\n",
        "Condition: other\n",
        "Using the cumgauss function to analyze this\n",
        "File: S12JD_90_90_05232012_1_att_ss.csv\n",
        "Condition: cued"
       ]
      },
      {
       "output_type": "stream",
       "stream": "stdout",
       "text": [
        "\n",
        "Using the cumgauss function to analyze this\n",
        "Condition: other\n",
        "Using the cumgauss function to analyze this\n",
        "File: S12JD_n_0_0_05232012_1_att_ss.csv"
       ]
      },
      {
       "output_type": "stream",
       "stream": "stdout",
       "text": [
        "\n",
        "Condition: neutral\n",
        "Using the cumgauss function to analyze this\n",
        "File: S12JD_n_0_90_05232012_1_att_ss.csv\n",
        "Condition: neutral\n",
        "Using the cumgauss function to analyze this\n",
        "File: S12JD_n_90_0_05232012_1_att_ss.csv"
       ]
      },
      {
       "output_type": "stream",
       "stream": "stdout",
       "text": [
        "\n",
        "Condition: neutral\n",
        "Using the cumgauss function to analyze this\n",
        "File: S12JD_n_90_90_05232012_1_att_ss.csv\n",
        "Condition: neutral\n",
        "Using the cumgauss function to analyze this\n",
        "Analyzing S14\n",
        "File: S14JN_0_0_06052012_1_att_ss.csv\n",
        "Condition: cued"
       ]
      },
      {
       "output_type": "stream",
       "stream": "stdout",
       "text": [
        "\n",
        "Using the cumgauss function to analyze this\n",
        "Condition: other\n",
        "Using the cumgauss function to analyze this\n",
        "1.47571571191"
       ]
      },
      {
       "output_type": "stream",
       "stream": "stdout",
       "text": [
        "\n",
        "1.0\n",
        "File: S14JN_0_90_06052012_1_att_ss.csv\n",
        "Condition: cued\n",
        "Using the cumgauss function to analyze this\n",
        "Condition: other\n",
        "Using the cumgauss function to analyze this"
       ]
      },
      {
       "output_type": "stream",
       "stream": "stdout",
       "text": [
        "\n",
        "File: S14JN_90_0_06052012_1_att_ss.csv\n",
        "Condition: cued\n",
        "Using the cumgauss function to analyze this\n",
        "Condition: other\n",
        "Using the cumgauss function to analyze this"
       ]
      },
      {
       "output_type": "stream",
       "stream": "stdout",
       "text": [
        "\n",
        "1.19062818517\n",
        "1.0\n",
        "File: S14JN_90_90_06052012_1_att_ss.csv\n",
        "Condition: cued\n",
        "Using the cumgauss function to analyze this\n",
        "1.0217144676"
       ]
      },
      {
       "output_type": "stream",
       "stream": "stdout",
       "text": [
        "\n",
        "1.0\n",
        "Condition: other\n",
        "Using the cumgauss function to analyze this\n",
        "File: S14JNn_0_0_06052012_1_att_ss.csv\n",
        "Condition: neutral\n",
        "Using the cumgauss function to analyze this\n",
        "File: S14JNn_0_90_06052012_1_att_ss.csv\n",
        "Condition: neutral"
       ]
      },
      {
       "output_type": "stream",
       "stream": "stdout",
       "text": [
        "\n",
        "Using the cumgauss function to analyze this\n",
        "File: S14JNn_90_0_06052012_1_att_ss.csv\n",
        "Condition: neutral\n",
        "Using the cumgauss function to analyze this\n",
        "File: S14JNn_90_90_06052012_1_att_ss.csv\n",
        "Condition: neutral\n",
        "Using the cumgauss function to analyze this"
       ]
      },
      {
       "output_type": "stream",
       "stream": "stdout",
       "text": [
        "\n",
        "Analyzing S15\n",
        "File: S15KB_0_0_06052012_1_att_ss.csv\n",
        "Condition: cued\n",
        "Using the cumgauss function to analyze this\n",
        "Condition: other\n",
        "Using the cumgauss function to analyze this"
       ]
      },
      {
       "output_type": "stream",
       "stream": "stdout",
       "text": [
        "\n",
        "2.79729926172\n",
        "1.0\n",
        "File: S15KB_0_90_06052012_1_att_ss.csv\n",
        "Condition: cued\n",
        "Using the cumgauss function to analyze this\n",
        "Condition: other\n",
        "Using the cumgauss function to analyze this"
       ]
      },
      {
       "output_type": "stream",
       "stream": "stdout",
       "text": [
        "\n",
        "File: S15KB_90_0_06052012_1_att_ss.csv\n",
        "Condition: cued\n",
        "Using the cumgauss function to analyze this\n",
        "Condition: other"
       ]
      },
      {
       "output_type": "stream",
       "stream": "stdout",
       "text": [
        "\n",
        "Using the cumgauss function to analyze this\n",
        "File: S15KB_90_90_06052012_1_att_ss.csv\n",
        "Condition: cued\n",
        "Using the cumgauss function to analyze this"
       ]
      },
      {
       "output_type": "stream",
       "stream": "stdout",
       "text": [
        "\n",
        "Condition: other\n",
        "Using the cumgauss function to analyze this\n",
        "File: S15KBn_0_0_06052012_1_att_ss.csv\n",
        "Condition: neutral"
       ]
      },
      {
       "output_type": "stream",
       "stream": "stdout",
       "text": [
        "\n",
        "Using the cumgauss function to analyze this\n",
        "File: S15KBn_0_90_06052012_1_att_ss.csv\n",
        "Condition: neutral\n",
        "Using the cumgauss function to analyze this\n",
        "File: S15KBn_90_0_06052012_1_att_ss.csv\n",
        "Condition: neutral\n",
        "Using the cumgauss function to analyze this"
       ]
      },
      {
       "output_type": "stream",
       "stream": "stdout",
       "text": [
        "\n",
        "File: S15KBn_90_90_06052012_1_att_ss.csv\n",
        "Condition: neutral\n",
        "Using the cumgauss function to analyze this\n",
        "Analyzing S16\n",
        "File: S16PW_0_0_06082012_1_att_ss.csv\n",
        "Condition: cued"
       ]
      },
      {
       "output_type": "stream",
       "stream": "stdout",
       "text": [
        "\n",
        "Using the cumgauss function to analyze this\n",
        "Condition: other\n",
        "Using the cumgauss function to analyze this\n",
        "File: S16PW_0_90_06082012_1_att_ss.csv"
       ]
      },
      {
       "output_type": "stream",
       "stream": "stdout",
       "text": [
        "\n",
        "Condition: cued\n",
        "Using the cumgauss function to analyze this\n",
        "Condition: other\n",
        "Using the cumgauss function to analyze this"
       ]
      },
      {
       "output_type": "stream",
       "stream": "stdout",
       "text": [
        "\n",
        "File: S16PW_90_0_06082012_1_att_ss.csv\n",
        "Condition: cued\n",
        "Using the cumgauss function to analyze this\n",
        "Condition: other\n",
        "Using the cumgauss function to analyze this"
       ]
      },
      {
       "output_type": "stream",
       "stream": "stdout",
       "text": [
        "\n",
        "File: S16PW_90_90_06082012_1_att_ss.csv\n",
        "Condition: cued\n",
        "Using the cumgauss function to analyze this\n",
        "Condition: other\n",
        "Using the cumgauss function to analyze this"
       ]
      },
      {
       "output_type": "stream",
       "stream": "stdout",
       "text": [
        "\n",
        "File: S16PWn_0_0_06082012_1_att_ss.csv\n",
        "Condition: neutral\n",
        "Using the cumgauss function to analyze this\n",
        "File: S16PWn_0_90_06082012_1_att_ss.csv\n",
        "Condition: neutral\n",
        "Using the cumgauss function to analyze this\n",
        "File: S16PWn_90_0_06082012_1_att_ss.csv"
       ]
      },
      {
       "output_type": "stream",
       "stream": "stdout",
       "text": [
        "\n",
        "Condition: neutral\n",
        "Using the cumgauss function to analyze this\n",
        "File: S16PWn_90_90_06082012_1_att_ss.csv\n",
        "Condition: neutral\n",
        "Using the cumgauss function to analyze this\n",
        "Analyzing S17\n",
        "File: S17LD_0_0_06262012_1_att_ss.csv\n",
        "Condition: cued"
       ]
      },
      {
       "output_type": "stream",
       "stream": "stdout",
       "text": [
        "\n",
        "Using the cumgauss function to analyze this\n",
        "Condition: other\n",
        "Using the cumgauss function to analyze this\n",
        "File: S17LD_0_90_06262012_1_att_ss.csv"
       ]
      },
      {
       "output_type": "stream",
       "stream": "stdout",
       "text": [
        "\n",
        "Condition: cued\n",
        "Using the cumgauss function to analyze this\n",
        "Condition: other"
       ]
      },
      {
       "output_type": "stream",
       "stream": "stdout",
       "text": [
        "\n",
        "Using the cumgauss function to analyze this\n",
        "File: S17LD_90_0_06262012_1_att_ss.csv\n",
        "Condition: cued\n",
        "Using the cumgauss function to analyze this"
       ]
      },
      {
       "output_type": "stream",
       "stream": "stdout",
       "text": [
        "\n",
        "Condition: other\n",
        "Using the cumgauss function to analyze this\n",
        "File: S17LD_90_90_06262012_1_att_ss.csv\n",
        "Condition: cued"
       ]
      },
      {
       "output_type": "stream",
       "stream": "stdout",
       "text": [
        "\n",
        "Using the cumgauss function to analyze this\n",
        "Condition: other\n",
        "Using the cumgauss function to analyze this"
       ]
      },
      {
       "output_type": "stream",
       "stream": "stdout",
       "text": [
        "\n",
        "File: S17LDn_0_0_06262012_1_att_ss.csv\n",
        "Condition: neutral\n",
        "Using the cumgauss function to analyze this\n",
        "File: S17LDn_0_90_06262012_1_att_ss.csv\n",
        "Condition: neutral\n",
        "Using the cumgauss function to analyze this\n",
        "File: S17LDn_90_0_06262012_2_att_ss.csv"
       ]
      },
      {
       "output_type": "stream",
       "stream": "stdout",
       "text": [
        "\n",
        "Condition: neutral\n",
        "Using the cumgauss function to analyze this\n",
        "File: S17LDn_90_90_06262012_1_att_ss.csv\n",
        "Condition: neutral\n",
        "Using the cumgauss function to analyze this\n",
        "['S01', 'S02', 'S03', 'S04', 'S05', 'S06', 'S07', 'S09', 'S10', 'S11', 'S12', 'S14', 'S15', 'S16', 'S17']"
       ]
      },
      {
       "output_type": "stream",
       "stream": "stdout",
       "text": [
        "\n",
        "Analyzing S01\n",
        "File: S01HS_0_0_02092012_1_att_ss.csv\n",
        "Condition: cued\n",
        "Using the cumgauss function to analyze this\n",
        "Condition: other"
       ]
      },
      {
       "output_type": "stream",
       "stream": "stdout",
       "text": [
        "\n",
        "Using the cumgauss function to analyze this\n",
        "File: S01HS_0_90_02092012_1_att_ss.csv\n",
        "Condition: cued"
       ]
      },
      {
       "output_type": "stream",
       "stream": "stdout",
       "text": [
        "\n",
        "Using the cumgauss function to analyze this\n",
        "Condition: other\n",
        "Using the cumgauss function to analyze this\n",
        "File: S01HS_90_0_02092012_1_att_ss.csv"
       ]
      },
      {
       "output_type": "stream",
       "stream": "stdout",
       "text": [
        "\n",
        "Condition: cued\n",
        "Using the cumgauss function to analyze this\n",
        "Condition: other\n",
        "Using the cumgauss function to analyze this"
       ]
      },
      {
       "output_type": "stream",
       "stream": "stdout",
       "text": [
        "\n",
        "File: S01HS_90_90_02092012_1_att_ss.csv\n",
        "Condition: cued\n",
        "Using the cumgauss function to analyze this\n",
        "Condition: other\n",
        "Using the cumgauss function to analyze this"
       ]
      },
      {
       "output_type": "stream",
       "stream": "stdout",
       "text": [
        "\n",
        "File: S01HSn_0_0_02162012_1_att_ss.csv\n",
        "Condition: neutral\n",
        "Using the cumgauss function to analyze this\n",
        "File: S01HSn_0_90_02162012_1_att_ss.csv\n",
        "Condition: neutral\n",
        "Using the cumgauss function to analyze this\n",
        "File: S01HSn_90_0_02162012_1_att_ss.csv"
       ]
      },
      {
       "output_type": "stream",
       "stream": "stdout",
       "text": [
        "\n",
        "Condition: neutral\n",
        "Using the cumgauss function to analyze this\n",
        "File: S01HSn_90_90_02162012_1_att_ss.csv\n",
        "Condition: neutral\n",
        "Using the cumgauss function to analyze this\n",
        "Analyzing S02"
       ]
      },
      {
       "output_type": "stream",
       "stream": "stdout",
       "text": [
        "\n",
        "File: S02DT_0_0_02092012_1_att_ss.csv\n",
        "Condition: cued\n",
        "Using the cumgauss function to analyze this\n",
        "Condition: other\n",
        "Using the cumgauss function to analyze this"
       ]
      },
      {
       "output_type": "stream",
       "stream": "stdout",
       "text": [
        "\n",
        "File: S02DT_0_90_02092012_1_att_ss.csv\n",
        "Condition: cued\n",
        "Using the cumgauss function to analyze this\n",
        "Condition: other"
       ]
      },
      {
       "output_type": "stream",
       "stream": "stdout",
       "text": [
        "\n",
        "Using the cumgauss function to analyze this\n",
        "File: S02DT_90_0_02092012_1_att_ss.csv\n",
        "Condition: cued\n",
        "Using the cumgauss function to analyze this"
       ]
      },
      {
       "output_type": "stream",
       "stream": "stdout",
       "text": [
        "\n",
        "Condition: other\n",
        "Using the cumgauss function to analyze this\n",
        "File: S02DT_90_90_02092012_1_att_ss.csv\n",
        "Condition: cued"
       ]
      },
      {
       "output_type": "stream",
       "stream": "stdout",
       "text": [
        "\n",
        "Using the cumgauss function to analyze this\n",
        "Condition: other\n",
        "Using the cumgauss function to analyze this\n",
        "File: S02DTn_0_0_02162012_1_att_ss.csv"
       ]
      },
      {
       "output_type": "stream",
       "stream": "stdout",
       "text": [
        "\n",
        "Condition: neutral\n",
        "Using the cumgauss function to analyze this\n",
        "File: S02DTn_0_90_02162012_1_att_ss.csv\n",
        "Condition: neutral\n",
        "Using the cumgauss function to analyze this\n",
        "File: S02DTn_90_0_02162012_1_att_ss.csv\n",
        "Condition: neutral"
       ]
      },
      {
       "output_type": "stream",
       "stream": "stdout",
       "text": [
        "\n",
        "Using the cumgauss function to analyze this\n",
        "File: S02DTn_90_90_02162012_1_att_ss.csv\n",
        "Condition: neutral\n",
        "Using the cumgauss function to analyze this\n",
        "Analyzing S03\n",
        "File: S03AB_0_0_02102012_1_att_ss.csv\n",
        "Condition: cued"
       ]
      },
      {
       "output_type": "stream",
       "stream": "stdout",
       "text": [
        "\n",
        "Using the cumgauss function to analyze this\n",
        "Condition: other\n",
        "Using the cumgauss function to analyze this\n",
        "File: S03AB_0_90_02102012_1_att_ss.csv"
       ]
      },
      {
       "output_type": "stream",
       "stream": "stdout",
       "text": [
        "\n",
        "Condition: cued\n",
        "Using the cumgauss function to analyze this\n",
        "Condition: other\n",
        "Using the cumgauss function to analyze this"
       ]
      },
      {
       "output_type": "stream",
       "stream": "stdout",
       "text": [
        "\n",
        "File: S03AB_90_0_02102012_1_att_ss.csv\n",
        "Condition: cued\n",
        "Using the cumgauss function to analyze this\n",
        "Condition: other"
       ]
      },
      {
       "output_type": "stream",
       "stream": "stdout",
       "text": [
        "\n",
        "Using the cumgauss function to analyze this\n",
        "File: S03AB_90_90_02102012_1_att_ss.csv\n",
        "Condition: cued\n",
        "Using the cumgauss function to analyze this"
       ]
      },
      {
       "output_type": "stream",
       "stream": "stdout",
       "text": [
        "\n",
        "1.2078511933\n",
        "1.0\n",
        "Condition: other\n",
        "Using the cumgauss function to analyze this\n",
        "1.57731797263\n",
        "1.0\n",
        "File: S03ABn_0_0_02102012_1_att_ss.csv\n",
        "Condition: neutral\n",
        "Using the cumgauss function to analyze this\n",
        "File: S03ABn_0_90_02102012_1_att_ss.csv"
       ]
      },
      {
       "output_type": "stream",
       "stream": "stdout",
       "text": [
        "\n",
        "Condition: neutral\n",
        "Using the cumgauss function to analyze this\n",
        "File: S03ABn_90_0_02102012_2_att_ss.csv\n",
        "Condition: neutral\n",
        "Using the cumgauss function to analyze this\n",
        "File: S03ABn_90_90_02102012_1_att_ss.csv\n",
        "Condition: neutral\n",
        "Using the cumgauss function to analyze this"
       ]
      },
      {
       "output_type": "stream",
       "stream": "stdout",
       "text": [
        "\n",
        "Analyzing S04\n",
        "File: S04LC_0_0_02162012_1_att_ss.csv\n",
        "Condition: cued\n",
        "Using the cumgauss function to analyze this\n",
        "Condition: other"
       ]
      },
      {
       "output_type": "stream",
       "stream": "stdout",
       "text": [
        "\n",
        "Using the cumgauss function to analyze this\n",
        "File: S04LC_0_90_02162012_1_att_ss.csv\n",
        "Condition: cued\n",
        "Using the cumgauss function to analyze this"
       ]
      },
      {
       "output_type": "stream",
       "stream": "stdout",
       "text": [
        "\n",
        "Condition: other\n",
        "Using the cumgauss function to analyze this\n",
        "File: S04LC_90_0_02162012_1_att_ss.csv\n",
        "Condition: cued"
       ]
      },
      {
       "output_type": "stream",
       "stream": "stdout",
       "text": [
        "\n",
        "Using the cumgauss function to analyze this\n",
        "Condition: other\n",
        "Using the cumgauss function to analyze this"
       ]
      },
      {
       "output_type": "stream",
       "stream": "stdout",
       "text": [
        "\n",
        "File: S04LC_90_90_02162012_1_att_ss.csv\n",
        "Condition: cued\n",
        "Using the cumgauss function to analyze this\n",
        "Condition: other"
       ]
      },
      {
       "output_type": "stream",
       "stream": "stdout",
       "text": [
        "\n",
        "Using the cumgauss function to analyze this\n",
        "File: S04LCn_0_0_02162012_1_att_ss.csv\n",
        "Condition: neutral\n",
        "Using the cumgauss function to analyze this\n",
        "File: S04LCn_0_90_02162012_1_att_ss.csv\n",
        "Condition: neutral"
       ]
      },
      {
       "output_type": "stream",
       "stream": "stdout",
       "text": [
        "\n",
        "Using the cumgauss function to analyze this\n",
        "File: S04LCn_90_0_02162012_1_att_ss.csv\n",
        "Condition: neutral\n",
        "Using the cumgauss function to analyze this\n",
        "File: S04LCn_90_90_02162012_1_att_ss.csv\n",
        "Condition: neutral"
       ]
      },
      {
       "output_type": "stream",
       "stream": "stdout",
       "text": [
        "\n",
        "Using the cumgauss function to analyze this\n",
        "Analyzing S05\n",
        "File: S05JV_0_0_02162012_1_att_ss.csv\n",
        "Condition: cued\n",
        "Using the cumgauss function to analyze this"
       ]
      },
      {
       "output_type": "stream",
       "stream": "stdout",
       "text": [
        "\n",
        "Condition: other\n",
        "Using the cumgauss function to analyze this\n",
        "File: S05JV_0_90_02162012_1_att_ss.csv\n",
        "Condition: cued"
       ]
      },
      {
       "output_type": "stream",
       "stream": "stdout",
       "text": [
        "\n",
        "Using the cumgauss function to analyze this\n",
        "Condition: other\n",
        "Using the cumgauss function to analyze this"
       ]
      },
      {
       "output_type": "stream",
       "stream": "stdout",
       "text": [
        "\n",
        "File: S05JV_90_0_02162012_1_att_ss.csv\n",
        "Condition: cued\n",
        "Using the cumgauss function to analyze this"
       ]
      },
      {
       "output_type": "stream",
       "stream": "stdout",
       "text": [
        "\n",
        "Condition: other\n",
        "Using the cumgauss function to analyze this\n",
        "File: S05JV_90_90_02162012_1_att_ss.csv"
       ]
      },
      {
       "output_type": "stream",
       "stream": "stdout",
       "text": [
        "\n",
        "Condition: cued\n",
        "Using the cumgauss function to analyze this"
       ]
      },
      {
       "output_type": "stream",
       "stream": "stdout",
       "text": [
        "\n",
        "Condition: other\n",
        "Using the cumgauss function to analyze this\n",
        "File: S05JV_90_90_02232012_1_att_ss.csv\n",
        "Condition: cued"
       ]
      },
      {
       "output_type": "stream",
       "stream": "stdout",
       "text": [
        "\n",
        "Using the cumgauss function to analyze this\n",
        "Condition: other\n",
        "Using the cumgauss function to analyze this"
       ]
      },
      {
       "output_type": "stream",
       "stream": "stdout",
       "text": [
        "\n",
        "File: S05JVn_0_0_02162012_1_att_ss.csv\n",
        "Condition: neutral\n",
        "Using the cumgauss function to analyze this\n",
        "File: S05JVn_0_90_02162012_1_att_ss.csv\n",
        "Condition: neutral\n",
        "Using the cumgauss function to analyze this\n",
        "File: S05JVn_90_0_02162012_1_att_ss.csv"
       ]
      },
      {
       "output_type": "stream",
       "stream": "stdout",
       "text": [
        "\n",
        "Condition: neutral\n",
        "Using the cumgauss function to analyze this\n",
        "File: S05JVn_90_90_02162012_1_att_ss.csv\n",
        "Condition: neutral\n",
        "Using the cumgauss function to analyze this\n",
        "Analyzing S06"
       ]
      },
      {
       "output_type": "stream",
       "stream": "stdout",
       "text": [
        "\n",
        "File: S06LN_0_0_02212012_1_att_ss.csv\n",
        "Condition: cued\n",
        "Using the cumgauss function to analyze this\n",
        "Condition: other"
       ]
      },
      {
       "output_type": "stream",
       "stream": "stdout",
       "text": [
        "\n",
        "Using the cumgauss function to analyze this\n",
        "File: S06LN_0_90_02212012_1_att_ss.csv\n",
        "Condition: cued\n",
        "Using the cumgauss function to analyze this"
       ]
      },
      {
       "output_type": "stream",
       "stream": "stdout",
       "text": [
        "\n",
        "Condition: other\n",
        "Using the cumgauss function to analyze this\n",
        "File: S06LN_90_0_02212012_1_att_ss.csv\n",
        "Condition: cued"
       ]
      },
      {
       "output_type": "stream",
       "stream": "stdout",
       "text": [
        "\n",
        "Using the cumgauss function to analyze this\n",
        "Condition: other\n",
        "Using the cumgauss function to analyze this\n",
        "File: S06LN_90_90_02212012_1_att_ss.csv"
       ]
      },
      {
       "output_type": "stream",
       "stream": "stdout",
       "text": [
        "\n",
        "Condition: cued\n",
        "Using the cumgauss function to analyze this\n",
        "Condition: other\n",
        "Using the cumgauss function to analyze this"
       ]
      },
      {
       "output_type": "stream",
       "stream": "stdout",
       "text": [
        "\n",
        "File: S06LNn_0_0_02212012_1_att_ss.csv\n",
        "Condition: neutral\n",
        "Using the cumgauss function to analyze this\n",
        "File: S06LNn_0_90_02212012_1_att_ss.csv\n",
        "Condition: neutral\n",
        "Using the cumgauss function to analyze this\n",
        "File: S06LNn_90_0_02212012_1_att_ss.csv"
       ]
      },
      {
       "output_type": "stream",
       "stream": "stdout",
       "text": [
        "\n",
        "Condition: neutral\n",
        "Using the cumgauss function to analyze this\n",
        "File: S06LNn_90_90_02212012_1_att_ss.csv\n",
        "Condition: neutral\n",
        "Using the cumgauss function to analyze this\n",
        "Analyzing S07\n",
        "File: S07GM_0_0_02232012_1_att_ss.csv\n",
        "Condition: cued"
       ]
      },
      {
       "output_type": "stream",
       "stream": "stdout",
       "text": [
        "\n",
        "Using the cumgauss function to analyze this\n",
        "Condition: other\n",
        "Using the cumgauss function to analyze this"
       ]
      },
      {
       "output_type": "stream",
       "stream": "stdout",
       "text": [
        "\n",
        "File: S07GM_0_90_02232012_1_att_ss.csv\n",
        "Condition: cued\n",
        "Using the cumgauss function to analyze this"
       ]
      },
      {
       "output_type": "stream",
       "stream": "stdout",
       "text": [
        "\n",
        "Condition: other\n",
        "Using the cumgauss function to analyze this\n",
        "File: S07GM_90_0_02232012_1_att_ss.csv"
       ]
      },
      {
       "output_type": "stream",
       "stream": "stdout",
       "text": [
        "\n",
        "Condition: cued\n",
        "Using the cumgauss function to analyze this\n",
        "Condition: other"
       ]
      },
      {
       "output_type": "stream",
       "stream": "stdout",
       "text": [
        "\n",
        "Using the cumgauss function to analyze this\n",
        "File: S07GM_90_90_02232012_1_att_ss.csv\n",
        "Condition: cued"
       ]
      },
      {
       "output_type": "stream",
       "stream": "stdout",
       "text": [
        "\n",
        "Using the cumgauss function to analyze this\n",
        "Condition: other\n",
        "Using the cumgauss function to analyze this"
       ]
      },
      {
       "output_type": "stream",
       "stream": "stdout",
       "text": [
        "\n",
        "File: S07GMn_0_0_02232012_1_att_ss.csv\n",
        "Condition: neutral\n",
        "Using the cumgauss function to analyze this\n",
        "File: S07GMn_0_90_02232012_1_att_ss.csv\n",
        "Condition: neutral"
       ]
      },
      {
       "output_type": "stream",
       "stream": "stdout",
       "text": [
        "\n",
        "Using the cumgauss function to analyze this\n",
        "File: S07GMn_90_0_02232012_1_att_ss.csv\n",
        "Condition: neutral\n",
        "Using the cumgauss function to analyze this\n",
        "File: S07GMn_90_90_02232012_1_att_ss.csv\n",
        "Condition: neutral"
       ]
      },
      {
       "output_type": "stream",
       "stream": "stdout",
       "text": [
        "\n",
        "Using the cumgauss function to analyze this\n",
        "File: S07MGn_0_0_05292012_1_att_ss.csv\n",
        "Condition: neutral\n",
        "Using the cumgauss function to analyze this\n",
        "File: S07MGn_0_90_05292012_1_att_ss.csv\n",
        "Condition: neutral\n",
        "Using the cumgauss function to analyze this"
       ]
      },
      {
       "output_type": "stream",
       "stream": "stdout",
       "text": [
        "\n",
        "File: S07MGn_90_0_05292012_1_att_ss.csv\n",
        "Condition: neutral\n",
        "Using the cumgauss function to analyze this\n",
        "File: S07MGn_90_90_05292012_1_att_ss.csv\n",
        "Condition: neutral\n",
        "Using the cumgauss function to analyze this"
       ]
      },
      {
       "output_type": "stream",
       "stream": "stdout",
       "text": [
        "\n",
        "Analyzing S09\n",
        "File: S09CL_0_0_02292012_1_att_ss.csv\n",
        "Condition: cued\n",
        "Using the cumgauss function to analyze this"
       ]
      },
      {
       "output_type": "stream",
       "stream": "stdout",
       "text": [
        "\n",
        "Condition: other\n",
        "Using the cumgauss function to analyze this\n",
        "File: S09CL_0_90_02292012_1_att_ss.csv\n",
        "Condition: cued"
       ]
      },
      {
       "output_type": "stream",
       "stream": "stdout",
       "text": [
        "\n",
        "Using the cumgauss function to analyze this\n",
        "Condition: other\n",
        "Using the cumgauss function to analyze this"
       ]
      },
      {
       "output_type": "stream",
       "stream": "stdout",
       "text": [
        "\n",
        "File: S09CL_90_0_02292012_1_att_ss.csv\n",
        "Condition: cued\n",
        "Using the cumgauss function to analyze this"
       ]
      },
      {
       "output_type": "stream",
       "stream": "stdout",
       "text": [
        "\n",
        "Condition: other\n",
        "Using the cumgauss function to analyze this\n",
        "File: S09CL_90_90_02292012_1_att_ss.csv\n",
        "Condition: cued"
       ]
      },
      {
       "output_type": "stream",
       "stream": "stdout",
       "text": [
        "\n",
        "Using the cumgauss function to analyze this\n",
        "Condition: other\n",
        "Using the cumgauss function to analyze this"
       ]
      },
      {
       "output_type": "stream",
       "stream": "stdout",
       "text": [
        "\n",
        "File: S09CL_90_90_02292012_2_att_ss.csv\n",
        "Condition: cued\n",
        "Using the cumgauss function to analyze this"
       ]
      },
      {
       "output_type": "stream",
       "stream": "stdout",
       "text": [
        "\n",
        "Condition: other\n",
        "Using the cumgauss function to analyze this\n",
        "File: S09CLn_0_0_02292012_1_att_ss.csv"
       ]
      },
      {
       "output_type": "stream",
       "stream": "stdout",
       "text": [
        "\n",
        "Condition: neutral\n",
        "Using the cumgauss function to analyze this\n",
        "File: S09CLn_0_90_02292012_1_att_ss.csv\n",
        "Condition: neutral\n",
        "Using the cumgauss function to analyze this"
       ]
      },
      {
       "output_type": "stream",
       "stream": "stdout",
       "text": [
        "\n",
        "File: S09CLn_90_0_02292012_1_att_ss.csv\n",
        "Condition: neutral\n",
        "Using the cumgauss function to analyze this\n",
        "File: S09CLn_90_90_02292012_1_att_ss.csv\n",
        "Condition: neutral"
       ]
      },
      {
       "output_type": "stream",
       "stream": "stdout",
       "text": [
        "\n",
        "Using the cumgauss function to analyze this\n",
        "Analyzing S10\n",
        "File: S10SH_0_0_03012012_1_att_ss.csv\n",
        "Condition: cued"
       ]
      },
      {
       "output_type": "stream",
       "stream": "stdout",
       "text": [
        "\n",
        "Using the cumgauss function to analyze this\n",
        "Condition: other\n",
        "Using the cumgauss function to analyze this"
       ]
      },
      {
       "output_type": "stream",
       "stream": "stdout",
       "text": [
        "\n",
        "File: S10SH_0_90_03012012_1_att_ss.csv\n",
        "Condition: cued\n",
        "Using the cumgauss function to analyze this"
       ]
      },
      {
       "output_type": "stream",
       "stream": "stdout",
       "text": [
        "\n",
        "Condition: other\n",
        "Using the cumgauss function to analyze this\n",
        "File: S10SH_90_0_03012012_1_att_ss.csv"
       ]
      },
      {
       "output_type": "stream",
       "stream": "stdout",
       "text": [
        "\n",
        "Condition: cued\n",
        "Using the cumgauss function to analyze this"
       ]
      },
      {
       "output_type": "stream",
       "stream": "stdout",
       "text": [
        "\n",
        "Condition: other\n",
        "Using the cumgauss function to analyze this\n",
        "File: S10SH_90_90_03012012_1_att_ss.csv\n",
        "Condition: cued"
       ]
      },
      {
       "output_type": "stream",
       "stream": "stdout",
       "text": [
        "\n",
        "Using the cumgauss function to analyze this\n",
        "Condition: other\n",
        "Using the cumgauss function to analyze this"
       ]
      },
      {
       "output_type": "stream",
       "stream": "stdout",
       "text": [
        "\n",
        "File: S10SHn_0_0_03012012_1_att_ss.csv\n",
        "Condition: neutral\n",
        "Using the cumgauss function to analyze this\n",
        "File: S10SHn_0_90_03012012_1_att_ss.csv\n",
        "Condition: neutral\n",
        "Using the cumgauss function to analyze this"
       ]
      },
      {
       "output_type": "stream",
       "stream": "stdout",
       "text": [
        "\n",
        "File: S10SHn_90_0_03012012_1_att_ss.csv\n",
        "Condition: neutral\n",
        "Using the cumgauss function to analyze this\n",
        "File: S10SHn_90_90_03012012_1_att_ss.csv\n",
        "Condition: neutral\n",
        "Using the cumgauss function to analyze this"
       ]
      },
      {
       "output_type": "stream",
       "stream": "stdout",
       "text": [
        "\n",
        "Analyzing S11\n",
        "File: S11TL_0_0_03132012_1_att_ss.csv\n",
        "Condition: cued\n",
        "Using the cumgauss function to analyze this"
       ]
      },
      {
       "output_type": "stream",
       "stream": "stdout",
       "text": [
        "\n",
        "Condition: other\n",
        "Using the cumgauss function to analyze this\n",
        "File: S11TL_0_90_03132012_1_att_ss.csv\n",
        "Condition: cued"
       ]
      },
      {
       "output_type": "stream",
       "stream": "stdout",
       "text": [
        "\n",
        "Using the cumgauss function to analyze this\n",
        "Condition: other\n",
        "Using the cumgauss function to analyze this"
       ]
      },
      {
       "output_type": "stream",
       "stream": "stdout",
       "text": [
        "\n",
        "File: S11TL_90_0_03132012_1_att_ss.csv\n",
        "Condition: cued\n",
        "Using the cumgauss function to analyze this"
       ]
      },
      {
       "output_type": "stream",
       "stream": "stdout",
       "text": [
        "\n",
        "Condition: other\n",
        "Using the cumgauss function to analyze this\n",
        "File: S11TL_90_90_03132012_1_att_ss.csv\n",
        "Condition: cued"
       ]
      },
      {
       "output_type": "stream",
       "stream": "stdout",
       "text": [
        "\n",
        "Using the cumgauss function to analyze this\n",
        "Condition: other\n",
        "Using the cumgauss function to analyze this"
       ]
      },
      {
       "output_type": "stream",
       "stream": "stdout",
       "text": [
        "\n",
        "File: S11TLn_0_0_03132012_1_att_ss.csv\n",
        "Condition: neutral\n",
        "Using the cumgauss function to analyze this\n",
        "File: S11TLn_0_90_03132012_1_att_ss.csv"
       ]
      },
      {
       "output_type": "stream",
       "stream": "stdout",
       "text": [
        "\n",
        "Condition: neutral\n",
        "Using the cumgauss function to analyze this\n",
        "File: S11TLn_90_0_03132012_1_att_ss.csv\n",
        "Condition: neutral\n",
        "Using the cumgauss function to analyze this"
       ]
      },
      {
       "output_type": "stream",
       "stream": "stdout",
       "text": [
        "\n",
        "File: S11TLn_90_90_03132012_1_att_ss.csv\n",
        "Condition: neutral\n",
        "Using the cumgauss function to analyze this\n",
        "Analyzing S12\n",
        "File: S12JD_0_0_05232012_1_att_ss.csv\n",
        "Condition: cued"
       ]
      },
      {
       "output_type": "stream",
       "stream": "stdout",
       "text": [
        "\n",
        "Using the cumgauss function to analyze this\n",
        "Condition: other\n",
        "Using the cumgauss function to analyze this"
       ]
      },
      {
       "output_type": "stream",
       "stream": "stdout",
       "text": [
        "\n",
        "2.78375452354\n",
        "1.0\n",
        "File: S12JD_0_90_05232012_1_att_ss.csv\n",
        "Condition: cued\n",
        "Using the cumgauss function to analyze this"
       ]
      },
      {
       "output_type": "stream",
       "stream": "stdout",
       "text": [
        "\n",
        "Condition: other\n",
        "Using the cumgauss function to analyze this\n",
        "File: S12JD_90_0_05232012_1_att_ss.csv"
       ]
      },
      {
       "output_type": "stream",
       "stream": "stdout",
       "text": [
        "\n",
        "Condition: cued\n",
        "Using the cumgauss function to analyze this"
       ]
      },
      {
       "output_type": "stream",
       "stream": "stdout",
       "text": [
        "\n",
        "Condition: other\n",
        "Using the cumgauss function to analyze this\n",
        "File: S12JD_90_90_05232012_1_att_ss.csv\n",
        "Condition: cued"
       ]
      },
      {
       "output_type": "stream",
       "stream": "stdout",
       "text": [
        "\n",
        "Using the cumgauss function to analyze this\n",
        "Condition: other\n",
        "Using the cumgauss function to analyze this"
       ]
      },
      {
       "output_type": "stream",
       "stream": "stdout",
       "text": [
        "\n",
        "File: S12JD_n_0_0_05232012_1_att_ss.csv\n",
        "Condition: neutral\n",
        "Using the cumgauss function to analyze this\n",
        "File: S12JD_n_0_90_05232012_1_att_ss.csv\n",
        "Condition: neutral\n",
        "Using the cumgauss function to analyze this"
       ]
      },
      {
       "output_type": "stream",
       "stream": "stdout",
       "text": [
        "\n",
        "File: S12JD_n_90_0_05232012_1_att_ss.csv\n",
        "Condition: neutral\n",
        "Using the cumgauss function to analyze this\n",
        "File: S12JD_n_90_90_05232012_1_att_ss.csv"
       ]
      },
      {
       "output_type": "stream",
       "stream": "stdout",
       "text": [
        "\n",
        "Condition: neutral\n",
        "Using the cumgauss function to analyze this\n",
        "Analyzing S14\n",
        "File: S14JN_0_0_06052012_1_att_ss.csv\n",
        "Condition: cued"
       ]
      },
      {
       "output_type": "stream",
       "stream": "stdout",
       "text": [
        "\n",
        "Using the cumgauss function to analyze this\n",
        "Condition: other\n",
        "Using the cumgauss function to analyze this"
       ]
      },
      {
       "output_type": "stream",
       "stream": "stdout",
       "text": [
        "\n",
        "File: S14JN_0_90_06052012_1_att_ss.csv\n",
        "Condition: cued\n",
        "Using the cumgauss function to analyze this"
       ]
      },
      {
       "output_type": "stream",
       "stream": "stdout",
       "text": [
        "\n",
        "Condition: other\n",
        "Using the cumgauss function to analyze this"
       ]
      },
      {
       "output_type": "stream",
       "stream": "stdout",
       "text": [
        "\n",
        "File: S14JN_90_0_06052012_1_att_ss.csv\n",
        "Condition: cued\n",
        "Using the cumgauss function to analyze this"
       ]
      },
      {
       "output_type": "stream",
       "stream": "stdout",
       "text": [
        "\n",
        "Condition: other\n",
        "Using the cumgauss function to analyze this\n",
        "File: S14JN_90_90_06052012_1_att_ss.csv\n",
        "Condition: cued"
       ]
      },
      {
       "output_type": "stream",
       "stream": "stdout",
       "text": [
        "\n",
        "Using the cumgauss function to analyze this\n",
        "1.46511010527\n",
        "1.0\n",
        "Condition: other\n",
        "Using the cumgauss function to analyze this"
       ]
      },
      {
       "output_type": "stream",
       "stream": "stdout",
       "text": [
        "\n",
        "File: S14JNn_0_0_06052012_1_att_ss.csv\n",
        "Condition: neutral\n",
        "Using the cumgauss function to analyze this\n",
        "File: S14JNn_0_90_06052012_1_att_ss.csv\n",
        "Condition: neutral\n",
        "Using the cumgauss function to analyze this\n",
        "File: S14JNn_90_0_06052012_1_att_ss.csv\n",
        "Condition: neutral\n",
        "Using the cumgauss function to analyze this"
       ]
      },
      {
       "output_type": "stream",
       "stream": "stdout",
       "text": [
        "\n",
        "File: S14JNn_90_90_06052012_1_att_ss.csv\n",
        "Condition: neutral\n",
        "Using the cumgauss function to analyze this\n",
        "Analyzing S15\n",
        "File: S15KB_0_0_06052012_1_att_ss.csv\n",
        "Condition: cued\n",
        "Using the cumgauss function to analyze this"
       ]
      },
      {
       "output_type": "stream",
       "stream": "stdout",
       "text": [
        "\n",
        "Condition: other\n",
        "Using the cumgauss function to analyze this\n",
        "1.33088331107"
       ]
      },
      {
       "output_type": "stream",
       "stream": "stdout",
       "text": [
        "\n",
        "1.0\n",
        "File: S15KB_0_90_06052012_1_att_ss.csv\n",
        "Condition: cued\n",
        "Using the cumgauss function to analyze this"
       ]
      },
      {
       "output_type": "stream",
       "stream": "stdout",
       "text": [
        "\n",
        "Condition: other\n",
        "Using the cumgauss function to analyze this"
       ]
      },
      {
       "output_type": "stream",
       "stream": "stdout",
       "text": [
        "\n",
        "File: S15KB_90_0_06052012_1_att_ss.csv\n",
        "Condition: cued"
       ]
      },
      {
       "output_type": "stream",
       "stream": "stdout",
       "text": [
        "\n",
        "Using the cumgauss function to analyze this\n",
        "Condition: other\n",
        "Using the cumgauss function to analyze this"
       ]
      },
      {
       "output_type": "stream",
       "stream": "stdout",
       "text": [
        "\n",
        "File: S15KB_90_90_06052012_1_att_ss.csv\n",
        "Condition: cued\n",
        "Using the cumgauss function to analyze this"
       ]
      },
      {
       "output_type": "stream",
       "stream": "stdout",
       "text": [
        "\n",
        "Condition: other\n",
        "Using the cumgauss function to analyze this\n",
        "File: S15KBn_0_0_06052012_1_att_ss.csv\n",
        "Condition: neutral\n",
        "Using the cumgauss function to analyze this\n",
        "File: S15KBn_0_90_06052012_1_att_ss.csv"
       ]
      },
      {
       "output_type": "stream",
       "stream": "stdout",
       "text": [
        "\n",
        "Condition: neutral\n",
        "Using the cumgauss function to analyze this\n",
        "File: S15KBn_90_0_06052012_1_att_ss.csv\n",
        "Condition: neutral\n",
        "Using the cumgauss function to analyze this\n",
        "File: S15KBn_90_90_06052012_1_att_ss.csv"
       ]
      },
      {
       "output_type": "stream",
       "stream": "stdout",
       "text": [
        "\n",
        "Condition: neutral\n",
        "Using the cumgauss function to analyze this\n",
        "Analyzing S16\n",
        "File: S16PW_0_0_06082012_1_att_ss.csv\n",
        "Condition: cued\n",
        "Using the cumgauss function to analyze this"
       ]
      },
      {
       "output_type": "stream",
       "stream": "stdout",
       "text": [
        "\n",
        "Condition: other\n",
        "Using the cumgauss function to analyze this\n",
        "File: S16PW_0_90_06082012_1_att_ss.csv\n",
        "Condition: cued"
       ]
      },
      {
       "output_type": "stream",
       "stream": "stdout",
       "text": [
        "\n",
        "Using the cumgauss function to analyze this\n",
        "Condition: other\n",
        "Using the cumgauss function to analyze this"
       ]
      },
      {
       "output_type": "stream",
       "stream": "stdout",
       "text": [
        "\n",
        "File: S16PW_90_0_06082012_1_att_ss.csv\n",
        "Condition: cued\n",
        "Using the cumgauss function to analyze this"
       ]
      },
      {
       "output_type": "stream",
       "stream": "stdout",
       "text": [
        "\n",
        "Condition: other\n",
        "Using the cumgauss function to analyze this\n",
        "File: S16PW_90_90_06082012_1_att_ss.csv\n",
        "Condition: cued"
       ]
      },
      {
       "output_type": "stream",
       "stream": "stdout",
       "text": [
        "\n",
        "Using the cumgauss function to analyze this\n",
        "Condition: other"
       ]
      },
      {
       "output_type": "stream",
       "stream": "stdout",
       "text": [
        "\n",
        "Using the cumgauss function to analyze this\n",
        "File: S16PWn_0_0_06082012_1_att_ss.csv\n",
        "Condition: neutral"
       ]
      },
      {
       "output_type": "stream",
       "stream": "stdout",
       "text": [
        "\n",
        "Using the cumgauss function to analyze this\n",
        "File: S16PWn_0_90_06082012_1_att_ss.csv\n",
        "Condition: neutral\n",
        "Using the cumgauss function to analyze this\n",
        "File: S16PWn_90_0_06082012_1_att_ss.csv"
       ]
      },
      {
       "output_type": "stream",
       "stream": "stdout",
       "text": [
        "\n",
        "Condition: neutral\n",
        "Using the cumgauss function to analyze this\n",
        "File: S16PWn_90_90_06082012_1_att_ss.csv\n",
        "Condition: neutral\n",
        "Using the cumgauss function to analyze this\n",
        "Analyzing S17"
       ]
      },
      {
       "output_type": "stream",
       "stream": "stdout",
       "text": [
        "\n",
        "File: S17LD_0_0_06262012_1_att_ss.csv\n",
        "Condition: cued\n",
        "Using the cumgauss function to analyze this\n",
        "Condition: other"
       ]
      },
      {
       "output_type": "stream",
       "stream": "stdout",
       "text": [
        "\n",
        "Using the cumgauss function to analyze this\n",
        "File: S17LD_0_90_06262012_1_att_ss.csv\n",
        "Condition: cued"
       ]
      },
      {
       "output_type": "stream",
       "stream": "stdout",
       "text": [
        "\n",
        "Using the cumgauss function to analyze this\n",
        "Condition: other\n",
        "Using the cumgauss function to analyze this\n",
        "File: S17LD_90_0_06262012_1_att_ss.csv"
       ]
      },
      {
       "output_type": "stream",
       "stream": "stdout",
       "text": [
        "\n",
        "Condition: cued\n",
        "Using the cumgauss function to analyze this\n",
        "Condition: other\n",
        "Using the cumgauss function to analyze this"
       ]
      },
      {
       "output_type": "stream",
       "stream": "stdout",
       "text": [
        "\n",
        "File: S17LD_90_90_06262012_1_att_ss.csv\n",
        "Condition: cued\n",
        "Using the cumgauss function to analyze this\n",
        "Condition: other\n",
        "Using the cumgauss function to analyze this"
       ]
      },
      {
       "output_type": "stream",
       "stream": "stdout",
       "text": [
        "\n",
        "File: S17LDn_0_0_06262012_1_att_ss.csv\n",
        "Condition: neutral\n",
        "Using the cumgauss function to analyze this\n",
        "File: S17LDn_0_90_06262012_1_att_ss.csv\n",
        "Condition: neutral"
       ]
      },
      {
       "output_type": "stream",
       "stream": "stdout",
       "text": [
        "\n",
        "Using the cumgauss function to analyze this\n",
        "File: S17LDn_90_0_06262012_2_att_ss.csv\n",
        "Condition: neutral\n",
        "Using the cumgauss function to analyze this"
       ]
      },
      {
       "output_type": "stream",
       "stream": "stdout",
       "text": [
        "\n",
        "File: S17LDn_90_90_06262012_1_att_ss.csv\n",
        "Condition: neutral\n",
        "Using the cumgauss function to analyze this\n",
        "['S01', 'S02', 'S03', 'S04', 'S05', 'S06', 'S07', 'S09', 'S10', 'S11', 'S12', 'S14', 'S15', 'S16', 'S17']"
       ]
      },
      {
       "output_type": "stream",
       "stream": "stdout",
       "text": [
        "\n",
        "Analyzing S01\n",
        "File: S01HS_0_0_02092012_1_att_ss.csv\n",
        "Condition: cued\n",
        "Using the weib function to analyze this"
       ]
      },
      {
       "output_type": "stream",
       "stream": "stdout",
       "text": [
        "\n",
        "5.28076156554\n",
        "1.0\n",
        "1.00359902048\n",
        "1.0\n",
        "Condition: other\n",
        "Using the weib function to analyze this"
       ]
      },
      {
       "output_type": "stream",
       "stream": "stdout",
       "text": [
        "\n",
        "File: S01HS_0_90_02092012_1_att_ss.csv\n",
        "Condition: cued"
       ]
      },
      {
       "output_type": "stream",
       "stream": "stdout",
       "text": [
        "\n",
        "Using the weib function to analyze this\n",
        "5.4269907553"
       ]
      },
      {
       "output_type": "stream",
       "stream": "stdout",
       "text": [
        "\n",
        "1.0\n",
        "Condition: other\n",
        "Using the weib function to analyze this\n",
        "2.82999006325\n",
        "1.0\n",
        "1.08371482222\n",
        "1.0\n",
        "File: S01HS_90_0_02092012_1_att_ss.csv\n",
        "Condition: cued"
       ]
      },
      {
       "output_type": "stream",
       "stream": "stdout",
       "text": [
        "\n",
        "Using the weib function to analyze this\n",
        "4.74899518958"
       ]
      },
      {
       "output_type": "stream",
       "stream": "stdout",
       "text": [
        "\n",
        "1.0\n",
        "Condition: other\n",
        "Using the weib function to analyze this\n",
        "58.2339519837"
       ]
      },
      {
       "output_type": "stream",
       "stream": "stdout",
       "text": [
        "\n",
        "1.0\n",
        "File: S01HS_90_90_02092012_1_att_ss.csv\n",
        "Condition: cued\n",
        "Using the weib function to analyze this"
       ]
      },
      {
       "output_type": "stream",
       "stream": "stdout",
       "text": [
        "\n",
        "14.2491527892\n",
        "1.0\n",
        "1.00854997233\n",
        "1.0\n",
        "Condition: other\n",
        "Using the weib function to analyze this\n",
        "1.07648120676"
       ]
      },
      {
       "output_type": "stream",
       "stream": "stdout",
       "text": [
        "\n",
        "1.0\n",
        "File: S01HSn_0_0_02162012_1_att_ss.csv\n",
        "Condition: neutral\n",
        "Using the weib function to analyze this\n",
        "File: S01HSn_0_90_02162012_1_att_ss.csv\n",
        "Condition: neutral\n",
        "Using the weib function to analyze this"
       ]
      },
      {
       "output_type": "stream",
       "stream": "stdout",
       "text": [
        "\n",
        "File: S01HSn_90_0_02162012_1_att_ss.csv\n",
        "Condition: neutral\n",
        "Using the weib function to analyze this\n",
        "File: S01HSn_90_90_02162012_1_att_ss.csv"
       ]
      },
      {
       "output_type": "stream",
       "stream": "stdout",
       "text": [
        "\n",
        "Condition: neutral\n",
        "Using the weib function to analyze this\n",
        "Analyzing S02\n",
        "File: S02DT_0_0_02092012_1_att_ss.csv\n",
        "Condition: cued\n",
        "Using the weib function to analyze this"
       ]
      },
      {
       "output_type": "stream",
       "stream": "stdout",
       "text": [
        "\n",
        "200.532473685\n",
        "1.0\n",
        "1.00000000117\n",
        "1.0\n",
        "Condition: other\n",
        "Using the weib function to analyze this"
       ]
      },
      {
       "output_type": "stream",
       "stream": "stdout",
       "text": [
        "\n",
        "7.81297587662"
       ]
      },
      {
       "output_type": "stream",
       "stream": "stdout",
       "text": [
        "\n",
        "1.0\n",
        "File: S02DT_0_90_02092012_1_att_ss.csv\n",
        "Condition: cued\n",
        "Using the weib function to analyze this\n",
        "2.97643214712\n",
        "1.0\n",
        "Condition: other\n",
        "Using the weib function to analyze this"
       ]
      },
      {
       "output_type": "stream",
       "stream": "stdout",
       "text": [
        "\n",
        "67.9934582764\n",
        "1.0\n",
        "1.00000000036\n",
        "1.0\n",
        "File: S02DT_90_0_02092012_1_att_ss.csv\n",
        "Condition: cued\n",
        "Using the weib function to analyze this"
       ]
      },
      {
       "output_type": "stream",
       "stream": "stdout",
       "text": [
        "\n",
        "71.212593945\n",
        "1.0\n",
        "Condition: other\n",
        "Using the weib function to analyze this"
       ]
      },
      {
       "output_type": "stream",
       "stream": "stdout",
       "text": [
        "\n",
        "73.7860041756\n",
        "1.0\n",
        "File: S02DT_90_90_02092012_1_att_ss.csv\n",
        "Condition: cued\n",
        "Using the weib function to analyze this"
       ]
      },
      {
       "output_type": "stream",
       "stream": "stdout",
       "text": [
        "\n",
        "10.9686970571\n",
        "1.0\n",
        "Condition: other\n",
        "Using the weib function to analyze this\n",
        "40.9841756348"
       ]
      },
      {
       "output_type": "stream",
       "stream": "stdout",
       "text": [
        "\n",
        "1.0\n",
        "File: S02DTn_0_0_02162012_1_att_ss.csv\n",
        "Condition: neutral\n",
        "Using the weib function to analyze this\n",
        "File: S02DTn_0_90_02162012_1_att_ss.csv"
       ]
      },
      {
       "output_type": "stream",
       "stream": "stdout",
       "text": [
        "\n",
        "Condition: neutral\n",
        "Using the weib function to analyze this\n",
        "File: S02DTn_90_0_02162012_1_att_ss.csv\n",
        "Condition: neutral"
       ]
      },
      {
       "output_type": "stream",
       "stream": "stdout",
       "text": [
        "\n",
        "Using the weib function to analyze this\n",
        "File: S02DTn_90_90_02162012_1_att_ss.csv\n",
        "Condition: neutral\n",
        "Using the weib function to analyze this"
       ]
      },
      {
       "output_type": "stream",
       "stream": "stdout",
       "text": [
        "\n",
        "Analyzing S03\n",
        "File: S03AB_0_0_02102012_1_att_ss.csv\n",
        "Condition: cued"
       ]
      },
      {
       "output_type": "stream",
       "stream": "stdout",
       "text": [
        "\n",
        "Using the weib function to analyze this\n",
        "21.3857239928"
       ]
      },
      {
       "output_type": "stream",
       "stream": "stdout",
       "text": [
        "\n",
        "1.0\n",
        "Condition: other\n",
        "Using the weib function to analyze this\n",
        "10.9982706746"
       ]
      },
      {
       "output_type": "stream",
       "stream": "stdout",
       "text": [
        "\n",
        "1.0\n",
        "File: S03AB_0_90_02102012_1_att_ss.csv\n",
        "Condition: cued\n",
        "Using the weib function to analyze this\n",
        "18.344516265"
       ]
      },
      {
       "output_type": "stream",
       "stream": "stdout",
       "text": [
        "\n",
        "1.0\n",
        "1.00063216373\n",
        "1.0\n",
        "Condition: other\n",
        "Using the weib function to analyze this\n",
        "1.07560245158\n",
        "1.0\n",
        "1.44985784008\n",
        "1.0\n",
        "File: S03AB_90_0_02102012_1_att_ss.csv\n",
        "Condition: cued\n",
        "Using the weib function to analyze this"
       ]
      },
      {
       "output_type": "stream",
       "stream": "stdout",
       "text": [
        "\n",
        "2.72745715232\n",
        "1.0\n",
        "Condition: other\n",
        "Using the weib function to analyze this\n",
        "38.6046779573"
       ]
      },
      {
       "output_type": "stream",
       "stream": "stdout",
       "text": [
        "\n",
        "1.0\n",
        "File: S03AB_90_90_02102012_1_att_ss.csv\n",
        "Condition: cued\n",
        "Using the weib function to analyze this\n",
        "11.0861046451"
       ]
      },
      {
       "output_type": "stream",
       "stream": "stdout",
       "text": [
        "\n",
        "1.0\n",
        "Condition: other\n",
        "Using the weib function to analyze this\n",
        "39.9160342366"
       ]
      },
      {
       "output_type": "stream",
       "stream": "stdout",
       "text": [
        "\n",
        "1.0\n",
        "File: S03ABn_0_0_02102012_1_att_ss.csv\n",
        "Condition: neutral\n",
        "Using the weib function to analyze this\n",
        "File: S03ABn_0_90_02102012_1_att_ss.csv\n",
        "Condition: neutral\n",
        "Using the weib function to analyze this"
       ]
      },
      {
       "output_type": "stream",
       "stream": "stdout",
       "text": [
        "\n",
        "File: S03ABn_90_0_02102012_2_att_ss.csv\n",
        "Condition: neutral\n",
        "Using the weib function to analyze this\n",
        "File: S03ABn_90_90_02102012_1_att_ss.csv"
       ]
      },
      {
       "output_type": "stream",
       "stream": "stdout",
       "text": [
        "\n",
        "Condition: neutral\n",
        "Using the weib function to analyze this\n",
        "Analyzing S04\n",
        "File: S04LC_0_0_02162012_1_att_ss.csv\n",
        "Condition: cued"
       ]
      },
      {
       "output_type": "stream",
       "stream": "stdout",
       "text": [
        "\n",
        "Using the weib function to analyze this\n",
        "7.15839273476\n",
        "1.0\n",
        "Condition: other\n",
        "Using the weib function to analyze this"
       ]
      },
      {
       "output_type": "stream",
       "stream": "stdout",
       "text": [
        "\n",
        "59.8866559889\n",
        "1.0\n",
        "File: S04LC_0_90_02162012_1_att_ss.csv\n",
        "Condition: cued\n",
        "Using the weib function to analyze this"
       ]
      },
      {
       "output_type": "stream",
       "stream": "stdout",
       "text": [
        "\n",
        "3.04999770361\n",
        "1.0\n",
        "Condition: other\n",
        "Using the weib function to analyze this\n",
        "1.7652583138"
       ]
      },
      {
       "output_type": "stream",
       "stream": "stdout",
       "text": [
        "\n",
        "1.0\n",
        "File: S04LC_90_0_02162012_1_att_ss.csv\n",
        "Condition: cued\n",
        "Using the weib function to analyze this\n",
        "11.7343557433"
       ]
      },
      {
       "output_type": "stream",
       "stream": "stdout",
       "text": [
        "\n",
        "1.0\n",
        "Condition: other\n",
        "Using the weib function to analyze this\n",
        "1.39514639632"
       ]
      },
      {
       "output_type": "stream",
       "stream": "stdout",
       "text": [
        "\n",
        "1.0\n",
        "1.69460057576\n",
        "1.0\n",
        "File: S04LC_90_90_02162012_1_att_ss.csv\n",
        "Condition: cued\n",
        "Using the weib function to analyze this"
       ]
      },
      {
       "output_type": "stream",
       "stream": "stdout",
       "text": [
        "\n",
        "7.42934422668\n",
        "1.0\n",
        "Condition: other\n",
        "Using the weib function to analyze this\n",
        "2.80231685337"
       ]
      },
      {
       "output_type": "stream",
       "stream": "stdout",
       "text": [
        "\n",
        "1.0\n",
        "2.08002393671\n",
        "1.0\n",
        "File: S04LCn_0_0_02162012_1_att_ss.csv\n",
        "Condition: neutral\n",
        "Using the weib function to analyze this\n",
        "File: S04LCn_0_90_02162012_1_att_ss.csv\n",
        "Condition: neutral\n",
        "Using the weib function to analyze this"
       ]
      },
      {
       "output_type": "stream",
       "stream": "stdout",
       "text": [
        "\n",
        "File: S04LCn_90_0_02162012_1_att_ss.csv\n",
        "Condition: neutral\n",
        "Using the weib function to analyze this\n",
        "File: S04LCn_90_90_02162012_1_att_ss.csv"
       ]
      },
      {
       "output_type": "stream",
       "stream": "stdout",
       "text": [
        "\n",
        "Condition: neutral\n",
        "Using the weib function to analyze this\n",
        "Analyzing S05\n",
        "File: S05JV_0_0_02162012_1_att_ss.csv\n",
        "Condition: cued"
       ]
      },
      {
       "output_type": "stream",
       "stream": "stdout",
       "text": [
        "\n",
        "Using the weib function to analyze this\n",
        "4.65238937167\n",
        "1.0\n",
        "1.02944269736\n",
        "1.0\n",
        "Condition: other\n",
        "Using the weib function to analyze this"
       ]
      },
      {
       "output_type": "stream",
       "stream": "stdout",
       "text": [
        "\n",
        "7.53136820188"
       ]
      },
      {
       "output_type": "stream",
       "stream": "stdout",
       "text": [
        "\n",
        "1.0\n",
        "File: S05JV_0_90_02162012_1_att_ss.csv\n",
        "Condition: cued\n",
        "Using the weib function to analyze this"
       ]
      },
      {
       "output_type": "stream",
       "stream": "stdout",
       "text": [
        "\n",
        "82.0397221085\n",
        "1.0\n",
        "Condition: other\n",
        "Using the weib function to analyze this"
       ]
      },
      {
       "output_type": "stream",
       "stream": "stdout",
       "text": [
        "\n",
        "40.438000467"
       ]
      },
      {
       "output_type": "stream",
       "stream": "stdout",
       "text": [
        "\n",
        "1.0\n",
        "1.0\n",
        "1.0\n",
        "File: S05JV_90_0_02162012_1_att_ss.csv\n",
        "Condition: cued\n",
        "Using the weib function to analyze this"
       ]
      },
      {
       "output_type": "stream",
       "stream": "stdout",
       "text": [
        "\n",
        "6.74619398093\n",
        "1.0\n",
        "Condition: other\n",
        "Using the weib function to analyze this\n",
        "179.30000699"
       ]
      },
      {
       "output_type": "stream",
       "stream": "stdout",
       "text": [
        "\n",
        "1.0\n",
        "1.0\n",
        "1.0\n",
        "File: S05JV_90_90_02162012_1_att_ss.csv\n",
        "Condition: cued\n",
        "Using the weib function to analyze this"
       ]
      },
      {
       "output_type": "stream",
       "stream": "stdout",
       "text": [
        "\n",
        "3.05398988305\n",
        "1.0\n",
        "1.7610223667\n",
        "1.0\n",
        "Condition: other\n",
        "Using the weib function to analyze this"
       ]
      },
      {
       "output_type": "stream",
       "stream": "stdout",
       "text": [
        "\n",
        "31.8534415604\n",
        "1.0\n",
        "1.02185499557\n",
        "1.0\n",
        "File: S05JV_90_90_02232012_1_att_ss.csv\n",
        "Condition: cued\n",
        "Using the weib function to analyze this"
       ]
      },
      {
       "output_type": "stream",
       "stream": "stdout",
       "text": [
        "\n",
        "6.66595238969\n",
        "1.0\n",
        "Condition: other\n",
        "Using the weib function to analyze this\n",
        "10.6161092734"
       ]
      },
      {
       "output_type": "stream",
       "stream": "stdout",
       "text": [
        "\n",
        "1.0\n",
        "1.03120536306\n",
        "1.0\n",
        "File: S05JVn_0_0_02162012_1_att_ss.csv\n",
        "Condition: neutral\n",
        "Using the weib function to analyze this\n",
        "File: S05JVn_0_90_02162012_1_att_ss.csv\n",
        "Condition: neutral"
       ]
      },
      {
       "output_type": "stream",
       "stream": "stdout",
       "text": [
        "\n",
        "Using the weib function to analyze this\n",
        "File: S05JVn_90_0_02162012_1_att_ss.csv\n",
        "Condition: neutral\n",
        "Using the weib function to analyze this\n",
        "File: S05JVn_90_90_02162012_1_att_ss.csv"
       ]
      },
      {
       "output_type": "stream",
       "stream": "stdout",
       "text": [
        "\n",
        "Condition: neutral\n",
        "Using the weib function to analyze this\n",
        "Analyzing S06"
       ]
      },
      {
       "output_type": "stream",
       "stream": "stdout",
       "text": [
        "\n",
        "File: S06LN_0_0_02212012_1_att_ss.csv\n",
        "Condition: cued\n",
        "Using the weib function to analyze this\n",
        "204.191556894"
       ]
      },
      {
       "output_type": "stream",
       "stream": "stdout",
       "text": [
        "\n",
        "1.0\n",
        "Condition: other\n",
        "Using the weib function to analyze this\n",
        "4.16389343305\n",
        "1.0\n",
        "File: S06LN_0_90_02212012_1_att_ss.csv\n",
        "Condition: cued"
       ]
      },
      {
       "output_type": "stream",
       "stream": "stdout",
       "text": [
        "\n",
        "Using the weib function to analyze this\n",
        "3.80213152428"
       ]
      },
      {
       "output_type": "stream",
       "stream": "stdout",
       "text": [
        "\n",
        "1.0\n",
        "Condition: other\n",
        "Using the weib function to analyze this\n",
        "1.28351440658\n",
        "1.0\n",
        "File: S06LN_90_0_02212012_1_att_ss.csv\n",
        "Condition: cued"
       ]
      },
      {
       "output_type": "stream",
       "stream": "stdout",
       "text": [
        "\n",
        "Using the weib function to analyze this\n",
        "3.21845582846\n",
        "1.0\n",
        "Condition: other\n",
        "Using the weib function to analyze this"
       ]
      },
      {
       "output_type": "stream",
       "stream": "stdout",
       "text": [
        "\n",
        "File: S06LN_90_90_02212012_1_att_ss.csv"
       ]
      },
      {
       "output_type": "stream",
       "stream": "stdout",
       "text": [
        "\n",
        "Condition: cued\n",
        "Using the weib function to analyze this\n",
        "2.39197416581"
       ]
      },
      {
       "output_type": "stream",
       "stream": "stdout",
       "text": [
        "\n",
        "1.0\n",
        "1.10727749487\n",
        "1.0\n",
        "Condition: other\n",
        "Using the weib function to analyze this\n",
        "2.7371895071\n",
        "1.0\n",
        "1.03961521631\n",
        "1.0\n",
        "File: S06LNn_0_0_02212012_1_att_ss.csv\n",
        "Condition: neutral\n",
        "Using the weib function to analyze this"
       ]
      },
      {
       "output_type": "stream",
       "stream": "stdout",
       "text": [
        "\n",
        "File: S06LNn_0_90_02212012_1_att_ss.csv\n",
        "Condition: neutral\n",
        "Using the weib function to analyze this\n",
        "File: S06LNn_90_0_02212012_1_att_ss.csv"
       ]
      },
      {
       "output_type": "stream",
       "stream": "stdout",
       "text": [
        "\n",
        "Condition: neutral\n",
        "Using the weib function to analyze this\n",
        "File: S06LNn_90_90_02212012_1_att_ss.csv\n",
        "Condition: neutral\n",
        "Using the weib function to analyze this"
       ]
      },
      {
       "output_type": "stream",
       "stream": "stdout",
       "text": [
        "\n",
        "Analyzing S07\n",
        "File: S07GM_0_0_02232012_1_att_ss.csv\n",
        "Condition: cued\n",
        "Using the weib function to analyze this"
       ]
      },
      {
       "output_type": "stream",
       "stream": "stdout",
       "text": [
        "\n",
        "4.72594033592\n",
        "1.0\n",
        "Condition: other\n",
        "Using the weib function to analyze this"
       ]
      },
      {
       "output_type": "stream",
       "stream": "stdout",
       "text": [
        "\n",
        "9.11297420291"
       ]
      },
      {
       "output_type": "stream",
       "stream": "stdout",
       "text": [
        "\n",
        "1.0\n",
        "1.01115169182\n",
        "1.0\n",
        "File: S07GM_0_90_02232012_1_att_ss.csv\n",
        "Condition: cued\n",
        "Using the weib function to analyze this\n",
        "2.68276204647"
       ]
      },
      {
       "output_type": "stream",
       "stream": "stdout",
       "text": [
        "\n",
        "1.0\n",
        "Condition: other\n",
        "Using the weib function to analyze this\n",
        "7.35127116888"
       ]
      },
      {
       "output_type": "stream",
       "stream": "stdout",
       "text": [
        "\n",
        "1.0\n",
        "File: S07GM_90_0_02232012_1_att_ss.csv\n",
        "Condition: cued\n",
        "Using the weib function to analyze this"
       ]
      },
      {
       "output_type": "stream",
       "stream": "stdout",
       "text": [
        "\n",
        "61.8993191052\n",
        "1.0\n",
        "Condition: other\n",
        "Using the weib function to analyze this"
       ]
      },
      {
       "output_type": "stream",
       "stream": "stdout",
       "text": [
        "\n",
        "27.0666661527"
       ]
      },
      {
       "output_type": "stream",
       "stream": "stdout",
       "text": [
        "\n",
        "1.0\n",
        "File: S07GM_90_90_02232012_1_att_ss.csv\n",
        "Condition: cued\n",
        "Using the weib function to analyze this"
       ]
      },
      {
       "output_type": "stream",
       "stream": "stdout",
       "text": [
        "\n",
        "5.644310335\n",
        "1.0\n",
        "Condition: other\n",
        "Using the weib function to analyze this"
       ]
      },
      {
       "output_type": "stream",
       "stream": "stdout",
       "text": [
        "\n",
        "1.01062199044"
       ]
      },
      {
       "output_type": "stream",
       "stream": "stdout",
       "text": [
        "\n",
        "1.0\n",
        "File: S07GMn_0_0_02232012_1_att_ss.csv\n",
        "Condition: neutral\n",
        "Using the weib function to analyze this\n",
        "File: S07GMn_0_90_02232012_1_att_ss.csv\n",
        "Condition: neutral\n",
        "Using the weib function to analyze this"
       ]
      },
      {
       "output_type": "stream",
       "stream": "stdout",
       "text": [
        "\n",
        "File: S07GMn_90_0_02232012_1_att_ss.csv\n",
        "Condition: neutral\n",
        "Using the weib function to analyze this\n",
        "File: S07GMn_90_90_02232012_1_att_ss.csv\n",
        "Condition: neutral"
       ]
      },
      {
       "output_type": "stream",
       "stream": "stdout",
       "text": [
        "\n",
        "Using the weib function to analyze this\n",
        "File: S07MGn_0_0_05292012_1_att_ss.csv\n",
        "Condition: neutral"
       ]
      },
      {
       "output_type": "stream",
       "stream": "stdout",
       "text": [
        "\n",
        "Using the weib function to analyze this\n",
        "File: S07MGn_0_90_05292012_1_att_ss.csv\n",
        "Condition: neutral\n",
        "Using the weib function to analyze this"
       ]
      },
      {
       "output_type": "stream",
       "stream": "stdout",
       "text": [
        "\n",
        "File: S07MGn_90_0_05292012_1_att_ss.csv\n",
        "Condition: neutral\n",
        "Using the weib function to analyze this\n",
        "File: S07MGn_90_90_05292012_1_att_ss.csv"
       ]
      },
      {
       "output_type": "stream",
       "stream": "stdout",
       "text": [
        "\n",
        "Condition: neutral\n",
        "Using the weib function to analyze this\n",
        "Analyzing S09"
       ]
      },
      {
       "output_type": "stream",
       "stream": "stdout",
       "text": [
        "\n",
        "File: S09CL_0_0_02292012_1_att_ss.csv\n",
        "Condition: cued\n",
        "Using the weib function to analyze this\n",
        "2.44912047313"
       ]
      },
      {
       "output_type": "stream",
       "stream": "stdout",
       "text": [
        "\n",
        "1.0\n",
        "1.55477415063\n",
        "1.0\n",
        "Condition: other\n",
        "Using the weib function to analyze this\n",
        "7.80755638999\n",
        "1.0\n",
        "File: S09CL_0_90_02292012_1_att_ss.csv\n",
        "Condition: cued"
       ]
      },
      {
       "output_type": "stream",
       "stream": "stdout",
       "text": [
        "\n",
        "Using the weib function to analyze this\n",
        "4.41782269391\n",
        "1.0\n",
        "1.03416176458\n",
        "1.0\n",
        "Condition: other\n",
        "Using the weib function to analyze this"
       ]
      },
      {
       "output_type": "stream",
       "stream": "stdout",
       "text": [
        "\n",
        "161.176142237\n",
        "1.0\n",
        "1.0\n",
        "1.0\n",
        "File: S09CL_90_0_02292012_1_att_ss.csv\n",
        "Condition: cued"
       ]
      },
      {
       "output_type": "stream",
       "stream": "stdout",
       "text": [
        "\n",
        "Using the weib function to analyze this\n",
        "74.7292204828"
       ]
      },
      {
       "output_type": "stream",
       "stream": "stdout",
       "text": [
        "\n",
        "1.0\n",
        "Condition: other\n",
        "Using the weib function to analyze this\n",
        "53.0806354243"
       ]
      },
      {
       "output_type": "stream",
       "stream": "stdout",
       "text": [
        "\n",
        "1.0\n",
        "File: S09CL_90_90_02292012_1_att_ss.csv\n",
        "Condition: cued\n",
        "Using the weib function to analyze this"
       ]
      },
      {
       "output_type": "stream",
       "stream": "stdout",
       "text": [
        "\n",
        "8.86284988684\n",
        "1.0\n",
        "Condition: other\n",
        "Using the weib function to analyze this"
       ]
      },
      {
       "output_type": "stream",
       "stream": "stdout",
       "text": [
        "\n",
        "6.21604453398"
       ]
      },
      {
       "output_type": "stream",
       "stream": "stdout",
       "text": [
        "\n",
        "1.0\n",
        "2.45120256197\n",
        "1.0\n",
        "File: S09CL_90_90_02292012_2_att_ss.csv\n",
        "Condition: cued\n",
        "Using the weib function to analyze this"
       ]
      },
      {
       "output_type": "stream",
       "stream": "stdout",
       "text": [
        "\n",
        "10.2441890284"
       ]
      },
      {
       "output_type": "stream",
       "stream": "stdout",
       "text": [
        "\n",
        "1.0\n",
        "1.03012393699\n",
        "1.0\n",
        "Condition: other\n",
        "Using the weib function to analyze this\n",
        "130.031124587"
       ]
      },
      {
       "output_type": "stream",
       "stream": "stdout",
       "text": [
        "\n",
        "1.0\n",
        "File: S09CLn_0_0_02292012_1_att_ss.csv\n",
        "Condition: neutral\n",
        "Using the weib function to analyze this\n",
        "File: S09CLn_0_90_02292012_1_att_ss.csv"
       ]
      },
      {
       "output_type": "stream",
       "stream": "stdout",
       "text": [
        "\n",
        "Condition: neutral\n",
        "Using the weib function to analyze this\n",
        "File: S09CLn_90_0_02292012_1_att_ss.csv\n",
        "Condition: neutral\n",
        "Using the weib function to analyze this"
       ]
      },
      {
       "output_type": "stream",
       "stream": "stdout",
       "text": [
        "\n",
        "File: S09CLn_90_90_02292012_1_att_ss.csv\n",
        "Condition: neutral\n",
        "Using the weib function to analyze this"
       ]
      },
      {
       "output_type": "stream",
       "stream": "stdout",
       "text": [
        "\n",
        "Analyzing S10"
       ]
      },
      {
       "output_type": "stream",
       "stream": "stdout",
       "text": [
        "\n",
        "File: S10SH_0_0_03012012_1_att_ss.csv\n",
        "Condition: cued\n",
        "Using the weib function to analyze this"
       ]
      },
      {
       "output_type": "stream",
       "stream": "stdout",
       "text": [
        "\n",
        "4.35189832927\n",
        "1.0\n",
        "Condition: other\n",
        "Using the weib function to analyze this\n",
        "4.0461445813"
       ]
      },
      {
       "output_type": "stream",
       "stream": "stdout",
       "text": [
        "\n",
        "1.0\n",
        "1.02088273613\n",
        "1.0\n",
        "File: S10SH_0_90_03012012_1_att_ss.csv\n",
        "Condition: cued\n",
        "Using the weib function to analyze this"
       ]
      },
      {
       "output_type": "stream",
       "stream": "stdout",
       "text": [
        "\n",
        "3.28957559246\n",
        "1.0\n",
        "Condition: other\n",
        "Using the weib function to analyze this\n",
        "6.64501401974"
       ]
      },
      {
       "output_type": "stream",
       "stream": "stdout",
       "text": [
        "\n",
        "1.0\n",
        "File: S10SH_90_0_03012012_1_att_ss.csv\n",
        "Condition: cued\n",
        "Using the weib function to analyze this\n",
        "21.8591042424"
       ]
      },
      {
       "output_type": "stream",
       "stream": "stdout",
       "text": [
        "\n",
        "1.0\n",
        "Condition: other\n",
        "Using the weib function to analyze this\n",
        "1.5882455142"
       ]
      },
      {
       "output_type": "stream",
       "stream": "stdout",
       "text": [
        "\n",
        "1.0\n",
        "File: S10SH_90_90_03012012_1_att_ss.csv\n",
        "Condition: cued\n",
        "Using the weib function to analyze this"
       ]
      },
      {
       "output_type": "stream",
       "stream": "stdout",
       "text": [
        "\n",
        "7.15470695864\n",
        "1.0\n",
        "Condition: other\n",
        "Using the weib function to analyze this\n",
        "1.72352217093"
       ]
      },
      {
       "output_type": "stream",
       "stream": "stdout",
       "text": [
        "\n",
        "1.0\n",
        "1.76207924136\n",
        "1.0\n",
        "File: S10SHn_0_0_03012012_1_att_ss.csv\n",
        "Condition: neutral\n",
        "Using the weib function to analyze this\n",
        "File: S10SHn_0_90_03012012_1_att_ss.csv"
       ]
      },
      {
       "output_type": "stream",
       "stream": "stdout",
       "text": [
        "\n",
        "Condition: neutral\n",
        "Using the weib function to analyze this\n",
        "File: S10SHn_90_0_03012012_1_att_ss.csv\n",
        "Condition: neutral\n",
        "Using the weib function to analyze this"
       ]
      },
      {
       "output_type": "stream",
       "stream": "stdout",
       "text": [
        "\n",
        "File: S10SHn_90_90_03012012_1_att_ss.csv\n",
        "Condition: neutral\n",
        "Using the weib function to analyze this\n",
        "Analyzing S11"
       ]
      },
      {
       "output_type": "stream",
       "stream": "stdout",
       "text": [
        "\n",
        "File: S11TL_0_0_03132012_1_att_ss.csv\n",
        "Condition: cued\n",
        "Using the weib function to analyze this"
       ]
      },
      {
       "output_type": "stream",
       "stream": "stdout",
       "text": [
        "\n",
        "12.7055206941\n",
        "1.0\n",
        "Condition: other\n",
        "Using the weib function to analyze this"
       ]
      },
      {
       "output_type": "stream",
       "stream": "stdout",
       "text": [
        "\n",
        "13.589048535\n",
        "1.0\n",
        "File: S11TL_0_90_03132012_1_att_ss.csv\n",
        "Condition: cued\n",
        "Using the weib function to analyze this"
       ]
      },
      {
       "output_type": "stream",
       "stream": "stdout",
       "text": [
        "\n",
        "7.81231938822\n",
        "1.0\n",
        "Condition: other\n",
        "Using the weib function to analyze this"
       ]
      },
      {
       "output_type": "stream",
       "stream": "stdout",
       "text": [
        "\n",
        "4.01173368453"
       ]
      },
      {
       "output_type": "stream",
       "stream": "stdout",
       "text": [
        "\n",
        "1.0\n",
        "File: S11TL_90_0_03132012_1_att_ss.csv\n",
        "Condition: cued\n",
        "Using the weib function to analyze this"
       ]
      },
      {
       "output_type": "stream",
       "stream": "stdout",
       "text": [
        "\n",
        "75.0125480183\n",
        "1.0\n",
        "Condition: other\n",
        "Using the weib function to analyze this"
       ]
      },
      {
       "output_type": "stream",
       "stream": "stdout",
       "text": [
        "\n",
        "3.02267377326"
       ]
      },
      {
       "output_type": "stream",
       "stream": "stdout",
       "text": [
        "\n",
        "1.0\n",
        "1.64405897809\n",
        "1.0\n",
        "File: S11TL_90_90_03132012_1_att_ss.csv\n",
        "Condition: cued\n",
        "Using the weib function to analyze this"
       ]
      },
      {
       "output_type": "stream",
       "stream": "stdout",
       "text": [
        "\n",
        "5.19596291093\n",
        "1.0\n",
        "Condition: other\n",
        "Using the weib function to analyze this"
       ]
      },
      {
       "output_type": "stream",
       "stream": "stdout",
       "text": [
        "\n",
        "2.2057953385\n",
        "1.0\n",
        "File: S11TLn_0_0_03132012_1_att_ss.csv\n",
        "Condition: neutral\n",
        "Using the weib function to analyze this\n",
        "File: S11TLn_0_90_03132012_1_att_ss.csv"
       ]
      },
      {
       "output_type": "stream",
       "stream": "stdout",
       "text": [
        "\n",
        "Condition: neutral\n",
        "Using the weib function to analyze this\n",
        "File: S11TLn_90_0_03132012_1_att_ss.csv\n",
        "Condition: neutral"
       ]
      },
      {
       "output_type": "stream",
       "stream": "stdout",
       "text": [
        "\n",
        "Using the weib function to analyze this\n",
        "File: S11TLn_90_90_03132012_1_att_ss.csv\n",
        "Condition: neutral"
       ]
      },
      {
       "output_type": "stream",
       "stream": "stdout",
       "text": [
        "\n",
        "Using the weib function to analyze this\n",
        "Analyzing S12"
       ]
      },
      {
       "output_type": "stream",
       "stream": "stdout",
       "text": [
        "\n",
        "File: S12JD_0_0_05232012_1_att_ss.csv\n",
        "Condition: cued\n",
        "Using the weib function to analyze this\n",
        "17.4770081298"
       ]
      },
      {
       "output_type": "stream",
       "stream": "stdout",
       "text": [
        "\n",
        "1.0\n",
        "Condition: other\n",
        "Using the weib function to analyze this\n",
        "File: S12JD_0_90_05232012_1_att_ss.csv\n",
        "Condition: cued\n",
        "Using the weib function to analyze this"
       ]
      },
      {
       "output_type": "stream",
       "stream": "stdout",
       "text": [
        "\n",
        "2.46123474772\n",
        "1.0\n",
        "1.08421906325\n",
        "1.0\n",
        "Condition: other\n",
        "Using the weib function to analyze this\n",
        "39.3017214333"
       ]
      },
      {
       "output_type": "stream",
       "stream": "stdout",
       "text": [
        "\n",
        "1.0\n",
        "File: S12JD_90_0_05232012_1_att_ss.csv\n",
        "Condition: cued\n",
        "Using the weib function to analyze this\n",
        "28.5761750789"
       ]
      },
      {
       "output_type": "stream",
       "stream": "stdout",
       "text": [
        "\n",
        "1.0\n",
        "Condition: other\n",
        "Using the weib function to analyze this\n",
        "47.2291544616"
       ]
      },
      {
       "output_type": "stream",
       "stream": "stdout",
       "text": [
        "\n",
        "1.0\n",
        "File: S12JD_90_90_05232012_1_att_ss.csv\n",
        "Condition: cued\n",
        "Using the weib function to analyze this"
       ]
      },
      {
       "output_type": "stream",
       "stream": "stdout",
       "text": [
        "\n",
        "88.8662450482"
       ]
      },
      {
       "output_type": "stream",
       "stream": "stdout",
       "text": [
        "\n",
        "1.0\n",
        "Condition: other\n",
        "Using the weib function to analyze this\n",
        "5.57506580247"
       ]
      },
      {
       "output_type": "stream",
       "stream": "stdout",
       "text": [
        "\n",
        "1.0\n",
        "File: S12JD_n_0_0_05232012_1_att_ss.csv\n",
        "Condition: neutral\n",
        "Using the weib function to analyze this\n",
        "File: S12JD_n_0_90_05232012_1_att_ss.csv"
       ]
      },
      {
       "output_type": "stream",
       "stream": "stdout",
       "text": [
        "\n",
        "Condition: neutral\n",
        "Using the weib function to analyze this\n",
        "File: S12JD_n_90_0_05232012_1_att_ss.csv"
       ]
      },
      {
       "output_type": "stream",
       "stream": "stdout",
       "text": [
        "\n",
        "Condition: neutral\n",
        "Using the weib function to analyze this\n",
        "File: S12JD_n_90_90_05232012_1_att_ss.csv\n",
        "Condition: neutral\n",
        "Using the weib function to analyze this"
       ]
      },
      {
       "output_type": "stream",
       "stream": "stdout",
       "text": [
        "\n",
        "Analyzing S14\n",
        "File: S14JN_0_0_06052012_1_att_ss.csv\n",
        "Condition: cued"
       ]
      },
      {
       "output_type": "stream",
       "stream": "stdout",
       "text": [
        "\n",
        "Using the weib function to analyze this\n",
        "Condition: other"
       ]
      },
      {
       "output_type": "stream",
       "stream": "stdout",
       "text": [
        "\n",
        "Using the weib function to analyze this\n",
        "1.01118581849\n",
        "1.0\n",
        "File: S14JN_0_90_06052012_1_att_ss.csv\n",
        "Condition: cued"
       ]
      },
      {
       "output_type": "stream",
       "stream": "stdout",
       "text": [
        "\n",
        "Using the weib function to analyze this\n",
        "10.7119675302\n",
        "1.0\n",
        "Condition: other\n",
        "Using the weib function to analyze this"
       ]
      },
      {
       "output_type": "stream",
       "stream": "stdout",
       "text": [
        "\n",
        "1.3075296227\n",
        "1.0\n",
        "File: S14JN_90_0_06052012_1_att_ss.csv\n",
        "Condition: cued\n",
        "Using the weib function to analyze this"
       ]
      },
      {
       "output_type": "stream",
       "stream": "stdout",
       "text": [
        "\n",
        "1.28103261556\n",
        "1.0\n",
        "Condition: other\n",
        "Using the weib function to analyze this\n",
        "23.7628817158"
       ]
      },
      {
       "output_type": "stream",
       "stream": "stdout",
       "text": [
        "\n",
        "1.0\n",
        "File: S14JN_90_90_06052012_1_att_ss.csv\n",
        "Condition: cued\n",
        "Using the weib function to analyze this"
       ]
      },
      {
       "output_type": "stream",
       "stream": "stdout",
       "text": [
        "\n",
        "37.5141213986"
       ]
      },
      {
       "output_type": "stream",
       "stream": "stdout",
       "text": [
        "\n",
        "1.0\n",
        "Condition: other\n",
        "Using the weib function to analyze this\n",
        "File: S14JNn_0_0_06052012_1_att_ss.csv"
       ]
      },
      {
       "output_type": "stream",
       "stream": "stdout",
       "text": [
        "\n",
        "Condition: neutral\n",
        "Using the weib function to analyze this\n",
        "File: S14JNn_0_90_06052012_1_att_ss.csv\n",
        "Condition: neutral"
       ]
      },
      {
       "output_type": "stream",
       "stream": "stdout",
       "text": [
        "\n",
        "Using the weib function to analyze this\n",
        "File: S14JNn_90_0_06052012_1_att_ss.csv\n",
        "Condition: neutral\n",
        "Using the weib function to analyze this"
       ]
      },
      {
       "output_type": "stream",
       "stream": "stdout",
       "text": [
        "\n",
        "File: S14JNn_90_90_06052012_1_att_ss.csv\n",
        "Condition: neutral\n",
        "Using the weib function to analyze this\n",
        "Analyzing S15"
       ]
      },
      {
       "output_type": "stream",
       "stream": "stdout",
       "text": [
        "\n",
        "File: S15KB_0_0_06052012_1_att_ss.csv\n",
        "Condition: cued\n",
        "Using the weib function to analyze this\n",
        "7.73695946942"
       ]
      },
      {
       "output_type": "stream",
       "stream": "stdout",
       "text": [
        "\n",
        "1.0\n",
        "Condition: other\n",
        "Using the weib function to analyze this\n",
        "30.1297239994\n",
        "1.0\n",
        "File: S15KB_0_90_06052012_1_att_ss.csv\n",
        "Condition: cued"
       ]
      },
      {
       "output_type": "stream",
       "stream": "stdout",
       "text": [
        "\n",
        "Using the weib function to analyze this\n",
        "10.2991579273"
       ]
      },
      {
       "output_type": "stream",
       "stream": "stdout",
       "text": [
        "\n",
        "1.0\n",
        "Condition: other\n",
        "Using the weib function to analyze this\n",
        "2.95232511632\n",
        "1.0\n",
        "1.01357731887\n",
        "1.0\n",
        "File: S15KB_90_0_06052012_1_att_ss.csv\n",
        "Condition: cued"
       ]
      },
      {
       "output_type": "stream",
       "stream": "stdout",
       "text": [
        "\n",
        "Using the weib function to analyze this\n",
        "1.01558152061\n",
        "1.0\n",
        "Condition: other\n",
        "Using the weib function to analyze this"
       ]
      },
      {
       "output_type": "stream",
       "stream": "stdout",
       "text": [
        "\n",
        "1.0150943852"
       ]
      },
      {
       "output_type": "stream",
       "stream": "stdout",
       "text": [
        "\n",
        "1.0\n",
        "File: S15KB_90_90_06052012_1_att_ss.csv\n",
        "Condition: cued\n",
        "Using the weib function to analyze this"
       ]
      },
      {
       "output_type": "stream",
       "stream": "stdout",
       "text": [
        "\n",
        "10.4315358569\n",
        "1.0\n",
        "Condition: other\n",
        "Using the weib function to analyze this\n",
        "30.9414458279"
       ]
      },
      {
       "output_type": "stream",
       "stream": "stdout",
       "text": [
        "\n",
        "1.0\n",
        "File: S15KBn_0_0_06052012_1_att_ss.csv\n",
        "Condition: neutral\n",
        "Using the weib function to analyze this\n",
        "File: S15KBn_0_90_06052012_1_att_ss.csv\n",
        "Condition: neutral\n",
        "Using the weib function to analyze this"
       ]
      },
      {
       "output_type": "stream",
       "stream": "stdout",
       "text": [
        "\n",
        "File: S15KBn_90_0_06052012_1_att_ss.csv\n",
        "Condition: neutral\n",
        "Using the weib function to analyze this\n",
        "File: S15KBn_90_90_06052012_1_att_ss.csv"
       ]
      },
      {
       "output_type": "stream",
       "stream": "stdout",
       "text": [
        "\n",
        "Condition: neutral\n",
        "Using the weib function to analyze this\n",
        "Analyzing S16\n",
        "File: S16PW_0_0_06082012_1_att_ss.csv\n",
        "Condition: cued"
       ]
      },
      {
       "output_type": "stream",
       "stream": "stdout",
       "text": [
        "\n",
        "Using the weib function to analyze this\n",
        "5.39122660192\n",
        "1.0\n",
        "Condition: other\n",
        "Using the weib function to analyze this"
       ]
      },
      {
       "output_type": "stream",
       "stream": "stdout",
       "text": [
        "\n",
        "1.55202337928\n",
        "1.0\n",
        "File: S16PW_0_90_06082012_1_att_ss.csv\n",
        "Condition: cued"
       ]
      },
      {
       "output_type": "stream",
       "stream": "stdout",
       "text": [
        "\n",
        "Using the weib function to analyze this\n",
        "11.96400346"
       ]
      },
      {
       "output_type": "stream",
       "stream": "stdout",
       "text": [
        "\n",
        "1.0\n",
        "Condition: other\n",
        "Using the weib function to analyze this\n",
        "1.04163287781\n",
        "1.0\n",
        "1.46141764225\n",
        "1.0\n",
        "File: S16PW_90_0_06082012_1_att_ss.csv\n",
        "Condition: cued"
       ]
      },
      {
       "output_type": "stream",
       "stream": "stdout",
       "text": [
        "\n",
        "Using the weib function to analyze this\n",
        "6.97848785765\n",
        "1.0\n",
        "1.014492167\n",
        "1.0\n",
        "Condition: other\n",
        "Using the weib function to analyze this"
       ]
      },
      {
       "output_type": "stream",
       "stream": "stdout",
       "text": [
        "\n",
        "26.875153738"
       ]
      },
      {
       "output_type": "stream",
       "stream": "stdout",
       "text": [
        "\n",
        "1.0\n",
        "File: S16PW_90_90_06082012_1_att_ss.csv\n",
        "Condition: cued\n",
        "Using the weib function to analyze this"
       ]
      },
      {
       "output_type": "stream",
       "stream": "stdout",
       "text": [
        "\n",
        "2.52645586431\n",
        "1.0\n",
        "Condition: other\n",
        "Using the weib function to analyze this"
       ]
      },
      {
       "output_type": "stream",
       "stream": "stdout",
       "text": [
        "\n",
        "1.33785383329"
       ]
      },
      {
       "output_type": "stream",
       "stream": "stdout",
       "text": [
        "\n",
        "1.0\n",
        "File: S16PWn_0_0_06082012_1_att_ss.csv\n",
        "Condition: neutral\n",
        "Using the weib function to analyze this\n",
        "File: S16PWn_0_90_06082012_1_att_ss.csv"
       ]
      },
      {
       "output_type": "stream",
       "stream": "stdout",
       "text": [
        "\n",
        "Condition: neutral\n",
        "Using the weib function to analyze this\n",
        "File: S16PWn_90_0_06082012_1_att_ss.csv"
       ]
      },
      {
       "output_type": "stream",
       "stream": "stdout",
       "text": [
        "\n",
        "Condition: neutral\n",
        "Using the weib function to analyze this\n",
        "File: S16PWn_90_90_06082012_1_att_ss.csv"
       ]
      },
      {
       "output_type": "stream",
       "stream": "stdout",
       "text": [
        "\n",
        "Condition: neutral\n",
        "Using the weib function to analyze this\n",
        "Analyzing S17"
       ]
      },
      {
       "output_type": "stream",
       "stream": "stdout",
       "text": [
        "\n",
        "File: S17LD_0_0_06262012_1_att_ss.csv\n",
        "Condition: cued\n",
        "Using the weib function to analyze this\n",
        "207.772375773"
       ]
      },
      {
       "output_type": "stream",
       "stream": "stdout",
       "text": [
        "\n",
        "1.0\n",
        "Condition: other\n",
        "Using the weib function to analyze this\n",
        "199.36129015"
       ]
      },
      {
       "output_type": "stream",
       "stream": "stdout",
       "text": [
        "\n",
        "1.0\n",
        "1.87928484859\n",
        "1.0\n",
        "File: S17LD_0_90_06262012_1_att_ss.csv\n",
        "Condition: cued\n",
        "Using the weib function to analyze this\n",
        "3.51694436779"
       ]
      },
      {
       "output_type": "stream",
       "stream": "stdout",
       "text": [
        "\n",
        "1.0\n",
        "Condition: other\n",
        "Using the weib function to analyze this\n",
        "178.073746825"
       ]
      },
      {
       "output_type": "stream",
       "stream": "stdout",
       "text": [
        "\n",
        "1.0\n",
        "1.00000000012\n",
        "1.0\n",
        "File: S17LD_90_0_06262012_1_att_ss.csv\n",
        "Condition: cued\n",
        "Using the weib function to analyze this"
       ]
      },
      {
       "output_type": "stream",
       "stream": "stdout",
       "text": [
        "\n",
        "3.12902901854\n",
        "1.0\n",
        "Condition: other\n",
        "Using the weib function to analyze this\n",
        "5.86356559619"
       ]
      },
      {
       "output_type": "stream",
       "stream": "stdout",
       "text": [
        "\n",
        "1.0\n",
        "File: S17LD_90_90_06262012_1_att_ss.csv\n",
        "Condition: cued\n",
        "Using the weib function to analyze this"
       ]
      },
      {
       "output_type": "stream",
       "stream": "stdout",
       "text": [
        "\n",
        "6.97652613814\n",
        "1.0\n",
        "1.82609564978\n",
        "1.0\n",
        "Condition: other\n",
        "Using the weib function to analyze this"
       ]
      },
      {
       "output_type": "stream",
       "stream": "stdout",
       "text": [
        "\n",
        "116.814456675"
       ]
      },
      {
       "output_type": "stream",
       "stream": "stdout",
       "text": [
        "\n",
        "1.0\n",
        "File: S17LDn_0_0_06262012_1_att_ss.csv\n",
        "Condition: neutral\n",
        "Using the weib function to analyze this\n",
        "File: S17LDn_0_90_06262012_1_att_ss.csv"
       ]
      },
      {
       "output_type": "stream",
       "stream": "stdout",
       "text": [
        "\n",
        "Condition: neutral\n",
        "Using the weib function to analyze this\n",
        "File: S17LDn_90_0_06262012_2_att_ss.csv"
       ]
      },
      {
       "output_type": "stream",
       "stream": "stdout",
       "text": [
        "\n",
        "Condition: neutral\n",
        "Using the weib function to analyze this\n",
        "File: S17LDn_90_90_06262012_1_att_ss.csv\n",
        "Condition: neutral\n",
        "Using the weib function to analyze this"
       ]
      },
      {
       "output_type": "stream",
       "stream": "stdout",
       "text": [
        "\n",
        "['S01', 'S02', 'S03', 'S04', 'S05', 'S06', 'S07', 'S09', 'S10', 'S11', 'S12', 'S14', 'S15', 'S16', 'S17']"
       ]
      },
      {
       "output_type": "stream",
       "stream": "stdout",
       "text": [
        "\n",
        "Analyzing S01\n",
        "File: S01HS_0_0_02092012_1_att_ss.csv\n",
        "Condition: cued\n",
        "Using the weib function to analyze this\n",
        "11.1023499652"
       ]
      },
      {
       "output_type": "stream",
       "stream": "stdout",
       "text": [
        "\n",
        "1.0\n",
        "Condition: other\n",
        "Using the weib function to analyze this\n",
        "6.70456735443\n",
        "1.0\n",
        "1.00136871125\n",
        "1.0\n",
        "File: S01HS_0_90_02092012_1_att_ss.csv\n",
        "Condition: cued"
       ]
      },
      {
       "output_type": "stream",
       "stream": "stdout",
       "text": [
        "\n",
        "Using the weib function to analyze this\n",
        "5.41198858793"
       ]
      },
      {
       "output_type": "stream",
       "stream": "stdout",
       "text": [
        "\n",
        "1.0\n",
        "1.05763169939\n",
        "1.0\n",
        "Condition: other\n",
        "Using the weib function to analyze this\n",
        "18.9824664968"
       ]
      },
      {
       "output_type": "stream",
       "stream": "stdout",
       "text": [
        "\n",
        "1.0\n",
        "File: S01HS_90_0_02092012_1_att_ss.csv\n",
        "Condition: cued\n",
        "Using the weib function to analyze this"
       ]
      },
      {
       "output_type": "stream",
       "stream": "stdout",
       "text": [
        "\n",
        "1.64702846674\n",
        "1.0\n",
        "1.07745472592\n",
        "1.0\n",
        "Condition: other\n",
        "Using the weib function to analyze this\n",
        "19.6655853999"
       ]
      },
      {
       "output_type": "stream",
       "stream": "stdout",
       "text": [
        "\n",
        "1.0\n",
        "File: S01HS_90_90_02092012_1_att_ss.csv\n",
        "Condition: cued\n",
        "Using the weib function to analyze this"
       ]
      },
      {
       "output_type": "stream",
       "stream": "stdout",
       "text": [
        "\n",
        "7.03265988981\n",
        "1.0\n",
        "Condition: other\n",
        "Using the weib function to analyze this"
       ]
      },
      {
       "output_type": "stream",
       "stream": "stdout",
       "text": [
        "\n",
        "91.3923336567"
       ]
      },
      {
       "output_type": "stream",
       "stream": "stdout",
       "text": [
        "\n",
        "1.0\n",
        "1.0\n",
        "1.0\n",
        "File: S01HSn_0_0_02162012_1_att_ss.csv\n",
        "Condition: neutral\n",
        "Using the weib function to analyze this\n",
        "File: S01HSn_0_90_02162012_1_att_ss.csv"
       ]
      },
      {
       "output_type": "stream",
       "stream": "stdout",
       "text": [
        "\n",
        "Condition: neutral\n",
        "Using the weib function to analyze this\n",
        "File: S01HSn_90_0_02162012_1_att_ss.csv"
       ]
      },
      {
       "output_type": "stream",
       "stream": "stdout",
       "text": [
        "\n",
        "Condition: neutral\n",
        "Using the weib function to analyze this\n",
        "File: S01HSn_90_90_02162012_1_att_ss.csv"
       ]
      },
      {
       "output_type": "stream",
       "stream": "stdout",
       "text": [
        "\n",
        "Condition: neutral\n",
        "Using the weib function to analyze this\n",
        "Analyzing S02\n",
        "File: S02DT_0_0_02092012_1_att_ss.csv\n",
        "Condition: cued"
       ]
      },
      {
       "output_type": "stream",
       "stream": "stdout",
       "text": [
        "\n",
        "Using the weib function to analyze this\n",
        "5.14220228512"
       ]
      },
      {
       "output_type": "stream",
       "stream": "stdout",
       "text": [
        "\n",
        "1.0\n",
        "Condition: other\n",
        "Using the weib function to analyze this\n",
        "8.44426066067\n",
        "1.0\n",
        "File: S02DT_0_90_02092012_1_att_ss.csv\n",
        "Condition: cued"
       ]
      },
      {
       "output_type": "stream",
       "stream": "stdout",
       "text": [
        "\n",
        "Using the weib function to analyze this\n",
        "7.54256855842\n",
        "1.0\n",
        "Condition: other\n",
        "Using the weib function to analyze this"
       ]
      },
      {
       "output_type": "stream",
       "stream": "stdout",
       "text": [
        "\n",
        "8.11085383909\n",
        "1.0\n",
        "1.00807487488\n",
        "1.0\n",
        "File: S02DT_90_0_02092012_1_att_ss.csv\n",
        "Condition: cued\n",
        "Using the weib function to analyze this"
       ]
      },
      {
       "output_type": "stream",
       "stream": "stdout",
       "text": [
        "\n",
        "86.819449307\n",
        "1.0\n",
        "Condition: other\n",
        "Using the weib function to analyze this"
       ]
      },
      {
       "output_type": "stream",
       "stream": "stdout",
       "text": [
        "\n",
        "76.9540357674"
       ]
      },
      {
       "output_type": "stream",
       "stream": "stdout",
       "text": [
        "\n",
        "1.0\n",
        "File: S02DT_90_90_02092012_1_att_ss.csv\n",
        "Condition: cued\n",
        "Using the weib function to analyze this\n",
        "5.50318980556"
       ]
      },
      {
       "output_type": "stream",
       "stream": "stdout",
       "text": [
        "\n",
        "1.0\n",
        "1.96760694564\n",
        "1.0\n",
        "Condition: other\n",
        "Using the weib function to analyze this\n",
        "67.9987995769\n",
        "1.0\n",
        "1.53647865099\n",
        "1.0\n",
        "File: S02DTn_0_0_02162012_1_att_ss.csv\n",
        "Condition: neutral"
       ]
      },
      {
       "output_type": "stream",
       "stream": "stdout",
       "text": [
        "\n",
        "Using the weib function to analyze this\n",
        "File: S02DTn_0_90_02162012_1_att_ss.csv"
       ]
      },
      {
       "output_type": "stream",
       "stream": "stdout",
       "text": [
        "\n",
        "Condition: neutral\n",
        "Using the weib function to analyze this\n",
        "File: S02DTn_90_0_02162012_1_att_ss.csv\n",
        "Condition: neutral\n",
        "Using the weib function to analyze this"
       ]
      },
      {
       "output_type": "stream",
       "stream": "stdout",
       "text": [
        "\n",
        "File: S02DTn_90_90_02162012_1_att_ss.csv\n",
        "Condition: neutral\n",
        "Using the weib function to analyze this"
       ]
      },
      {
       "output_type": "stream",
       "stream": "stdout",
       "text": [
        "\n",
        "Analyzing S03\n",
        "File: S03AB_0_0_02102012_1_att_ss.csv\n",
        "Condition: cued"
       ]
      },
      {
       "output_type": "stream",
       "stream": "stdout",
       "text": [
        "\n",
        "Using the weib function to analyze this\n",
        "1.99912693211\n",
        "1.0\n",
        "1.45004382982\n",
        "1.0\n",
        "Condition: other\n",
        "Using the weib function to analyze this"
       ]
      },
      {
       "output_type": "stream",
       "stream": "stdout",
       "text": [
        "\n",
        "4.49045808844\n",
        "1.0\n",
        "2.00044038815\n",
        "1.0\n",
        "File: S03AB_0_90_02102012_1_att_ss.csv\n",
        "Condition: cued\n",
        "Using the weib function to analyze this"
       ]
      },
      {
       "output_type": "stream",
       "stream": "stdout",
       "text": [
        "\n",
        "6.04500840396\n",
        "1.0\n",
        "Condition: other\n",
        "Using the weib function to analyze this\n",
        "12.8650940232"
       ]
      },
      {
       "output_type": "stream",
       "stream": "stdout",
       "text": [
        "\n",
        "1.0\n",
        "File: S03AB_90_0_02102012_1_att_ss.csv\n",
        "Condition: cued\n",
        "Using the weib function to analyze this"
       ]
      },
      {
       "output_type": "stream",
       "stream": "stdout",
       "text": [
        "\n",
        "6.07618110784\n",
        "1.0\n",
        "Condition: other\n",
        "Using the weib function to analyze this"
       ]
      },
      {
       "output_type": "stream",
       "stream": "stdout",
       "text": [
        "\n",
        "75.1251841238\n",
        "1.0\n",
        "File: S03AB_90_90_02102012_1_att_ss.csv\n",
        "Condition: cued\n",
        "Using the weib function to analyze this"
       ]
      },
      {
       "output_type": "stream",
       "stream": "stdout",
       "text": [
        "\n",
        "Condition: other"
       ]
      },
      {
       "output_type": "stream",
       "stream": "stdout",
       "text": [
        "\n",
        "Using the weib function to analyze this\n",
        "68.8860112147\n",
        "1.0\n",
        "File: S03ABn_0_0_02102012_1_att_ss.csv\n",
        "Condition: neutral"
       ]
      },
      {
       "output_type": "stream",
       "stream": "stdout",
       "text": [
        "\n",
        "Using the weib function to analyze this\n",
        "File: S03ABn_0_90_02102012_1_att_ss.csv\n",
        "Condition: neutral\n",
        "Using the weib function to analyze this\n",
        "File: S03ABn_90_0_02102012_2_att_ss.csv"
       ]
      },
      {
       "output_type": "stream",
       "stream": "stdout",
       "text": [
        "\n",
        "Condition: neutral\n",
        "Using the weib function to analyze this\n",
        "File: S03ABn_90_90_02102012_1_att_ss.csv"
       ]
      },
      {
       "output_type": "stream",
       "stream": "stdout",
       "text": [
        "\n",
        "Condition: neutral\n",
        "Using the weib function to analyze this\n",
        "Analyzing S04"
       ]
      },
      {
       "output_type": "stream",
       "stream": "stdout",
       "text": [
        "\n",
        "File: S04LC_0_0_02162012_1_att_ss.csv\n",
        "Condition: cued\n",
        "Using the weib function to analyze this"
       ]
      },
      {
       "output_type": "stream",
       "stream": "stdout",
       "text": [
        "\n",
        "4.23605171035\n",
        "1.0\n",
        "1.02503722358\n",
        "1.0\n",
        "Condition: other\n",
        "Using the weib function to analyze this\n",
        "23.4006100952"
       ]
      },
      {
       "output_type": "stream",
       "stream": "stdout",
       "text": [
        "\n",
        "1.0\n",
        "File: S04LC_0_90_02162012_1_att_ss.csv\n",
        "Condition: cued\n",
        "Using the weib function to analyze this"
       ]
      },
      {
       "output_type": "stream",
       "stream": "stdout",
       "text": [
        "\n",
        "1.3997420993\n",
        "1.0\n",
        "1.81657792701\n",
        "1.0\n",
        "Condition: other\n",
        "Using the weib function to analyze this\n",
        "13.2704406229"
       ]
      },
      {
       "output_type": "stream",
       "stream": "stdout",
       "text": [
        "\n",
        "1.0\n",
        "1.00000187262\n",
        "1.0\n",
        "File: S04LC_90_0_02162012_1_att_ss.csv\n",
        "Condition: cued\n",
        "Using the weib function to analyze this"
       ]
      },
      {
       "output_type": "stream",
       "stream": "stdout",
       "text": [
        "\n",
        "2.89415570454"
       ]
      },
      {
       "output_type": "stream",
       "stream": "stdout",
       "text": [
        "\n",
        "1.0\n",
        "Condition: other\n",
        "Using the weib function to analyze this\n",
        "2.14022141456"
       ]
      },
      {
       "output_type": "stream",
       "stream": "stdout",
       "text": [
        "\n",
        "1.0\n",
        "1.04821042629\n",
        "1.0\n",
        "File: S04LC_90_90_02162012_1_att_ss.csv\n",
        "Condition: cued\n",
        "Using the weib function to analyze this"
       ]
      },
      {
       "output_type": "stream",
       "stream": "stdout",
       "text": [
        "\n",
        "2.9875680539\n",
        "1.0\n",
        "1.7291418501\n",
        "1.0\n",
        "Condition: other\n",
        "Using the weib function to analyze this"
       ]
      },
      {
       "output_type": "stream",
       "stream": "stdout",
       "text": [
        "\n",
        "11.3359430724"
       ]
      },
      {
       "output_type": "stream",
       "stream": "stdout",
       "text": [
        "\n",
        "1.0\n",
        "File: S04LCn_0_0_02162012_1_att_ss.csv\n",
        "Condition: neutral\n",
        "Using the weib function to analyze this\n",
        "File: S04LCn_0_90_02162012_1_att_ss.csv\n",
        "Condition: neutral\n",
        "Using the weib function to analyze this"
       ]
      },
      {
       "output_type": "stream",
       "stream": "stdout",
       "text": [
        "\n",
        "File: S04LCn_90_0_02162012_1_att_ss.csv\n",
        "Condition: neutral\n",
        "Using the weib function to analyze this\n",
        "File: S04LCn_90_90_02162012_1_att_ss.csv"
       ]
      },
      {
       "output_type": "stream",
       "stream": "stdout",
       "text": [
        "\n",
        "Condition: neutral\n",
        "Using the weib function to analyze this\n",
        "Analyzing S05\n",
        "File: S05JV_0_0_02162012_1_att_ss.csv\n",
        "Condition: cued"
       ]
      },
      {
       "output_type": "stream",
       "stream": "stdout",
       "text": [
        "\n",
        "Using the weib function to analyze this\n",
        "5.18603786714\n",
        "1.0\n",
        "1.02055012178\n",
        "1.0\n",
        "Condition: other\n",
        "Using the weib function to analyze this"
       ]
      },
      {
       "output_type": "stream",
       "stream": "stdout",
       "text": [
        "\n",
        "6.81303022075\n",
        "1.0\n",
        "1.03130775679\n",
        "1.0\n",
        "File: S05JV_0_90_02162012_1_att_ss.csv\n",
        "Condition: cued\n",
        "Using the weib function to analyze this"
       ]
      },
      {
       "output_type": "stream",
       "stream": "stdout",
       "text": [
        "\n",
        "1.58852390309\n",
        "1.0\n",
        "1.05738922795\n",
        "1.0\n",
        "Condition: other\n",
        "Using the weib function to analyze this\n",
        "1.15778041668"
       ]
      },
      {
       "output_type": "stream",
       "stream": "stdout",
       "text": [
        "\n",
        "1.0\n",
        "1.76163162425\n",
        "1.0\n",
        "File: S05JV_90_0_02162012_1_att_ss.csv\n",
        "Condition: cued\n",
        "Using the weib function to analyze this"
       ]
      },
      {
       "output_type": "stream",
       "stream": "stdout",
       "text": [
        "\n",
        "11.9142829781\n",
        "1.0\n",
        "Condition: other\n",
        "Using the weib function to analyze this"
       ]
      },
      {
       "output_type": "stream",
       "stream": "stdout",
       "text": [
        "\n",
        "59.6316590667"
       ]
      },
      {
       "output_type": "stream",
       "stream": "stdout",
       "text": [
        "\n",
        "1.0\n",
        "1.0\n",
        "1.0\n",
        "File: S05JV_90_90_02162012_1_att_ss.csv\n",
        "Condition: cued\n",
        "Using the weib function to analyze this\n",
        "4.17676363376"
       ]
      },
      {
       "output_type": "stream",
       "stream": "stdout",
       "text": [
        "\n",
        "1.0\n",
        "1.0224381626\n",
        "1.0\n",
        "Condition: other\n",
        "Using the weib function to analyze this\n",
        "22.6018967405"
       ]
      },
      {
       "output_type": "stream",
       "stream": "stdout",
       "text": [
        "\n",
        "1.0\n",
        "File: S05JV_90_90_02232012_1_att_ss.csv\n",
        "Condition: cued\n",
        "Using the weib function to analyze this"
       ]
      },
      {
       "output_type": "stream",
       "stream": "stdout",
       "text": [
        "\n",
        "4.9438490675\n",
        "1.0\n",
        "Condition: other\n",
        "Using the weib function to analyze this\n",
        "3.16633120048"
       ]
      },
      {
       "output_type": "stream",
       "stream": "stdout",
       "text": [
        "\n",
        "1.0\n",
        "File: S05JVn_0_0_02162012_1_att_ss.csv\n",
        "Condition: neutral\n",
        "Using the weib function to analyze this\n",
        "File: S05JVn_0_90_02162012_1_att_ss.csv"
       ]
      },
      {
       "output_type": "stream",
       "stream": "stdout",
       "text": [
        "\n",
        "Condition: neutral\n",
        "Using the weib function to analyze this\n",
        "File: S05JVn_90_0_02162012_1_att_ss.csv\n",
        "Condition: neutral\n",
        "Using the weib function to analyze this"
       ]
      },
      {
       "output_type": "stream",
       "stream": "stdout",
       "text": [
        "\n",
        "File: S05JVn_90_90_02162012_1_att_ss.csv\n",
        "Condition: neutral\n",
        "Using the weib function to analyze this\n",
        "Analyzing S06"
       ]
      },
      {
       "output_type": "stream",
       "stream": "stdout",
       "text": [
        "\n",
        "File: S06LN_0_0_02212012_1_att_ss.csv\n",
        "Condition: cued\n",
        "Using the weib function to analyze this"
       ]
      },
      {
       "output_type": "stream",
       "stream": "stdout",
       "text": [
        "\n",
        "7.73083228575\n",
        "1.0\n",
        "Condition: other\n",
        "Using the weib function to analyze this"
       ]
      },
      {
       "output_type": "stream",
       "stream": "stdout",
       "text": [
        "\n",
        "24.025834262\n",
        "1.0\n",
        "File: S06LN_0_90_02212012_1_att_ss.csv\n",
        "Condition: cued"
       ]
      },
      {
       "output_type": "stream",
       "stream": "stdout",
       "text": [
        "\n",
        "Using the weib function to analyze this\n",
        "7.48480629225"
       ]
      },
      {
       "output_type": "stream",
       "stream": "stdout",
       "text": [
        "\n",
        "1.0\n",
        "Condition: other\n",
        "Using the weib function to analyze this\n",
        "4.9323410735"
       ]
      },
      {
       "output_type": "stream",
       "stream": "stdout",
       "text": [
        "\n",
        "1.0\n",
        "File: S06LN_90_0_02212012_1_att_ss.csv\n",
        "Condition: cued\n",
        "Using the weib function to analyze this\n",
        "3.66513696165"
       ]
      },
      {
       "output_type": "stream",
       "stream": "stdout",
       "text": [
        "\n",
        "1.0\n",
        "Condition: other\n",
        "Using the weib function to analyze this\n",
        "42.0997469541\n",
        "1.0\n",
        "File: S06LN_90_90_02212012_1_att_ss.csv\n",
        "Condition: cued"
       ]
      },
      {
       "output_type": "stream",
       "stream": "stdout",
       "text": [
        "\n",
        "Using the weib function to analyze this\n",
        "3.89390035731\n",
        "1.0\n",
        "Condition: other\n",
        "Using the weib function to analyze this"
       ]
      },
      {
       "output_type": "stream",
       "stream": "stdout",
       "text": [
        "\n",
        "1.72197576747"
       ]
      },
      {
       "output_type": "stream",
       "stream": "stdout",
       "text": [
        "\n",
        "1.0\n",
        "File: S06LNn_0_0_02212012_1_att_ss.csv\n",
        "Condition: neutral\n",
        "Using the weib function to analyze this\n",
        "File: S06LNn_0_90_02212012_1_att_ss.csv"
       ]
      },
      {
       "output_type": "stream",
       "stream": "stdout",
       "text": [
        "\n",
        "Condition: neutral\n",
        "Using the weib function to analyze this\n",
        "File: S06LNn_90_0_02212012_1_att_ss.csv\n",
        "Condition: neutral\n",
        "Using the weib function to analyze this"
       ]
      },
      {
       "output_type": "stream",
       "stream": "stdout",
       "text": [
        "\n",
        "File: S06LNn_90_90_02212012_1_att_ss.csv\n",
        "Condition: neutral\n",
        "Using the weib function to analyze this\n",
        "Analyzing S07"
       ]
      },
      {
       "output_type": "stream",
       "stream": "stdout",
       "text": [
        "\n",
        "File: S07GM_0_0_02232012_1_att_ss.csv\n",
        "Condition: cued\n",
        "Using the weib function to analyze this"
       ]
      },
      {
       "output_type": "stream",
       "stream": "stdout",
       "text": [
        "\n",
        "3.60901754334\n",
        "1.0\n",
        "Condition: other\n",
        "Using the weib function to analyze this"
       ]
      },
      {
       "output_type": "stream",
       "stream": "stdout",
       "text": [
        "\n",
        "74.4641536718"
       ]
      },
      {
       "output_type": "stream",
       "stream": "stdout",
       "text": [
        "\n",
        "1.0\n",
        "File: S07GM_0_90_02232012_1_att_ss.csv\n",
        "Condition: cued\n",
        "Using the weib function to analyze this\n",
        "6.30530251981"
       ]
      },
      {
       "output_type": "stream",
       "stream": "stdout",
       "text": [
        "\n",
        "1.0\n",
        "Condition: other\n",
        "Using the weib function to analyze this\n",
        "File: S07GM_90_0_02232012_1_att_ss.csv"
       ]
      },
      {
       "output_type": "stream",
       "stream": "stdout",
       "text": [
        "\n",
        "Condition: cued\n",
        "Using the weib function to analyze this"
       ]
      },
      {
       "output_type": "stream",
       "stream": "stdout",
       "text": [
        "\n",
        "4.1052461258\n",
        "1.0\n",
        "Condition: other\n",
        "Using the weib function to analyze this\n",
        "2.22561009163"
       ]
      },
      {
       "output_type": "stream",
       "stream": "stdout",
       "text": [
        "\n",
        "1.0\n",
        "1.82080093403\n",
        "1.0\n",
        "File: S07GM_90_90_02232012_1_att_ss.csv\n",
        "Condition: cued\n",
        "Using the weib function to analyze this\n",
        "3.36822125418"
       ]
      },
      {
       "output_type": "stream",
       "stream": "stdout",
       "text": [
        "\n",
        "1.0\n",
        "Condition: other\n",
        "Using the weib function to analyze this\n",
        "34.6440083255"
       ]
      },
      {
       "output_type": "stream",
       "stream": "stdout",
       "text": [
        "\n",
        "1.0\n",
        "File: S07GMn_0_0_02232012_1_att_ss.csv\n",
        "Condition: neutral\n",
        "Using the weib function to analyze this\n",
        "File: S07GMn_0_90_02232012_1_att_ss.csv\n",
        "Condition: neutral"
       ]
      },
      {
       "output_type": "stream",
       "stream": "stdout",
       "text": [
        "\n",
        "Using the weib function to analyze this\n",
        "File: S07GMn_90_0_02232012_1_att_ss.csv\n",
        "Condition: neutral\n",
        "Using the weib function to analyze this\n"
       ]
      },
      {
       "output_type": "stream",
       "stream": "stdout",
       "text": [
        "File: S07GMn_90_90_02232012_1_att_ss.csv\n",
        "Condition: neutral\n",
        "Using the weib function to analyze this\n",
        "File: S07MGn_0_0_05292012_1_att_ss.csv"
       ]
      },
      {
       "output_type": "stream",
       "stream": "stdout",
       "text": [
        "\n",
        "Condition: neutral\n",
        "Using the weib function to analyze this\n",
        "File: S07MGn_0_90_05292012_1_att_ss.csv"
       ]
      },
      {
       "output_type": "stream",
       "stream": "stdout",
       "text": [
        "\n",
        "Condition: neutral\n",
        "Using the weib function to analyze this\n",
        "File: S07MGn_90_0_05292012_1_att_ss.csv\n",
        "Condition: neutral"
       ]
      },
      {
       "output_type": "stream",
       "stream": "stdout",
       "text": [
        "\n",
        "Using the weib function to analyze this\n",
        "File: S07MGn_90_90_05292012_1_att_ss.csv\n",
        "Condition: neutral\n",
        "Using the weib function to analyze this"
       ]
      },
      {
       "output_type": "stream",
       "stream": "stdout",
       "text": [
        "\n",
        "Analyzing S09"
       ]
      },
      {
       "output_type": "stream",
       "stream": "stdout",
       "text": [
        "\n",
        "File: S09CL_0_0_02292012_1_att_ss.csv\n",
        "Condition: cued\n",
        "Using the weib function to analyze this"
       ]
      },
      {
       "output_type": "stream",
       "stream": "stdout",
       "text": [
        "\n",
        "3.85031331302\n",
        "1.0\n",
        "1.02566588471\n",
        "1.0\n",
        "Condition: other\n",
        "Using the weib function to analyze this\n",
        "8.30087933952"
       ]
      },
      {
       "output_type": "stream",
       "stream": "stdout",
       "text": [
        "\n",
        "1.0\n",
        "1.13450260252\n",
        "1.0\n",
        "File: S09CL_0_90_02292012_1_att_ss.csv\n",
        "Condition: cued\n",
        "Using the weib function to analyze this"
       ]
      },
      {
       "output_type": "stream",
       "stream": "stdout",
       "text": [
        "\n",
        "4.42832062498\n",
        "1.0\n",
        "1.00937771326\n",
        "1.0\n",
        "Condition: other\n",
        "Using the weib function to analyze this"
       ]
      },
      {
       "output_type": "stream",
       "stream": "stdout",
       "text": [
        "\n",
        "4.50474332598\n",
        "1.0\n",
        "1.016423078\n",
        "1.0\n",
        "File: S09CL_90_0_02292012_1_att_ss.csv\n",
        "Condition: cued\n",
        "Using the weib function to analyze this"
       ]
      },
      {
       "output_type": "stream",
       "stream": "stdout",
       "text": [
        "\n",
        "4.14356583717\n",
        "1.0\n",
        "Condition: other\n",
        "Using the weib function to analyze this"
       ]
      },
      {
       "output_type": "stream",
       "stream": "stdout",
       "text": [
        "\n",
        "5.80331213966\n",
        "1.0\n",
        "1.01311834757\n",
        "1.0\n",
        "File: S09CL_90_90_02292012_1_att_ss.csv\n",
        "Condition: cued\n",
        "Using the weib function to analyze this"
       ]
      },
      {
       "output_type": "stream",
       "stream": "stdout",
       "text": [
        "\n",
        "3.85618329013\n",
        "1.0\n",
        "1.1094219144\n",
        "1.0\n",
        "Condition: other\n",
        "Using the weib function to analyze this"
       ]
      },
      {
       "output_type": "stream",
       "stream": "stdout",
       "text": [
        "\n",
        "39.0675559789"
       ]
      },
      {
       "output_type": "stream",
       "stream": "stdout",
       "text": [
        "\n",
        "1.0\n",
        "File: S09CL_90_90_02292012_2_att_ss.csv\n",
        "Condition: cued\n",
        "Using the weib function to analyze this"
       ]
      },
      {
       "output_type": "stream",
       "stream": "stdout",
       "text": [
        "\n",
        "11.8877647845\n",
        "1.0\n",
        "Condition: other\n",
        "Using the weib function to analyze this"
       ]
      },
      {
       "output_type": "stream",
       "stream": "stdout",
       "text": [
        "\n",
        "4.84291546636\n",
        "1.0\n",
        "File: S09CLn_0_0_02292012_1_att_ss.csv\n",
        "Condition: neutral\n",
        "Using the weib function to analyze this\n",
        "File: S09CLn_0_90_02292012_1_att_ss.csv"
       ]
      },
      {
       "output_type": "stream",
       "stream": "stdout",
       "text": [
        "\n",
        "Condition: neutral\n",
        "Using the weib function to analyze this\n",
        "File: S09CLn_90_0_02292012_1_att_ss.csv\n",
        "Condition: neutral\n",
        "Using the weib function to analyze this"
       ]
      },
      {
       "output_type": "stream",
       "stream": "stdout",
       "text": [
        "\n",
        "File: S09CLn_90_90_02292012_1_att_ss.csv\n",
        "Condition: neutral"
       ]
      },
      {
       "output_type": "stream",
       "stream": "stdout",
       "text": [
        "\n",
        "Using the weib function to analyze this\n",
        "Analyzing S10"
       ]
      },
      {
       "output_type": "stream",
       "stream": "stdout",
       "text": [
        "\n",
        "File: S10SH_0_0_03012012_1_att_ss.csv\n",
        "Condition: cued\n",
        "Using the weib function to analyze this"
       ]
      },
      {
       "output_type": "stream",
       "stream": "stdout",
       "text": [
        "\n",
        "6.32985287746\n",
        "1.0\n",
        "Condition: other\n",
        "Using the weib function to analyze this"
       ]
      },
      {
       "output_type": "stream",
       "stream": "stdout",
       "text": [
        "\n",
        "2.98767947589"
       ]
      },
      {
       "output_type": "stream",
       "stream": "stdout",
       "text": [
        "\n",
        "1.0\n",
        "3.11990964914\n",
        "1.0\n",
        "File: S10SH_0_90_03012012_1_att_ss.csv\n",
        "Condition: cued\n",
        "Using the weib function to analyze this"
       ]
      },
      {
       "output_type": "stream",
       "stream": "stdout",
       "text": [
        "\n",
        "4.58500876765"
       ]
      },
      {
       "output_type": "stream",
       "stream": "stdout",
       "text": [
        "\n",
        "1.0\n",
        "Condition: other\n",
        "Using the weib function to analyze this\n",
        "2.55326304909"
       ]
      },
      {
       "output_type": "stream",
       "stream": "stdout",
       "text": [
        "\n",
        "1.0\n",
        "File: S10SH_90_0_03012012_1_att_ss.csv\n",
        "Condition: cued\n",
        "Using the weib function to analyze this\n",
        "4.13659704568"
       ]
      },
      {
       "output_type": "stream",
       "stream": "stdout",
       "text": [
        "\n",
        "1.0\n",
        "Condition: other\n",
        "Using the weib function to analyze this\n",
        "10.5046331991"
       ]
      },
      {
       "output_type": "stream",
       "stream": "stdout",
       "text": [
        "\n",
        "1.0\n",
        "1.00576056496\n",
        "1.0\n",
        "File: S10SH_90_90_03012012_1_att_ss.csv\n",
        "Condition: cued\n",
        "Using the weib function to analyze this\n",
        "8.75990773905"
       ]
      },
      {
       "output_type": "stream",
       "stream": "stdout",
       "text": [
        "\n",
        "1.0\n",
        "Condition: other\n",
        "Using the weib function to analyze this\n",
        "40.0242399677"
       ]
      },
      {
       "output_type": "stream",
       "stream": "stdout",
       "text": [
        "\n",
        "1.0\n",
        "File: S10SHn_0_0_03012012_1_att_ss.csv\n",
        "Condition: neutral\n",
        "Using the weib function to analyze this\n",
        "File: S10SHn_0_90_03012012_1_att_ss.csv"
       ]
      },
      {
       "output_type": "stream",
       "stream": "stdout",
       "text": [
        "\n",
        "Condition: neutral\n",
        "Using the weib function to analyze this\n",
        "File: S10SHn_90_0_03012012_1_att_ss.csv\n",
        "Condition: neutral\n",
        "Using the weib function to analyze this"
       ]
      },
      {
       "output_type": "stream",
       "stream": "stdout",
       "text": [
        "\n",
        "File: S10SHn_90_90_03012012_1_att_ss.csv\n",
        "Condition: neutral\n",
        "Using the weib function to analyze this\n",
        "Analyzing S11"
       ]
      },
      {
       "output_type": "stream",
       "stream": "stdout",
       "text": [
        "\n",
        "File: S11TL_0_0_03132012_1_att_ss.csv\n",
        "Condition: cued\n",
        "Using the weib function to analyze this\n",
        "5.47130641871"
       ]
      },
      {
       "output_type": "stream",
       "stream": "stdout",
       "text": [
        "\n",
        "1.0\n",
        "1.38700687552\n",
        "1.0\n",
        "Condition: other\n",
        "Using the weib function to analyze this\n",
        "3.7904368321\n",
        "1.0\n",
        "1.17411681707\n",
        "1.0\n",
        "File: S11TL_0_90_03132012_1_att_ss.csv\n",
        "Condition: cued"
       ]
      },
      {
       "output_type": "stream",
       "stream": "stdout",
       "text": [
        "\n",
        "Using the weib function to analyze this\n",
        "3.92069619586"
       ]
      },
      {
       "output_type": "stream",
       "stream": "stdout",
       "text": [
        "\n",
        "1.0\n",
        "Condition: other\n",
        "Using the weib function to analyze this\n",
        "16.3609742371\n",
        "1.0\n",
        "1.00001103386\n",
        "1.0\n",
        "File: S11TL_90_0_03132012_1_att_ss.csv\n",
        "Condition: cued"
       ]
      },
      {
       "output_type": "stream",
       "stream": "stdout",
       "text": [
        "\n",
        "Using the weib function to analyze this\n",
        "4.23946386802\n",
        "1.0\n",
        "Condition: other\n",
        "Using the weib function to analyze this"
       ]
      },
      {
       "output_type": "stream",
       "stream": "stdout",
       "text": [
        "\n",
        "73.4270096297\n",
        "1.0\n",
        "File: S11TL_90_90_03132012_1_att_ss.csv\n",
        "Condition: cued"
       ]
      },
      {
       "output_type": "stream",
       "stream": "stdout",
       "text": [
        "\n",
        "Using the weib function to analyze this\n",
        "2.17266811361"
       ]
      },
      {
       "output_type": "stream",
       "stream": "stdout",
       "text": [
        "\n",
        "1.0\n",
        "1.2221298513\n",
        "1.0\n",
        "Condition: other\n",
        "Using the weib function to analyze this\n",
        "1.97284769513"
       ]
      },
      {
       "output_type": "stream",
       "stream": "stdout",
       "text": [
        "\n",
        "1.0\n",
        "1.72576166023\n",
        "1.0\n",
        "File: S11TLn_0_0_03132012_1_att_ss.csv\n",
        "Condition: neutral\n",
        "Using the weib function to analyze this\n",
        "File: S11TLn_0_90_03132012_1_att_ss.csv\n",
        "Condition: neutral"
       ]
      },
      {
       "output_type": "stream",
       "stream": "stdout",
       "text": [
        "\n",
        "Using the weib function to analyze this\n",
        "File: S11TLn_90_0_03132012_1_att_ss.csv"
       ]
      },
      {
       "output_type": "stream",
       "stream": "stdout",
       "text": [
        "\n",
        "Condition: neutral\n",
        "Using the weib function to analyze this\n",
        "File: S11TLn_90_90_03132012_1_att_ss.csv\n",
        "Condition: neutral"
       ]
      },
      {
       "output_type": "stream",
       "stream": "stdout",
       "text": [
        "\n",
        "Using the weib function to analyze this\n",
        "Analyzing S12"
       ]
      },
      {
       "output_type": "stream",
       "stream": "stdout",
       "text": [
        "\n",
        "File: S12JD_0_0_05232012_1_att_ss.csv\n",
        "Condition: cued\n",
        "Using the weib function to analyze this"
       ]
      },
      {
       "output_type": "stream",
       "stream": "stdout",
       "text": [
        "\n",
        "3.83747629728\n",
        "1.0\n",
        "Condition: other\n",
        "Using the weib function to analyze this\n",
        "File: S12JD_0_90_05232012_1_att_ss.csv"
       ]
      },
      {
       "output_type": "stream",
       "stream": "stdout",
       "text": [
        "\n",
        "Condition: cued\n",
        "Using the weib function to analyze this\n",
        "2.31003595794"
       ]
      },
      {
       "output_type": "stream",
       "stream": "stdout",
       "text": [
        "\n",
        "1.0\n",
        "1.00953835709\n",
        "1.0\n",
        "Condition: other\n",
        "Using the weib function to analyze this\n",
        "1.22092487367\n",
        "1.0\n",
        "1.16489192117\n",
        "1.0\n",
        "File: S12JD_90_0_05232012_1_att_ss.csv\n",
        "Condition: cued"
       ]
      },
      {
       "output_type": "stream",
       "stream": "stdout",
       "text": [
        "\n",
        "Using the weib function to analyze this\n",
        "2.42657715573\n",
        "1.0\n",
        "1.04613040275\n",
        "1.0\n",
        "Condition: other\n",
        "Using the weib function to analyze this"
       ]
      },
      {
       "output_type": "stream",
       "stream": "stdout",
       "text": [
        "\n",
        "53.0104788575"
       ]
      },
      {
       "output_type": "stream",
       "stream": "stdout",
       "text": [
        "\n",
        "1.0\n",
        "File: S12JD_90_90_05232012_1_att_ss.csv\n",
        "Condition: cued\n",
        "Using the weib function to analyze this"
       ]
      },
      {
       "output_type": "stream",
       "stream": "stdout",
       "text": [
        "\n",
        "7.63006021569\n",
        "1.0\n",
        "Condition: other\n",
        "Using the weib function to analyze this\n",
        "10.6311204971"
       ]
      },
      {
       "output_type": "stream",
       "stream": "stdout",
       "text": [
        "\n",
        "1.0\n",
        "File: S12JD_n_0_0_05232012_1_att_ss.csv\n",
        "Condition: neutral\n",
        "Using the weib function to analyze this\n",
        "File: S12JD_n_0_90_05232012_1_att_ss.csv"
       ]
      },
      {
       "output_type": "stream",
       "stream": "stdout",
       "text": [
        "\n",
        "Condition: neutral\n",
        "Using the weib function to analyze this\n",
        "File: S12JD_n_90_0_05232012_1_att_ss.csv"
       ]
      },
      {
       "output_type": "stream",
       "stream": "stdout",
       "text": [
        "\n",
        "Condition: neutral\n",
        "Using the weib function to analyze this\n",
        "File: S12JD_n_90_90_05232012_1_att_ss.csv"
       ]
      },
      {
       "output_type": "stream",
       "stream": "stdout",
       "text": [
        "\n",
        "Condition: neutral\n",
        "Using the weib function to analyze this\n",
        "Analyzing S14"
       ]
      },
      {
       "output_type": "stream",
       "stream": "stdout",
       "text": [
        "\n",
        "File: S14JN_0_0_06052012_1_att_ss.csv\n",
        "Condition: cued\n",
        "Using the weib function to analyze this\n",
        "3.89264269431"
       ]
      },
      {
       "output_type": "stream",
       "stream": "stdout",
       "text": [
        "\n",
        "1.0\n",
        "Condition: other\n",
        "Using the weib function to analyze this\n",
        "33.5173949336"
       ]
      },
      {
       "output_type": "stream",
       "stream": "stdout",
       "text": [
        "\n",
        "1.0\n",
        "File: S14JN_0_90_06052012_1_att_ss.csv\n",
        "Condition: cued\n",
        "Using the weib function to analyze this\n",
        "4.6088545247"
       ]
      },
      {
       "output_type": "stream",
       "stream": "stdout",
       "text": [
        "\n",
        "1.0\n",
        "Condition: other\n",
        "Using the weib function to analyze this\n",
        "1.26839020508\n",
        "1.0\n",
        "File: S14JN_90_0_06052012_1_att_ss.csv\n",
        "Condition: cued"
       ]
      },
      {
       "output_type": "stream",
       "stream": "stdout",
       "text": [
        "\n",
        "Using the weib function to analyze this\n",
        "3.09987315316\n",
        "1.0\n",
        "Condition: other\n",
        "Using the weib function to analyze this"
       ]
      },
      {
       "output_type": "stream",
       "stream": "stdout",
       "text": [
        "\n",
        "12.9179140221"
       ]
      },
      {
       "output_type": "stream",
       "stream": "stdout",
       "text": [
        "\n",
        "1.0\n",
        "File: S14JN_90_90_06052012_1_att_ss.csv\n",
        "Condition: cued\n",
        "Using the weib function to analyze this\n",
        "5.1027735473"
       ]
      },
      {
       "output_type": "stream",
       "stream": "stdout",
       "text": [
        "\n",
        "1.0\n",
        "Condition: other\n",
        "Using the weib function to analyze this\n",
        "26.8276442374"
       ]
      },
      {
       "output_type": "stream",
       "stream": "stdout",
       "text": [
        "\n",
        "1.0\n",
        "File: S14JNn_0_0_06052012_1_att_ss.csv\n",
        "Condition: neutral\n",
        "Using the weib function to analyze this\n",
        "File: S14JNn_0_90_06052012_1_att_ss.csv\n",
        "Condition: neutral\n",
        "Using the weib function to analyze this"
       ]
      },
      {
       "output_type": "stream",
       "stream": "stdout",
       "text": [
        "\n",
        "File: S14JNn_90_0_06052012_1_att_ss.csv\n",
        "Condition: neutral\n",
        "Using the weib function to analyze this"
       ]
      },
      {
       "output_type": "stream",
       "stream": "stdout",
       "text": [
        "\n",
        "File: S14JNn_90_90_06052012_1_att_ss.csv\n",
        "Condition: neutral\n",
        "Using the weib function to analyze this\n",
        "Analyzing S15"
       ]
      },
      {
       "output_type": "stream",
       "stream": "stdout",
       "text": [
        "\n",
        "File: S15KB_0_0_06052012_1_att_ss.csv\n",
        "Condition: cued\n",
        "Using the weib function to analyze this"
       ]
      },
      {
       "output_type": "stream",
       "stream": "stdout",
       "text": [
        "\n",
        "150.432079438\n",
        "1.0\n",
        "Condition: other\n",
        "Using the weib function to analyze this"
       ]
      },
      {
       "output_type": "stream",
       "stream": "stdout",
       "text": [
        "\n",
        "File: S15KB_0_90_06052012_1_att_ss.csv\n",
        "Condition: cued"
       ]
      },
      {
       "output_type": "stream",
       "stream": "stdout",
       "text": [
        "\n",
        "Using the weib function to analyze this\n",
        "15.7174829209"
       ]
      },
      {
       "output_type": "stream",
       "stream": "stdout",
       "text": [
        "\n",
        "1.0\n",
        "Condition: other\n",
        "Using the weib function to analyze this\n",
        "24.9538525685"
       ]
      },
      {
       "output_type": "stream",
       "stream": "stdout",
       "text": [
        "\n",
        "1.0\n",
        "1.0\n",
        "1.0\n",
        "File: S15KB_90_0_06052012_1_att_ss.csv\n",
        "Condition: cued\n",
        "Using the weib function to analyze this\n",
        "1.05105691372"
       ]
      },
      {
       "output_type": "stream",
       "stream": "stdout",
       "text": [
        "\n",
        "1.0\n",
        "Condition: other\n",
        "Using the weib function to analyze this\n",
        "1.39660179112"
       ]
      },
      {
       "output_type": "stream",
       "stream": "stdout",
       "text": [
        "\n",
        "1.0\n",
        "1.00000002064\n",
        "1.0\n",
        "File: S15KB_90_90_06052012_1_att_ss.csv\n",
        "Condition: cued\n",
        "Using the weib function to analyze this\n",
        "26.4718400675"
       ]
      },
      {
       "output_type": "stream",
       "stream": "stdout",
       "text": [
        "\n",
        "1.0\n",
        "Condition: other\n",
        "Using the weib function to analyze this\n",
        "96.2299343431\n",
        "1.0\n",
        "File: S15KBn_0_0_06052012_1_att_ss.csv\n",
        "Condition: neutral"
       ]
      },
      {
       "output_type": "stream",
       "stream": "stdout",
       "text": [
        "\n",
        "Using the weib function to analyze this\n",
        "File: S15KBn_0_90_06052012_1_att_ss.csv\n",
        "Condition: neutral\n",
        "Using the weib function to analyze this\n",
        "File: S15KBn_90_0_06052012_1_att_ss.csv"
       ]
      },
      {
       "output_type": "stream",
       "stream": "stdout",
       "text": [
        "\n",
        "Condition: neutral\n",
        "Using the weib function to analyze this\n",
        "File: S15KBn_90_90_06052012_1_att_ss.csv\n",
        "Condition: neutral\n",
        "Using the weib function to analyze this"
       ]
      },
      {
       "output_type": "stream",
       "stream": "stdout",
       "text": [
        "\n",
        "Analyzing S16\n",
        "File: S16PW_0_0_06082012_1_att_ss.csv\n",
        "Condition: cued\n",
        "Using the weib function to analyze this"
       ]
      },
      {
       "output_type": "stream",
       "stream": "stdout",
       "text": [
        "\n",
        "1.82856622848\n",
        "1.0\n",
        "1.61726698085\n",
        "1.0\n",
        "Condition: other\n",
        "Using the weib function to analyze this"
       ]
      },
      {
       "output_type": "stream",
       "stream": "stdout",
       "text": [
        "\n",
        "186.513698238\n",
        "1.0\n",
        "1.00000000016\n",
        "1.0\n",
        "File: S16PW_0_90_06082012_1_att_ss.csv\n",
        "Condition: cued"
       ]
      },
      {
       "output_type": "stream",
       "stream": "stdout",
       "text": [
        "\n",
        "Using the weib function to analyze this\n",
        "2.43052349757\n",
        "1.0\n",
        "Condition: other\n",
        "Using the weib function to analyze this"
       ]
      },
      {
       "output_type": "stream",
       "stream": "stdout",
       "text": [
        "\n",
        "1.20207814516\n",
        "1.0\n",
        "1.80401803823\n",
        "1.0\n",
        "File: S16PW_90_0_06082012_1_att_ss.csv\n",
        "Condition: cued\n",
        "Using the weib function to analyze this"
       ]
      },
      {
       "output_type": "stream",
       "stream": "stdout",
       "text": [
        "\n",
        "5.07221752576\n",
        "1.0\n",
        "1.0150541822\n",
        "1.0\n",
        "Condition: other\n",
        "Using the weib function to analyze this\n",
        "23.7799867676"
       ]
      },
      {
       "output_type": "stream",
       "stream": "stdout",
       "text": [
        "\n",
        "1.0\n",
        "File: S16PW_90_90_06082012_1_att_ss.csv\n",
        "Condition: cued\n",
        "Using the weib function to analyze this"
       ]
      },
      {
       "output_type": "stream",
       "stream": "stdout",
       "text": [
        "\n",
        "2.73678050316\n",
        "1.0\n",
        "1.04253410212\n",
        "1.0\n",
        "Condition: other\n",
        "Using the weib function to analyze this\n",
        "48.1172897012"
       ]
      },
      {
       "output_type": "stream",
       "stream": "stdout",
       "text": [
        "\n",
        "1.0\n",
        "File: S16PWn_0_0_06082012_1_att_ss.csv\n",
        "Condition: neutral\n",
        "Using the weib function to analyze this\n",
        "File: S16PWn_0_90_06082012_1_att_ss.csv\n",
        "Condition: neutral"
       ]
      },
      {
       "output_type": "stream",
       "stream": "stdout",
       "text": [
        "\n",
        "Using the weib function to analyze this\n",
        "File: S16PWn_90_0_06082012_1_att_ss.csv\n",
        "Condition: neutral\n",
        "Using the weib function to analyze this"
       ]
      },
      {
       "output_type": "stream",
       "stream": "stdout",
       "text": [
        "\n",
        "File: S16PWn_90_90_06082012_1_att_ss.csv\n",
        "Condition: neutral\n",
        "Using the weib function to analyze this\n",
        "Analyzing S17"
       ]
      },
      {
       "output_type": "stream",
       "stream": "stdout",
       "text": [
        "\n",
        "File: S17LD_0_0_06262012_1_att_ss.csv\n",
        "Condition: cued\n",
        "Using the weib function to analyze this\n",
        "4.82010367897"
       ]
      },
      {
       "output_type": "stream",
       "stream": "stdout",
       "text": [
        "\n",
        "1.0\n",
        "1.7550180497\n",
        "1.0\n",
        "Condition: other\n",
        "Using the weib function to analyze this\n",
        "11.3934385451"
       ]
      },
      {
       "output_type": "stream",
       "stream": "stdout",
       "text": [
        "\n",
        "1.0\n",
        "3.6587026878\n",
        "1.0\n",
        "File: S17LD_0_90_06262012_1_att_ss.csv\n",
        "Condition: cued\n",
        "Using the weib function to analyze this"
       ]
      },
      {
       "output_type": "stream",
       "stream": "stdout",
       "text": [
        "\n",
        "6.84279012691\n",
        "1.0\n",
        "Condition: other\n",
        "Using the weib function to analyze this"
       ]
      },
      {
       "output_type": "stream",
       "stream": "stdout",
       "text": [
        "\n",
        "76.090688039\n",
        "1.0\n",
        "File: S17LD_90_0_06262012_1_att_ss.csv\n",
        "Condition: cued\n",
        "Using the weib function to analyze this"
       ]
      },
      {
       "output_type": "stream",
       "stream": "stdout",
       "text": [
        "\n",
        "2.60823721012\n",
        "1.0\n",
        "1.10863227092\n",
        "1.0\n",
        "Condition: other\n",
        "Using the weib function to analyze this\n",
        "1.34150802636"
       ]
      },
      {
       "output_type": "stream",
       "stream": "stdout",
       "text": [
        "\n",
        "1.0\n",
        "1.56462078525\n",
        "1.0\n",
        "File: S17LD_90_90_06262012_1_att_ss.csv\n",
        "Condition: cued\n",
        "Using the weib function to analyze this"
       ]
      },
      {
       "output_type": "stream",
       "stream": "stdout",
       "text": [
        "\n",
        "221.57609371"
       ]
      },
      {
       "output_type": "stream",
       "stream": "stdout",
       "text": [
        "\n",
        "1.0\n",
        "Condition: other\n",
        "Using the weib function to analyze this\n",
        "69.4727076028"
       ]
      },
      {
       "output_type": "stream",
       "stream": "stdout",
       "text": [
        "\n",
        "1.0\n",
        "File: S17LDn_0_0_06262012_1_att_ss.csv\n",
        "Condition: neutral\n",
        "Using the weib function to analyze this\n",
        "File: S17LDn_0_90_06262012_1_att_ss.csv"
       ]
      },
      {
       "output_type": "stream",
       "stream": "stdout",
       "text": [
        "\n",
        "Condition: neutral\n",
        "Using the weib function to analyze this\n",
        "File: S17LDn_90_0_06262012_2_att_ss.csv\n",
        "Condition: neutral"
       ]
      },
      {
       "output_type": "stream",
       "stream": "stdout",
       "text": [
        "\n",
        "Using the weib function to analyze this\n",
        "File: S17LDn_90_90_06262012_1_att_ss.csv\n",
        "Condition: neutral\n",
        "Using the weib function to analyze this\n"
       ]
      }
     ],
     "prompt_number": 20
    },
    {
     "cell_type": "code",
     "collapsed": false,
     "input": [
      "uu = {}\n",
      "ll = {}\n",
      "m = {}\n",
      "for fit_func in ['cumgauss', 'weib']:\n",
      "    m[fit_func] = []\n",
      "    uu[fit_func] = []\n",
      "    ll[fit_func] = []\n",
      "    for ori_idx, ori in enumerate([(0,90), (0,0), (90,0), (90,90)]):\n",
      "        for cue_cond in cue_conds: \n",
      "            m[fit_func].append(np.mean(np.array(coeff[fit_func][ori_idx][cue_cond])))\n",
      "            lb,ub = tools.bootstrap_mean(np.array(coeff[fit_func][ori_idx][cue_cond]))\n",
      "            ll[fit_func].append(lb)\n",
      "            uu[fit_func].append(ub)"
     ],
     "language": "python",
     "metadata": {},
     "outputs": [],
     "prompt_number": 22
    },
    {
     "cell_type": "code",
     "collapsed": false,
     "input": [
      "for fit_func in ['cumgauss', 'weib']:\n",
      "    print fit_func, stats.nanmean(m[fit_func]) #np.mean(ll[fit_func]),np.mean(uu[fit_func])"
     ],
     "language": "python",
     "metadata": {},
     "outputs": [
      {
       "output_type": "stream",
       "stream": "stdout",
       "text": [
        "cumgauss 0.182076100079\n",
        "weib 0.204529602248\n"
       ]
      }
     ],
     "prompt_number": 23
    },
    {
     "cell_type": "code",
     "collapsed": false,
     "input": [],
     "language": "python",
     "metadata": {},
     "outputs": []
    }
   ],
   "metadata": {}
  }
 ]
}