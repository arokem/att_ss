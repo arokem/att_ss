{
 "metadata": {
  "name": "",
  "signature": "sha256:ab8c0d7af83c1ce18c3c43c8e485744a0ea3bbd1a532ee1b02e3befa16744c91"
 },
 "nbformat": 3,
 "nbformat_minor": 0,
 "worksheets": [
  {
   "cells": [
    {
     "cell_type": "code",
     "collapsed": false,
     "input": [
      "import tools\n",
      "import scipy.stats as stats\n",
      "reload(tools)"
     ],
     "language": "python",
     "metadata": {},
     "outputs": [
      {
       "metadata": {},
       "output_type": "pyout",
       "prompt_number": 1,
       "text": [
        "<module 'tools' from 'tools.pyc'>"
       ]
      }
     ],
     "prompt_number": 1
    },
    {
     "cell_type": "code",
     "collapsed": false,
     "input": [
      "cue_conds = ['cued', 'other', 'neutral']\n",
      "path_to_files='/Users/arokem/projects/att_ss/data/'"
     ],
     "language": "python",
     "metadata": {},
     "outputs": [],
     "prompt_number": 2
    },
    {
     "cell_type": "code",
     "collapsed": false,
     "input": [
      "coeff = {}\n",
      "\n",
      "for fit_func, func in zip(['cumgauss', 'weib'],[tools.cumgauss, tools.weibull]):\n",
      "    df1_odd, df2_odd = tools.get_df(17,\n",
      "                        path_to_files=path_to_files,\n",
      "                        boots=1,\n",
      "                        exclude=[13],\n",
      "                        cue_conds=cue_conds,\n",
      "                        fit_func=fit_func,\n",
      "                        even_or_odd='odd')\n",
      "\n",
      "    df1_even, df2_even = tools.get_df(17,\n",
      "                        path_to_files=path_to_files,\n",
      "                        boots=1,\n",
      "                        exclude=[13],\n",
      "                        cue_conds=cue_conds,\n",
      "                        fit_func=fit_func,\n",
      "                        even_or_odd='even')\n",
      "    R2 = []\n",
      "\n",
      "    for ori_idx, ori in enumerate([(0,90), (0,0), (90,0), (90,90)]):\n",
      "        R2.append({'cued':[], 'other':[], 'neutral':[]})\n",
      "    \n",
      "        x_even = dict(cued=[], other=[], neutral=[])\n",
      "        y_even = dict(cued=[], other=[], neutral=[])\n",
      "        th_even = dict(cued=[], other=[], neutral=[])\n",
      "        sl_even = dict(cued=[], other=[], neutral=[])\n",
      "        fit_even = dict(cued=[], other=[], neutral=[])\n",
      "\n",
      "        x_odd = dict(cued=[], other=[], neutral=[])\n",
      "        y_odd = dict(cued=[], other=[], neutral=[])\n",
      "        th_odd = dict(cued=[], other=[], neutral=[])\n",
      "        sl_odd = dict(cued=[], other=[], neutral=[])\n",
      "        fit_odd = dict(cued=[], other=[], neutral=[])\n",
      "\n",
      "        for sub in df1_even.columns:\n",
      "            for cue_cond in cue_conds: \n",
      "                x_even[cue_cond].append(df1_even[sub][ori][cue_cond]['x'])\n",
      "                y_even[cue_cond].append(df1_even[sub][ori][cue_cond]['y'])\n",
      "                th_even[cue_cond].append(df1_even[sub][ori][cue_cond]['fit'][0][0])\n",
      "                sl_even[cue_cond].append(df1_even[sub][ori][cue_cond]['fit'][0][1])\n",
      "                fit_even[cue_cond].append(df1_even[sub][ori][cue_cond]['fit'][0])\n",
      "\n",
      "                x_odd[cue_cond].append(df1_odd[sub][ori][cue_cond]['x'])\n",
      "                y_odd[cue_cond].append(df1_odd[sub][ori][cue_cond]['y'])\n",
      "                th_odd[cue_cond].append(df1_odd[sub][ori][cue_cond]['fit'][0][0])\n",
      "                sl_odd[cue_cond].append(df1_odd[sub][ori][cue_cond]['fit'][0][1])\n",
      "                fit_odd[cue_cond].append(df1_odd[sub][ori][cue_cond]['fit'][0])\n",
      "    \n",
      "                predict1 = func(np.array(x_even[cue_cond][-1]), *fit_odd[cue_cond][-1])\n",
      "                actual1 = y_even[cue_cond][-1]\n",
      "                predict2 = func(np.array(x_odd[cue_cond][-1]), *fit_even[cue_cond][-1])\n",
      "                actual2 = y_odd[cue_cond][-1]\n",
      "                R2[-1][cue_cond].append(np.sqrt(np.mean([np.hstack([(predict1-actual1)**2, (predict2-actual2)**2])])))\n",
      "    coeff[fit_func] = R2"
     ],
     "language": "python",
     "metadata": {},
     "outputs": [
      {
       "output_type": "stream",
       "stream": "stdout",
       "text": [
        "['S01', 'S02', 'S03', 'S04', 'S05', 'S06', 'S07', 'S08', 'S09', 'S10', 'S11', 'S12', 'S14', 'S15', 'S16', 'S17']\n",
        "Analyzing S01\n",
        "File: S01HS_0_0_02092012_1_att_ss.csv\n",
        "Condition: cued\n",
        "Using the cumgauss function to analyze this\n",
        "Condition: other\n",
        "Using the cumgauss function to analyze this"
       ]
      },
      {
       "output_type": "stream",
       "stream": "stdout",
       "text": [
        "\n",
        "File: S01HS_0_90_02092012_1_att_ss.csv\n",
        "Condition: cued\n",
        "Using the cumgauss function to analyze this"
       ]
      },
      {
       "output_type": "stream",
       "stream": "stdout",
       "text": [
        "\n",
        "Condition: other\n",
        "Using the cumgauss function to analyze this\n",
        "File: S01HS_90_0_02092012_1_att_ss.csv\n",
        "Condition: cued"
       ]
      },
      {
       "output_type": "stream",
       "stream": "stdout",
       "text": [
        "\n",
        "Using the cumgauss function to analyze this\n",
        "Condition: other\n",
        "Using the cumgauss function to analyze this"
       ]
      },
      {
       "output_type": "stream",
       "stream": "stdout",
       "text": [
        "\n",
        "File: S01HS_90_90_02092012_1_att_ss.csv\n",
        "Condition: cued\n",
        "Using the cumgauss function to analyze this"
       ]
      },
      {
       "output_type": "stream",
       "stream": "stdout",
       "text": [
        "\n",
        "Condition: other\n",
        "Using the cumgauss function to analyze this\n",
        "File: S01HSn_0_0_02162012_1_att_ss.csv\n",
        "Condition: neutral\n",
        "Using the cumgauss function to analyze this\n",
        "File: S01HSn_0_90_02162012_1_att_ss.csv"
       ]
      },
      {
       "output_type": "stream",
       "stream": "stdout",
       "text": [
        "\n",
        "Condition: neutral\n",
        "Using the cumgauss function to analyze this\n",
        "File: S01HSn_90_0_02162012_1_att_ss.csv\n",
        "Condition: neutral\n",
        "Using the cumgauss function to analyze this"
       ]
      },
      {
       "output_type": "stream",
       "stream": "stdout",
       "text": [
        "\n",
        "File: S01HSn_90_90_02162012_1_att_ss.csv\n",
        "Condition: neutral\n",
        "Using the cumgauss function to analyze this\n",
        "Analyzing S02\n",
        "File: S02DT_0_0_02092012_1_att_ss.csv\n",
        "Condition: cued\n",
        "Using the cumgauss function to analyze this"
       ]
      },
      {
       "output_type": "stream",
       "stream": "stdout",
       "text": [
        "\n",
        "Condition: other\n",
        "Using the cumgauss function to analyze this\n",
        "File: S02DT_0_90_02092012_1_att_ss.csv\n",
        "Condition: cued"
       ]
      },
      {
       "output_type": "stream",
       "stream": "stdout",
       "text": [
        "\n",
        "Using the cumgauss function to analyze this\n",
        "Condition: other\n",
        "Using the cumgauss function to analyze this"
       ]
      },
      {
       "output_type": "stream",
       "stream": "stdout",
       "text": [
        "\n",
        "File: S02DT_90_0_02092012_1_att_ss.csv\n",
        "Condition: cued\n",
        "Using the cumgauss function to analyze this"
       ]
      },
      {
       "output_type": "stream",
       "stream": "stdout",
       "text": [
        "\n",
        "Condition: other\n",
        "Using the cumgauss function to analyze this\n",
        "File: S02DT_90_90_02092012_1_att_ss.csv\n",
        "Condition: cued"
       ]
      },
      {
       "output_type": "stream",
       "stream": "stdout",
       "text": [
        "\n",
        "Using the cumgauss function to analyze this\n",
        "Condition: other\n",
        "Using the cumgauss function to analyze this"
       ]
      },
      {
       "output_type": "stream",
       "stream": "stdout",
       "text": [
        "\n",
        "File: S02DTn_0_0_02162012_1_att_ss.csv\n",
        "Condition: neutral\n",
        "Using the cumgauss function to analyze this\n",
        "File: S02DTn_0_90_02162012_1_att_ss.csv\n",
        "Condition: neutral\n",
        "Using the cumgauss function to analyze this"
       ]
      },
      {
       "output_type": "stream",
       "stream": "stdout",
       "text": [
        "\n",
        "File: S02DTn_90_0_02162012_1_att_ss.csv\n",
        "Condition: neutral\n",
        "Using the cumgauss function to analyze this\n",
        "File: S02DTn_90_90_02162012_1_att_ss.csv\n",
        "Condition: neutral\n",
        "Using the cumgauss function to analyze this"
       ]
      },
      {
       "output_type": "stream",
       "stream": "stdout",
       "text": [
        "\n",
        "Analyzing S03\n",
        "File: S03AB_0_0_02102012_1_att_ss.csv\n",
        "Condition: cued\n",
        "Using the cumgauss function to analyze this"
       ]
      },
      {
       "output_type": "stream",
       "stream": "stdout",
       "text": [
        "\n",
        "Condition: other\n",
        "Using the cumgauss function to analyze this\n",
        "File: S03AB_0_90_02102012_1_att_ss.csv\n",
        "Condition: cued"
       ]
      },
      {
       "output_type": "stream",
       "stream": "stdout",
       "text": [
        "\n",
        "Using the cumgauss function to analyze this\n",
        "Condition: other\n",
        "Using the cumgauss function to analyze this"
       ]
      },
      {
       "output_type": "stream",
       "stream": "stdout",
       "text": [
        "\n",
        "File: S03AB_90_0_02102012_1_att_ss.csv\n",
        "Condition: cued\n",
        "Using the cumgauss function to analyze this"
       ]
      },
      {
       "output_type": "stream",
       "stream": "stdout",
       "text": [
        "\n",
        "Condition: other\n",
        "Using the cumgauss function to analyze this\n",
        "File: S03AB_90_90_02102012_1_att_ss.csv\n",
        "Condition: cued"
       ]
      },
      {
       "output_type": "stream",
       "stream": "stdout",
       "text": [
        "\n",
        "Using the cumgauss function to analyze this\n",
        "Condition: other\n",
        "Using the cumgauss function to analyze this"
       ]
      },
      {
       "output_type": "stream",
       "stream": "stdout",
       "text": [
        "\n",
        "File: S03ABn_0_0_02102012_1_att_ss.csv\n",
        "Condition: neutral\n",
        "Using the cumgauss function to analyze this\n",
        "File: S03ABn_0_90_02102012_1_att_ss.csv\n",
        "Condition: neutral\n",
        "Using the cumgauss function to analyze this"
       ]
      },
      {
       "output_type": "stream",
       "stream": "stdout",
       "text": [
        "\n",
        "File: S03ABn_90_0_02102012_2_att_ss.csv\n",
        "Condition: neutral\n",
        "Using the cumgauss function to analyze this\n",
        "File: S03ABn_90_90_02102012_1_att_ss.csv\n",
        "Condition: neutral\n",
        "Using the cumgauss function to analyze this"
       ]
      },
      {
       "output_type": "stream",
       "stream": "stdout",
       "text": [
        "\n",
        "Analyzing S04\n",
        "File: S04LC_0_0_02162012_1_att_ss.csv\n",
        "Condition: cued\n",
        "Using the cumgauss function to analyze this"
       ]
      },
      {
       "output_type": "stream",
       "stream": "stdout",
       "text": [
        "\n",
        "Condition: other\n",
        "Using the cumgauss function to analyze this\n",
        "File: S04LC_0_90_02162012_1_att_ss.csv\n",
        "Condition: cued"
       ]
      },
      {
       "output_type": "stream",
       "stream": "stdout",
       "text": [
        "\n",
        "Using the cumgauss function to analyze this\n",
        "Condition: other\n",
        "Using the cumgauss function to analyze this"
       ]
      },
      {
       "output_type": "stream",
       "stream": "stdout",
       "text": [
        "\n",
        "File: S04LC_90_0_02162012_1_att_ss.csv\n",
        "Condition: cued\n",
        "Using the cumgauss function to analyze this"
       ]
      },
      {
       "output_type": "stream",
       "stream": "stdout",
       "text": [
        "\n",
        "Condition: other\n",
        "Using the cumgauss function to analyze this\n",
        "File: S04LC_90_90_02162012_1_att_ss.csv\n",
        "Condition: cued"
       ]
      },
      {
       "output_type": "stream",
       "stream": "stdout",
       "text": [
        "\n",
        "Using the cumgauss function to analyze this\n",
        "Condition: other\n",
        "Using the cumgauss function to analyze this"
       ]
      },
      {
       "output_type": "stream",
       "stream": "stdout",
       "text": [
        "\n",
        "File: S04LCn_0_0_02162012_1_att_ss.csv\n",
        "Condition: neutral\n",
        "Using the cumgauss function to analyze this\n",
        "File: S04LCn_0_90_02162012_1_att_ss.csv\n",
        "Condition: neutral\n",
        "Using the cumgauss function to analyze this\n",
        "File: S04LCn_90_0_02162012_1_att_ss.csv"
       ]
      },
      {
       "output_type": "stream",
       "stream": "stdout",
       "text": [
        "\n",
        "Condition: neutral\n",
        "Using the cumgauss function to analyze this\n",
        "File: S04LCn_90_90_02162012_1_att_ss.csv\n",
        "Condition: neutral\n",
        "Using the cumgauss function to analyze this"
       ]
      },
      {
       "output_type": "stream",
       "stream": "stdout",
       "text": [
        "\n",
        "Analyzing S05\n",
        "File: S05JV_0_0_02162012_1_att_ss.csv\n",
        "Condition: cued\n",
        "Using the cumgauss function to analyze this"
       ]
      },
      {
       "output_type": "stream",
       "stream": "stdout",
       "text": [
        "\n",
        "Condition: other\n",
        "Using the cumgauss function to analyze this\n",
        "File: S05JV_0_90_02162012_1_att_ss.csv\n",
        "Condition: cued"
       ]
      },
      {
       "output_type": "stream",
       "stream": "stdout",
       "text": [
        "\n",
        "Using the cumgauss function to analyze this\n",
        "Condition: other\n",
        "Using the cumgauss function to analyze this"
       ]
      },
      {
       "output_type": "stream",
       "stream": "stdout",
       "text": [
        "\n",
        "File: S05JV_90_0_02162012_1_att_ss.csv\n",
        "Condition: cued\n",
        "Using the cumgauss function to analyze this"
       ]
      },
      {
       "output_type": "stream",
       "stream": "stdout",
       "text": [
        "\n",
        "Condition: other\n",
        "Using the cumgauss function to analyze this\n",
        "File: S05JV_90_90_02162012_1_att_ss.csv\n",
        "Condition: cued"
       ]
      },
      {
       "output_type": "stream",
       "stream": "stdout",
       "text": [
        "\n",
        "Using the cumgauss function to analyze this\n",
        "Condition: other\n",
        "Using the cumgauss function to analyze this"
       ]
      },
      {
       "output_type": "stream",
       "stream": "stdout",
       "text": [
        "\n",
        "File: S05JV_90_90_02232012_1_att_ss.csv\n",
        "Condition: cued\n",
        "Using the cumgauss function to analyze this"
       ]
      },
      {
       "output_type": "stream",
       "stream": "stdout",
       "text": [
        "\n",
        "Condition: other\n",
        "Using the cumgauss function to analyze this\n",
        "File: S05JVn_0_0_02162012_1_att_ss.csv\n",
        "Condition: neutral"
       ]
      },
      {
       "output_type": "stream",
       "stream": "stdout",
       "text": [
        "\n",
        "Using the cumgauss function to analyze this\n",
        "File: S05JVn_0_90_02162012_1_att_ss.csv\n",
        "Condition: neutral\n",
        "Using the cumgauss function to analyze this\n",
        "File: S05JVn_90_0_02162012_1_att_ss.csv\n",
        "Condition: neutral"
       ]
      },
      {
       "output_type": "stream",
       "stream": "stdout",
       "text": [
        "\n",
        "Using the cumgauss function to analyze this\n",
        "File: S05JVn_90_90_02162012_1_att_ss.csv\n",
        "Condition: neutral\n",
        "Using the cumgauss function to analyze this\n",
        "Analyzing S06\n",
        "File: S06LN_0_0_02212012_1_att_ss.csv\n",
        "Condition: cued"
       ]
      },
      {
       "output_type": "stream",
       "stream": "stdout",
       "text": [
        "\n",
        "Using the cumgauss function to analyze this\n",
        "Condition: other\n",
        "Using the cumgauss function to analyze this"
       ]
      },
      {
       "output_type": "stream",
       "stream": "stdout",
       "text": [
        "\n",
        "File: S06LN_0_90_02212012_1_att_ss.csv\n",
        "Condition: cued\n",
        "Using the cumgauss function to analyze this"
       ]
      },
      {
       "output_type": "stream",
       "stream": "stdout",
       "text": [
        "\n",
        "Condition: other\n",
        "Using the cumgauss function to analyze this\n",
        "File: S06LN_90_0_02212012_1_att_ss.csv\n",
        "Condition: cued"
       ]
      },
      {
       "output_type": "stream",
       "stream": "stdout",
       "text": [
        "\n",
        "Using the cumgauss function to analyze this\n",
        "Condition: other\n",
        "Using the cumgauss function to analyze this"
       ]
      },
      {
       "output_type": "stream",
       "stream": "stdout",
       "text": [
        "\n",
        "File: S06LN_90_90_02212012_1_att_ss.csv\n",
        "Condition: cued\n",
        "Using the cumgauss function to analyze this"
       ]
      },
      {
       "output_type": "stream",
       "stream": "stdout",
       "text": [
        "\n",
        "Condition: other\n",
        "Using the cumgauss function to analyze this\n",
        "File: S06LNn_0_0_02212012_1_att_ss.csv\n",
        "Condition: neutral\n",
        "Using the cumgauss function to analyze this"
       ]
      },
      {
       "output_type": "stream",
       "stream": "stdout",
       "text": [
        "\n",
        "File: S06LNn_0_90_02212012_1_att_ss.csv\n",
        "Condition: neutral\n",
        "Using the cumgauss function to analyze this\n",
        "File: S06LNn_90_0_02212012_1_att_ss.csv\n",
        "Condition: neutral\n",
        "Using the cumgauss function to analyze this\n",
        "File: S06LNn_90_90_02212012_1_att_ss.csv\n",
        "Condition: neutral"
       ]
      },
      {
       "output_type": "stream",
       "stream": "stdout",
       "text": [
        "\n",
        "Using the cumgauss function to analyze this\n",
        "Analyzing S07\n",
        "File: S07GM_0_0_02232012_1_att_ss.csv\n",
        "Condition: cued\n",
        "Using the cumgauss function to analyze this"
       ]
      },
      {
       "output_type": "stream",
       "stream": "stdout",
       "text": [
        "\n",
        "Condition: other\n",
        "Using the cumgauss function to analyze this\n",
        "File: S07GM_0_90_02232012_1_att_ss.csv\n",
        "Condition: cued"
       ]
      },
      {
       "output_type": "stream",
       "stream": "stdout",
       "text": [
        "\n",
        "Using the cumgauss function to analyze this\n",
        "Condition: other\n",
        "Using the cumgauss function to analyze this"
       ]
      },
      {
       "output_type": "stream",
       "stream": "stdout",
       "text": [
        "\n",
        "File: S07GM_90_0_02232012_1_att_ss.csv\n",
        "Condition: cued\n",
        "Using the cumgauss function to analyze this"
       ]
      },
      {
       "output_type": "stream",
       "stream": "stdout",
       "text": [
        "\n",
        "Condition: other\n",
        "Using the cumgauss function to analyze this\n",
        "File: S07GM_90_90_02232012_1_att_ss.csv\n",
        "Condition: cued"
       ]
      },
      {
       "output_type": "stream",
       "stream": "stdout",
       "text": [
        "\n",
        "Using the cumgauss function to analyze this\n",
        "Condition: other\n",
        "Using the cumgauss function to analyze this"
       ]
      },
      {
       "output_type": "stream",
       "stream": "stdout",
       "text": [
        "\n",
        "File: S07GMn_0_0_02232012_1_att_ss.csv\n",
        "Condition: neutral\n",
        "Using the cumgauss function to analyze this\n",
        "File: S07GMn_0_90_02232012_1_att_ss.csv\n",
        "Condition: neutral\n",
        "Using the cumgauss function to analyze this"
       ]
      },
      {
       "output_type": "stream",
       "stream": "stdout",
       "text": [
        "\n",
        "File: S07GMn_90_0_02232012_1_att_ss.csv\n",
        "Condition: neutral\n",
        "Using the cumgauss function to analyze this\n",
        "File: S07GMn_90_90_02232012_1_att_ss.csv\n",
        "Condition: neutral\n",
        "Using the cumgauss function to analyze this"
       ]
      },
      {
       "output_type": "stream",
       "stream": "stdout",
       "text": [
        "\n",
        "File: S07MGn_0_0_05292012_1_att_ss.csv\n",
        "Condition: neutral\n",
        "Using the cumgauss function to analyze this\n",
        "File: S07MGn_0_90_05292012_1_att_ss.csv\n",
        "Condition: neutral\n",
        "Using the cumgauss function to analyze this"
       ]
      },
      {
       "output_type": "stream",
       "stream": "stdout",
       "text": [
        "\n",
        "File: S07MGn_90_0_05292012_1_att_ss.csv\n",
        "Condition: neutral\n",
        "Using the cumgauss function to analyze this\n",
        "File: S07MGn_90_90_05292012_1_att_ss.csv\n",
        "Condition: neutral\n",
        "Using the cumgauss function to analyze this\n",
        "Analyzing S08"
       ]
      },
      {
       "output_type": "stream",
       "stream": "stdout",
       "text": [
        "\n",
        "File: S08SB_0_0_02282012_1_att_ss.csv\n",
        "Condition: cued\n",
        "Using the cumgauss function to analyze this"
       ]
      },
      {
       "output_type": "stream",
       "stream": "stdout",
       "text": [
        "\n",
        "Condition: other\n",
        "Using the cumgauss function to analyze this\n",
        "File: S08SB_0_90_02282012_1_att_ss.csv\n",
        "Condition: cued"
       ]
      },
      {
       "output_type": "stream",
       "stream": "stdout",
       "text": [
        "\n",
        "Using the cumgauss function to analyze this\n",
        "Condition: other\n",
        "Using the cumgauss function to analyze this"
       ]
      },
      {
       "output_type": "stream",
       "stream": "stdout",
       "text": [
        "\n",
        "File: S08SB_90_0_02282012_1_att_ss.csv\n",
        "Condition: cued\n",
        "Using the cumgauss function to analyze this"
       ]
      },
      {
       "output_type": "stream",
       "stream": "stdout",
       "text": [
        "\n",
        "Condition: other\n",
        "Using the cumgauss function to analyze this\n",
        "File: S08SB_90_90_02282012_1_att_ss.csv\n",
        "Condition: cued"
       ]
      },
      {
       "output_type": "stream",
       "stream": "stdout",
       "text": [
        "\n",
        "Using the cumgauss function to analyze this\n",
        "Condition: other\n",
        "Using the cumgauss function to analyze this"
       ]
      },
      {
       "output_type": "stream",
       "stream": "stdout",
       "text": [
        "\n",
        "File: S08SBn_0_0_02282012_1_att_ss.csv\n",
        "Condition: neutral\n",
        "Using the cumgauss function to analyze this\n",
        "File: S08SBn_0_90_02282012_1_att_ss.csv\n",
        "Condition: neutral\n",
        "Using the cumgauss function to analyze this\n",
        "File: S08SBn_90_0_02282012_1_att_ss.csv"
       ]
      },
      {
       "output_type": "stream",
       "stream": "stdout",
       "text": [
        "\n",
        "Condition: neutral\n",
        "Using the cumgauss function to analyze this\n",
        "File: S08SBn_90_90_02282012_1_att_ss.csv\n",
        "Condition: neutral\n",
        "Using the cumgauss function to analyze this\n",
        "Analyzing S09"
       ]
      },
      {
       "output_type": "stream",
       "stream": "stdout",
       "text": [
        "\n",
        "File: S09CL_0_0_02292012_1_att_ss.csv\n",
        "Condition: cued\n",
        "Using the cumgauss function to analyze this"
       ]
      },
      {
       "output_type": "stream",
       "stream": "stdout",
       "text": [
        "\n",
        "Condition: other\n",
        "Using the cumgauss function to analyze this\n",
        "File: S09CL_0_90_02292012_1_att_ss.csv\n",
        "Condition: cued"
       ]
      },
      {
       "output_type": "stream",
       "stream": "stdout",
       "text": [
        "\n",
        "Using the cumgauss function to analyze this\n",
        "Condition: other\n",
        "Using the cumgauss function to analyze this"
       ]
      },
      {
       "output_type": "stream",
       "stream": "stdout",
       "text": [
        "\n",
        "File: S09CL_90_0_02292012_1_att_ss.csv\n",
        "Condition: cued\n",
        "Using the cumgauss function to analyze this"
       ]
      },
      {
       "output_type": "stream",
       "stream": "stdout",
       "text": [
        "\n",
        "Condition: other\n",
        "Using the cumgauss function to analyze this\n",
        "File: S09CL_90_90_02292012_1_att_ss.csv"
       ]
      },
      {
       "output_type": "stream",
       "stream": "stdout",
       "text": [
        "\n",
        "Condition: cued\n",
        "Using the cumgauss function to analyze this"
       ]
      },
      {
       "output_type": "stream",
       "stream": "stdout",
       "text": [
        "\n",
        "Condition: other\n",
        "Using the cumgauss function to analyze this\n",
        "File: S09CL_90_90_02292012_2_att_ss.csv"
       ]
      },
      {
       "output_type": "stream",
       "stream": "stdout",
       "text": [
        "\n",
        "Condition: cued\n",
        "Using the cumgauss function to analyze this"
       ]
      },
      {
       "output_type": "stream",
       "stream": "stdout",
       "text": [
        "\n",
        "Condition: other\n",
        "Using the cumgauss function to analyze this\n",
        "File: S09CLn_0_0_02292012_1_att_ss.csv"
       ]
      },
      {
       "output_type": "stream",
       "stream": "stdout",
       "text": [
        "\n",
        "Condition: neutral\n",
        "Using the cumgauss function to analyze this\n",
        "File: S09CLn_0_90_02292012_1_att_ss.csv\n",
        "Condition: neutral\n",
        "Using the cumgauss function to analyze this"
       ]
      },
      {
       "output_type": "stream",
       "stream": "stdout",
       "text": [
        "\n",
        "File: S09CLn_90_0_02292012_1_att_ss.csv\n",
        "Condition: neutral\n",
        "Using the cumgauss function to analyze this\n",
        "File: S09CLn_90_90_02292012_1_att_ss.csv\n",
        "Condition: neutral\n",
        "Using the cumgauss function to analyze this"
       ]
      },
      {
       "output_type": "stream",
       "stream": "stdout",
       "text": [
        "\n",
        "Analyzing S10\n",
        "File: S10SH_0_0_03012012_1_att_ss.csv\n",
        "Condition: cued\n",
        "Using the cumgauss function to analyze this"
       ]
      },
      {
       "output_type": "stream",
       "stream": "stdout",
       "text": [
        "\n",
        "Condition: other\n",
        "Using the cumgauss function to analyze this\n",
        "File: S10SH_0_90_03012012_1_att_ss.csv\n",
        "Condition: cued"
       ]
      },
      {
       "output_type": "stream",
       "stream": "stdout",
       "text": [
        "\n",
        "Using the cumgauss function to analyze this\n",
        "Condition: other\n",
        "Using the cumgauss function to analyze this"
       ]
      },
      {
       "output_type": "stream",
       "stream": "stdout",
       "text": [
        "\n",
        "File: S10SH_90_0_03012012_1_att_ss.csv\n",
        "Condition: cued\n",
        "Using the cumgauss function to analyze this"
       ]
      },
      {
       "output_type": "stream",
       "stream": "stdout",
       "text": [
        "\n",
        "Condition: other\n",
        "Using the cumgauss function to analyze this\n",
        "File: S10SH_90_90_03012012_1_att_ss.csv\n",
        "Condition: cued"
       ]
      },
      {
       "output_type": "stream",
       "stream": "stdout",
       "text": [
        "\n",
        "Using the cumgauss function to analyze this\n",
        "Condition: other\n",
        "Using the cumgauss function to analyze this"
       ]
      },
      {
       "output_type": "stream",
       "stream": "stdout",
       "text": [
        "\n",
        "File: S10SHn_0_0_03012012_1_att_ss.csv\n",
        "Condition: neutral\n",
        "Using the cumgauss function to analyze this\n",
        "File: S10SHn_0_90_03012012_1_att_ss.csv\n",
        "Condition: neutral\n",
        "Using the cumgauss function to analyze this\n",
        "File: S10SHn_90_0_03012012_1_att_ss.csv\n",
        "Condition: neutral"
       ]
      },
      {
       "output_type": "stream",
       "stream": "stdout",
       "text": [
        "\n",
        "Using the cumgauss function to analyze this\n",
        "File: S10SHn_90_90_03012012_1_att_ss.csv\n",
        "Condition: neutral\n",
        "Using the cumgauss function to analyze this\n",
        "Analyzing S11\n",
        "File: S11TL_0_0_03132012_1_att_ss.csv\n",
        "Condition: cued"
       ]
      },
      {
       "output_type": "stream",
       "stream": "stdout",
       "text": [
        "\n",
        "Using the cumgauss function to analyze this\n",
        "Condition: other\n",
        "Using the cumgauss function to analyze this"
       ]
      },
      {
       "output_type": "stream",
       "stream": "stdout",
       "text": [
        "\n",
        "File: S11TL_0_90_03132012_1_att_ss.csv\n",
        "Condition: cued\n",
        "Using the cumgauss function to analyze this\n",
        "Condition: other"
       ]
      },
      {
       "output_type": "stream",
       "stream": "stdout",
       "text": [
        "\n",
        "Using the cumgauss function to analyze this\n",
        "File: S11TL_90_0_03132012_1_att_ss.csv\n",
        "Condition: cued"
       ]
      },
      {
       "output_type": "stream",
       "stream": "stdout",
       "text": [
        "\n",
        "Using the cumgauss function to analyze this\n",
        "Condition: other\n",
        "Using the cumgauss function to analyze this"
       ]
      },
      {
       "output_type": "stream",
       "stream": "stdout",
       "text": [
        "\n",
        "File: S11TL_90_90_03132012_1_att_ss.csv\n",
        "Condition: cued\n",
        "Using the cumgauss function to analyze this"
       ]
      },
      {
       "output_type": "stream",
       "stream": "stdout",
       "text": [
        "\n",
        "Condition: other\n",
        "Using the cumgauss function to analyze this\n",
        "File: S11TLn_0_0_03132012_1_att_ss.csv\n",
        "Condition: neutral\n",
        "Using the cumgauss function to analyze this\n",
        "File: S11TLn_0_90_03132012_1_att_ss.csv"
       ]
      },
      {
       "output_type": "stream",
       "stream": "stdout",
       "text": [
        "\n",
        "Condition: neutral\n",
        "Using the cumgauss function to analyze this\n",
        "File: S11TLn_90_0_03132012_1_att_ss.csv\n",
        "Condition: neutral\n",
        "Using the cumgauss function to analyze this\n",
        "File: S11TLn_90_90_03132012_1_att_ss.csv\n",
        "Condition: neutral\n",
        "Using the cumgauss function to analyze this"
       ]
      },
      {
       "output_type": "stream",
       "stream": "stdout",
       "text": [
        "\n",
        "Analyzing S12\n",
        "File: S12JD_0_0_05232012_1_att_ss.csv\n",
        "Condition: cued\n",
        "Using the cumgauss function to analyze this"
       ]
      },
      {
       "output_type": "stream",
       "stream": "stdout",
       "text": [
        "\n",
        "Condition: other\n",
        "Using the cumgauss function to analyze this\n",
        "File: S12JD_0_90_05232012_1_att_ss.csv\n",
        "Condition: cued"
       ]
      },
      {
       "output_type": "stream",
       "stream": "stdout",
       "text": [
        "\n",
        "Using the cumgauss function to analyze this\n",
        "Condition: other\n",
        "Using the cumgauss function to analyze this"
       ]
      },
      {
       "output_type": "stream",
       "stream": "stdout",
       "text": [
        "\n",
        "File: S12JD_90_0_05232012_1_att_ss.csv\n",
        "Condition: cued\n",
        "Using the cumgauss function to analyze this"
       ]
      },
      {
       "output_type": "stream",
       "stream": "stdout",
       "text": [
        "\n",
        "Condition: other\n",
        "Using the cumgauss function to analyze this\n",
        "File: S12JD_90_90_05232012_1_att_ss.csv\n",
        "Condition: cued"
       ]
      },
      {
       "output_type": "stream",
       "stream": "stdout",
       "text": [
        "\n",
        "Using the cumgauss function to analyze this\n",
        "Condition: other\n",
        "Using the cumgauss function to analyze this"
       ]
      },
      {
       "output_type": "stream",
       "stream": "stdout",
       "text": [
        "\n",
        "File: S12JD_n_0_0_05232012_1_att_ss.csv\n",
        "Condition: neutral\n",
        "Using the cumgauss function to analyze this\n",
        "File: S12JD_n_0_90_05232012_1_att_ss.csv\n",
        "Condition: neutral\n",
        "Using the cumgauss function to analyze this\n",
        "File: S12JD_n_90_0_05232012_1_att_ss.csv"
       ]
      },
      {
       "output_type": "stream",
       "stream": "stdout",
       "text": [
        "\n",
        "Condition: neutral\n",
        "Using the cumgauss function to analyze this\n",
        "File: S12JD_n_90_90_05232012_1_att_ss.csv\n",
        "Condition: neutral\n",
        "Using the cumgauss function to analyze this\n",
        "Analyzing S14\n",
        "File: S14JN_0_0_06052012_1_att_ss.csv\n",
        "Condition: cued"
       ]
      },
      {
       "output_type": "stream",
       "stream": "stdout",
       "text": [
        "\n",
        "Using the cumgauss function to analyze this\n",
        "Condition: other\n",
        "Using the cumgauss function to analyze this"
       ]
      },
      {
       "output_type": "stream",
       "stream": "stdout",
       "text": [
        "\n",
        "File: S14JN_0_90_06052012_1_att_ss.csv\n",
        "Condition: cued\n",
        "Using the cumgauss function to analyze this"
       ]
      },
      {
       "output_type": "stream",
       "stream": "stdout",
       "text": [
        "\n",
        "Condition: other\n",
        "Using the cumgauss function to analyze this\n",
        "File: S14JN_90_0_06052012_1_att_ss.csv\n",
        "Condition: cued"
       ]
      },
      {
       "output_type": "stream",
       "stream": "stdout",
       "text": [
        "\n",
        "Using the cumgauss function to analyze this\n",
        "Condition: other\n",
        "Using the cumgauss function to analyze this"
       ]
      },
      {
       "output_type": "stream",
       "stream": "stdout",
       "text": [
        "\n",
        "File: S14JN_90_90_06052012_1_att_ss.csv\n",
        "Condition: cued\n",
        "Using the cumgauss function to analyze this\n",
        "Condition: other"
       ]
      },
      {
       "output_type": "stream",
       "stream": "stdout",
       "text": [
        "\n",
        "Using the cumgauss function to analyze this\n",
        "File: S14JNn_0_0_06052012_1_att_ss.csv\n",
        "Condition: neutral\n",
        "Using the cumgauss function to analyze this"
       ]
      },
      {
       "output_type": "stream",
       "stream": "stdout",
       "text": [
        "\n",
        "File: S14JNn_0_90_06052012_1_att_ss.csv\n",
        "Condition: neutral\n",
        "Using the cumgauss function to analyze this\n",
        "File: S14JNn_90_0_06052012_1_att_ss.csv\n",
        "Condition: neutral\n",
        "Using the cumgauss function to analyze this\n",
        "File: S14JNn_90_90_06052012_1_att_ss.csv\n",
        "Condition: neutral"
       ]
      },
      {
       "output_type": "stream",
       "stream": "stdout",
       "text": [
        "\n",
        "Using the cumgauss function to analyze this\n",
        "Analyzing S15\n",
        "File: S15KB_0_0_06052012_1_att_ss.csv\n",
        "Condition: cued\n",
        "Using the cumgauss function to analyze this"
       ]
      },
      {
       "output_type": "stream",
       "stream": "stdout",
       "text": [
        "\n",
        "Condition: other\n",
        "Using the cumgauss function to analyze this\n",
        "File: S15KB_0_90_06052012_1_att_ss.csv\n",
        "Condition: cued"
       ]
      },
      {
       "output_type": "stream",
       "stream": "stdout",
       "text": [
        "\n",
        "Using the cumgauss function to analyze this\n",
        "Condition: other\n",
        "Using the cumgauss function to analyze this"
       ]
      },
      {
       "output_type": "stream",
       "stream": "stdout",
       "text": [
        "\n",
        "File: S15KB_90_0_06052012_1_att_ss.csv\n",
        "Condition: cued\n",
        "Using the cumgauss function to analyze this"
       ]
      },
      {
       "output_type": "stream",
       "stream": "stdout",
       "text": [
        "\n",
        "Condition: other\n",
        "Using the cumgauss function to analyze this\n",
        "File: S15KB_90_90_06052012_1_att_ss.csv"
       ]
      },
      {
       "output_type": "stream",
       "stream": "stdout",
       "text": [
        "\n",
        "Condition: cued\n",
        "Using the cumgauss function to analyze this"
       ]
      },
      {
       "output_type": "stream",
       "stream": "stdout",
       "text": [
        "\n",
        "Condition: other\n",
        "Using the cumgauss function to analyze this\n",
        "File: S15KBn_0_0_06052012_1_att_ss.csv\n",
        "Condition: neutral"
       ]
      },
      {
       "output_type": "stream",
       "stream": "stdout",
       "text": [
        "\n",
        "Using the cumgauss function to analyze this\n",
        "File: S15KBn_0_90_06052012_1_att_ss.csv\n",
        "Condition: neutral\n",
        "Using the cumgauss function to analyze this\n",
        "File: S15KBn_90_0_06052012_1_att_ss.csv"
       ]
      },
      {
       "output_type": "stream",
       "stream": "stdout",
       "text": [
        "\n",
        "Condition: neutral\n",
        "Using the cumgauss function to analyze this\n",
        "File: S15KBn_90_90_06052012_1_att_ss.csv\n",
        "Condition: neutral\n",
        "Using the cumgauss function to analyze this\n",
        "Analyzing S16"
       ]
      },
      {
       "output_type": "stream",
       "stream": "stdout",
       "text": [
        "\n",
        "File: S16PW_0_0_06082012_1_att_ss.csv\n",
        "Condition: cued\n",
        "Using the cumgauss function to analyze this"
       ]
      },
      {
       "output_type": "stream",
       "stream": "stdout",
       "text": [
        "\n",
        "Condition: other\n",
        "Using the cumgauss function to analyze this\n",
        "File: S16PW_0_90_06082012_1_att_ss.csv\n",
        "Condition: cued"
       ]
      },
      {
       "output_type": "stream",
       "stream": "stdout",
       "text": [
        "\n",
        "Using the cumgauss function to analyze this\n",
        "Condition: other\n",
        "Using the cumgauss function to analyze this"
       ]
      },
      {
       "output_type": "stream",
       "stream": "stdout",
       "text": [
        "\n",
        "File: S16PW_90_0_06082012_1_att_ss.csv\n",
        "Condition: cued\n",
        "Using the cumgauss function to analyze this"
       ]
      },
      {
       "output_type": "stream",
       "stream": "stdout",
       "text": [
        "\n",
        "Condition: other\n",
        "Using the cumgauss function to analyze this\n",
        "File: S16PW_90_90_06082012_1_att_ss.csv\n",
        "Condition: cued"
       ]
      },
      {
       "output_type": "stream",
       "stream": "stdout",
       "text": [
        "\n",
        "Using the cumgauss function to analyze this\n",
        "Condition: other\n",
        "Using the cumgauss function to analyze this"
       ]
      },
      {
       "output_type": "stream",
       "stream": "stdout",
       "text": [
        "\n",
        "File: S16PWn_0_0_06082012_1_att_ss.csv\n",
        "Condition: neutral\n",
        "Using the cumgauss function to analyze this\n",
        "File: S16PWn_0_90_06082012_1_att_ss.csv\n",
        "Condition: neutral\n",
        "Using the cumgauss function to analyze this"
       ]
      },
      {
       "output_type": "stream",
       "stream": "stdout",
       "text": [
        "\n",
        "File: S16PWn_90_0_06082012_1_att_ss.csv\n",
        "Condition: neutral\n",
        "Using the cumgauss function to analyze this\n",
        "File: S16PWn_90_90_06082012_1_att_ss.csv\n",
        "Condition: neutral\n",
        "Using the cumgauss function to analyze this\n",
        "Analyzing S17"
       ]
      },
      {
       "output_type": "stream",
       "stream": "stdout",
       "text": [
        "\n",
        "File: S17LD_0_0_06262012_1_att_ss.csv\n",
        "Condition: cued\n",
        "Using the cumgauss function to analyze this\n",
        "Condition: other"
       ]
      },
      {
       "output_type": "stream",
       "stream": "stdout",
       "text": [
        "\n",
        "Using the cumgauss function to analyze this\n",
        "File: S17LD_0_90_06262012_1_att_ss.csv\n",
        "Condition: cued"
       ]
      },
      {
       "output_type": "stream",
       "stream": "stdout",
       "text": [
        "\n",
        "Using the cumgauss function to analyze this\n",
        "Condition: other\n",
        "Using the cumgauss function to analyze this"
       ]
      },
      {
       "output_type": "stream",
       "stream": "stdout",
       "text": [
        "\n",
        "File: S17LD_90_0_06262012_1_att_ss.csv\n",
        "Condition: cued\n",
        "Using the cumgauss function to analyze this"
       ]
      },
      {
       "output_type": "stream",
       "stream": "stdout",
       "text": [
        "\n",
        "Condition: other\n",
        "Using the cumgauss function to analyze this\n",
        "File: S17LD_90_90_06262012_1_att_ss.csv\n",
        "Condition: cued"
       ]
      },
      {
       "output_type": "stream",
       "stream": "stdout",
       "text": [
        "\n",
        "Using the cumgauss function to analyze this\n",
        "Condition: other\n",
        "Using the cumgauss function to analyze this"
       ]
      },
      {
       "output_type": "stream",
       "stream": "stdout",
       "text": [
        "\n",
        "File: S17LDn_0_0_06262012_1_att_ss.csv\n",
        "Condition: neutral\n",
        "Using the cumgauss function to analyze this\n",
        "File: S17LDn_0_90_06262012_1_att_ss.csv\n",
        "Condition: neutral\n",
        "Using the cumgauss function to analyze this"
       ]
      },
      {
       "output_type": "stream",
       "stream": "stdout",
       "text": [
        "\n",
        "File: S17LDn_90_0_06262012_2_att_ss.csv\n",
        "Condition: neutral\n",
        "Using the cumgauss function to analyze this\n",
        "File: S17LDn_90_90_06262012_1_att_ss.csv\n",
        "Condition: neutral\n",
        "Using the cumgauss function to analyze this\n",
        "['S01', 'S02', 'S03', 'S04', 'S05', 'S06', 'S07', 'S08', 'S09', 'S10', 'S11', 'S12', 'S14', 'S15', 'S16', 'S17']"
       ]
      },
      {
       "output_type": "stream",
       "stream": "stdout",
       "text": [
        "\n",
        "Analyzing S01\n",
        "File: S01HS_0_0_02092012_1_att_ss.csv\n",
        "Condition: cued\n",
        "Using the cumgauss function to analyze this\n",
        "Condition: other"
       ]
      },
      {
       "output_type": "stream",
       "stream": "stdout",
       "text": [
        "\n",
        "Using the cumgauss function to analyze this\n",
        "File: S01HS_0_90_02092012_1_att_ss.csv\n",
        "Condition: cued"
       ]
      },
      {
       "output_type": "stream",
       "stream": "stdout",
       "text": [
        "\n",
        "Using the cumgauss function to analyze this\n",
        "Condition: other\n",
        "Using the cumgauss function to analyze this"
       ]
      },
      {
       "output_type": "stream",
       "stream": "stdout",
       "text": [
        "\n",
        "File: S01HS_90_0_02092012_1_att_ss.csv\n",
        "Condition: cued\n",
        "Using the cumgauss function to analyze this"
       ]
      },
      {
       "output_type": "stream",
       "stream": "stdout",
       "text": [
        "\n",
        "Condition: other\n",
        "Using the cumgauss function to analyze this\n",
        "File: S01HS_90_90_02092012_1_att_ss.csv"
       ]
      },
      {
       "output_type": "stream",
       "stream": "stdout",
       "text": [
        "\n",
        "Condition: cued\n",
        "Using the cumgauss function to analyze this"
       ]
      },
      {
       "output_type": "stream",
       "stream": "stdout",
       "text": [
        "\n",
        "Condition: other\n",
        "Using the cumgauss function to analyze this\n",
        "File: S01HSn_0_0_02162012_1_att_ss.csv\n",
        "Condition: neutral\n",
        "Using the cumgauss function to analyze this"
       ]
      },
      {
       "output_type": "stream",
       "stream": "stdout",
       "text": [
        "\n",
        "File: S01HSn_0_90_02162012_1_att_ss.csv\n",
        "Condition: neutral\n",
        "Using the cumgauss function to analyze this\n",
        "File: S01HSn_90_0_02162012_1_att_ss.csv\n",
        "Condition: neutral\n",
        "Using the cumgauss function to analyze this\n",
        "File: S01HSn_90_90_02162012_1_att_ss.csv\n",
        "Condition: neutral"
       ]
      },
      {
       "output_type": "stream",
       "stream": "stdout",
       "text": [
        "\n",
        "Using the cumgauss function to analyze this\n",
        "Analyzing S02\n",
        "File: S02DT_0_0_02092012_1_att_ss.csv\n",
        "Condition: cued\n",
        "Using the cumgauss function to analyze this"
       ]
      },
      {
       "output_type": "stream",
       "stream": "stdout",
       "text": [
        "\n",
        "Condition: other\n",
        "Using the cumgauss function to analyze this\n",
        "File: S02DT_0_90_02092012_1_att_ss.csv\n",
        "Condition: cued"
       ]
      },
      {
       "output_type": "stream",
       "stream": "stdout",
       "text": [
        "\n",
        "Using the cumgauss function to analyze this\n",
        "Condition: other\n",
        "Using the cumgauss function to analyze this"
       ]
      },
      {
       "output_type": "stream",
       "stream": "stdout",
       "text": [
        "\n",
        "File: S02DT_90_0_02092012_1_att_ss.csv\n",
        "Condition: cued\n",
        "Using the cumgauss function to analyze this"
       ]
      },
      {
       "output_type": "stream",
       "stream": "stdout",
       "text": [
        "\n",
        "Condition: other\n",
        "Using the cumgauss function to analyze this\n",
        "File: S02DT_90_90_02092012_1_att_ss.csv\n",
        "Condition: cued"
       ]
      },
      {
       "output_type": "stream",
       "stream": "stdout",
       "text": [
        "\n",
        "Using the cumgauss function to analyze this\n",
        "Condition: other\n",
        "Using the cumgauss function to analyze this"
       ]
      },
      {
       "output_type": "stream",
       "stream": "stdout",
       "text": [
        "\n",
        "File: S02DTn_0_0_02162012_1_att_ss.csv\n",
        "Condition: neutral\n",
        "Using the cumgauss function to analyze this\n",
        "File: S02DTn_0_90_02162012_1_att_ss.csv\n",
        "Condition: neutral\n",
        "Using the cumgauss function to analyze this\n",
        "File: S02DTn_90_0_02162012_1_att_ss.csv"
       ]
      },
      {
       "output_type": "stream",
       "stream": "stdout",
       "text": [
        "\n",
        "Condition: neutral\n",
        "Using the cumgauss function to analyze this\n",
        "File: S02DTn_90_90_02162012_1_att_ss.csv\n",
        "Condition: neutral\n",
        "Using the cumgauss function to analyze this\n",
        "Analyzing S03"
       ]
      },
      {
       "output_type": "stream",
       "stream": "stdout",
       "text": [
        "\n",
        "File: S03AB_0_0_02102012_1_att_ss.csv\n",
        "Condition: cued\n",
        "Using the cumgauss function to analyze this\n",
        "Condition: other"
       ]
      },
      {
       "output_type": "stream",
       "stream": "stdout",
       "text": [
        "\n",
        "Using the cumgauss function to analyze this\n",
        "File: S03AB_0_90_02102012_1_att_ss.csv\n",
        "Condition: cued"
       ]
      },
      {
       "output_type": "stream",
       "stream": "stdout",
       "text": [
        "\n",
        "Using the cumgauss function to analyze this\n",
        "Condition: other\n",
        "Using the cumgauss function to analyze this"
       ]
      },
      {
       "output_type": "stream",
       "stream": "stdout",
       "text": [
        "\n",
        "File: S03AB_90_0_02102012_1_att_ss.csv\n",
        "Condition: cued\n",
        "Using the cumgauss function to analyze this"
       ]
      },
      {
       "output_type": "stream",
       "stream": "stdout",
       "text": [
        "\n",
        "Condition: other\n",
        "Using the cumgauss function to analyze this\n",
        "File: S03AB_90_90_02102012_1_att_ss.csv\n",
        "Condition: cued"
       ]
      },
      {
       "output_type": "stream",
       "stream": "stdout",
       "text": [
        "\n",
        "Using the cumgauss function to analyze this\n",
        "Condition: other\n",
        "Using the cumgauss function to analyze this"
       ]
      },
      {
       "output_type": "stream",
       "stream": "stdout",
       "text": [
        "\n",
        "File: S03ABn_0_0_02102012_1_att_ss.csv\n",
        "Condition: neutral\n",
        "Using the cumgauss function to analyze this\n",
        "File: S03ABn_0_90_02102012_1_att_ss.csv\n",
        "Condition: neutral\n",
        "Using the cumgauss function to analyze this\n",
        "File: S03ABn_90_0_02102012_2_att_ss.csv"
       ]
      },
      {
       "output_type": "stream",
       "stream": "stdout",
       "text": [
        "\n",
        "Condition: neutral\n",
        "Using the cumgauss function to analyze this\n",
        "File: S03ABn_90_90_02102012_1_att_ss.csv\n",
        "Condition: neutral\n",
        "Using the cumgauss function to analyze this\n",
        "Analyzing S04"
       ]
      },
      {
       "output_type": "stream",
       "stream": "stdout",
       "text": [
        "\n",
        "File: S04LC_0_0_02162012_1_att_ss.csv\n",
        "Condition: cued\n",
        "Using the cumgauss function to analyze this"
       ]
      },
      {
       "output_type": "stream",
       "stream": "stdout",
       "text": [
        "\n",
        "Condition: other\n",
        "Using the cumgauss function to analyze this\n",
        "File: S04LC_0_90_02162012_1_att_ss.csv\n",
        "Condition: cued"
       ]
      },
      {
       "output_type": "stream",
       "stream": "stdout",
       "text": [
        "\n",
        "Using the cumgauss function to analyze this\n",
        "Condition: other\n",
        "Using the cumgauss function to analyze this"
       ]
      },
      {
       "output_type": "stream",
       "stream": "stdout",
       "text": [
        "\n",
        "File: S04LC_90_0_02162012_1_att_ss.csv\n",
        "Condition: cued\n",
        "Using the cumgauss function to analyze this"
       ]
      },
      {
       "output_type": "stream",
       "stream": "stdout",
       "text": [
        "\n",
        "Condition: other\n",
        "Using the cumgauss function to analyze this\n",
        "File: S04LC_90_90_02162012_1_att_ss.csv\n",
        "Condition: cued"
       ]
      },
      {
       "output_type": "stream",
       "stream": "stdout",
       "text": [
        "\n",
        "Using the cumgauss function to analyze this\n",
        "Condition: other\n",
        "Using the cumgauss function to analyze this"
       ]
      },
      {
       "output_type": "stream",
       "stream": "stdout",
       "text": [
        "\n",
        "File: S04LCn_0_0_02162012_1_att_ss.csv\n",
        "Condition: neutral\n",
        "Using the cumgauss function to analyze this\n",
        "File: S04LCn_0_90_02162012_1_att_ss.csv\n",
        "Condition: neutral\n",
        "Using the cumgauss function to analyze this\n",
        "File: S04LCn_90_0_02162012_1_att_ss.csv"
       ]
      },
      {
       "output_type": "stream",
       "stream": "stdout",
       "text": [
        "\n",
        "Condition: neutral\n",
        "Using the cumgauss function to analyze this\n",
        "File: S04LCn_90_90_02162012_1_att_ss.csv\n",
        "Condition: neutral\n",
        "Using the cumgauss function to analyze this\n",
        "Analyzing S05\n",
        "File: S05JV_0_0_02162012_1_att_ss.csv\n",
        "Condition: cued"
       ]
      },
      {
       "output_type": "stream",
       "stream": "stdout",
       "text": [
        "\n",
        "Using the cumgauss function to analyze this\n",
        "Condition: other\n",
        "Using the cumgauss function to analyze this"
       ]
      },
      {
       "output_type": "stream",
       "stream": "stdout",
       "text": [
        "\n",
        "File: S05JV_0_90_02162012_1_att_ss.csv\n",
        "Condition: cued\n",
        "Using the cumgauss function to analyze this"
       ]
      },
      {
       "output_type": "stream",
       "stream": "stdout",
       "text": [
        "\n",
        "Condition: other\n",
        "Using the cumgauss function to analyze this\n",
        "File: S05JV_90_0_02162012_1_att_ss.csv\n",
        "Condition: cued"
       ]
      },
      {
       "output_type": "stream",
       "stream": "stdout",
       "text": [
        "\n",
        "Using the cumgauss function to analyze this\n",
        "Condition: other\n",
        "Using the cumgauss function to analyze this"
       ]
      },
      {
       "output_type": "stream",
       "stream": "stdout",
       "text": [
        "\n",
        "File: S05JV_90_90_02162012_1_att_ss.csv\n",
        "Condition: cued\n",
        "Using the cumgauss function to analyze this"
       ]
      },
      {
       "output_type": "stream",
       "stream": "stdout",
       "text": [
        "\n",
        "Condition: other\n",
        "Using the cumgauss function to analyze this\n",
        "File: S05JV_90_90_02232012_1_att_ss.csv\n",
        "Condition: cued"
       ]
      },
      {
       "output_type": "stream",
       "stream": "stdout",
       "text": [
        "\n",
        "Using the cumgauss function to analyze this\n",
        "Condition: other\n",
        "Using the cumgauss function to analyze this"
       ]
      },
      {
       "output_type": "stream",
       "stream": "stdout",
       "text": [
        "\n",
        "File: S05JVn_0_0_02162012_1_att_ss.csv\n",
        "Condition: neutral\n",
        "Using the cumgauss function to analyze this\n",
        "File: S05JVn_0_90_02162012_1_att_ss.csv\n",
        "Condition: neutral\n",
        "Using the cumgauss function to analyze this\n",
        "File: S05JVn_90_0_02162012_1_att_ss.csv"
       ]
      },
      {
       "output_type": "stream",
       "stream": "stdout",
       "text": [
        "\n",
        "Condition: neutral\n",
        "Using the cumgauss function to analyze this\n",
        "File: S05JVn_90_90_02162012_1_att_ss.csv\n",
        "Condition: neutral\n",
        "Using the cumgauss function to analyze this\n",
        "Analyzing S06\n",
        "File: S06LN_0_0_02212012_1_att_ss.csv\n",
        "Condition: cued"
       ]
      },
      {
       "output_type": "stream",
       "stream": "stdout",
       "text": [
        "\n",
        "Using the cumgauss function to analyze this\n",
        "Condition: other\n",
        "Using the cumgauss function to analyze this"
       ]
      },
      {
       "output_type": "stream",
       "stream": "stdout",
       "text": [
        "\n",
        "File: S06LN_0_90_02212012_1_att_ss.csv\n",
        "Condition: cued\n",
        "Using the cumgauss function to analyze this"
       ]
      },
      {
       "output_type": "stream",
       "stream": "stdout",
       "text": [
        "\n",
        "Condition: other\n",
        "Using the cumgauss function to analyze this"
       ]
      },
      {
       "output_type": "stream",
       "stream": "stdout",
       "text": [
        "\n",
        "File: S06LN_90_0_02212012_1_att_ss.csv\n",
        "Condition: cued\n",
        "Using the cumgauss function to analyze this"
       ]
      },
      {
       "output_type": "stream",
       "stream": "stdout",
       "text": [
        "\n",
        "Condition: other\n",
        "Using the cumgauss function to analyze this\n",
        "File: S06LN_90_90_02212012_1_att_ss.csv"
       ]
      },
      {
       "output_type": "stream",
       "stream": "stdout",
       "text": [
        "\n",
        "Condition: cued\n",
        "Using the cumgauss function to analyze this"
       ]
      },
      {
       "output_type": "stream",
       "stream": "stdout",
       "text": [
        "\n",
        "Condition: other\n",
        "Using the cumgauss function to analyze this\n",
        "File: S06LNn_0_0_02212012_1_att_ss.csv\n",
        "Condition: neutral\n",
        "Using the cumgauss function to analyze this"
       ]
      },
      {
       "output_type": "stream",
       "stream": "stdout",
       "text": [
        "\n",
        "File: S06LNn_0_90_02212012_1_att_ss.csv\n",
        "Condition: neutral\n",
        "Using the cumgauss function to analyze this\n",
        "File: S06LNn_90_0_02212012_1_att_ss.csv\n",
        "Condition: neutral\n",
        "Using the cumgauss function to analyze this"
       ]
      },
      {
       "output_type": "stream",
       "stream": "stdout",
       "text": [
        "\n",
        "File: S06LNn_90_90_02212012_1_att_ss.csv\n",
        "Condition: neutral\n",
        "Using the cumgauss function to analyze this\n",
        "Analyzing S07\n",
        "File: S07GM_0_0_02232012_1_att_ss.csv\n",
        "Condition: cued"
       ]
      },
      {
       "output_type": "stream",
       "stream": "stdout",
       "text": [
        "\n",
        "Using the cumgauss function to analyze this\n",
        "Condition: other\n",
        "Using the cumgauss function to analyze this"
       ]
      },
      {
       "output_type": "stream",
       "stream": "stdout",
       "text": [
        "\n",
        "File: S07GM_0_90_02232012_1_att_ss.csv\n",
        "Condition: cued\n",
        "Using the cumgauss function to analyze this"
       ]
      },
      {
       "output_type": "stream",
       "stream": "stdout",
       "text": [
        "\n",
        "Condition: other\n",
        "Using the cumgauss function to analyze this\n",
        "File: S07GM_90_0_02232012_1_att_ss.csv\n",
        "Condition: cued"
       ]
      },
      {
       "output_type": "stream",
       "stream": "stdout",
       "text": [
        "\n",
        "Using the cumgauss function to analyze this\n",
        "Condition: other\n",
        "Using the cumgauss function to analyze this"
       ]
      },
      {
       "output_type": "stream",
       "stream": "stdout",
       "text": [
        "\n",
        "File: S07GM_90_90_02232012_1_att_ss.csv\n",
        "Condition: cued\n",
        "Using the cumgauss function to analyze this"
       ]
      },
      {
       "output_type": "stream",
       "stream": "stdout",
       "text": [
        "\n",
        "Condition: other\n",
        "Using the cumgauss function to analyze this\n",
        "File: S07GMn_0_0_02232012_1_att_ss.csv\n",
        "Condition: neutral"
       ]
      },
      {
       "output_type": "stream",
       "stream": "stdout",
       "text": [
        "\n",
        "Using the cumgauss function to analyze this\n",
        "File: S07GMn_0_90_02232012_1_att_ss.csv\n",
        "Condition: neutral\n",
        "Using the cumgauss function to analyze this"
       ]
      },
      {
       "output_type": "stream",
       "stream": "stdout",
       "text": [
        "\n",
        "File: S07GMn_90_0_02232012_1_att_ss.csv\n",
        "Condition: neutral\n",
        "Using the cumgauss function to analyze this\n",
        "File: S07GMn_90_90_02232012_1_att_ss.csv\n",
        "Condition: neutral"
       ]
      },
      {
       "output_type": "stream",
       "stream": "stdout",
       "text": [
        "\n",
        "Using the cumgauss function to analyze this\n",
        "File: S07MGn_0_0_05292012_1_att_ss.csv\n",
        "Condition: neutral\n",
        "Using the cumgauss function to analyze this\n",
        "File: S07MGn_0_90_05292012_1_att_ss.csv\n",
        "Condition: neutral"
       ]
      },
      {
       "output_type": "stream",
       "stream": "stdout",
       "text": [
        "\n",
        "Using the cumgauss function to analyze this\n",
        "File: S07MGn_90_0_05292012_1_att_ss.csv\n",
        "Condition: neutral\n",
        "Using the cumgauss function to analyze this\n",
        "File: S07MGn_90_90_05292012_1_att_ss.csv\n",
        "Condition: neutral"
       ]
      },
      {
       "output_type": "stream",
       "stream": "stdout",
       "text": [
        "\n",
        "Using the cumgauss function to analyze this\n",
        "Analyzing S08\n",
        "File: S08SB_0_0_02282012_1_att_ss.csv\n",
        "Condition: cued\n",
        "Using the cumgauss function to analyze this"
       ]
      },
      {
       "output_type": "stream",
       "stream": "stdout",
       "text": [
        "\n",
        "Condition: other\n",
        "Using the cumgauss function to analyze this\n",
        "File: S08SB_0_90_02282012_1_att_ss.csv"
       ]
      },
      {
       "output_type": "stream",
       "stream": "stdout",
       "text": [
        "\n",
        "Condition: cued\n",
        "Using the cumgauss function to analyze this"
       ]
      },
      {
       "output_type": "stream",
       "stream": "stdout",
       "text": [
        "\n",
        "Condition: other\n",
        "Using the cumgauss function to analyze this\n",
        "File: S08SB_90_0_02282012_1_att_ss.csv"
       ]
      },
      {
       "output_type": "stream",
       "stream": "stdout",
       "text": [
        "\n",
        "Condition: cued\n",
        "Using the cumgauss function to analyze this"
       ]
      },
      {
       "output_type": "stream",
       "stream": "stdout",
       "text": [
        "\n",
        "Condition: other\n",
        "Using the cumgauss function to analyze this\n",
        "File: S08SB_90_90_02282012_1_att_ss.csv\n",
        "Condition: cued"
       ]
      },
      {
       "output_type": "stream",
       "stream": "stdout",
       "text": [
        "\n",
        "Using the cumgauss function to analyze this\n",
        "Condition: other\n",
        "Using the cumgauss function to analyze this"
       ]
      },
      {
       "output_type": "stream",
       "stream": "stdout",
       "text": [
        "\n",
        "File: S08SBn_0_0_02282012_1_att_ss.csv\n",
        "Condition: neutral\n",
        "Using the cumgauss function to analyze this\n",
        "File: S08SBn_0_90_02282012_1_att_ss.csv\n",
        "Condition: neutral\n",
        "Using the cumgauss function to analyze this"
       ]
      },
      {
       "output_type": "stream",
       "stream": "stdout",
       "text": [
        "\n",
        "File: S08SBn_90_0_02282012_1_att_ss.csv\n",
        "Condition: neutral\n",
        "Using the cumgauss function to analyze this\n",
        "File: S08SBn_90_90_02282012_1_att_ss.csv\n",
        "Condition: neutral\n",
        "Using the cumgauss function to analyze this"
       ]
      },
      {
       "output_type": "stream",
       "stream": "stdout",
       "text": [
        "\n",
        "Analyzing S09\n",
        "File: S09CL_0_0_02292012_1_att_ss.csv\n",
        "Condition: cued\n",
        "Using the cumgauss function to analyze this"
       ]
      },
      {
       "output_type": "stream",
       "stream": "stdout",
       "text": [
        "\n",
        "Condition: other\n",
        "Using the cumgauss function to analyze this\n",
        "File: S09CL_0_90_02292012_1_att_ss.csv\n",
        "Condition: cued"
       ]
      },
      {
       "output_type": "stream",
       "stream": "stdout",
       "text": [
        "\n",
        "Using the cumgauss function to analyze this\n",
        "Condition: other\n",
        "Using the cumgauss function to analyze this"
       ]
      },
      {
       "output_type": "stream",
       "stream": "stdout",
       "text": [
        "\n",
        "File: S09CL_90_0_02292012_1_att_ss.csv\n",
        "Condition: cued\n",
        "Using the cumgauss function to analyze this"
       ]
      },
      {
       "output_type": "stream",
       "stream": "stdout",
       "text": [
        "\n",
        "Condition: other\n",
        "Using the cumgauss function to analyze this\n",
        "File: S09CL_90_90_02292012_1_att_ss.csv\n",
        "Condition: cued"
       ]
      },
      {
       "output_type": "stream",
       "stream": "stdout",
       "text": [
        "\n",
        "Using the cumgauss function to analyze this\n",
        "Condition: other\n",
        "Using the cumgauss function to analyze this"
       ]
      },
      {
       "output_type": "stream",
       "stream": "stdout",
       "text": [
        "\n",
        "File: S09CL_90_90_02292012_2_att_ss.csv\n",
        "Condition: cued\n",
        "Using the cumgauss function to analyze this"
       ]
      },
      {
       "output_type": "stream",
       "stream": "stdout",
       "text": [
        "\n",
        "Condition: other\n",
        "Using the cumgauss function to analyze this\n",
        "File: S09CLn_0_0_02292012_1_att_ss.csv\n",
        "Condition: neutral\n",
        "Using the cumgauss function to analyze this"
       ]
      },
      {
       "output_type": "stream",
       "stream": "stdout",
       "text": [
        "\n",
        "File: S09CLn_0_90_02292012_1_att_ss.csv\n",
        "Condition: neutral\n",
        "Using the cumgauss function to analyze this\n",
        "File: S09CLn_90_0_02292012_1_att_ss.csv\n",
        "Condition: neutral\n",
        "Using the cumgauss function to analyze this"
       ]
      },
      {
       "output_type": "stream",
       "stream": "stdout",
       "text": [
        "\n",
        "File: S09CLn_90_90_02292012_1_att_ss.csv\n",
        "Condition: neutral\n",
        "Using the cumgauss function to analyze this\n",
        "Analyzing S10\n",
        "File: S10SH_0_0_03012012_1_att_ss.csv\n",
        "Condition: cued"
       ]
      },
      {
       "output_type": "stream",
       "stream": "stdout",
       "text": [
        "\n",
        "Using the cumgauss function to analyze this\n",
        "Condition: other\n",
        "Using the cumgauss function to analyze this"
       ]
      },
      {
       "output_type": "stream",
       "stream": "stdout",
       "text": [
        "\n",
        "File: S10SH_0_90_03012012_1_att_ss.csv\n",
        "Condition: cued\n",
        "Using the cumgauss function to analyze this"
       ]
      },
      {
       "output_type": "stream",
       "stream": "stdout",
       "text": [
        "\n",
        "Condition: other\n",
        "Using the cumgauss function to analyze this\n",
        "File: S10SH_90_0_03012012_1_att_ss.csv\n",
        "Condition: cued"
       ]
      },
      {
       "output_type": "stream",
       "stream": "stdout",
       "text": [
        "\n",
        "Using the cumgauss function to analyze this\n",
        "Condition: other"
       ]
      },
      {
       "output_type": "stream",
       "stream": "stdout",
       "text": [
        "\n",
        "Using the cumgauss function to analyze this\n",
        "File: S10SH_90_90_03012012_1_att_ss.csv\n",
        "Condition: cued"
       ]
      },
      {
       "output_type": "stream",
       "stream": "stdout",
       "text": [
        "\n",
        "Using the cumgauss function to analyze this\n",
        "Condition: other\n",
        "Using the cumgauss function to analyze this"
       ]
      },
      {
       "output_type": "stream",
       "stream": "stdout",
       "text": [
        "\n",
        "File: S10SHn_0_0_03012012_1_att_ss.csv\n",
        "Condition: neutral\n",
        "Using the cumgauss function to analyze this\n",
        "File: S10SHn_0_90_03012012_1_att_ss.csv\n",
        "Condition: neutral\n",
        "Using the cumgauss function to analyze this"
       ]
      },
      {
       "output_type": "stream",
       "stream": "stdout",
       "text": [
        "\n",
        "File: S10SHn_90_0_03012012_1_att_ss.csv\n",
        "Condition: neutral\n",
        "Using the cumgauss function to analyze this\n",
        "File: S10SHn_90_90_03012012_1_att_ss.csv\n",
        "Condition: neutral"
       ]
      },
      {
       "output_type": "stream",
       "stream": "stdout",
       "text": [
        "\n",
        "Using the cumgauss function to analyze this\n",
        "Analyzing S11\n",
        "File: S11TL_0_0_03132012_1_att_ss.csv\n",
        "Condition: cued\n",
        "Using the cumgauss function to analyze this"
       ]
      },
      {
       "output_type": "stream",
       "stream": "stdout",
       "text": [
        "\n",
        "Condition: other\n",
        "Using the cumgauss function to analyze this\n",
        "File: S11TL_0_90_03132012_1_att_ss.csv\n",
        "Condition: cued"
       ]
      },
      {
       "output_type": "stream",
       "stream": "stdout",
       "text": [
        "\n",
        "Using the cumgauss function to analyze this\n",
        "Condition: other\n",
        "Using the cumgauss function to analyze this"
       ]
      },
      {
       "output_type": "stream",
       "stream": "stdout",
       "text": [
        "\n",
        "File: S11TL_90_0_03132012_1_att_ss.csv\n",
        "Condition: cued\n",
        "Using the cumgauss function to analyze this"
       ]
      },
      {
       "output_type": "stream",
       "stream": "stdout",
       "text": [
        "\n",
        "Condition: other\n",
        "Using the cumgauss function to analyze this\n",
        "File: S11TL_90_90_03132012_1_att_ss.csv\n",
        "Condition: cued"
       ]
      },
      {
       "output_type": "stream",
       "stream": "stdout",
       "text": [
        "\n",
        "Using the cumgauss function to analyze this\n",
        "Condition: other\n",
        "Using the cumgauss function to analyze this"
       ]
      },
      {
       "output_type": "stream",
       "stream": "stdout",
       "text": [
        "\n",
        "File: S11TLn_0_0_03132012_1_att_ss.csv\n",
        "Condition: neutral\n",
        "Using the cumgauss function to analyze this\n",
        "File: S11TLn_0_90_03132012_1_att_ss.csv\n",
        "Condition: neutral\n",
        "Using the cumgauss function to analyze this\n",
        "File: S11TLn_90_0_03132012_1_att_ss.csv"
       ]
      },
      {
       "output_type": "stream",
       "stream": "stdout",
       "text": [
        "\n",
        "Condition: neutral\n",
        "Using the cumgauss function to analyze this\n",
        "File: S11TLn_90_90_03132012_1_att_ss.csv\n",
        "Condition: neutral\n",
        "Using the cumgauss function to analyze this\n",
        "Analyzing S12"
       ]
      },
      {
       "output_type": "stream",
       "stream": "stdout",
       "text": [
        "\n",
        "File: S12JD_0_0_05232012_1_att_ss.csv\n",
        "Condition: cued\n",
        "Using the cumgauss function to analyze this\n",
        "Condition: other"
       ]
      },
      {
       "output_type": "stream",
       "stream": "stdout",
       "text": [
        "\n",
        "Using the cumgauss function to analyze this\n",
        "File: S12JD_0_90_05232012_1_att_ss.csv\n",
        "Condition: cued\n",
        "Using the cumgauss function to analyze this"
       ]
      },
      {
       "output_type": "stream",
       "stream": "stdout",
       "text": [
        "\n",
        "Condition: other\n",
        "Using the cumgauss function to analyze this\n",
        "File: S12JD_90_0_05232012_1_att_ss.csv\n",
        "Condition: cued"
       ]
      },
      {
       "output_type": "stream",
       "stream": "stdout",
       "text": [
        "\n",
        "Using the cumgauss function to analyze this\n",
        "Condition: other\n",
        "Using the cumgauss function to analyze this"
       ]
      },
      {
       "output_type": "stream",
       "stream": "stdout",
       "text": [
        "\n",
        "File: S12JD_90_90_05232012_1_att_ss.csv\n",
        "Condition: cued\n",
        "Using the cumgauss function to analyze this"
       ]
      },
      {
       "output_type": "stream",
       "stream": "stdout",
       "text": [
        "\n",
        "Condition: other\n",
        "Using the cumgauss function to analyze this\n",
        "File: S12JD_n_0_0_05232012_1_att_ss.csv\n",
        "Condition: neutral\n",
        "Using the cumgauss function to analyze this"
       ]
      },
      {
       "output_type": "stream",
       "stream": "stdout",
       "text": [
        "\n",
        "File: S12JD_n_0_90_05232012_1_att_ss.csv\n",
        "Condition: neutral\n",
        "Using the cumgauss function to analyze this\n",
        "File: S12JD_n_90_0_05232012_1_att_ss.csv\n",
        "Condition: neutral\n",
        "Using the cumgauss function to analyze this\n",
        "File: S12JD_n_90_90_05232012_1_att_ss.csv"
       ]
      },
      {
       "output_type": "stream",
       "stream": "stdout",
       "text": [
        "\n",
        "Condition: neutral\n",
        "Using the cumgauss function to analyze this\n",
        "Analyzing S14\n",
        "File: S14JN_0_0_06052012_1_att_ss.csv\n",
        "Condition: cued\n",
        "Using the cumgauss function to analyze this"
       ]
      },
      {
       "output_type": "stream",
       "stream": "stdout",
       "text": [
        "\n",
        "Condition: other\n",
        "Using the cumgauss function to analyze this\n",
        "File: S14JN_0_90_06052012_1_att_ss.csv\n",
        "Condition: cued"
       ]
      },
      {
       "output_type": "stream",
       "stream": "stdout",
       "text": [
        "\n",
        "Using the cumgauss function to analyze this\n",
        "Condition: other\n",
        "Using the cumgauss function to analyze this"
       ]
      },
      {
       "output_type": "stream",
       "stream": "stdout",
       "text": [
        "\n",
        "File: S14JN_90_0_06052012_1_att_ss.csv\n",
        "Condition: cued\n",
        "Using the cumgauss function to analyze this"
       ]
      },
      {
       "output_type": "stream",
       "stream": "stdout",
       "text": [
        "\n",
        "Condition: other\n",
        "Using the cumgauss function to analyze this\n",
        "File: S14JN_90_90_06052012_1_att_ss.csv\n",
        "Condition: cued"
       ]
      },
      {
       "output_type": "stream",
       "stream": "stdout",
       "text": [
        "\n",
        "Using the cumgauss function to analyze this\n",
        "Condition: other\n",
        "Using the cumgauss function to analyze this"
       ]
      },
      {
       "output_type": "stream",
       "stream": "stdout",
       "text": [
        "\n",
        "File: S14JNn_0_0_06052012_1_att_ss.csv\n",
        "Condition: neutral\n",
        "Using the cumgauss function to analyze this\n",
        "File: S14JNn_0_90_06052012_1_att_ss.csv\n",
        "Condition: neutral\n",
        "Using the cumgauss function to analyze this\n",
        "File: S14JNn_90_0_06052012_1_att_ss.csv"
       ]
      },
      {
       "output_type": "stream",
       "stream": "stdout",
       "text": [
        "\n",
        "Condition: neutral\n",
        "Using the cumgauss function to analyze this\n",
        "File: S14JNn_90_90_06052012_1_att_ss.csv\n",
        "Condition: neutral\n",
        "Using the cumgauss function to analyze this\n",
        "Analyzing S15\n",
        "File: S15KB_0_0_06052012_1_att_ss.csv\n",
        "Condition: cued"
       ]
      },
      {
       "output_type": "stream",
       "stream": "stdout",
       "text": [
        "\n",
        "Using the cumgauss function to analyze this\n",
        "Condition: other\n",
        "Using the cumgauss function to analyze this"
       ]
      },
      {
       "output_type": "stream",
       "stream": "stdout",
       "text": [
        "\n",
        "File: S15KB_0_90_06052012_1_att_ss.csv\n",
        "Condition: cued\n",
        "Using the cumgauss function to analyze this"
       ]
      },
      {
       "output_type": "stream",
       "stream": "stdout",
       "text": [
        "\n",
        "Condition: other\n",
        "Using the cumgauss function to analyze this\n",
        "File: S15KB_90_0_06052012_1_att_ss.csv\n",
        "Condition: cued"
       ]
      },
      {
       "output_type": "stream",
       "stream": "stdout",
       "text": [
        "\n",
        "Using the cumgauss function to analyze this\n",
        "Condition: other\n",
        "Using the cumgauss function to analyze this"
       ]
      },
      {
       "output_type": "stream",
       "stream": "stdout",
       "text": [
        "\n",
        "File: S15KB_90_90_06052012_1_att_ss.csv\n",
        "Condition: cued\n",
        "Using the cumgauss function to analyze this"
       ]
      },
      {
       "output_type": "stream",
       "stream": "stdout",
       "text": [
        "\n",
        "Condition: other\n",
        "Using the cumgauss function to analyze this\n",
        "File: S15KBn_0_0_06052012_1_att_ss.csv\n",
        "Condition: neutral\n",
        "Using the cumgauss function to analyze this"
       ]
      },
      {
       "output_type": "stream",
       "stream": "stdout",
       "text": [
        "\n",
        "File: S15KBn_0_90_06052012_1_att_ss.csv\n",
        "Condition: neutral\n",
        "Using the cumgauss function to analyze this\n",
        "File: S15KBn_90_0_06052012_1_att_ss.csv\n",
        "Condition: neutral\n",
        "Using the cumgauss function to analyze this\n",
        "File: S15KBn_90_90_06052012_1_att_ss.csv\n",
        "Condition: neutral"
       ]
      },
      {
       "output_type": "stream",
       "stream": "stdout",
       "text": [
        "\n",
        "Using the cumgauss function to analyze this\n",
        "Analyzing S16\n",
        "File: S16PW_0_0_06082012_1_att_ss.csv\n",
        "Condition: cued\n",
        "Using the cumgauss function to analyze this"
       ]
      },
      {
       "output_type": "stream",
       "stream": "stdout",
       "text": [
        "\n",
        "Condition: other\n",
        "Using the cumgauss function to analyze this\n",
        "File: S16PW_0_90_06082012_1_att_ss.csv\n",
        "Condition: cued"
       ]
      },
      {
       "output_type": "stream",
       "stream": "stdout",
       "text": [
        "\n",
        "Using the cumgauss function to analyze this\n",
        "Condition: other\n",
        "Using the cumgauss function to analyze this"
       ]
      },
      {
       "output_type": "stream",
       "stream": "stdout",
       "text": [
        "\n",
        "File: S16PW_90_0_06082012_1_att_ss.csv\n",
        "Condition: cued\n",
        "Using the cumgauss function to analyze this"
       ]
      },
      {
       "output_type": "stream",
       "stream": "stdout",
       "text": [
        "\n",
        "Condition: other\n",
        "Using the cumgauss function to analyze this\n",
        "File: S16PW_90_90_06082012_1_att_ss.csv\n",
        "Condition: cued"
       ]
      },
      {
       "output_type": "stream",
       "stream": "stdout",
       "text": [
        "\n",
        "Using the cumgauss function to analyze this\n",
        "Condition: other\n",
        "Using the cumgauss function to analyze this"
       ]
      },
      {
       "output_type": "stream",
       "stream": "stdout",
       "text": [
        "\n",
        "File: S16PWn_0_0_06082012_1_att_ss.csv\n",
        "Condition: neutral\n",
        "Using the cumgauss function to analyze this\n",
        "File: S16PWn_0_90_06082012_1_att_ss.csv\n",
        "Condition: neutral\n",
        "Using the cumgauss function to analyze this\n",
        "File: S16PWn_90_0_06082012_1_att_ss.csv"
       ]
      },
      {
       "output_type": "stream",
       "stream": "stdout",
       "text": [
        "\n",
        "Condition: neutral\n",
        "Using the cumgauss function to analyze this\n",
        "File: S16PWn_90_90_06082012_1_att_ss.csv\n",
        "Condition: neutral\n",
        "Using the cumgauss function to analyze this\n",
        "Analyzing S17\n",
        "File: S17LD_0_0_06262012_1_att_ss.csv\n",
        "Condition: cued"
       ]
      },
      {
       "output_type": "stream",
       "stream": "stdout",
       "text": [
        "\n",
        "Using the cumgauss function to analyze this\n",
        "Condition: other\n",
        "Using the cumgauss function to analyze this"
       ]
      },
      {
       "output_type": "stream",
       "stream": "stdout",
       "text": [
        "\n",
        "File: S17LD_0_90_06262012_1_att_ss.csv\n",
        "Condition: cued\n",
        "Using the cumgauss function to analyze this"
       ]
      },
      {
       "output_type": "stream",
       "stream": "stdout",
       "text": [
        "\n",
        "Condition: other\n",
        "Using the cumgauss function to analyze this\n",
        "File: S17LD_90_0_06262012_1_att_ss.csv\n",
        "Condition: cued"
       ]
      },
      {
       "output_type": "stream",
       "stream": "stdout",
       "text": [
        "\n",
        "Using the cumgauss function to analyze this\n",
        "Condition: other\n",
        "Using the cumgauss function to analyze this"
       ]
      },
      {
       "output_type": "stream",
       "stream": "stdout",
       "text": [
        "\n",
        "File: S17LD_90_90_06262012_1_att_ss.csv\n",
        "Condition: cued\n",
        "Using the cumgauss function to analyze this"
       ]
      },
      {
       "output_type": "stream",
       "stream": "stdout",
       "text": [
        "\n",
        "Condition: other\n",
        "Using the cumgauss function to analyze this\n",
        "File: S17LDn_0_0_06262012_1_att_ss.csv\n",
        "Condition: neutral"
       ]
      },
      {
       "output_type": "stream",
       "stream": "stdout",
       "text": [
        "\n",
        "Using the cumgauss function to analyze this\n",
        "File: S17LDn_0_90_06262012_1_att_ss.csv\n",
        "Condition: neutral\n",
        "Using the cumgauss function to analyze this\n",
        "File: S17LDn_90_0_06262012_2_att_ss.csv\n",
        "Condition: neutral"
       ]
      },
      {
       "output_type": "stream",
       "stream": "stdout",
       "text": [
        "\n",
        "Using the cumgauss function to analyze this\n",
        "File: S17LDn_90_90_06262012_1_att_ss.csv\n",
        "Condition: neutral\n",
        "Using the cumgauss function to analyze this\n",
        "['S01', 'S02', 'S03', 'S04', 'S05', 'S06', 'S07', 'S08', 'S09', 'S10', 'S11', 'S12', 'S14', 'S15', 'S16', 'S17']"
       ]
      },
      {
       "output_type": "stream",
       "stream": "stdout",
       "text": [
        "\n",
        "Analyzing S01\n",
        "File: S01HS_0_0_02092012_1_att_ss.csv\n",
        "Condition: cued\n",
        "Using the weib function to analyze this"
       ]
      },
      {
       "output_type": "stream",
       "stream": "stdout",
       "text": [
        "\n",
        "Condition: other\n",
        "Using the weib function to analyze this\n",
        "File: S01HS_0_90_02092012_1_att_ss.csv"
       ]
      },
      {
       "output_type": "stream",
       "stream": "stdout",
       "text": [
        "\n",
        "Condition: cued\n",
        "Using the weib function to analyze this"
       ]
      },
      {
       "output_type": "stream",
       "stream": "stdout",
       "text": [
        "\n",
        "Condition: other\n",
        "Using the weib function to analyze this\n",
        "File: S01HS_90_0_02092012_1_att_ss.csv"
       ]
      },
      {
       "output_type": "stream",
       "stream": "stdout",
       "text": [
        "\n",
        "Condition: cued\n",
        "Using the weib function to analyze this"
       ]
      },
      {
       "output_type": "stream",
       "stream": "stdout",
       "text": [
        "\n",
        "Condition: other\n",
        "Using the weib function to analyze this\n",
        "File: S01HS_90_90_02092012_1_att_ss.csv"
       ]
      },
      {
       "output_type": "stream",
       "stream": "stdout",
       "text": [
        "\n",
        "Condition: cued\n",
        "Using the weib function to analyze this"
       ]
      },
      {
       "output_type": "stream",
       "stream": "stderr",
       "text": [
        "/Users/arokem/Library/Enthought/Canopy_64bit/User/lib/python2.7/site-packages/scipy/optimize/minpack.py:418: RuntimeWarning: Number of calls to function has reached maxfev = 600.\n",
        "  warnings.warn(errors[info][0], RuntimeWarning)\n",
        "/Users/arokem/Library/Enthought/Canopy_64bit/User/lib/python2.7/site-packages/scipy/optimize/minpack.py:418: RuntimeWarning: Number of calls to function has reached maxfev = 1000.\n",
        "  warnings.warn(errors[info][0], RuntimeWarning)\n"
       ]
      },
      {
       "output_type": "stream",
       "stream": "stdout",
       "text": [
        "\n",
        "Condition: other\n",
        "Using the weib function to analyze this\n",
        "File: S01HSn_0_0_02162012_1_att_ss.csv"
       ]
      },
      {
       "output_type": "stream",
       "stream": "stdout",
       "text": [
        "\n",
        "Condition: neutral\n",
        "Using the weib function to analyze this\n",
        "File: S01HSn_0_90_02162012_1_att_ss.csv\n",
        "Condition: neutral\n",
        "Using the weib function to analyze this"
       ]
      },
      {
       "output_type": "stream",
       "stream": "stdout",
       "text": [
        "\n",
        "File: S01HSn_90_0_02162012_1_att_ss.csv\n",
        "Condition: neutral\n",
        "Using the weib function to analyze this\n",
        "File: S01HSn_90_90_02162012_1_att_ss.csv\n",
        "Condition: neutral\n",
        "Using the weib function to analyze this"
       ]
      },
      {
       "output_type": "stream",
       "stream": "stdout",
       "text": [
        "\n",
        "Analyzing S02"
       ]
      },
      {
       "output_type": "stream",
       "stream": "stdout",
       "text": [
        "\n",
        "File: S02DT_0_0_02092012_1_att_ss.csv\n",
        "Condition: cued\n",
        "Using the weib function to analyze this\n",
        "Condition: other"
       ]
      },
      {
       "output_type": "stream",
       "stream": "stdout",
       "text": [
        "\n",
        "Using the weib function to analyze this\n",
        "File: S02DT_0_90_02092012_1_att_ss.csv\n",
        "Condition: cued"
       ]
      },
      {
       "output_type": "stream",
       "stream": "stdout",
       "text": [
        "\n",
        "Using the weib function to analyze this\n",
        "Condition: other\n",
        "Using the weib function to analyze this"
       ]
      },
      {
       "output_type": "stream",
       "stream": "stdout",
       "text": [
        "\n",
        "File: S02DT_90_0_02092012_1_att_ss.csv\n",
        "Condition: cued"
       ]
      },
      {
       "output_type": "stream",
       "stream": "stdout",
       "text": [
        "\n",
        "Using the weib function to analyze this\n",
        "Condition: other"
       ]
      },
      {
       "output_type": "stream",
       "stream": "stdout",
       "text": [
        "\n",
        "Using the weib function to analyze this\n",
        "File: S02DT_90_90_02092012_1_att_ss.csv"
       ]
      },
      {
       "output_type": "stream",
       "stream": "stdout",
       "text": [
        "\n",
        "Condition: cued\n",
        "Using the weib function to analyze this"
       ]
      },
      {
       "output_type": "stream",
       "stream": "stdout",
       "text": [
        "\n",
        "Condition: other"
       ]
      },
      {
       "output_type": "stream",
       "stream": "stdout",
       "text": [
        "\n",
        "Using the weib function to analyze this\n",
        "File: S02DTn_0_0_02162012_1_att_ss.csv"
       ]
      },
      {
       "output_type": "stream",
       "stream": "stdout",
       "text": [
        "\n",
        "Condition: neutral\n",
        "Using the weib function to analyze this\n",
        "File: S02DTn_0_90_02162012_1_att_ss.csv"
       ]
      },
      {
       "output_type": "stream",
       "stream": "stdout",
       "text": [
        "\n",
        "Condition: neutral\n",
        "Using the weib function to analyze this\n",
        "File: S02DTn_90_0_02162012_1_att_ss.csv\n",
        "Condition: neutral\n",
        "Using the weib function to analyze this"
       ]
      },
      {
       "output_type": "stream",
       "stream": "stdout",
       "text": [
        "\n",
        "File: S02DTn_90_90_02162012_1_att_ss.csv\n",
        "Condition: neutral\n",
        "Using the weib function to analyze this"
       ]
      },
      {
       "output_type": "stream",
       "stream": "stdout",
       "text": [
        "\n",
        "Analyzing S03"
       ]
      },
      {
       "output_type": "stream",
       "stream": "stdout",
       "text": [
        "\n",
        "File: S03AB_0_0_02102012_1_att_ss.csv\n",
        "Condition: cued\n",
        "Using the weib function to analyze this"
       ]
      },
      {
       "output_type": "stream",
       "stream": "stdout",
       "text": [
        "\n",
        "Condition: other\n",
        "Using the weib function to analyze this"
       ]
      },
      {
       "output_type": "stream",
       "stream": "stdout",
       "text": [
        "\n",
        "File: S03AB_0_90_02102012_1_att_ss.csv\n",
        "Condition: cued"
       ]
      },
      {
       "output_type": "stream",
       "stream": "stdout",
       "text": [
        "\n",
        "Using the weib function to analyze this\n",
        "Condition: other"
       ]
      },
      {
       "output_type": "stream",
       "stream": "stdout",
       "text": [
        "\n",
        "Using the weib function to analyze this\n",
        "File: S03AB_90_0_02102012_1_att_ss.csv"
       ]
      },
      {
       "output_type": "stream",
       "stream": "stdout",
       "text": [
        "\n",
        "Condition: cued\n",
        "Using the weib function to analyze this"
       ]
      },
      {
       "output_type": "stream",
       "stream": "stdout",
       "text": [
        "\n",
        "Condition: other\n",
        "Using the weib function to analyze this\n",
        "File: S03AB_90_90_02102012_1_att_ss.csv"
       ]
      },
      {
       "output_type": "stream",
       "stream": "stdout",
       "text": [
        "\n",
        "Condition: cued\n",
        "Using the weib function to analyze this\n",
        "Condition: other"
       ]
      },
      {
       "output_type": "stream",
       "stream": "stdout",
       "text": [
        "\n",
        "Using the weib function to analyze this\n",
        "File: S03ABn_0_0_02102012_1_att_ss.csv"
       ]
      },
      {
       "output_type": "stream",
       "stream": "stdout",
       "text": [
        "\n",
        "Condition: neutral\n",
        "Using the weib function to analyze this\n",
        "File: S03ABn_0_90_02102012_1_att_ss.csv\n",
        "Condition: neutral"
       ]
      },
      {
       "output_type": "stream",
       "stream": "stdout",
       "text": [
        "\n",
        "Using the weib function to analyze this\n",
        "File: S03ABn_90_0_02102012_2_att_ss.csv"
       ]
      },
      {
       "output_type": "stream",
       "stream": "stdout",
       "text": [
        "\n",
        "Condition: neutral\n",
        "Using the weib function to analyze this\n",
        "File: S03ABn_90_90_02102012_1_att_ss.csv"
       ]
      },
      {
       "output_type": "stream",
       "stream": "stdout",
       "text": [
        "\n",
        "Condition: neutral\n",
        "Using the weib function to analyze this\n",
        "Analyzing S04"
       ]
      },
      {
       "output_type": "stream",
       "stream": "stdout",
       "text": [
        "\n",
        "File: S04LC_0_0_02162012_1_att_ss.csv\n",
        "Condition: cued\n",
        "Using the weib function to analyze this"
       ]
      },
      {
       "output_type": "stream",
       "stream": "stdout",
       "text": [
        "\n",
        "Condition: other\n",
        "Using the weib function to analyze this\n",
        "File: S04LC_0_90_02162012_1_att_ss.csv\n",
        "Condition: cued"
       ]
      },
      {
       "output_type": "stream",
       "stream": "stdout",
       "text": [
        "\n",
        "Using the weib function to analyze this\n",
        "Condition: other\n",
        "Using the weib function to analyze this"
       ]
      },
      {
       "output_type": "stream",
       "stream": "stdout",
       "text": [
        "\n",
        "File: S04LC_90_0_02162012_1_att_ss.csv\n",
        "Condition: cued\n",
        "Using the weib function to analyze this"
       ]
      },
      {
       "output_type": "stream",
       "stream": "stdout",
       "text": [
        "\n",
        "Condition: other\n",
        "Using the weib function to analyze this\n",
        "File: S04LC_90_90_02162012_1_att_ss.csv"
       ]
      },
      {
       "output_type": "stream",
       "stream": "stdout",
       "text": [
        "\n",
        "Condition: cued\n",
        "Using the weib function to analyze this"
       ]
      },
      {
       "output_type": "stream",
       "stream": "stdout",
       "text": [
        "\n",
        "Condition: other\n",
        "Using the weib function to analyze this\n",
        "File: S04LCn_0_0_02162012_1_att_ss.csv"
       ]
      },
      {
       "output_type": "stream",
       "stream": "stdout",
       "text": [
        "\n",
        "Condition: neutral\n",
        "Using the weib function to analyze this\n",
        "File: S04LCn_0_90_02162012_1_att_ss.csv\n",
        "Condition: neutral\n",
        "Using the weib function to analyze this\n",
        "File: S04LCn_90_0_02162012_1_att_ss.csv\n",
        "Condition: neutral"
       ]
      },
      {
       "output_type": "stream",
       "stream": "stdout",
       "text": [
        "\n",
        "Using the weib function to analyze this\n",
        "File: S04LCn_90_90_02162012_1_att_ss.csv\n",
        "Condition: neutral\n",
        "Using the weib function to analyze this"
       ]
      },
      {
       "output_type": "stream",
       "stream": "stdout",
       "text": [
        "\n",
        "Analyzing S05\n",
        "File: S05JV_0_0_02162012_1_att_ss.csv\n",
        "Condition: cued\n",
        "Using the weib function to analyze this"
       ]
      },
      {
       "output_type": "stream",
       "stream": "stdout",
       "text": [
        "\n",
        "Condition: other\n",
        "Using the weib function to analyze this\n",
        "File: S05JV_0_90_02162012_1_att_ss.csv"
       ]
      },
      {
       "output_type": "stream",
       "stream": "stdout",
       "text": [
        "\n",
        "Condition: cued\n",
        "Using the weib function to analyze this\n",
        "Condition: other"
       ]
      },
      {
       "output_type": "stream",
       "stream": "stdout",
       "text": [
        "\n",
        "Using the weib function to analyze this\n",
        "File: S05JV_90_0_02162012_1_att_ss.csv"
       ]
      },
      {
       "output_type": "stream",
       "stream": "stdout",
       "text": [
        "\n",
        "Condition: cued\n",
        "Using the weib function to analyze this"
       ]
      },
      {
       "output_type": "stream",
       "stream": "stdout",
       "text": [
        "\n",
        "Condition: other\n",
        "Using the weib function to analyze this\n",
        "File: S05JV_90_90_02162012_1_att_ss.csv\n",
        "Condition: cued"
       ]
      },
      {
       "output_type": "stream",
       "stream": "stdout",
       "text": [
        "\n",
        "Using the weib function to analyze this\n",
        "Condition: other"
       ]
      },
      {
       "output_type": "stream",
       "stream": "stdout",
       "text": [
        "\n",
        "Using the weib function to analyze this\n",
        "File: S05JV_90_90_02232012_1_att_ss.csv\n",
        "Condition: cued"
       ]
      },
      {
       "output_type": "stream",
       "stream": "stdout",
       "text": [
        "\n",
        "Using the weib function to analyze this\n",
        "Condition: other"
       ]
      },
      {
       "output_type": "stream",
       "stream": "stdout",
       "text": [
        "\n",
        "Using the weib function to analyze this\n",
        "File: S05JVn_0_0_02162012_1_att_ss.csv\n",
        "Condition: neutral\n",
        "Using the weib function to analyze this\n",
        "File: S05JVn_0_90_02162012_1_att_ss.csv"
       ]
      },
      {
       "output_type": "stream",
       "stream": "stdout",
       "text": [
        "\n",
        "Condition: neutral\n",
        "Using the weib function to analyze this\n",
        "File: S05JVn_90_0_02162012_1_att_ss.csv\n",
        "Condition: neutral\n",
        "Using the weib function to analyze this\n",
        "File: S05JVn_90_90_02162012_1_att_ss.csv"
       ]
      },
      {
       "output_type": "stream",
       "stream": "stdout",
       "text": [
        "\n",
        "Condition: neutral\n",
        "Using the weib function to analyze this\n",
        "Analyzing S06\n",
        "File: S06LN_0_0_02212012_1_att_ss.csv\n",
        "Condition: cued"
       ]
      },
      {
       "output_type": "stream",
       "stream": "stdout",
       "text": [
        "\n",
        "Using the weib function to analyze this\n",
        "Condition: other"
       ]
      },
      {
       "output_type": "stream",
       "stream": "stdout",
       "text": [
        "\n",
        "Using the weib function to analyze this\n",
        "File: S06LN_0_90_02212012_1_att_ss.csv\n",
        "Condition: cued"
       ]
      },
      {
       "output_type": "stream",
       "stream": "stdout",
       "text": [
        "\n",
        "Using the weib function to analyze this\n",
        "Condition: other"
       ]
      },
      {
       "output_type": "stream",
       "stream": "stdout",
       "text": [
        "\n",
        "Using the weib function to analyze this\n",
        "File: S06LN_90_0_02212012_1_att_ss.csv"
       ]
      },
      {
       "output_type": "stream",
       "stream": "stdout",
       "text": [
        "\n",
        "Condition: cued\n",
        "Using the weib function to analyze this\n",
        "Condition: other"
       ]
      },
      {
       "output_type": "stream",
       "stream": "stdout",
       "text": [
        "\n",
        "Using the weib function to analyze this\n",
        "File: S06LN_90_90_02212012_1_att_ss.csv"
       ]
      },
      {
       "output_type": "stream",
       "stream": "stdout",
       "text": [
        "\n",
        "Condition: cued\n",
        "Using the weib function to analyze this\n",
        "Condition: other"
       ]
      },
      {
       "output_type": "stream",
       "stream": "stdout",
       "text": [
        "\n",
        "Using the weib function to analyze this\n",
        "File: S06LNn_0_0_02212012_1_att_ss.csv"
       ]
      },
      {
       "output_type": "stream",
       "stream": "stdout",
       "text": [
        "\n",
        "Condition: neutral\n",
        "Using the weib function to analyze this\n",
        "File: S06LNn_0_90_02212012_1_att_ss.csv"
       ]
      },
      {
       "output_type": "stream",
       "stream": "stdout",
       "text": [
        "\n",
        "Condition: neutral\n",
        "Using the weib function to analyze this\n",
        "File: S06LNn_90_0_02212012_1_att_ss.csv"
       ]
      },
      {
       "output_type": "stream",
       "stream": "stdout",
       "text": [
        "\n",
        "Condition: neutral\n",
        "Using the weib function to analyze this\n",
        "File: S06LNn_90_90_02212012_1_att_ss.csv\n",
        "Condition: neutral"
       ]
      },
      {
       "output_type": "stream",
       "stream": "stdout",
       "text": [
        "\n",
        "Using the weib function to analyze this\n",
        "Analyzing S07\n",
        "File: S07GM_0_0_02232012_1_att_ss.csv\n",
        "Condition: cued"
       ]
      },
      {
       "output_type": "stream",
       "stream": "stdout",
       "text": [
        "\n",
        "Using the weib function to analyze this\n",
        "Condition: other"
       ]
      },
      {
       "output_type": "stream",
       "stream": "stdout",
       "text": [
        "\n",
        "Using the weib function to analyze this\n",
        "File: S07GM_0_90_02232012_1_att_ss.csv"
       ]
      },
      {
       "output_type": "stream",
       "stream": "stdout",
       "text": [
        "\n",
        "Condition: cued\n",
        "Using the weib function to analyze this\n",
        "Condition: other"
       ]
      },
      {
       "output_type": "stream",
       "stream": "stdout",
       "text": [
        "\n",
        "Using the weib function to analyze this\n",
        "File: S07GM_90_0_02232012_1_att_ss.csv"
       ]
      },
      {
       "output_type": "stream",
       "stream": "stdout",
       "text": [
        "\n",
        "Condition: cued\n",
        "Using the weib function to analyze this"
       ]
      },
      {
       "output_type": "stream",
       "stream": "stdout",
       "text": [
        "\n",
        "Condition: other\n",
        "Using the weib function to analyze this"
       ]
      },
      {
       "output_type": "stream",
       "stream": "stdout",
       "text": [
        "\n",
        "File: S07GM_90_90_02232012_1_att_ss.csv"
       ]
      },
      {
       "output_type": "stream",
       "stream": "stdout",
       "text": [
        "\n",
        "Condition: cued\n",
        "Using the weib function to analyze this\n",
        "Condition: other"
       ]
      },
      {
       "output_type": "stream",
       "stream": "stdout",
       "text": [
        "\n",
        "Using the weib function to analyze this\n",
        "File: S07GMn_0_0_02232012_1_att_ss.csv"
       ]
      },
      {
       "output_type": "stream",
       "stream": "stdout",
       "text": [
        "\n",
        "Condition: neutral\n",
        "Using the weib function to analyze this\n",
        "File: S07GMn_0_90_02232012_1_att_ss.csv"
       ]
      },
      {
       "output_type": "stream",
       "stream": "stdout",
       "text": [
        "\n",
        "Condition: neutral\n",
        "Using the weib function to analyze this\n",
        "File: S07GMn_90_0_02232012_1_att_ss.csv\n",
        "Condition: neutral\n",
        "Using the weib function to analyze this\n",
        "File: S07GMn_90_90_02232012_1_att_ss.csv"
       ]
      },
      {
       "output_type": "stream",
       "stream": "stdout",
       "text": [
        "\n",
        "Condition: neutral\n",
        "Using the weib function to analyze this\n",
        "File: S07MGn_0_0_05292012_1_att_ss.csv\n",
        "Condition: neutral\n",
        "Using the weib function to analyze this\n",
        "File: S07MGn_0_90_05292012_1_att_ss.csv"
       ]
      },
      {
       "output_type": "stream",
       "stream": "stdout",
       "text": [
        "\n",
        "Condition: neutral\n",
        "Using the weib function to analyze this\n",
        "File: S07MGn_90_0_05292012_1_att_ss.csv\n",
        "Condition: neutral\n",
        "Using the weib function to analyze this\n",
        "File: S07MGn_90_90_05292012_1_att_ss.csv"
       ]
      },
      {
       "output_type": "stream",
       "stream": "stdout",
       "text": [
        "\n",
        "Condition: neutral\n",
        "Using the weib function to analyze this\n",
        "Analyzing S08"
       ]
      },
      {
       "output_type": "stream",
       "stream": "stdout",
       "text": [
        "\n",
        "File: S08SB_0_0_02282012_1_att_ss.csv\n",
        "Condition: cued\n",
        "Using the weib function to analyze this\n",
        "Condition: other"
       ]
      },
      {
       "output_type": "stream",
       "stream": "stdout",
       "text": [
        "\n",
        "Using the weib function to analyze this\n",
        "File: S08SB_0_90_02282012_1_att_ss.csv\n",
        "Condition: cued"
       ]
      },
      {
       "output_type": "stream",
       "stream": "stdout",
       "text": [
        "\n",
        "Using the weib function to analyze this\n",
        "Condition: other\n",
        "Using the weib function to analyze this"
       ]
      },
      {
       "output_type": "stream",
       "stream": "stdout",
       "text": [
        "\n",
        "File: S08SB_90_0_02282012_1_att_ss.csv"
       ]
      },
      {
       "output_type": "stream",
       "stream": "stdout",
       "text": [
        "\n",
        "Condition: cued\n",
        "Using the weib function to analyze this\n",
        "Condition: other"
       ]
      },
      {
       "output_type": "stream",
       "stream": "stdout",
       "text": [
        "\n",
        "Using the weib function to analyze this\n",
        "File: S08SB_90_90_02282012_1_att_ss.csv\n",
        "Condition: cued"
       ]
      },
      {
       "output_type": "stream",
       "stream": "stdout",
       "text": [
        "\n",
        "Using the weib function to analyze this\n",
        "Condition: other"
       ]
      },
      {
       "output_type": "stream",
       "stream": "stdout",
       "text": [
        "\n",
        "Using the weib function to analyze this\n",
        "File: S08SBn_0_0_02282012_1_att_ss.csv"
       ]
      },
      {
       "output_type": "stream",
       "stream": "stdout",
       "text": [
        "\n",
        "Condition: neutral\n",
        "Using the weib function to analyze this\n",
        "File: S08SBn_0_90_02282012_1_att_ss.csv\n",
        "Condition: neutral\n",
        "Using the weib function to analyze this\n",
        "File: S08SBn_90_0_02282012_1_att_ss.csv"
       ]
      },
      {
       "output_type": "stream",
       "stream": "stdout",
       "text": [
        "\n",
        "Condition: neutral\n",
        "Using the weib function to analyze this\n",
        "File: S08SBn_90_90_02282012_1_att_ss.csv\n",
        "Condition: neutral\n",
        "Using the weib function to analyze this"
       ]
      },
      {
       "output_type": "stream",
       "stream": "stdout",
       "text": [
        "\n",
        "Analyzing S09"
       ]
      },
      {
       "output_type": "stream",
       "stream": "stdout",
       "text": [
        "\n",
        "File: S09CL_0_0_02292012_1_att_ss.csv\n",
        "Condition: cued\n",
        "Using the weib function to analyze this"
       ]
      },
      {
       "output_type": "stream",
       "stream": "stdout",
       "text": [
        "\n",
        "Condition: other\n",
        "Using the weib function to analyze this\n",
        "File: S09CL_0_90_02292012_1_att_ss.csv\n",
        "Condition: cued"
       ]
      },
      {
       "output_type": "stream",
       "stream": "stdout",
       "text": [
        "\n",
        "Using the weib function to analyze this\n",
        "Condition: other\n",
        "Using the weib function to analyze this"
       ]
      },
      {
       "output_type": "stream",
       "stream": "stdout",
       "text": [
        "\n",
        "File: S09CL_90_0_02292012_1_att_ss.csv\n",
        "Condition: cued\n",
        "Using the weib function to analyze this"
       ]
      },
      {
       "output_type": "stream",
       "stream": "stdout",
       "text": [
        "\n",
        "Condition: other\n",
        "Using the weib function to analyze this"
       ]
      },
      {
       "output_type": "stream",
       "stream": "stdout",
       "text": [
        "\n",
        "File: S09CL_90_90_02292012_1_att_ss.csv"
       ]
      },
      {
       "output_type": "stream",
       "stream": "stdout",
       "text": [
        "\n",
        "Condition: cued\n",
        "Using the weib function to analyze this\n",
        "Condition: other"
       ]
      },
      {
       "output_type": "stream",
       "stream": "stdout",
       "text": [
        "\n",
        "Using the weib function to analyze this\n",
        "File: S09CL_90_90_02292012_2_att_ss.csv"
       ]
      },
      {
       "output_type": "stream",
       "stream": "stdout",
       "text": [
        "\n",
        "Condition: cued\n",
        "Using the weib function to analyze this\n",
        "Condition: other"
       ]
      },
      {
       "output_type": "stream",
       "stream": "stdout",
       "text": [
        "\n",
        "Using the weib function to analyze this\n",
        "File: S09CLn_0_0_02292012_1_att_ss.csv"
       ]
      },
      {
       "output_type": "stream",
       "stream": "stdout",
       "text": [
        "\n",
        "Condition: neutral\n",
        "Using the weib function to analyze this\n",
        "File: S09CLn_0_90_02292012_1_att_ss.csv\n",
        "Condition: neutral\n",
        "Using the weib function to analyze this\n",
        "File: S09CLn_90_0_02292012_1_att_ss.csv"
       ]
      },
      {
       "output_type": "stream",
       "stream": "stdout",
       "text": [
        "\n",
        "Condition: neutral\n",
        "Using the weib function to analyze this\n",
        "File: S09CLn_90_90_02292012_1_att_ss.csv\n",
        "Condition: neutral\n",
        "Using the weib function to analyze this\n",
        "Analyzing S10"
       ]
      },
      {
       "output_type": "stream",
       "stream": "stdout",
       "text": [
        "\n",
        "File: S10SH_0_0_03012012_1_att_ss.csv\n",
        "Condition: cued\n",
        "Using the weib function to analyze this\n",
        "Condition: other"
       ]
      },
      {
       "output_type": "stream",
       "stream": "stdout",
       "text": [
        "\n",
        "Using the weib function to analyze this\n",
        "File: S10SH_0_90_03012012_1_att_ss.csv\n",
        "Condition: cued"
       ]
      },
      {
       "output_type": "stream",
       "stream": "stdout",
       "text": [
        "\n",
        "Using the weib function to analyze this\n",
        "Condition: other\n",
        "Using the weib function to analyze this"
       ]
      },
      {
       "output_type": "stream",
       "stream": "stdout",
       "text": [
        "\n",
        "File: S10SH_90_0_03012012_1_att_ss.csv\n",
        "Condition: cued\n",
        "Using the weib function to analyze this"
       ]
      },
      {
       "output_type": "stream",
       "stream": "stdout",
       "text": [
        "\n",
        "Condition: other\n",
        "Using the weib function to analyze this\n",
        "File: S10SH_90_90_03012012_1_att_ss.csv"
       ]
      },
      {
       "output_type": "stream",
       "stream": "stdout",
       "text": [
        "\n",
        "Condition: cued\n",
        "Using the weib function to analyze this\n",
        "Condition: other"
       ]
      },
      {
       "output_type": "stream",
       "stream": "stdout",
       "text": [
        "\n",
        "Using the weib function to analyze this\n",
        "File: S10SHn_0_0_03012012_1_att_ss.csv\n",
        "Condition: neutral\n",
        "Using the weib function to analyze this"
       ]
      },
      {
       "output_type": "stream",
       "stream": "stdout",
       "text": [
        "\n",
        "File: S10SHn_0_90_03012012_1_att_ss.csv\n",
        "Condition: neutral\n",
        "Using the weib function to analyze this\n",
        "File: S10SHn_90_0_03012012_1_att_ss.csv\n",
        "Condition: neutral"
       ]
      },
      {
       "output_type": "stream",
       "stream": "stdout",
       "text": [
        "\n",
        "Using the weib function to analyze this\n",
        "File: S10SHn_90_90_03012012_1_att_ss.csv\n",
        "Condition: neutral\n",
        "Using the weib function to analyze this\n",
        "Analyzing S11"
       ]
      },
      {
       "output_type": "stream",
       "stream": "stdout",
       "text": [
        "\n",
        "File: S11TL_0_0_03132012_1_att_ss.csv\n",
        "Condition: cued\n",
        "Using the weib function to analyze this\n",
        "Condition: other"
       ]
      },
      {
       "output_type": "stream",
       "stream": "stdout",
       "text": [
        "\n",
        "Using the weib function to analyze this\n",
        "File: S11TL_0_90_03132012_1_att_ss.csv"
       ]
      },
      {
       "output_type": "stream",
       "stream": "stdout",
       "text": [
        "\n",
        "Condition: cued\n",
        "Using the weib function to analyze this\n",
        "Condition: other"
       ]
      },
      {
       "output_type": "stream",
       "stream": "stdout",
       "text": [
        "\n",
        "Using the weib function to analyze this\n",
        "File: S11TL_90_0_03132012_1_att_ss.csv"
       ]
      },
      {
       "output_type": "stream",
       "stream": "stdout",
       "text": [
        "\n",
        "Condition: cued\n",
        "Using the weib function to analyze this"
       ]
      },
      {
       "output_type": "stream",
       "stream": "stdout",
       "text": [
        "\n",
        "Condition: other\n",
        "Using the weib function to analyze this\n",
        "File: S11TL_90_90_03132012_1_att_ss.csv"
       ]
      },
      {
       "output_type": "stream",
       "stream": "stdout",
       "text": [
        "\n",
        "Condition: cued\n",
        "Using the weib function to analyze this\n",
        "Condition: other"
       ]
      },
      {
       "output_type": "stream",
       "stream": "stdout",
       "text": [
        "\n",
        "Using the weib function to analyze this\n",
        "File: S11TLn_0_0_03132012_1_att_ss.csv\n",
        "Condition: neutral"
       ]
      },
      {
       "output_type": "stream",
       "stream": "stdout",
       "text": [
        "\n",
        "Using the weib function to analyze this\n",
        "File: S11TLn_0_90_03132012_1_att_ss.csv\n",
        "Condition: neutral\n",
        "Using the weib function to analyze this\n",
        "File: S11TLn_90_0_03132012_1_att_ss.csv"
       ]
      },
      {
       "output_type": "stream",
       "stream": "stdout",
       "text": [
        "\n",
        "Condition: neutral\n",
        "Using the weib function to analyze this\n",
        "File: S11TLn_90_90_03132012_1_att_ss.csv\n",
        "Condition: neutral\n",
        "Using the weib function to analyze this\n",
        "Analyzing S12"
       ]
      },
      {
       "output_type": "stream",
       "stream": "stdout",
       "text": [
        "\n",
        "File: S12JD_0_0_05232012_1_att_ss.csv\n",
        "Condition: cued\n",
        "Using the weib function to analyze this\n",
        "Condition: other"
       ]
      },
      {
       "output_type": "stream",
       "stream": "stdout",
       "text": [
        "\n",
        "Using the weib function to analyze this\n",
        "File: S12JD_0_90_05232012_1_att_ss.csv\n",
        "Condition: cued"
       ]
      },
      {
       "output_type": "stream",
       "stream": "stdout",
       "text": [
        "\n",
        "Using the weib function to analyze this\n",
        "Condition: other\n",
        "Using the weib function to analyze this"
       ]
      },
      {
       "output_type": "stream",
       "stream": "stdout",
       "text": [
        "\n",
        "File: S12JD_90_0_05232012_1_att_ss.csv"
       ]
      },
      {
       "output_type": "stream",
       "stream": "stdout",
       "text": [
        "\n",
        "Condition: cued\n",
        "Using the weib function to analyze this"
       ]
      },
      {
       "output_type": "stream",
       "stream": "stdout",
       "text": [
        "\n",
        "Condition: other\n",
        "Using the weib function to analyze this"
       ]
      },
      {
       "output_type": "stream",
       "stream": "stdout",
       "text": [
        "\n",
        "File: S12JD_90_90_05232012_1_att_ss.csv"
       ]
      },
      {
       "output_type": "stream",
       "stream": "stdout",
       "text": [
        "\n",
        "Condition: cued\n",
        "Using the weib function to analyze this"
       ]
      },
      {
       "output_type": "stream",
       "stream": "stdout",
       "text": [
        "\n",
        "Condition: other"
       ]
      },
      {
       "output_type": "stream",
       "stream": "stdout",
       "text": [
        "\n",
        "Using the weib function to analyze this\n",
        "File: S12JD_n_0_0_05232012_1_att_ss.csv\n",
        "Condition: neutral\n",
        "Using the weib function to analyze this"
       ]
      },
      {
       "output_type": "stream",
       "stream": "stdout",
       "text": [
        "\n",
        "File: S12JD_n_0_90_05232012_1_att_ss.csv\n",
        "Condition: neutral\n",
        "Using the weib function to analyze this"
       ]
      },
      {
       "output_type": "stream",
       "stream": "stdout",
       "text": [
        "\n",
        "File: S12JD_n_90_0_05232012_1_att_ss.csv"
       ]
      },
      {
       "output_type": "stream",
       "stream": "stdout",
       "text": [
        "\n",
        "Condition: neutral\n",
        "Using the weib function to analyze this\n",
        "File: S12JD_n_90_90_05232012_1_att_ss.csv\n",
        "Condition: neutral"
       ]
      },
      {
       "output_type": "stream",
       "stream": "stdout",
       "text": [
        "\n",
        "Using the weib function to analyze this\n",
        "Analyzing S14"
       ]
      },
      {
       "output_type": "stream",
       "stream": "stdout",
       "text": [
        "\n",
        "File: S14JN_0_0_06052012_1_att_ss.csv\n",
        "Condition: cued\n",
        "Using the weib function to analyze this\n",
        "Condition: other"
       ]
      },
      {
       "output_type": "stream",
       "stream": "stdout",
       "text": [
        "\n",
        "Using the weib function to analyze this\n",
        "File: S14JN_0_90_06052012_1_att_ss.csv"
       ]
      },
      {
       "output_type": "stream",
       "stream": "stdout",
       "text": [
        "\n",
        "Condition: cued\n",
        "Using the weib function to analyze this"
       ]
      },
      {
       "output_type": "stream",
       "stream": "stdout",
       "text": [
        "\n",
        "Condition: other\n",
        "Using the weib function to analyze this\n",
        "File: S14JN_90_0_06052012_1_att_ss.csv"
       ]
      },
      {
       "output_type": "stream",
       "stream": "stdout",
       "text": [
        "\n",
        "Condition: cued\n",
        "Using the weib function to analyze this\n",
        "Condition: other"
       ]
      },
      {
       "output_type": "stream",
       "stream": "stdout",
       "text": [
        "\n",
        "Using the weib function to analyze this\n",
        "File: S14JN_90_90_06052012_1_att_ss.csv"
       ]
      },
      {
       "output_type": "stream",
       "stream": "stdout",
       "text": [
        "\n",
        "Condition: cued\n",
        "Using the weib function to analyze this"
       ]
      },
      {
       "output_type": "stream",
       "stream": "stdout",
       "text": [
        "\n",
        "Condition: other"
       ]
      },
      {
       "output_type": "stream",
       "stream": "stdout",
       "text": [
        "\n",
        "Using the weib function to analyze this\n",
        "File: S14JNn_0_0_06052012_1_att_ss.csv\n",
        "Condition: neutral"
       ]
      },
      {
       "output_type": "stream",
       "stream": "stdout",
       "text": [
        "\n",
        "Using the weib function to analyze this\n",
        "File: S14JNn_0_90_06052012_1_att_ss.csv"
       ]
      },
      {
       "output_type": "stream",
       "stream": "stdout",
       "text": [
        "\n",
        "Condition: neutral\n",
        "Using the weib function to analyze this\n",
        "File: S14JNn_90_0_06052012_1_att_ss.csv"
       ]
      },
      {
       "output_type": "stream",
       "stream": "stdout",
       "text": [
        "\n",
        "Condition: neutral\n",
        "Using the weib function to analyze this\n",
        "File: S14JNn_90_90_06052012_1_att_ss.csv"
       ]
      },
      {
       "output_type": "stream",
       "stream": "stdout",
       "text": [
        "\n",
        "Condition: neutral\n",
        "Using the weib function to analyze this\n",
        "Analyzing S15"
       ]
      },
      {
       "output_type": "stream",
       "stream": "stdout",
       "text": [
        "\n",
        "File: S15KB_0_0_06052012_1_att_ss.csv\n",
        "Condition: cued\n",
        "Using the weib function to analyze this\n",
        "Condition: other"
       ]
      },
      {
       "output_type": "stream",
       "stream": "stdout",
       "text": [
        "\n",
        "Using the weib function to analyze this\n",
        "File: S15KB_0_90_06052012_1_att_ss.csv\n",
        "Condition: cued"
       ]
      },
      {
       "output_type": "stream",
       "stream": "stdout",
       "text": [
        "\n",
        "Using the weib function to analyze this\n",
        "Condition: other"
       ]
      },
      {
       "output_type": "stream",
       "stream": "stdout",
       "text": [
        "\n",
        "Using the weib function to analyze this\n",
        "File: S15KB_90_0_06052012_1_att_ss.csv\n",
        "Condition: cued"
       ]
      },
      {
       "output_type": "stream",
       "stream": "stdout",
       "text": [
        "\n",
        "Using the weib function to analyze this\n",
        "Condition: other"
       ]
      },
      {
       "output_type": "stream",
       "stream": "stdout",
       "text": [
        "\n",
        "Using the weib function to analyze this\n",
        "File: S15KB_90_90_06052012_1_att_ss.csv"
       ]
      },
      {
       "output_type": "stream",
       "stream": "stdout",
       "text": [
        "\n",
        "Condition: cued\n",
        "Using the weib function to analyze this\n",
        "Condition: other"
       ]
      },
      {
       "output_type": "stream",
       "stream": "stdout",
       "text": [
        "\n",
        "Using the weib function to analyze this\n",
        "File: S15KBn_0_0_06052012_1_att_ss.csv\n",
        "Condition: neutral\n",
        "Using the weib function to analyze this\n",
        "File: S15KBn_0_90_06052012_1_att_ss.csv"
       ]
      },
      {
       "output_type": "stream",
       "stream": "stdout",
       "text": [
        "\n",
        "Condition: neutral\n",
        "Using the weib function to analyze this\n",
        "File: S15KBn_90_0_06052012_1_att_ss.csv\n",
        "Condition: neutral\n",
        "Using the weib function to analyze this"
       ]
      },
      {
       "output_type": "stream",
       "stream": "stdout",
       "text": [
        "\n",
        "File: S15KBn_90_90_06052012_1_att_ss.csv\n",
        "Condition: neutral\n",
        "Using the weib function to analyze this\n",
        "Analyzing S16\n",
        "File: S16PW_0_0_06082012_1_att_ss.csv\n",
        "Condition: cued"
       ]
      },
      {
       "output_type": "stream",
       "stream": "stdout",
       "text": [
        "\n",
        "Using the weib function to analyze this\n",
        "Condition: other"
       ]
      },
      {
       "output_type": "stream",
       "stream": "stdout",
       "text": [
        "\n",
        "Using the weib function to analyze this\n",
        "File: S16PW_0_90_06082012_1_att_ss.csv\n",
        "Condition: cued"
       ]
      },
      {
       "output_type": "stream",
       "stream": "stdout",
       "text": [
        "\n",
        "Using the weib function to analyze this\n",
        "Condition: other\n",
        "Using the weib function to analyze this"
       ]
      },
      {
       "output_type": "stream",
       "stream": "stdout",
       "text": [
        "\n",
        "File: S16PW_90_0_06082012_1_att_ss.csv\n",
        "Condition: cued\n",
        "Using the weib function to analyze this"
       ]
      },
      {
       "output_type": "stream",
       "stream": "stdout",
       "text": [
        "\n",
        "Condition: other\n",
        "Using the weib function to analyze this\n",
        "File: S16PW_90_90_06082012_1_att_ss.csv"
       ]
      },
      {
       "output_type": "stream",
       "stream": "stdout",
       "text": [
        "\n",
        "Condition: cued\n",
        "Using the weib function to analyze this\n",
        "Condition: other"
       ]
      },
      {
       "output_type": "stream",
       "stream": "stdout",
       "text": [
        "\n",
        "Using the weib function to analyze this\n",
        "File: S16PWn_0_0_06082012_1_att_ss.csv\n",
        "Condition: neutral"
       ]
      },
      {
       "output_type": "stream",
       "stream": "stdout",
       "text": [
        "\n",
        "Using the weib function to analyze this\n",
        "File: S16PWn_0_90_06082012_1_att_ss.csv\n",
        "Condition: neutral\n",
        "Using the weib function to analyze this\n",
        "File: S16PWn_90_0_06082012_1_att_ss.csv"
       ]
      },
      {
       "output_type": "stream",
       "stream": "stdout",
       "text": [
        "\n",
        "Condition: neutral\n",
        "Using the weib function to analyze this\n",
        "File: S16PWn_90_90_06082012_1_att_ss.csv"
       ]
      },
      {
       "output_type": "stream",
       "stream": "stdout",
       "text": [
        "\n",
        "Condition: neutral\n",
        "Using the weib function to analyze this\n",
        "Analyzing S17\n",
        "File: S17LD_0_0_06262012_1_att_ss.csv\n",
        "Condition: cued"
       ]
      },
      {
       "output_type": "stream",
       "stream": "stdout",
       "text": [
        "\n",
        "Using the weib function to analyze this\n",
        "Condition: other"
       ]
      },
      {
       "output_type": "stream",
       "stream": "stdout",
       "text": [
        "\n",
        "Using the weib function to analyze this\n",
        "File: S17LD_0_90_06262012_1_att_ss.csv\n",
        "Condition: cued"
       ]
      },
      {
       "output_type": "stream",
       "stream": "stdout",
       "text": [
        "\n",
        "Using the weib function to analyze this\n",
        "Condition: other\n",
        "Using the weib function to analyze this"
       ]
      },
      {
       "output_type": "stream",
       "stream": "stdout",
       "text": [
        "\n",
        "File: S17LD_90_0_06262012_1_att_ss.csv\n",
        "Condition: cued\n",
        "Using the weib function to analyze this"
       ]
      },
      {
       "output_type": "stream",
       "stream": "stdout",
       "text": [
        "\n",
        "Condition: other\n",
        "Using the weib function to analyze this\n",
        "File: S17LD_90_90_06262012_1_att_ss.csv"
       ]
      },
      {
       "output_type": "stream",
       "stream": "stdout",
       "text": [
        "\n",
        "Condition: cued\n",
        "Using the weib function to analyze this\n",
        "Condition: other"
       ]
      },
      {
       "output_type": "stream",
       "stream": "stdout",
       "text": [
        "\n",
        "Using the weib function to analyze this\n",
        "File: S17LDn_0_0_06262012_1_att_ss.csv"
       ]
      },
      {
       "output_type": "stream",
       "stream": "stdout",
       "text": [
        "\n",
        "Condition: neutral\n",
        "Using the weib function to analyze this\n",
        "File: S17LDn_0_90_06262012_1_att_ss.csv\n",
        "Condition: neutral\n",
        "Using the weib function to analyze this"
       ]
      },
      {
       "output_type": "stream",
       "stream": "stdout",
       "text": [
        "\n",
        "File: S17LDn_90_0_06262012_2_att_ss.csv\n",
        "Condition: neutral\n",
        "Using the weib function to analyze this\n",
        "File: S17LDn_90_90_06262012_1_att_ss.csv"
       ]
      },
      {
       "output_type": "stream",
       "stream": "stdout",
       "text": [
        "\n",
        "Condition: neutral\n",
        "Using the weib function to analyze this\n",
        "['S01', 'S02', 'S03', 'S04', 'S05', 'S06', 'S07', 'S08', 'S09', 'S10', 'S11', 'S12', 'S14', 'S15', 'S16', 'S17']\n",
        "Analyzing S01\n",
        "File: S01HS_0_0_02092012_1_att_ss.csv\n",
        "Condition: cued"
       ]
      },
      {
       "output_type": "stream",
       "stream": "stdout",
       "text": [
        "\n",
        "Using the weib function to analyze this\n",
        "Condition: other\n",
        "Using the weib function to analyze this"
       ]
      },
      {
       "output_type": "stream",
       "stream": "stdout",
       "text": [
        "\n",
        "File: S01HS_0_90_02092012_1_att_ss.csv\n",
        "Condition: cued\n",
        "Using the weib function to analyze this"
       ]
      },
      {
       "output_type": "stream",
       "stream": "stdout",
       "text": [
        "\n",
        "Condition: other\n",
        "Using the weib function to analyze this\n",
        "File: S01HS_90_0_02092012_1_att_ss.csv"
       ]
      },
      {
       "output_type": "stream",
       "stream": "stdout",
       "text": [
        "\n",
        "Condition: cued\n",
        "Using the weib function to analyze this\n",
        "Condition: other"
       ]
      },
      {
       "output_type": "stream",
       "stream": "stdout",
       "text": [
        "\n",
        "Using the weib function to analyze this\n",
        "File: S01HS_90_90_02092012_1_att_ss.csv"
       ]
      },
      {
       "output_type": "stream",
       "stream": "stdout",
       "text": [
        "\n",
        "Condition: cued\n",
        "Using the weib function to analyze this\n",
        "Condition: other"
       ]
      },
      {
       "output_type": "stream",
       "stream": "stdout",
       "text": [
        "\n",
        "Using the weib function to analyze this\n",
        "File: S01HSn_0_0_02162012_1_att_ss.csv"
       ]
      },
      {
       "output_type": "stream",
       "stream": "stdout",
       "text": [
        "\n",
        "Condition: neutral\n",
        "Using the weib function to analyze this\n",
        "File: S01HSn_0_90_02162012_1_att_ss.csv"
       ]
      },
      {
       "output_type": "stream",
       "stream": "stdout",
       "text": [
        "\n",
        "Condition: neutral\n",
        "Using the weib function to analyze this\n",
        "File: S01HSn_90_0_02162012_1_att_ss.csv"
       ]
      },
      {
       "output_type": "stream",
       "stream": "stdout",
       "text": [
        "\n",
        "Condition: neutral\n",
        "Using the weib function to analyze this\n",
        "File: S01HSn_90_90_02162012_1_att_ss.csv\n",
        "Condition: neutral"
       ]
      },
      {
       "output_type": "stream",
       "stream": "stdout",
       "text": [
        "\n",
        "Using the weib function to analyze this\n",
        "Analyzing S02\n",
        "File: S02DT_0_0_02092012_1_att_ss.csv\n",
        "Condition: cued\n",
        "Using the weib function to analyze this"
       ]
      },
      {
       "output_type": "stream",
       "stream": "stdout",
       "text": [
        "\n",
        "Condition: other\n",
        "Using the weib function to analyze this"
       ]
      },
      {
       "output_type": "stream",
       "stream": "stdout",
       "text": [
        "\n",
        "File: S02DT_0_90_02092012_1_att_ss.csv\n",
        "Condition: cued\n",
        "Using the weib function to analyze this"
       ]
      },
      {
       "output_type": "stream",
       "stream": "stdout",
       "text": [
        "\n",
        "Condition: other\n",
        "Using the weib function to analyze this\n",
        "File: S02DT_90_0_02092012_1_att_ss.csv"
       ]
      },
      {
       "output_type": "stream",
       "stream": "stdout",
       "text": [
        "\n",
        "Condition: cued\n",
        "Using the weib function to analyze this"
       ]
      },
      {
       "output_type": "stream",
       "stream": "stdout",
       "text": [
        "\n",
        "Condition: other\n",
        "Using the weib function to analyze this\n",
        "File: S02DT_90_90_02092012_1_att_ss.csv"
       ]
      },
      {
       "output_type": "stream",
       "stream": "stdout",
       "text": [
        "\n",
        "Condition: cued\n",
        "Using the weib function to analyze this"
       ]
      },
      {
       "output_type": "stream",
       "stream": "stdout",
       "text": [
        "\n",
        "Condition: other\n",
        "Using the weib function to analyze this"
       ]
      },
      {
       "output_type": "stream",
       "stream": "stdout",
       "text": [
        "\n",
        "File: S02DTn_0_0_02162012_1_att_ss.csv"
       ]
      },
      {
       "output_type": "stream",
       "stream": "stdout",
       "text": [
        "\n",
        "Condition: neutral\n",
        "Using the weib function to analyze this\n",
        "File: S02DTn_0_90_02162012_1_att_ss.csv"
       ]
      },
      {
       "output_type": "stream",
       "stream": "stdout",
       "text": [
        "\n",
        "Condition: neutral\n",
        "Using the weib function to analyze this\n",
        "File: S02DTn_90_0_02162012_1_att_ss.csv"
       ]
      },
      {
       "output_type": "stream",
       "stream": "stdout",
       "text": [
        "\n",
        "Condition: neutral\n",
        "Using the weib function to analyze this\n",
        "File: S02DTn_90_90_02162012_1_att_ss.csv"
       ]
      },
      {
       "output_type": "stream",
       "stream": "stdout",
       "text": [
        "\n",
        "Condition: neutral\n",
        "Using the weib function to analyze this\n",
        "Analyzing S03"
       ]
      },
      {
       "output_type": "stream",
       "stream": "stdout",
       "text": [
        "\n",
        "File: S03AB_0_0_02102012_1_att_ss.csv\n",
        "Condition: cued\n",
        "Using the weib function to analyze this"
       ]
      },
      {
       "output_type": "stream",
       "stream": "stdout",
       "text": [
        "\n",
        "Condition: other\n",
        "Using the weib function to analyze this"
       ]
      },
      {
       "output_type": "stream",
       "stream": "stdout",
       "text": [
        "\n",
        "File: S03AB_0_90_02102012_1_att_ss.csv\n",
        "Condition: cued"
       ]
      },
      {
       "output_type": "stream",
       "stream": "stdout",
       "text": [
        "\n",
        "Using the weib function to analyze this\n",
        "Condition: other"
       ]
      },
      {
       "output_type": "stream",
       "stream": "stdout",
       "text": [
        "\n",
        "Using the weib function to analyze this\n",
        "File: S03AB_90_0_02102012_1_att_ss.csv\n",
        "Condition: cued"
       ]
      },
      {
       "output_type": "stream",
       "stream": "stdout",
       "text": [
        "\n",
        "Using the weib function to analyze this\n",
        "Condition: other\n",
        "Using the weib function to analyze this"
       ]
      },
      {
       "output_type": "stream",
       "stream": "stdout",
       "text": [
        "\n",
        "File: S03AB_90_90_02102012_1_att_ss.csv\n",
        "Condition: cued\n",
        "Using the weib function to analyze this"
       ]
      },
      {
       "output_type": "stream",
       "stream": "stdout",
       "text": [
        "\n",
        "Condition: other\n",
        "Using the weib function to analyze this\n",
        "File: S03ABn_0_0_02102012_1_att_ss.csv"
       ]
      },
      {
       "output_type": "stream",
       "stream": "stdout",
       "text": [
        "\n",
        "Condition: neutral\n",
        "Using the weib function to analyze this\n",
        "File: S03ABn_0_90_02102012_1_att_ss.csv"
       ]
      },
      {
       "output_type": "stream",
       "stream": "stdout",
       "text": [
        "\n",
        "Condition: neutral\n",
        "Using the weib function to analyze this\n",
        "File: S03ABn_90_0_02102012_2_att_ss.csv\n",
        "Condition: neutral\n",
        "Using the weib function to analyze this\n",
        "File: S03ABn_90_90_02102012_1_att_ss.csv"
       ]
      },
      {
       "output_type": "stream",
       "stream": "stdout",
       "text": [
        "\n",
        "Condition: neutral\n",
        "Using the weib function to analyze this\n",
        "Analyzing S04"
       ]
      },
      {
       "output_type": "stream",
       "stream": "stdout",
       "text": [
        "\n",
        "File: S04LC_0_0_02162012_1_att_ss.csv\n",
        "Condition: cued\n",
        "Using the weib function to analyze this\n",
        "Condition: other"
       ]
      },
      {
       "output_type": "stream",
       "stream": "stdout",
       "text": [
        "\n",
        "Using the weib function to analyze this\n",
        "File: S04LC_0_90_02162012_1_att_ss.csv\n",
        "Condition: cued"
       ]
      },
      {
       "output_type": "stream",
       "stream": "stdout",
       "text": [
        "\n",
        "Using the weib function to analyze this\n",
        "Condition: other\n",
        "Using the weib function to analyze this"
       ]
      },
      {
       "output_type": "stream",
       "stream": "stdout",
       "text": [
        "\n",
        "File: S04LC_90_0_02162012_1_att_ss.csv\n",
        "Condition: cued\n",
        "Using the weib function to analyze this"
       ]
      },
      {
       "output_type": "stream",
       "stream": "stdout",
       "text": [
        "\n",
        "Condition: other\n",
        "Using the weib function to analyze this\n",
        "File: S04LC_90_90_02162012_1_att_ss.csv"
       ]
      },
      {
       "output_type": "stream",
       "stream": "stdout",
       "text": [
        "\n",
        "Condition: cued\n",
        "Using the weib function to analyze this"
       ]
      },
      {
       "output_type": "stream",
       "stream": "stdout",
       "text": [
        "\n",
        "Condition: other\n",
        "Using the weib function to analyze this\n",
        "File: S04LCn_0_0_02162012_1_att_ss.csv"
       ]
      },
      {
       "output_type": "stream",
       "stream": "stdout",
       "text": [
        "\n",
        "Condition: neutral\n",
        "Using the weib function to analyze this\n",
        "File: S04LCn_0_90_02162012_1_att_ss.csv"
       ]
      },
      {
       "output_type": "stream",
       "stream": "stdout",
       "text": [
        "\n",
        "Condition: neutral\n",
        "Using the weib function to analyze this\n",
        "File: S04LCn_90_0_02162012_1_att_ss.csv\n",
        "Condition: neutral\n",
        "Using the weib function to analyze this\n",
        "File: S04LCn_90_90_02162012_1_att_ss.csv"
       ]
      },
      {
       "output_type": "stream",
       "stream": "stdout",
       "text": [
        "\n",
        "Condition: neutral\n",
        "Using the weib function to analyze this\n",
        "Analyzing S05"
       ]
      },
      {
       "output_type": "stream",
       "stream": "stdout",
       "text": [
        "\n",
        "File: S05JV_0_0_02162012_1_att_ss.csv\n",
        "Condition: cued\n",
        "Using the weib function to analyze this\n",
        "Condition: other"
       ]
      },
      {
       "output_type": "stream",
       "stream": "stdout",
       "text": [
        "\n",
        "Using the weib function to analyze this\n",
        "File: S05JV_0_90_02162012_1_att_ss.csv\n",
        "Condition: cued\n",
        "Using the weib function to analyze this"
       ]
      },
      {
       "output_type": "stream",
       "stream": "stdout",
       "text": [
        "\n",
        "Condition: other\n",
        "Using the weib function to analyze this\n",
        "File: S05JV_90_0_02162012_1_att_ss.csv"
       ]
      },
      {
       "output_type": "stream",
       "stream": "stdout",
       "text": [
        "\n",
        "Condition: cued\n",
        "Using the weib function to analyze this\n",
        "Condition: other"
       ]
      },
      {
       "output_type": "stream",
       "stream": "stdout",
       "text": [
        "\n",
        "Using the weib function to analyze this\n",
        "File: S05JV_90_90_02162012_1_att_ss.csv"
       ]
      },
      {
       "output_type": "stream",
       "stream": "stdout",
       "text": [
        "\n",
        "Condition: cued\n",
        "Using the weib function to analyze this\n",
        "Condition: other"
       ]
      },
      {
       "output_type": "stream",
       "stream": "stdout",
       "text": [
        "\n",
        "Using the weib function to analyze this\n",
        "File: S05JV_90_90_02232012_1_att_ss.csv\n",
        "Condition: cued"
       ]
      },
      {
       "output_type": "stream",
       "stream": "stdout",
       "text": [
        "\n",
        "Using the weib function to analyze this\n",
        "Condition: other\n",
        "Using the weib function to analyze this"
       ]
      },
      {
       "output_type": "stream",
       "stream": "stdout",
       "text": [
        "\n",
        "File: S05JVn_0_0_02162012_1_att_ss.csv\n",
        "Condition: neutral\n",
        "Using the weib function to analyze this\n",
        "File: S05JVn_0_90_02162012_1_att_ss.csv"
       ]
      },
      {
       "output_type": "stream",
       "stream": "stdout",
       "text": [
        "\n",
        "Condition: neutral\n",
        "Using the weib function to analyze this\n",
        "File: S05JVn_90_0_02162012_1_att_ss.csv\n",
        "Condition: neutral\n",
        "Using the weib function to analyze this\n",
        "File: S05JVn_90_90_02162012_1_att_ss.csv"
       ]
      },
      {
       "output_type": "stream",
       "stream": "stdout",
       "text": [
        "\n",
        "Condition: neutral\n",
        "Using the weib function to analyze this\n",
        "Analyzing S06\n",
        "File: S06LN_0_0_02212012_1_att_ss.csv\n",
        "Condition: cued\n",
        "Using the weib function to analyze this"
       ]
      },
      {
       "output_type": "stream",
       "stream": "stdout",
       "text": [
        "\n",
        "Condition: other\n",
        "Using the weib function to analyze this\n",
        "File: S06LN_0_90_02212012_1_att_ss.csv"
       ]
      },
      {
       "output_type": "stream",
       "stream": "stdout",
       "text": [
        "\n",
        "Condition: cued\n",
        "Using the weib function to analyze this\n",
        "Condition: other"
       ]
      },
      {
       "output_type": "stream",
       "stream": "stdout",
       "text": [
        "\n",
        "Using the weib function to analyze this\n",
        "File: S06LN_90_0_02212012_1_att_ss.csv"
       ]
      },
      {
       "output_type": "stream",
       "stream": "stdout",
       "text": [
        "\n",
        "Condition: cued\n",
        "Using the weib function to analyze this\n",
        "Condition: other"
       ]
      },
      {
       "output_type": "stream",
       "stream": "stdout",
       "text": [
        "\n",
        "Using the weib function to analyze this\n",
        "File: S06LN_90_90_02212012_1_att_ss.csv\n",
        "Condition: cued"
       ]
      },
      {
       "output_type": "stream",
       "stream": "stdout",
       "text": [
        "\n",
        "Using the weib function to analyze this\n",
        "Condition: other\n",
        "Using the weib function to analyze this"
       ]
      },
      {
       "output_type": "stream",
       "stream": "stdout",
       "text": [
        "\n",
        "File: S06LNn_0_0_02212012_1_att_ss.csv\n",
        "Condition: neutral\n",
        "Using the weib function to analyze this\n",
        "File: S06LNn_0_90_02212012_1_att_ss.csv"
       ]
      },
      {
       "output_type": "stream",
       "stream": "stdout",
       "text": [
        "\n",
        "Condition: neutral\n",
        "Using the weib function to analyze this\n",
        "File: S06LNn_90_0_02212012_1_att_ss.csv"
       ]
      },
      {
       "output_type": "stream",
       "stream": "stdout",
       "text": [
        "\n",
        "Condition: neutral\n",
        "Using the weib function to analyze this\n",
        "File: S06LNn_90_90_02212012_1_att_ss.csv"
       ]
      },
      {
       "output_type": "stream",
       "stream": "stdout",
       "text": [
        "\n",
        "Condition: neutral\n",
        "Using the weib function to analyze this\n",
        "Analyzing S07"
       ]
      },
      {
       "output_type": "stream",
       "stream": "stdout",
       "text": [
        "\n",
        "File: S07GM_0_0_02232012_1_att_ss.csv\n",
        "Condition: cued\n",
        "Using the weib function to analyze this"
       ]
      },
      {
       "output_type": "stream",
       "stream": "stdout",
       "text": [
        "\n",
        "Condition: other\n",
        "Using the weib function to analyze this"
       ]
      },
      {
       "output_type": "stream",
       "stream": "stdout",
       "text": [
        "\n",
        "File: S07GM_0_90_02232012_1_att_ss.csv"
       ]
      },
      {
       "output_type": "stream",
       "stream": "stdout",
       "text": [
        "\n",
        "Condition: cued\n",
        "Using the weib function to analyze this\n",
        "Condition: other\n",
        "Using the weib function to analyze this"
       ]
      },
      {
       "output_type": "stream",
       "stream": "stdout",
       "text": [
        "\n",
        "File: S07GM_90_0_02232012_1_att_ss.csv"
       ]
      },
      {
       "output_type": "stream",
       "stream": "stdout",
       "text": [
        "\n",
        "Condition: cued\n",
        "Using the weib function to analyze this\n",
        "Condition: other"
       ]
      },
      {
       "output_type": "stream",
       "stream": "stdout",
       "text": [
        "\n",
        "Using the weib function to analyze this\n",
        "File: S07GM_90_90_02232012_1_att_ss.csv\n",
        "Condition: cued"
       ]
      },
      {
       "output_type": "stream",
       "stream": "stdout",
       "text": [
        "\n",
        "Using the weib function to analyze this\n",
        "Condition: other\n",
        "Using the weib function to analyze this"
       ]
      },
      {
       "output_type": "stream",
       "stream": "stdout",
       "text": [
        "\n",
        "File: S07GMn_0_0_02232012_1_att_ss.csv"
       ]
      },
      {
       "output_type": "stream",
       "stream": "stdout",
       "text": [
        "\n",
        "Condition: neutral\n",
        "Using the weib function to analyze this\n",
        "File: S07GMn_0_90_02232012_1_att_ss.csv"
       ]
      },
      {
       "output_type": "stream",
       "stream": "stdout",
       "text": [
        "\n",
        "Condition: neutral\n",
        "Using the weib function to analyze this\n",
        "File: S07GMn_90_0_02232012_1_att_ss.csv\n",
        "Condition: neutral\n",
        "Using the weib function to analyze this"
       ]
      },
      {
       "output_type": "stream",
       "stream": "stdout",
       "text": [
        "\n",
        "File: S07GMn_90_90_02232012_1_att_ss.csv\n",
        "Condition: neutral\n",
        "Using the weib function to analyze this\n",
        "File: S07MGn_0_0_05292012_1_att_ss.csv"
       ]
      },
      {
       "output_type": "stream",
       "stream": "stdout",
       "text": [
        "\n",
        "Condition: neutral\n",
        "Using the weib function to analyze this\n",
        "File: S07MGn_0_90_05292012_1_att_ss.csv"
       ]
      },
      {
       "output_type": "stream",
       "stream": "stdout",
       "text": [
        "\n",
        "Condition: neutral\n",
        "Using the weib function to analyze this\n",
        "File: S07MGn_90_0_05292012_1_att_ss.csv\n",
        "Condition: neutral\n",
        "Using the weib function to analyze this"
       ]
      },
      {
       "output_type": "stream",
       "stream": "stdout",
       "text": [
        "\n",
        "File: S07MGn_90_90_05292012_1_att_ss.csv\n",
        "Condition: neutral\n",
        "Using the weib function to analyze this\n",
        "Analyzing S08"
       ]
      },
      {
       "output_type": "stream",
       "stream": "stdout",
       "text": [
        "\n",
        "File: S08SB_0_0_02282012_1_att_ss.csv\n",
        "Condition: cued\n",
        "Using the weib function to analyze this"
       ]
      },
      {
       "output_type": "stream",
       "stream": "stdout",
       "text": [
        "\n",
        "Condition: other"
       ]
      },
      {
       "output_type": "stream",
       "stream": "stdout",
       "text": [
        "\n",
        "Using the weib function to analyze this\n",
        "File: S08SB_0_90_02282012_1_att_ss.csv"
       ]
      },
      {
       "output_type": "stream",
       "stream": "stdout",
       "text": [
        "\n",
        "Condition: cued\n",
        "Using the weib function to analyze this"
       ]
      },
      {
       "output_type": "stream",
       "stream": "stdout",
       "text": [
        "\n",
        "Condition: other\n",
        "Using the weib function to analyze this\n",
        "File: S08SB_90_0_02282012_1_att_ss.csv\n",
        "Condition: cued"
       ]
      },
      {
       "output_type": "stream",
       "stream": "stdout",
       "text": [
        "\n",
        "Using the weib function to analyze this\n",
        "Condition: other\n",
        "Using the weib function to analyze this"
       ]
      },
      {
       "output_type": "stream",
       "stream": "stdout",
       "text": [
        "\n",
        "File: S08SB_90_90_02282012_1_att_ss.csv\n",
        "Condition: cued\n",
        "Using the weib function to analyze this"
       ]
      },
      {
       "output_type": "stream",
       "stream": "stdout",
       "text": [
        "\n",
        "Condition: other\n",
        "Using the weib function to analyze this"
       ]
      },
      {
       "output_type": "stream",
       "stream": "stdout",
       "text": [
        "\n",
        "File: S08SBn_0_0_02282012_1_att_ss.csv\n",
        "Condition: neutral\n",
        "Using the weib function to analyze this\n",
        "File: S08SBn_0_90_02282012_1_att_ss.csv"
       ]
      },
      {
       "output_type": "stream",
       "stream": "stdout",
       "text": [
        "\n",
        "Condition: neutral\n",
        "Using the weib function to analyze this\n",
        "File: S08SBn_90_0_02282012_1_att_ss.csv\n",
        "Condition: neutral"
       ]
      },
      {
       "output_type": "stream",
       "stream": "stdout",
       "text": [
        "\n",
        "Using the weib function to analyze this\n",
        "File: S08SBn_90_90_02282012_1_att_ss.csv\n",
        "Condition: neutral\n",
        "Using the weib function to analyze this"
       ]
      },
      {
       "output_type": "stream",
       "stream": "stdout",
       "text": [
        "\n",
        "Analyzing S09\n",
        "File: S09CL_0_0_02292012_1_att_ss.csv\n",
        "Condition: cued\n",
        "Using the weib function to analyze this"
       ]
      },
      {
       "output_type": "stream",
       "stream": "stdout",
       "text": [
        "\n",
        "Condition: other\n",
        "Using the weib function to analyze this"
       ]
      },
      {
       "output_type": "stream",
       "stream": "stdout",
       "text": [
        "\n",
        "File: S09CL_0_90_02292012_1_att_ss.csv\n",
        "Condition: cued"
       ]
      },
      {
       "output_type": "stream",
       "stream": "stdout",
       "text": [
        "\n",
        "Using the weib function to analyze this\n",
        "Condition: other"
       ]
      },
      {
       "output_type": "stream",
       "stream": "stdout",
       "text": [
        "\n",
        "Using the weib function to analyze this\n",
        "File: S09CL_90_0_02292012_1_att_ss.csv\n",
        "Condition: cued"
       ]
      },
      {
       "output_type": "stream",
       "stream": "stdout",
       "text": [
        "\n",
        "Using the weib function to analyze this\n",
        "Condition: other"
       ]
      },
      {
       "output_type": "stream",
       "stream": "stdout",
       "text": [
        "\n",
        "Using the weib function to analyze this\n",
        "File: S09CL_90_90_02292012_1_att_ss.csv\n",
        "Condition: cued"
       ]
      },
      {
       "output_type": "stream",
       "stream": "stdout",
       "text": [
        "\n",
        "Using the weib function to analyze this\n",
        "Condition: other"
       ]
      },
      {
       "output_type": "stream",
       "stream": "stdout",
       "text": [
        "\n",
        "Using the weib function to analyze this\n",
        "File: S09CL_90_90_02292012_2_att_ss.csv"
       ]
      },
      {
       "output_type": "stream",
       "stream": "stdout",
       "text": [
        "\n",
        "Condition: cued\n",
        "Using the weib function to analyze this"
       ]
      },
      {
       "output_type": "stream",
       "stream": "stdout",
       "text": [
        "\n",
        "Condition: other\n",
        "Using the weib function to analyze this\n",
        "File: S09CLn_0_0_02292012_1_att_ss.csv\n",
        "Condition: neutral"
       ]
      },
      {
       "output_type": "stream",
       "stream": "stdout",
       "text": [
        "\n",
        "Using the weib function to analyze this\n",
        "File: S09CLn_0_90_02292012_1_att_ss.csv\n",
        "Condition: neutral\n",
        "Using the weib function to analyze this\n",
        "File: S09CLn_90_0_02292012_1_att_ss.csv"
       ]
      },
      {
       "output_type": "stream",
       "stream": "stdout",
       "text": [
        "\n",
        "Condition: neutral\n",
        "Using the weib function to analyze this\n",
        "File: S09CLn_90_90_02292012_1_att_ss.csv\n",
        "Condition: neutral\n",
        "Using the weib function to analyze this"
       ]
      },
      {
       "output_type": "stream",
       "stream": "stdout",
       "text": [
        "\n",
        "Analyzing S10"
       ]
      },
      {
       "output_type": "stream",
       "stream": "stdout",
       "text": [
        "\n",
        "File: S10SH_0_0_03012012_1_att_ss.csv\n",
        "Condition: cued\n",
        "Using the weib function to analyze this\n",
        "Condition: other"
       ]
      },
      {
       "output_type": "stream",
       "stream": "stdout",
       "text": [
        "\n",
        "Using the weib function to analyze this\n",
        "File: S10SH_0_90_03012012_1_att_ss.csv"
       ]
      },
      {
       "output_type": "stream",
       "stream": "stdout",
       "text": [
        "\n",
        "Condition: cued\n",
        "Using the weib function to analyze this\n",
        "Condition: other"
       ]
      },
      {
       "output_type": "stream",
       "stream": "stdout",
       "text": [
        "\n",
        "Using the weib function to analyze this\n",
        "File: S10SH_90_0_03012012_1_att_ss.csv\n",
        "Condition: cued"
       ]
      },
      {
       "output_type": "stream",
       "stream": "stdout",
       "text": [
        "\n",
        "Using the weib function to analyze this\n",
        "Condition: other\n",
        "Using the weib function to analyze this"
       ]
      },
      {
       "output_type": "stream",
       "stream": "stdout",
       "text": [
        "\n",
        "File: S10SH_90_90_03012012_1_att_ss.csv"
       ]
      },
      {
       "output_type": "stream",
       "stream": "stdout",
       "text": [
        "\n",
        "Condition: cued\n",
        "Using the weib function to analyze this\n",
        "Condition: other"
       ]
      },
      {
       "output_type": "stream",
       "stream": "stdout",
       "text": [
        "\n",
        "Using the weib function to analyze this\n",
        "File: S10SHn_0_0_03012012_1_att_ss.csv"
       ]
      },
      {
       "output_type": "stream",
       "stream": "stdout",
       "text": [
        "\n",
        "Condition: neutral\n",
        "Using the weib function to analyze this\n",
        "File: S10SHn_0_90_03012012_1_att_ss.csv"
       ]
      },
      {
       "output_type": "stream",
       "stream": "stdout",
       "text": [
        "\n",
        "Condition: neutral\n",
        "Using the weib function to analyze this\n",
        "File: S10SHn_90_0_03012012_1_att_ss.csv\n",
        "Condition: neutral\n",
        "Using the weib function to analyze this"
       ]
      },
      {
       "output_type": "stream",
       "stream": "stdout",
       "text": [
        "\n",
        "File: S10SHn_90_90_03012012_1_att_ss.csv\n",
        "Condition: neutral\n",
        "Using the weib function to analyze this\n",
        "Analyzing S11"
       ]
      },
      {
       "output_type": "stream",
       "stream": "stdout",
       "text": [
        "\n",
        "File: S11TL_0_0_03132012_1_att_ss.csv\n",
        "Condition: cued\n",
        "Using the weib function to analyze this\n",
        "Condition: other"
       ]
      },
      {
       "output_type": "stream",
       "stream": "stdout",
       "text": [
        "\n",
        "Using the weib function to analyze this\n",
        "File: S11TL_0_90_03132012_1_att_ss.csv"
       ]
      },
      {
       "output_type": "stream",
       "stream": "stdout",
       "text": [
        "\n",
        "Condition: cued\n",
        "Using the weib function to analyze this\n",
        "Condition: other"
       ]
      },
      {
       "output_type": "stream",
       "stream": "stdout",
       "text": [
        "\n",
        "Using the weib function to analyze this\n",
        "File: S11TL_90_0_03132012_1_att_ss.csv\n",
        "Condition: cued"
       ]
      },
      {
       "output_type": "stream",
       "stream": "stdout",
       "text": [
        "\n",
        "Using the weib function to analyze this\n",
        "Condition: other\n",
        "Using the weib function to analyze this"
       ]
      },
      {
       "output_type": "stream",
       "stream": "stdout",
       "text": [
        "\n",
        "File: S11TL_90_90_03132012_1_att_ss.csv\n",
        "Condition: cued\n",
        "Using the weib function to analyze this"
       ]
      },
      {
       "output_type": "stream",
       "stream": "stdout",
       "text": [
        "\n",
        "Condition: other\n",
        "Using the weib function to analyze this\n",
        "File: S11TLn_0_0_03132012_1_att_ss.csv\n",
        "Condition: neutral"
       ]
      },
      {
       "output_type": "stream",
       "stream": "stdout",
       "text": [
        "\n",
        "Using the weib function to analyze this\n",
        "File: S11TLn_0_90_03132012_1_att_ss.csv\n",
        "Condition: neutral\n",
        "Using the weib function to analyze this\n",
        "File: S11TLn_90_0_03132012_1_att_ss.csv"
       ]
      },
      {
       "output_type": "stream",
       "stream": "stdout",
       "text": [
        "\n",
        "Condition: neutral\n",
        "Using the weib function to analyze this\n",
        "File: S11TLn_90_90_03132012_1_att_ss.csv\n",
        "Condition: neutral"
       ]
      },
      {
       "output_type": "stream",
       "stream": "stdout",
       "text": [
        "\n",
        "Using the weib function to analyze this\n",
        "Analyzing S12\n",
        "File: S12JD_0_0_05232012_1_att_ss.csv\n",
        "Condition: cued"
       ]
      },
      {
       "output_type": "stream",
       "stream": "stdout",
       "text": [
        "\n",
        "Using the weib function to analyze this\n",
        "Condition: other\n",
        "Using the weib function to analyze this"
       ]
      },
      {
       "output_type": "stream",
       "stream": "stdout",
       "text": [
        "\n",
        "File: S12JD_0_90_05232012_1_att_ss.csv"
       ]
      },
      {
       "output_type": "stream",
       "stream": "stdout",
       "text": [
        "\n",
        "Condition: cued\n",
        "Using the weib function to analyze this\n",
        "Condition: other"
       ]
      },
      {
       "output_type": "stream",
       "stream": "stdout",
       "text": [
        "\n",
        "Using the weib function to analyze this\n",
        "File: S12JD_90_0_05232012_1_att_ss.csv\n",
        "Condition: cued"
       ]
      },
      {
       "output_type": "stream",
       "stream": "stdout",
       "text": [
        "\n",
        "Using the weib function to analyze this\n",
        "Condition: other\n",
        "Using the weib function to analyze this"
       ]
      },
      {
       "output_type": "stream",
       "stream": "stdout",
       "text": [
        "\n",
        "File: S12JD_90_90_05232012_1_att_ss.csv"
       ]
      },
      {
       "output_type": "stream",
       "stream": "stdout",
       "text": [
        "\n",
        "Condition: cued\n",
        "Using the weib function to analyze this\n",
        "Condition: other"
       ]
      },
      {
       "output_type": "stream",
       "stream": "stdout",
       "text": [
        "\n",
        "Using the weib function to analyze this\n",
        "File: S12JD_n_0_0_05232012_1_att_ss.csv\n",
        "Condition: neutral\n",
        "Using the weib function to analyze this"
       ]
      },
      {
       "output_type": "stream",
       "stream": "stdout",
       "text": [
        "\n",
        "File: S12JD_n_0_90_05232012_1_att_ss.csv"
       ]
      },
      {
       "output_type": "stream",
       "stream": "stdout",
       "text": [
        "\n",
        "Condition: neutral\n",
        "Using the weib function to analyze this\n",
        "File: S12JD_n_90_0_05232012_1_att_ss.csv"
       ]
      },
      {
       "output_type": "stream",
       "stream": "stdout",
       "text": [
        "\n",
        "Condition: neutral\n",
        "Using the weib function to analyze this\n",
        "File: S12JD_n_90_90_05232012_1_att_ss.csv\n",
        "Condition: neutral\n",
        "Using the weib function to analyze this\n",
        "Analyzing S14"
       ]
      },
      {
       "output_type": "stream",
       "stream": "stdout",
       "text": [
        "\n",
        "File: S14JN_0_0_06052012_1_att_ss.csv\n",
        "Condition: cued\n",
        "Using the weib function to analyze this\n",
        "Condition: other"
       ]
      },
      {
       "output_type": "stream",
       "stream": "stdout",
       "text": [
        "\n",
        "Using the weib function to analyze this\n",
        "File: S14JN_0_90_06052012_1_att_ss.csv"
       ]
      },
      {
       "output_type": "stream",
       "stream": "stdout",
       "text": [
        "\n",
        "Condition: cued\n",
        "Using the weib function to analyze this"
       ]
      },
      {
       "output_type": "stream",
       "stream": "stdout",
       "text": [
        "\n",
        "Condition: other"
       ]
      },
      {
       "output_type": "stream",
       "stream": "stdout",
       "text": [
        "\n",
        "Using the weib function to analyze this\n",
        "File: S14JN_90_0_06052012_1_att_ss.csv\n",
        "Condition: cued"
       ]
      },
      {
       "output_type": "stream",
       "stream": "stdout",
       "text": [
        "\n",
        "Using the weib function to analyze this\n",
        "Condition: other\n",
        "Using the weib function to analyze this"
       ]
      },
      {
       "output_type": "stream",
       "stream": "stdout",
       "text": [
        "\n",
        "File: S14JN_90_90_06052012_1_att_ss.csv"
       ]
      },
      {
       "output_type": "stream",
       "stream": "stdout",
       "text": [
        "\n",
        "Condition: cued\n",
        "Using the weib function to analyze this\n",
        "Condition: other"
       ]
      },
      {
       "output_type": "stream",
       "stream": "stdout",
       "text": [
        "\n",
        "Using the weib function to analyze this\n",
        "File: S14JNn_0_0_06052012_1_att_ss.csv"
       ]
      },
      {
       "output_type": "stream",
       "stream": "stdout",
       "text": [
        "\n",
        "Condition: neutral\n",
        "Using the weib function to analyze this\n",
        "File: S14JNn_0_90_06052012_1_att_ss.csv"
       ]
      },
      {
       "output_type": "stream",
       "stream": "stdout",
       "text": [
        "\n",
        "Condition: neutral\n",
        "Using the weib function to analyze this\n",
        "File: S14JNn_90_0_06052012_1_att_ss.csv\n",
        "Condition: neutral"
       ]
      },
      {
       "output_type": "stream",
       "stream": "stdout",
       "text": [
        "\n",
        "Using the weib function to analyze this\n",
        "File: S14JNn_90_90_06052012_1_att_ss.csv"
       ]
      },
      {
       "output_type": "stream",
       "stream": "stdout",
       "text": [
        "\n",
        "Condition: neutral\n",
        "Using the weib function to analyze this\n",
        "Analyzing S15"
       ]
      },
      {
       "output_type": "stream",
       "stream": "stdout",
       "text": [
        "\n",
        "File: S15KB_0_0_06052012_1_att_ss.csv\n",
        "Condition: cued\n",
        "Using the weib function to analyze this"
       ]
      },
      {
       "output_type": "stream",
       "stream": "stdout",
       "text": [
        "\n",
        "Condition: other"
       ]
      },
      {
       "output_type": "stream",
       "stream": "stdout",
       "text": [
        "\n",
        "Using the weib function to analyze this\n",
        "File: S15KB_0_90_06052012_1_att_ss.csv\n",
        "Condition: cued"
       ]
      },
      {
       "output_type": "stream",
       "stream": "stdout",
       "text": [
        "\n",
        "Using the weib function to analyze this\n",
        "Condition: other"
       ]
      },
      {
       "output_type": "stream",
       "stream": "stdout",
       "text": [
        "\n",
        "Using the weib function to analyze this\n",
        "File: S15KB_90_0_06052012_1_att_ss.csv"
       ]
      },
      {
       "output_type": "stream",
       "stream": "stdout",
       "text": [
        "\n",
        "Condition: cued\n",
        "Using the weib function to analyze this"
       ]
      },
      {
       "output_type": "stream",
       "stream": "stdout",
       "text": [
        "\n",
        "Condition: other"
       ]
      },
      {
       "output_type": "stream",
       "stream": "stdout",
       "text": [
        "\n",
        "Using the weib function to analyze this\n",
        "File: S15KB_90_90_06052012_1_att_ss.csv"
       ]
      },
      {
       "output_type": "stream",
       "stream": "stdout",
       "text": [
        "\n",
        "Condition: cued\n",
        "Using the weib function to analyze this"
       ]
      },
      {
       "output_type": "stream",
       "stream": "stdout",
       "text": [
        "\n",
        "Condition: other\n",
        "Using the weib function to analyze this\n",
        "File: S15KBn_0_0_06052012_1_att_ss.csv"
       ]
      },
      {
       "output_type": "stream",
       "stream": "stdout",
       "text": [
        "\n",
        "Condition: neutral\n",
        "Using the weib function to analyze this\n",
        "File: S15KBn_0_90_06052012_1_att_ss.csv\n",
        "Condition: neutral\n",
        "Using the weib function to analyze this\n",
        "File: S15KBn_90_0_06052012_1_att_ss.csv"
       ]
      },
      {
       "output_type": "stream",
       "stream": "stdout",
       "text": [
        "\n",
        "Condition: neutral\n",
        "Using the weib function to analyze this\n",
        "File: S15KBn_90_90_06052012_1_att_ss.csv\n",
        "Condition: neutral\n",
        "Using the weib function to analyze this\n",
        "Analyzing S16"
       ]
      },
      {
       "output_type": "stream",
       "stream": "stdout",
       "text": [
        "\n",
        "File: S16PW_0_0_06082012_1_att_ss.csv\n",
        "Condition: cued\n",
        "Using the weib function to analyze this\n",
        "Condition: other"
       ]
      },
      {
       "output_type": "stream",
       "stream": "stdout",
       "text": [
        "\n",
        "Using the weib function to analyze this\n",
        "File: S16PW_0_90_06082012_1_att_ss.csv"
       ]
      },
      {
       "output_type": "stream",
       "stream": "stdout",
       "text": [
        "\n",
        "Condition: cued\n",
        "Using the weib function to analyze this"
       ]
      },
      {
       "output_type": "stream",
       "stream": "stdout",
       "text": [
        "\n",
        "Condition: other\n",
        "Using the weib function to analyze this"
       ]
      },
      {
       "output_type": "stream",
       "stream": "stdout",
       "text": [
        "\n",
        "File: S16PW_90_0_06082012_1_att_ss.csv\n",
        "Condition: cued"
       ]
      },
      {
       "output_type": "stream",
       "stream": "stdout",
       "text": [
        "\n",
        "Using the weib function to analyze this\n",
        "Condition: other"
       ]
      },
      {
       "output_type": "stream",
       "stream": "stdout",
       "text": [
        "\n",
        "Using the weib function to analyze this\n",
        "File: S16PW_90_90_06082012_1_att_ss.csv"
       ]
      },
      {
       "output_type": "stream",
       "stream": "stdout",
       "text": [
        "\n",
        "Condition: cued\n",
        "Using the weib function to analyze this\n",
        "Condition: other"
       ]
      },
      {
       "output_type": "stream",
       "stream": "stdout",
       "text": [
        "\n",
        "Using the weib function to analyze this\n",
        "File: S16PWn_0_0_06082012_1_att_ss.csv"
       ]
      },
      {
       "output_type": "stream",
       "stream": "stdout",
       "text": [
        "\n",
        "Condition: neutral\n",
        "Using the weib function to analyze this\n",
        "File: S16PWn_0_90_06082012_1_att_ss.csv\n",
        "Condition: neutral\n",
        "Using the weib function to analyze this"
       ]
      },
      {
       "output_type": "stream",
       "stream": "stdout",
       "text": [
        "\n",
        "File: S16PWn_90_0_06082012_1_att_ss.csv"
       ]
      },
      {
       "output_type": "stream",
       "stream": "stdout",
       "text": [
        "\n",
        "Condition: neutral\n",
        "Using the weib function to analyze this\n",
        "File: S16PWn_90_90_06082012_1_att_ss.csv\n",
        "Condition: neutral\n",
        "Using the weib function to analyze this\n",
        "Analyzing S17"
       ]
      },
      {
       "output_type": "stream",
       "stream": "stdout",
       "text": [
        "\n",
        "File: S17LD_0_0_06262012_1_att_ss.csv\n",
        "Condition: cued\n",
        "Using the weib function to analyze this\n",
        "Condition: other"
       ]
      },
      {
       "output_type": "stream",
       "stream": "stdout",
       "text": [
        "\n",
        "Using the weib function to analyze this\n",
        "File: S17LD_0_90_06262012_1_att_ss.csv\n",
        "Condition: cued"
       ]
      },
      {
       "output_type": "stream",
       "stream": "stdout",
       "text": [
        "\n",
        "Using the weib function to analyze this\n",
        "Condition: other\n",
        "Using the weib function to analyze this"
       ]
      },
      {
       "output_type": "stream",
       "stream": "stdout",
       "text": [
        "\n",
        "File: S17LD_90_0_06262012_1_att_ss.csv"
       ]
      },
      {
       "output_type": "stream",
       "stream": "stdout",
       "text": [
        "\n",
        "Condition: cued\n",
        "Using the weib function to analyze this\n",
        "Condition: other"
       ]
      },
      {
       "output_type": "stream",
       "stream": "stdout",
       "text": [
        "\n",
        "Using the weib function to analyze this\n",
        "File: S17LD_90_90_06262012_1_att_ss.csv\n",
        "Condition: cued\n",
        "Using the weib function to analyze this"
       ]
      },
      {
       "output_type": "stream",
       "stream": "stdout",
       "text": [
        "\n",
        "Condition: other\n",
        "Using the weib function to analyze this\n",
        "File: S17LDn_0_0_06262012_1_att_ss.csv"
       ]
      },
      {
       "output_type": "stream",
       "stream": "stdout",
       "text": [
        "\n",
        "Condition: neutral\n",
        "Using the weib function to analyze this\n",
        "File: S17LDn_0_90_06262012_1_att_ss.csv"
       ]
      },
      {
       "output_type": "stream",
       "stream": "stdout",
       "text": [
        "\n",
        "Condition: neutral\n",
        "Using the weib function to analyze this\n",
        "File: S17LDn_90_0_06262012_2_att_ss.csv"
       ]
      },
      {
       "output_type": "stream",
       "stream": "stdout",
       "text": [
        "\n",
        "Condition: neutral\n",
        "Using the weib function to analyze this\n",
        "File: S17LDn_90_90_06262012_1_att_ss.csv\n",
        "Condition: neutral\n",
        "Using the weib function to analyze this\n"
       ]
      }
     ],
     "prompt_number": 3
    },
    {
     "cell_type": "code",
     "collapsed": false,
     "input": [
      "uu = {}\n",
      "ll = {}\n",
      "m = {}\n",
      "for fit_func in ['cumgauss', 'weib']:\n",
      "    m[fit_func] = []\n",
      "    uu[fit_func] = []\n",
      "    ll[fit_func] = []\n",
      "    for ori_idx, ori in enumerate([(0,90), (0,0), (90,0), (90,90)]):\n",
      "        for cue_cond in cue_conds: \n",
      "            m[fit_func].append(np.mean(np.array(coeff[fit_func][ori_idx][cue_cond])))\n",
      "            lb,ub = tools.bootstrap_mean(np.array(coeff[fit_func][ori_idx][cue_cond]))\n",
      "            ll[fit_func].append(lb)\n",
      "            uu[fit_func].append(ub)"
     ],
     "language": "python",
     "metadata": {},
     "outputs": [],
     "prompt_number": 4
    },
    {
     "cell_type": "code",
     "collapsed": false,
     "input": [
      "for fit_func in ['cumgauss', 'weib']:\n",
      "    this_m = np.array(m[fit_func])\n",
      "    print fit_func, stats.nanmean(this_m[np.where(this_m<1)]), stats.sem(this_m[np.where(this_m<1)])#np.mean(ll[fit_func]),np.mean(uu[fit_func])"
     ],
     "language": "python",
     "metadata": {},
     "outputs": [
      {
       "output_type": "stream",
       "stream": "stdout",
       "text": [
        "cumgauss 0.225434806653 0.0161053918024\n",
        "weib 0.269801365696 0.0115953028157\n"
       ]
      }
     ],
     "prompt_number": 10
    },
    {
     "cell_type": "code",
     "collapsed": false,
     "input": [],
     "language": "python",
     "metadata": {},
     "outputs": []
    }
   ],
   "metadata": {}
  }
 ]
}