{
 "metadata": {
  "name": "",
  "signature": "sha256:c195903ecb2c4b6a57b971283cb7349b8dac6cd1edd174a8664701e20b6450c5"
 },
 "nbformat": 3,
 "nbformat_minor": 0,
 "worksheets": [
  {
   "cells": [
    {
     "cell_type": "code",
     "collapsed": false,
     "input": [
      "import tools\n",
      "import scipy.stats as stats\n",
      "reload(tools)"
     ],
     "language": "python",
     "metadata": {},
     "outputs": [
      {
       "metadata": {},
       "output_type": "pyout",
       "prompt_number": 1,
       "text": [
        "<module 'tools' from 'tools.pyc'>"
       ]
      }
     ],
     "prompt_number": 1
    },
    {
     "cell_type": "code",
     "collapsed": false,
     "input": [
      "cue_conds = ['cued', 'other']\n",
      "path_to_files='/Users/arokem/Dropbox/att_ss/Analysis/'"
     ],
     "language": "python",
     "metadata": {},
     "outputs": [],
     "prompt_number": 6
    },
    {
     "cell_type": "code",
     "collapsed": false,
     "input": [
      "coeff = {}\n",
      "\n",
      "for fit_func, func in zip(['cumgauss', 'weib'],[tools.cumgauss, tools.weibull]):\n",
      "    df1_odd, df2_odd = tools.get_df(17,\n",
      "                        path_to_files=path_to_files,\n",
      "                        boots=1,\n",
      "                        exclude=[13,8],\n",
      "                        cue_conds=cue_conds,\n",
      "                        fit_func=fit_func,\n",
      "                        even_or_odd='odd')\n",
      "\n",
      "    df1_even, df2_even = tools.get_df(17,\n",
      "                        path_to_files=path_to_files,\n",
      "                        boots=1,\n",
      "                        exclude=[13,8],\n",
      "                        cue_conds=cue_conds,\n",
      "                        fit_func=fit_func,\n",
      "                        even_or_odd='even')\n",
      "    R2 = []\n",
      "\n",
      "    for ori_idx, ori in enumerate([(0,90), (0,0), (90,0), (90,90)]):\n",
      "        R2.append({'cued':[], 'other':[], 'neutral':[]})\n",
      "    \n",
      "        x_even = dict(cued=[], other=[], neutral=[])\n",
      "        y_even = dict(cued=[], other=[], neutral=[])\n",
      "        th_even = dict(cued=[], other=[], neutral=[])\n",
      "        sl_even = dict(cued=[], other=[], neutral=[])\n",
      "        fit_even = dict(cued=[], other=[], neutral=[])\n",
      "\n",
      "        x_odd = dict(cued=[], other=[], neutral=[])\n",
      "        y_odd = dict(cued=[], other=[], neutral=[])\n",
      "        th_odd = dict(cued=[], other=[], neutral=[])\n",
      "        sl_odd = dict(cued=[], other=[], neutral=[])\n",
      "        fit_odd = dict(cued=[], other=[], neutral=[])\n",
      "\n",
      "        for sub in df1_even.columns:\n",
      "            for cue_cond in cue_conds: \n",
      "                x_even[cue_cond].append(df1_even[sub][ori][cue_cond]['x'])\n",
      "                y_even[cue_cond].append(df1_even[sub][ori][cue_cond]['y'])\n",
      "                th_even[cue_cond].append(df1_even[sub][ori][cue_cond]['fit'][0][0])\n",
      "                sl_even[cue_cond].append(df1_even[sub][ori][cue_cond]['fit'][0][1])\n",
      "                fit_even[cue_cond].append(df1_even[sub][ori][cue_cond]['fit'][0])\n",
      "\n",
      "                x_odd[cue_cond].append(df1_odd[sub][ori][cue_cond]['x'])\n",
      "                y_odd[cue_cond].append(df1_odd[sub][ori][cue_cond]['y'])\n",
      "                th_odd[cue_cond].append(df1_odd[sub][ori][cue_cond]['fit'][0][0])\n",
      "                sl_odd[cue_cond].append(df1_odd[sub][ori][cue_cond]['fit'][0][1])\n",
      "                fit_odd[cue_cond].append(df1_odd[sub][ori][cue_cond]['fit'][0])\n",
      "    \n",
      "                predict1 = func(np.array(x_even[cue_cond][-1]), *fit_odd[cue_cond][-1])\n",
      "                actual1 = y_even[cue_cond][-1]\n",
      "                predict2 = func(np.array(x_odd[cue_cond][-1]), *fit_even[cue_cond][-1])\n",
      "                actual2 = y_odd[cue_cond][-1]\n",
      "                R2[-1][cue_cond].append(np.sqrt(np.mean([np.hstack([(predict1-actual1)**2, (predict2-actual2)**2])])))\n",
      "    coeff[fit_func] = R2"
     ],
     "language": "python",
     "metadata": {},
     "outputs": [
      {
       "output_type": "stream",
       "stream": "stdout",
       "text": [
        "['S01', 'S02', 'S03', 'S04', 'S05', 'S06', 'S07', 'S09', 'S10', 'S11', 'S12', 'S14', 'S15', 'S16', 'S17']\n",
        "Analyzing S01\n",
        "File: S01HS_0_0_02092012_1_att_ss.csv\n",
        "Condition: cued\n",
        "Using the cumgauss function to analyze this\n",
        "Condition: other\n",
        "Using the cumgauss function to analyze this"
       ]
      },
      {
       "output_type": "stream",
       "stream": "stdout",
       "text": [
        "\n",
        "File: S01HS_0_90_02092012_1_att_ss.csv\n",
        "Condition: cued\n",
        "Using the cumgauss function to analyze this"
       ]
      },
      {
       "output_type": "stream",
       "stream": "stdout",
       "text": [
        "\n",
        "Condition: other\n",
        "Using the cumgauss function to analyze this\n",
        "File: S01HS_90_0_02092012_1_att_ss.csv\n",
        "Condition: cued"
       ]
      },
      {
       "output_type": "stream",
       "stream": "stdout",
       "text": [
        "\n",
        "Using the cumgauss function to analyze this\n",
        "Condition: other\n",
        "Using the cumgauss function to analyze this"
       ]
      },
      {
       "output_type": "stream",
       "stream": "stdout",
       "text": [
        "\n",
        "File: S01HS_90_90_02092012_1_att_ss.csv\n",
        "Condition: cued\n",
        "Using the cumgauss function to analyze this"
       ]
      },
      {
       "output_type": "stream",
       "stream": "stdout",
       "text": [
        "\n",
        "Condition: other\n",
        "Using the cumgauss function to analyze this\n",
        "File: S01HSn_0_0_02162012_1_att_ss.csv\n",
        "Condition: neutral\n",
        "Using the cumgauss function to analyze this"
       ]
      },
      {
       "output_type": "stream",
       "stream": "stdout",
       "text": [
        "\n",
        "File: S01HSn_0_90_02162012_1_att_ss.csv\n",
        "Condition: neutral\n",
        "Using the cumgauss function to analyze this\n",
        "File: S01HSn_90_0_02162012_1_att_ss.csv\n",
        "Condition: neutral\n",
        "Using the cumgauss function to analyze this"
       ]
      },
      {
       "output_type": "stream",
       "stream": "stdout",
       "text": [
        "\n",
        "File: S01HSn_90_90_02162012_1_att_ss.csv\n",
        "Condition: neutral\n",
        "Using the cumgauss function to analyze this\n",
        "Analyzing S02\n",
        "File: S02DT_0_0_02092012_1_att_ss.csv\n",
        "Condition: cued"
       ]
      },
      {
       "output_type": "stream",
       "stream": "stdout",
       "text": [
        "\n",
        "Using the cumgauss function to analyze this\n",
        "Condition: other\n",
        "Using the cumgauss function to analyze this"
       ]
      },
      {
       "output_type": "stream",
       "stream": "stdout",
       "text": [
        "\n",
        "File: S02DT_0_90_02092012_1_att_ss.csv\n",
        "Condition: cued\n",
        "Using the cumgauss function to analyze this"
       ]
      },
      {
       "output_type": "stream",
       "stream": "stdout",
       "text": [
        "\n",
        "Condition: other\n",
        "Using the cumgauss function to analyze this\n",
        "File: S02DT_90_0_02092012_1_att_ss.csv\n",
        "Condition: cued"
       ]
      },
      {
       "output_type": "stream",
       "stream": "stdout",
       "text": [
        "\n",
        "Using the cumgauss function to analyze this\n",
        "Condition: other\n",
        "Using the cumgauss function to analyze this"
       ]
      },
      {
       "output_type": "stream",
       "stream": "stdout",
       "text": [
        "\n",
        "File: S02DT_90_90_02092012_1_att_ss.csv\n",
        "Condition: cued\n",
        "Using the cumgauss function to analyze this"
       ]
      },
      {
       "output_type": "stream",
       "stream": "stdout",
       "text": [
        "\n",
        "Condition: other\n",
        "Using the cumgauss function to analyze this\n",
        "File: S02DTn_0_0_02162012_1_att_ss.csv\n",
        "Condition: neutral"
       ]
      },
      {
       "output_type": "stream",
       "stream": "stdout",
       "text": [
        "\n",
        "Using the cumgauss function to analyze this\n",
        "File: S02DTn_0_90_02162012_1_att_ss.csv\n",
        "Condition: neutral\n",
        "Using the cumgauss function to analyze this\n",
        "File: S02DTn_90_0_02162012_1_att_ss.csv\n",
        "Condition: neutral"
       ]
      },
      {
       "output_type": "stream",
       "stream": "stdout",
       "text": [
        "\n",
        "Using the cumgauss function to analyze this\n",
        "File: S02DTn_90_90_02162012_1_att_ss.csv\n",
        "Condition: neutral\n",
        "Using the cumgauss function to analyze this\n",
        "Analyzing S03\n",
        "File: S03AB_0_0_02102012_1_att_ss.csv\n",
        "Condition: cued"
       ]
      },
      {
       "output_type": "stream",
       "stream": "stdout",
       "text": [
        "\n",
        "Using the cumgauss function to analyze this\n",
        "Condition: other\n",
        "Using the cumgauss function to analyze this"
       ]
      },
      {
       "output_type": "stream",
       "stream": "stdout",
       "text": [
        "\n",
        "File: S03AB_0_90_02102012_1_att_ss.csv\n",
        "Condition: cued\n",
        "Using the cumgauss function to analyze this"
       ]
      },
      {
       "output_type": "stream",
       "stream": "stdout",
       "text": [
        "\n",
        "Condition: other\n",
        "Using the cumgauss function to analyze this\n",
        "File: S03AB_90_0_02102012_1_att_ss.csv\n",
        "Condition: cued"
       ]
      },
      {
       "output_type": "stream",
       "stream": "stdout",
       "text": [
        "\n",
        "Using the cumgauss function to analyze this\n",
        "Condition: other\n",
        "Using the cumgauss function to analyze this"
       ]
      },
      {
       "output_type": "stream",
       "stream": "stdout",
       "text": [
        "\n",
        "File: S03AB_90_90_02102012_1_att_ss.csv\n",
        "Condition: cued\n",
        "Using the cumgauss function to analyze this"
       ]
      },
      {
       "output_type": "stream",
       "stream": "stdout",
       "text": [
        "\n",
        "Condition: other\n",
        "Using the cumgauss function to analyze this\n",
        "File: S03ABn_0_0_02102012_1_att_ss.csv\n",
        "Condition: neutral\n",
        "Using the cumgauss function to analyze this"
       ]
      },
      {
       "output_type": "stream",
       "stream": "stdout",
       "text": [
        "\n",
        "File: S03ABn_0_90_02102012_1_att_ss.csv\n",
        "Condition: neutral\n",
        "Using the cumgauss function to analyze this\n",
        "File: S03ABn_90_0_02102012_2_att_ss.csv\n",
        "Condition: neutral\n",
        "Using the cumgauss function to analyze this"
       ]
      },
      {
       "output_type": "stream",
       "stream": "stdout",
       "text": [
        "\n",
        "File: S03ABn_90_90_02102012_1_att_ss.csv\n",
        "Condition: neutral\n",
        "Using the cumgauss function to analyze this\n",
        "Analyzing S04\n",
        "File: S04LC_0_0_02162012_1_att_ss.csv\n",
        "Condition: cued"
       ]
      },
      {
       "output_type": "stream",
       "stream": "stdout",
       "text": [
        "\n",
        "Using the cumgauss function to analyze this\n",
        "Condition: other\n",
        "Using the cumgauss function to analyze this"
       ]
      },
      {
       "output_type": "stream",
       "stream": "stdout",
       "text": [
        "\n",
        "File: S04LC_0_90_02162012_1_att_ss.csv\n",
        "Condition: cued\n",
        "Using the cumgauss function to analyze this"
       ]
      },
      {
       "output_type": "stream",
       "stream": "stdout",
       "text": [
        "\n",
        "Condition: other\n",
        "Using the cumgauss function to analyze this\n",
        "File: S04LC_90_0_02162012_1_att_ss.csv\n",
        "Condition: cued"
       ]
      },
      {
       "output_type": "stream",
       "stream": "stdout",
       "text": [
        "\n",
        "Using the cumgauss function to analyze this\n",
        "Condition: other\n",
        "Using the cumgauss function to analyze this"
       ]
      },
      {
       "output_type": "stream",
       "stream": "stdout",
       "text": [
        "\n",
        "File: S04LC_90_90_02162012_1_att_ss.csv\n",
        "Condition: cued\n",
        "Using the cumgauss function to analyze this"
       ]
      },
      {
       "output_type": "stream",
       "stream": "stdout",
       "text": [
        "\n",
        "Condition: other\n",
        "Using the cumgauss function to analyze this\n",
        "File: S04LCn_0_0_02162012_1_att_ss.csv\n",
        "Condition: neutral\n",
        "Using the cumgauss function to analyze this"
       ]
      },
      {
       "output_type": "stream",
       "stream": "stdout",
       "text": [
        "\n",
        "File: S04LCn_0_90_02162012_1_att_ss.csv\n",
        "Condition: neutral\n",
        "Using the cumgauss function to analyze this\n",
        "File: S04LCn_90_0_02162012_1_att_ss.csv\n",
        "Condition: neutral\n",
        "Using the cumgauss function to analyze this"
       ]
      },
      {
       "output_type": "stream",
       "stream": "stdout",
       "text": [
        "\n",
        "File: S04LCn_90_90_02162012_1_att_ss.csv\n",
        "Condition: neutral\n",
        "Using the cumgauss function to analyze this\n",
        "Analyzing S05"
       ]
      },
      {
       "output_type": "stream",
       "stream": "stdout",
       "text": [
        "\n",
        "File: S05JV_0_0_02162012_1_att_ss.csv\n",
        "Condition: cued\n",
        "Using the cumgauss function to analyze this"
       ]
      },
      {
       "output_type": "stream",
       "stream": "stdout",
       "text": [
        "\n",
        "Condition: other\n",
        "Using the cumgauss function to analyze this\n",
        "File: S05JV_0_90_02162012_1_att_ss.csv\n",
        "Condition: cued"
       ]
      },
      {
       "output_type": "stream",
       "stream": "stdout",
       "text": [
        "\n",
        "Using the cumgauss function to analyze this\n",
        "Condition: other\n",
        "Using the cumgauss function to analyze this"
       ]
      },
      {
       "output_type": "stream",
       "stream": "stdout",
       "text": [
        "\n",
        "File: S05JV_90_0_02162012_1_att_ss.csv\n",
        "Condition: cued\n",
        "Using the cumgauss function to analyze this"
       ]
      },
      {
       "output_type": "stream",
       "stream": "stdout",
       "text": [
        "\n",
        "Condition: other\n",
        "Using the cumgauss function to analyze this\n",
        "File: S05JV_90_90_02162012_1_att_ss.csv\n",
        "Condition: cued"
       ]
      },
      {
       "output_type": "stream",
       "stream": "stdout",
       "text": [
        "\n",
        "Using the cumgauss function to analyze this\n",
        "Condition: other\n",
        "Using the cumgauss function to analyze this"
       ]
      },
      {
       "output_type": "stream",
       "stream": "stdout",
       "text": [
        "\n",
        "File: S05JV_90_90_02232012_1_att_ss.csv\n",
        "Condition: cued\n",
        "Using the cumgauss function to analyze this"
       ]
      },
      {
       "output_type": "stream",
       "stream": "stdout",
       "text": [
        "\n",
        "Condition: other\n",
        "Using the cumgauss function to analyze this\n",
        "File: S05JVn_0_0_02162012_1_att_ss.csv"
       ]
      },
      {
       "output_type": "stream",
       "stream": "stdout",
       "text": [
        "\n",
        "Condition: neutral\n",
        "Using the cumgauss function to analyze this\n",
        "File: S05JVn_0_90_02162012_1_att_ss.csv\n",
        "Condition: neutral\n",
        "Using the cumgauss function to analyze this\n",
        "File: S05JVn_90_0_02162012_1_att_ss.csv\n",
        "Condition: neutral"
       ]
      },
      {
       "output_type": "stream",
       "stream": "stdout",
       "text": [
        "\n",
        "Using the cumgauss function to analyze this\n",
        "File: S05JVn_90_90_02162012_1_att_ss.csv\n",
        "Condition: neutral\n",
        "Using the cumgauss function to analyze this\n",
        "Analyzing S06\n",
        "File: S06LN_0_0_02212012_1_att_ss.csv\n",
        "Condition: cued"
       ]
      },
      {
       "output_type": "stream",
       "stream": "stdout",
       "text": [
        "\n",
        "Using the cumgauss function to analyze this\n",
        "Condition: other\n",
        "Using the cumgauss function to analyze this"
       ]
      },
      {
       "output_type": "stream",
       "stream": "stdout",
       "text": [
        "\n",
        "File: S06LN_0_90_02212012_1_att_ss.csv\n",
        "Condition: cued\n",
        "Using the cumgauss function to analyze this"
       ]
      },
      {
       "output_type": "stream",
       "stream": "stdout",
       "text": [
        "\n",
        "Condition: other\n",
        "Using the cumgauss function to analyze this\n",
        "File: S06LN_90_0_02212012_1_att_ss.csv\n",
        "Condition: cued"
       ]
      },
      {
       "output_type": "stream",
       "stream": "stdout",
       "text": [
        "\n",
        "Using the cumgauss function to analyze this\n",
        "Condition: other\n",
        "Using the cumgauss function to analyze this"
       ]
      },
      {
       "output_type": "stream",
       "stream": "stdout",
       "text": [
        "\n",
        "1.22505236138\n",
        "1.0\n",
        "File: S06LN_90_90_02212012_1_att_ss.csv\n",
        "Condition: cued\n",
        "Using the cumgauss function to analyze this"
       ]
      },
      {
       "output_type": "stream",
       "stream": "stdout",
       "text": [
        "\n",
        "Condition: other\n",
        "Using the cumgauss function to analyze this\n",
        "File: S06LNn_0_0_02212012_1_att_ss.csv\n",
        "Condition: neutral"
       ]
      },
      {
       "output_type": "stream",
       "stream": "stdout",
       "text": [
        "\n",
        "Using the cumgauss function to analyze this\n",
        "File: S06LNn_0_90_02212012_1_att_ss.csv\n",
        "Condition: neutral\n",
        "Using the cumgauss function to analyze this\n",
        "File: S06LNn_90_0_02212012_1_att_ss.csv\n",
        "Condition: neutral"
       ]
      },
      {
       "output_type": "stream",
       "stream": "stdout",
       "text": [
        "\n",
        "Using the cumgauss function to analyze this\n",
        "File: S06LNn_90_90_02212012_1_att_ss.csv\n",
        "Condition: neutral\n",
        "Using the cumgauss function to analyze this\n",
        "Analyzing S07\n",
        "File: S07GM_0_0_02232012_1_att_ss.csv\n",
        "Condition: cued"
       ]
      },
      {
       "output_type": "stream",
       "stream": "stdout",
       "text": [
        "\n",
        "Using the cumgauss function to analyze this\n",
        "Condition: other\n",
        "Using the cumgauss function to analyze this"
       ]
      },
      {
       "output_type": "stream",
       "stream": "stdout",
       "text": [
        "\n",
        "1.39317747961\n",
        "1.0\n",
        "File: S07GM_0_90_02232012_1_att_ss.csv\n",
        "Condition: cued\n",
        "Using the cumgauss function to analyze this\n",
        "Condition: other"
       ]
      },
      {
       "output_type": "stream",
       "stream": "stdout",
       "text": [
        "\n",
        "Using the cumgauss function to analyze this\n",
        "File: S07GM_90_0_02232012_1_att_ss.csv\n",
        "Condition: cued\n",
        "Using the cumgauss function to analyze this"
       ]
      },
      {
       "output_type": "stream",
       "stream": "stdout",
       "text": [
        "\n",
        "Condition: other\n",
        "Using the cumgauss function to analyze this\n",
        "1.97342737878\n",
        "1.0\n",
        "File: S07GM_90_90_02232012_1_att_ss.csv\n",
        "Condition: cued"
       ]
      },
      {
       "output_type": "stream",
       "stream": "stdout",
       "text": [
        "\n",
        "Using the cumgauss function to analyze this\n",
        "Condition: other\n",
        "Using the cumgauss function to analyze this"
       ]
      },
      {
       "output_type": "stream",
       "stream": "stdout",
       "text": [
        "\n",
        "File: S07GMn_0_0_02232012_1_att_ss.csv\n",
        "Condition: neutral\n",
        "Using the cumgauss function to analyze this\n",
        "File: S07GMn_0_90_02232012_1_att_ss.csv\n",
        "Condition: neutral\n",
        "Using the cumgauss function to analyze this"
       ]
      },
      {
       "output_type": "stream",
       "stream": "stdout",
       "text": [
        "\n",
        "File: S07GMn_90_0_02232012_1_att_ss.csv\n",
        "Condition: neutral\n",
        "Using the cumgauss function to analyze this\n",
        "File: S07GMn_90_90_02232012_1_att_ss.csv\n",
        "Condition: neutral\n",
        "Using the cumgauss function to analyze this"
       ]
      },
      {
       "output_type": "stream",
       "stream": "stdout",
       "text": [
        "\n",
        "File: S07MGn_0_0_05292012_1_att_ss.csv\n",
        "Condition: neutral\n",
        "Using the cumgauss function to analyze this\n",
        "File: S07MGn_0_90_05292012_1_att_ss.csv\n",
        "Condition: neutral\n",
        "Using the cumgauss function to analyze this"
       ]
      },
      {
       "output_type": "stream",
       "stream": "stdout",
       "text": [
        "\n",
        "File: S07MGn_90_0_05292012_1_att_ss.csv\n",
        "Condition: neutral\n",
        "Using the cumgauss function to analyze this\n",
        "File: S07MGn_90_90_05292012_1_att_ss.csv\n",
        "Condition: neutral\n",
        "Using the cumgauss function to analyze this"
       ]
      },
      {
       "output_type": "stream",
       "stream": "stdout",
       "text": [
        "\n",
        "Analyzing S09\n",
        "File: S09CL_0_0_02292012_1_att_ss.csv\n",
        "Condition: cued\n",
        "Using the cumgauss function to analyze this"
       ]
      },
      {
       "output_type": "stream",
       "stream": "stdout",
       "text": [
        "\n",
        "Condition: other\n",
        "Using the cumgauss function to analyze this\n",
        "File: S09CL_0_90_02292012_1_att_ss.csv\n",
        "Condition: cued"
       ]
      },
      {
       "output_type": "stream",
       "stream": "stdout",
       "text": [
        "\n",
        "Using the cumgauss function to analyze this\n",
        "Condition: other\n",
        "Using the cumgauss function to analyze this"
       ]
      },
      {
       "output_type": "stream",
       "stream": "stdout",
       "text": [
        "\n",
        "File: S09CL_90_0_02292012_1_att_ss.csv\n",
        "Condition: cued\n",
        "Using the cumgauss function to analyze this"
       ]
      },
      {
       "output_type": "stream",
       "stream": "stdout",
       "text": [
        "\n",
        "Condition: other\n",
        "Using the cumgauss function to analyze this\n",
        "File: S09CL_90_90_02292012_1_att_ss.csv"
       ]
      },
      {
       "output_type": "stream",
       "stream": "stdout",
       "text": [
        "\n",
        "Condition: cued\n",
        "Using the cumgauss function to analyze this"
       ]
      },
      {
       "output_type": "stream",
       "stream": "stdout",
       "text": [
        "\n",
        "Condition: other\n",
        "Using the cumgauss function to analyze this\n",
        "File: S09CL_90_90_02292012_2_att_ss.csv"
       ]
      },
      {
       "output_type": "stream",
       "stream": "stdout",
       "text": [
        "\n",
        "Condition: cued\n",
        "Using the cumgauss function to analyze this\n",
        "Condition: other"
       ]
      },
      {
       "output_type": "stream",
       "stream": "stdout",
       "text": [
        "\n",
        "Using the cumgauss function to analyze this\n",
        "File: S09CLn_0_0_02292012_1_att_ss.csv\n",
        "Condition: neutral\n",
        "Using the cumgauss function to analyze this\n",
        "File: S09CLn_0_90_02292012_1_att_ss.csv"
       ]
      },
      {
       "output_type": "stream",
       "stream": "stdout",
       "text": [
        "\n",
        "Condition: neutral\n",
        "Using the cumgauss function to analyze this\n",
        "File: S09CLn_90_0_02292012_1_att_ss.csv\n",
        "Condition: neutral\n",
        "Using the cumgauss function to analyze this\n",
        "File: S09CLn_90_90_02292012_1_att_ss.csv"
       ]
      },
      {
       "output_type": "stream",
       "stream": "stdout",
       "text": [
        "\n",
        "Condition: neutral\n",
        "Using the cumgauss function to analyze this\n",
        "Analyzing S10\n",
        "File: S10SH_0_0_03012012_1_att_ss.csv\n",
        "Condition: cued"
       ]
      },
      {
       "output_type": "stream",
       "stream": "stdout",
       "text": [
        "\n",
        "Using the cumgauss function to analyze this\n",
        "Condition: other\n",
        "Using the cumgauss function to analyze this"
       ]
      },
      {
       "output_type": "stream",
       "stream": "stdout",
       "text": [
        "\n",
        "File: S10SH_0_90_03012012_1_att_ss.csv\n",
        "Condition: cued\n",
        "Using the cumgauss function to analyze this"
       ]
      },
      {
       "output_type": "stream",
       "stream": "stdout",
       "text": [
        "\n",
        "Condition: other\n",
        "Using the cumgauss function to analyze this\n",
        "File: S10SH_90_0_03012012_1_att_ss.csv\n",
        "Condition: cued"
       ]
      },
      {
       "output_type": "stream",
       "stream": "stdout",
       "text": [
        "\n",
        "Using the cumgauss function to analyze this\n",
        "Condition: other\n",
        "Using the cumgauss function to analyze this"
       ]
      },
      {
       "output_type": "stream",
       "stream": "stdout",
       "text": [
        "\n",
        "1.23150302282\n",
        "1.0\n",
        "File: S10SH_90_90_03012012_1_att_ss.csv\n",
        "Condition: cued\n",
        "Using the cumgauss function to analyze this"
       ]
      },
      {
       "output_type": "stream",
       "stream": "stdout",
       "text": [
        "\n",
        "Condition: other\n",
        "Using the cumgauss function to analyze this\n",
        "File: S10SHn_0_0_03012012_1_att_ss.csv\n",
        "Condition: neutral\n",
        "Using the cumgauss function to analyze this"
       ]
      },
      {
       "output_type": "stream",
       "stream": "stdout",
       "text": [
        "\n",
        "File: S10SHn_0_90_03012012_1_att_ss.csv\n",
        "Condition: neutral\n",
        "Using the cumgauss function to analyze this\n",
        "File: S10SHn_90_0_03012012_1_att_ss.csv\n",
        "Condition: neutral\n",
        "Using the cumgauss function to analyze this"
       ]
      },
      {
       "output_type": "stream",
       "stream": "stdout",
       "text": [
        "\n",
        "File: S10SHn_90_90_03012012_1_att_ss.csv\n",
        "Condition: neutral\n",
        "Using the cumgauss function to analyze this\n",
        "Analyzing S11\n",
        "File: S11TL_0_0_03132012_1_att_ss.csv\n",
        "Condition: cued\n",
        "Using the cumgauss function to analyze this"
       ]
      },
      {
       "output_type": "stream",
       "stream": "stdout",
       "text": [
        "\n",
        "Condition: other\n",
        "Using the cumgauss function to analyze this\n",
        "File: S11TL_0_90_03132012_1_att_ss.csv\n",
        "Condition: cued"
       ]
      },
      {
       "output_type": "stream",
       "stream": "stdout",
       "text": [
        "\n",
        "Using the cumgauss function to analyze this\n",
        "Condition: other\n",
        "Using the cumgauss function to analyze this"
       ]
      },
      {
       "output_type": "stream",
       "stream": "stdout",
       "text": [
        "\n",
        "File: S11TL_90_0_03132012_1_att_ss.csv\n",
        "Condition: cued\n",
        "Using the cumgauss function to analyze this"
       ]
      },
      {
       "output_type": "stream",
       "stream": "stdout",
       "text": [
        "\n",
        "Condition: other\n",
        "Using the cumgauss function to analyze this\n",
        "File: S11TL_90_90_03132012_1_att_ss.csv\n",
        "Condition: cued"
       ]
      },
      {
       "output_type": "stream",
       "stream": "stdout",
       "text": [
        "\n",
        "Using the cumgauss function to analyze this\n",
        "Condition: other\n",
        "Using the cumgauss function to analyze this"
       ]
      },
      {
       "output_type": "stream",
       "stream": "stdout",
       "text": [
        "\n",
        "File: S11TLn_0_0_03132012_1_att_ss.csv\n",
        "Condition: neutral\n",
        "Using the cumgauss function to analyze this\n",
        "File: S11TLn_0_90_03132012_1_att_ss.csv\n",
        "Condition: neutral\n",
        "Using the cumgauss function to analyze this"
       ]
      },
      {
       "output_type": "stream",
       "stream": "stdout",
       "text": [
        "\n",
        "File: S11TLn_90_0_03132012_1_att_ss.csv\n",
        "Condition: neutral\n",
        "Using the cumgauss function to analyze this\n",
        "File: S11TLn_90_90_03132012_1_att_ss.csv\n",
        "Condition: neutral\n",
        "Using the cumgauss function to analyze this"
       ]
      },
      {
       "output_type": "stream",
       "stream": "stdout",
       "text": [
        "\n",
        "Analyzing S12\n",
        "File: S12JD_0_0_05232012_1_att_ss.csv\n",
        "Condition: cued\n",
        "Using the cumgauss function to analyze this"
       ]
      },
      {
       "output_type": "stream",
       "stream": "stdout",
       "text": [
        "\n",
        "Condition: other\n",
        "Using the cumgauss function to analyze this\n",
        "4.45101663135\n",
        "1.0\n",
        "File: S12JD_0_90_05232012_1_att_ss.csv\n",
        "Condition: cued"
       ]
      },
      {
       "output_type": "stream",
       "stream": "stdout",
       "text": [
        "\n",
        "Using the cumgauss function to analyze this\n",
        "Condition: other\n",
        "Using the cumgauss function to analyze this"
       ]
      },
      {
       "output_type": "stream",
       "stream": "stdout",
       "text": [
        "\n",
        "File: S12JD_90_0_05232012_1_att_ss.csv\n",
        "Condition: cued\n",
        "Using the cumgauss function to analyze this"
       ]
      },
      {
       "output_type": "stream",
       "stream": "stdout",
       "text": [
        "\n",
        "Condition: other\n",
        "Using the cumgauss function to analyze this\n",
        "File: S12JD_90_90_05232012_1_att_ss.csv\n",
        "Condition: cued"
       ]
      },
      {
       "output_type": "stream",
       "stream": "stdout",
       "text": [
        "\n",
        "Using the cumgauss function to analyze this\n",
        "Condition: other\n",
        "Using the cumgauss function to analyze this"
       ]
      },
      {
       "output_type": "stream",
       "stream": "stdout",
       "text": [
        "\n",
        "File: S12JD_n_0_0_05232012_1_att_ss.csv\n",
        "Condition: neutral\n",
        "Using the cumgauss function to analyze this\n",
        "File: S12JD_n_0_90_05232012_1_att_ss.csv\n",
        "Condition: neutral\n",
        "Using the cumgauss function to analyze this"
       ]
      },
      {
       "output_type": "stream",
       "stream": "stdout",
       "text": [
        "\n",
        "File: S12JD_n_90_0_05232012_1_att_ss.csv\n",
        "Condition: neutral\n",
        "Using the cumgauss function to analyze this\n",
        "File: S12JD_n_90_90_05232012_1_att_ss.csv\n",
        "Condition: neutral"
       ]
      },
      {
       "output_type": "stream",
       "stream": "stdout",
       "text": [
        "\n",
        "Using the cumgauss function to analyze this\n",
        "Analyzing S14\n",
        "File: S14JN_0_0_06052012_1_att_ss.csv\n",
        "Condition: cued\n",
        "Using the cumgauss function to analyze this"
       ]
      },
      {
       "output_type": "stream",
       "stream": "stdout",
       "text": [
        "\n",
        "Condition: other\n",
        "Using the cumgauss function to analyze this\n",
        "1.4756838614\n",
        "1.0\n",
        "File: S14JN_0_90_06052012_1_att_ss.csv\n",
        "Condition: cued"
       ]
      },
      {
       "output_type": "stream",
       "stream": "stdout",
       "text": [
        "\n",
        "Using the cumgauss function to analyze this\n",
        "Condition: other\n",
        "Using the cumgauss function to analyze this"
       ]
      },
      {
       "output_type": "stream",
       "stream": "stdout",
       "text": [
        "\n",
        "File: S14JN_90_0_06052012_1_att_ss.csv\n",
        "Condition: cued\n",
        "Using the cumgauss function to analyze this"
       ]
      },
      {
       "output_type": "stream",
       "stream": "stdout",
       "text": [
        "\n",
        "Condition: other\n",
        "Using the cumgauss function to analyze this\n",
        "1.19062125283\n",
        "1.0\n",
        "File: S14JN_90_90_06052012_1_att_ss.csv\n",
        "Condition: cued"
       ]
      },
      {
       "output_type": "stream",
       "stream": "stdout",
       "text": [
        "\n",
        "Using the cumgauss function to analyze this\n",
        "1.0217159119\n",
        "1.0\n",
        "Condition: other\n",
        "Using the cumgauss function to analyze this"
       ]
      },
      {
       "output_type": "stream",
       "stream": "stdout",
       "text": [
        "\n",
        "File: S14JNn_0_0_06052012_1_att_ss.csv\n",
        "Condition: neutral\n",
        "Using the cumgauss function to analyze this\n",
        "File: S14JNn_0_90_06052012_1_att_ss.csv\n",
        "Condition: neutral\n",
        "Using the cumgauss function to analyze this\n",
        "File: S14JNn_90_0_06052012_1_att_ss.csv"
       ]
      },
      {
       "output_type": "stream",
       "stream": "stdout",
       "text": [
        "\n",
        "Condition: neutral\n",
        "Using the cumgauss function to analyze this\n",
        "File: S14JNn_90_90_06052012_1_att_ss.csv\n",
        "Condition: neutral\n",
        "Using the cumgauss function to analyze this\n",
        "Analyzing S15\n",
        "File: S15KB_0_0_06052012_1_att_ss.csv\n",
        "Condition: cued"
       ]
      },
      {
       "output_type": "stream",
       "stream": "stdout",
       "text": [
        "\n",
        "Using the cumgauss function to analyze this\n",
        "Condition: other\n",
        "Using the cumgauss function to analyze this"
       ]
      },
      {
       "output_type": "stream",
       "stream": "stdout",
       "text": [
        "\n",
        "2.79769434039\n",
        "1.0\n",
        "File: S15KB_0_90_06052012_1_att_ss.csv\n",
        "Condition: cued\n",
        "Using the cumgauss function to analyze this"
       ]
      },
      {
       "output_type": "stream",
       "stream": "stdout",
       "text": [
        "\n",
        "Condition: other\n",
        "Using the cumgauss function to analyze this\n",
        "File: S15KB_90_0_06052012_1_att_ss.csv\n",
        "Condition: cued"
       ]
      },
      {
       "output_type": "stream",
       "stream": "stdout",
       "text": [
        "\n",
        "Using the cumgauss function to analyze this\n",
        "Condition: other\n",
        "Using the cumgauss function to analyze this"
       ]
      },
      {
       "output_type": "stream",
       "stream": "stdout",
       "text": [
        "\n",
        "File: S15KB_90_90_06052012_1_att_ss.csv\n",
        "Condition: cued\n",
        "Using the cumgauss function to analyze this"
       ]
      },
      {
       "output_type": "stream",
       "stream": "stdout",
       "text": [
        "\n",
        "Condition: other\n",
        "Using the cumgauss function to analyze this\n",
        "File: S15KBn_0_0_06052012_1_att_ss.csv\n",
        "Condition: neutral\n",
        "Using the cumgauss function to analyze this"
       ]
      },
      {
       "output_type": "stream",
       "stream": "stdout",
       "text": [
        "\n",
        "File: S15KBn_0_90_06052012_1_att_ss.csv\n",
        "Condition: neutral\n",
        "Using the cumgauss function to analyze this\n",
        "File: S15KBn_90_0_06052012_1_att_ss.csv\n",
        "Condition: neutral\n",
        "Using the cumgauss function to analyze this"
       ]
      },
      {
       "output_type": "stream",
       "stream": "stdout",
       "text": [
        "\n",
        "File: S15KBn_90_90_06052012_1_att_ss.csv\n",
        "Condition: neutral\n",
        "Using the cumgauss function to analyze this\n",
        "Analyzing S16\n",
        "File: S16PW_0_0_06082012_1_att_ss.csv\n",
        "Condition: cued"
       ]
      },
      {
       "output_type": "stream",
       "stream": "stdout",
       "text": [
        "\n",
        "Using the cumgauss function to analyze this\n",
        "Condition: other\n",
        "Using the cumgauss function to analyze this"
       ]
      },
      {
       "output_type": "stream",
       "stream": "stdout",
       "text": [
        "\n",
        "File: S16PW_0_90_06082012_1_att_ss.csv\n",
        "Condition: cued\n",
        "Using the cumgauss function to analyze this\n",
        "Condition: other"
       ]
      },
      {
       "output_type": "stream",
       "stream": "stdout",
       "text": [
        "\n",
        "Using the cumgauss function to analyze this\n",
        "File: S16PW_90_0_06082012_1_att_ss.csv\n",
        "Condition: cued"
       ]
      },
      {
       "output_type": "stream",
       "stream": "stdout",
       "text": [
        "\n",
        "Using the cumgauss function to analyze this\n",
        "Condition: other\n",
        "Using the cumgauss function to analyze this"
       ]
      },
      {
       "output_type": "stream",
       "stream": "stdout",
       "text": [
        "\n",
        "File: S16PW_90_90_06082012_1_att_ss.csv\n",
        "Condition: cued\n",
        "Using the cumgauss function to analyze this"
       ]
      },
      {
       "output_type": "stream",
       "stream": "stdout",
       "text": [
        "\n",
        "Condition: other\n",
        "Using the cumgauss function to analyze this\n",
        "File: S16PWn_0_0_06082012_1_att_ss.csv\n",
        "Condition: neutral"
       ]
      },
      {
       "output_type": "stream",
       "stream": "stdout",
       "text": [
        "\n",
        "Using the cumgauss function to analyze this\n",
        "File: S16PWn_0_90_06082012_1_att_ss.csv\n",
        "Condition: neutral\n",
        "Using the cumgauss function to analyze this\n",
        "File: S16PWn_90_0_06082012_1_att_ss.csv\n",
        "Condition: neutral"
       ]
      },
      {
       "output_type": "stream",
       "stream": "stdout",
       "text": [
        "\n",
        "Using the cumgauss function to analyze this\n",
        "File: S16PWn_90_90_06082012_1_att_ss.csv\n",
        "Condition: neutral\n",
        "Using the cumgauss function to analyze this\n",
        "Analyzing S17\n",
        "File: S17LD_0_0_06262012_1_att_ss.csv\n",
        "Condition: cued"
       ]
      },
      {
       "output_type": "stream",
       "stream": "stdout",
       "text": [
        "\n",
        "Using the cumgauss function to analyze this\n",
        "Condition: other\n",
        "Using the cumgauss function to analyze this"
       ]
      },
      {
       "output_type": "stream",
       "stream": "stdout",
       "text": [
        "\n",
        "File: S17LD_0_90_06262012_1_att_ss.csv\n",
        "Condition: cued\n",
        "Using the cumgauss function to analyze this"
       ]
      },
      {
       "output_type": "stream",
       "stream": "stdout",
       "text": [
        "\n",
        "Condition: other\n",
        "Using the cumgauss function to analyze this\n",
        "File: S17LD_90_0_06262012_1_att_ss.csv\n",
        "Condition: cued"
       ]
      },
      {
       "output_type": "stream",
       "stream": "stdout",
       "text": [
        "\n",
        "Using the cumgauss function to analyze this\n",
        "Condition: other\n",
        "Using the cumgauss function to analyze this"
       ]
      },
      {
       "output_type": "stream",
       "stream": "stdout",
       "text": [
        "\n",
        "File: S17LD_90_90_06262012_1_att_ss.csv\n",
        "Condition: cued\n",
        "Using the cumgauss function to analyze this"
       ]
      },
      {
       "output_type": "stream",
       "stream": "stdout",
       "text": [
        "\n",
        "Condition: other\n",
        "Using the cumgauss function to analyze this\n",
        "File: S17LDn_0_0_06262012_1_att_ss.csv\n",
        "Condition: neutral"
       ]
      },
      {
       "output_type": "stream",
       "stream": "stdout",
       "text": [
        "\n",
        "Using the cumgauss function to analyze this\n",
        "File: S17LDn_0_90_06262012_1_att_ss.csv\n",
        "Condition: neutral\n",
        "Using the cumgauss function to analyze this\n",
        "File: S17LDn_90_0_06262012_2_att_ss.csv"
       ]
      },
      {
       "output_type": "stream",
       "stream": "stdout",
       "text": [
        "\n",
        "Condition: neutral\n",
        "Using the cumgauss function to analyze this\n",
        "File: S17LDn_90_90_06262012_1_att_ss.csv\n",
        "Condition: neutral\n",
        "Using the cumgauss function to analyze this"
       ]
      },
      {
       "output_type": "stream",
       "stream": "stdout",
       "text": [
        "\n",
        "['S01', 'S02', 'S03', 'S04', 'S05', 'S06', 'S07', 'S09', 'S10', 'S11', 'S12', 'S14', 'S15', 'S16', 'S17']\n",
        "Analyzing S01\n",
        "File: S01HS_0_0_02092012_1_att_ss.csv\n",
        "Condition: cued\n",
        "Using the cumgauss function to analyze this"
       ]
      },
      {
       "output_type": "stream",
       "stream": "stdout",
       "text": [
        "\n",
        "Condition: other\n",
        "Using the cumgauss function to analyze this\n",
        "File: S01HS_0_90_02092012_1_att_ss.csv\n",
        "Condition: cued"
       ]
      },
      {
       "output_type": "stream",
       "stream": "stdout",
       "text": [
        "\n",
        "Using the cumgauss function to analyze this\n",
        "Condition: other\n",
        "Using the cumgauss function to analyze this"
       ]
      },
      {
       "output_type": "stream",
       "stream": "stdout",
       "text": [
        "\n",
        "File: S01HS_90_0_02092012_1_att_ss.csv\n",
        "Condition: cued\n",
        "Using the cumgauss function to analyze this"
       ]
      },
      {
       "output_type": "stream",
       "stream": "stdout",
       "text": [
        "\n",
        "Condition: other\n",
        "Using the cumgauss function to analyze this\n",
        "File: S01HS_90_90_02092012_1_att_ss.csv\n",
        "Condition: cued"
       ]
      },
      {
       "output_type": "stream",
       "stream": "stdout",
       "text": [
        "\n",
        "Using the cumgauss function to analyze this\n",
        "Condition: other\n",
        "Using the cumgauss function to analyze this"
       ]
      },
      {
       "output_type": "stream",
       "stream": "stdout",
       "text": [
        "\n",
        "File: S01HSn_0_0_02162012_1_att_ss.csv\n",
        "Condition: neutral\n",
        "Using the cumgauss function to analyze this\n",
        "File: S01HSn_0_90_02162012_1_att_ss.csv\n",
        "Condition: neutral"
       ]
      },
      {
       "output_type": "stream",
       "stream": "stdout",
       "text": [
        "\n",
        "Using the cumgauss function to analyze this\n",
        "File: S01HSn_90_0_02162012_1_att_ss.csv\n",
        "Condition: neutral\n",
        "Using the cumgauss function to analyze this\n",
        "File: S01HSn_90_90_02162012_1_att_ss.csv"
       ]
      },
      {
       "output_type": "stream",
       "stream": "stdout",
       "text": [
        "\n",
        "Condition: neutral\n",
        "Using the cumgauss function to analyze this\n",
        "Analyzing S02\n",
        "File: S02DT_0_0_02092012_1_att_ss.csv\n",
        "Condition: cued"
       ]
      },
      {
       "output_type": "stream",
       "stream": "stdout",
       "text": [
        "\n",
        "Using the cumgauss function to analyze this\n",
        "Condition: other\n",
        "Using the cumgauss function to analyze this"
       ]
      },
      {
       "output_type": "stream",
       "stream": "stdout",
       "text": [
        "\n",
        "File: S02DT_0_90_02092012_1_att_ss.csv\n",
        "Condition: cued\n",
        "Using the cumgauss function to analyze this\n",
        "Condition: other"
       ]
      },
      {
       "output_type": "stream",
       "stream": "stdout",
       "text": [
        "\n",
        "Using the cumgauss function to analyze this\n",
        "File: S02DT_90_0_02092012_1_att_ss.csv\n",
        "Condition: cued"
       ]
      },
      {
       "output_type": "stream",
       "stream": "stdout",
       "text": [
        "\n",
        "Using the cumgauss function to analyze this\n",
        "Condition: other\n",
        "Using the cumgauss function to analyze this"
       ]
      },
      {
       "output_type": "stream",
       "stream": "stdout",
       "text": [
        "\n",
        "File: S02DT_90_90_02092012_1_att_ss.csv\n",
        "Condition: cued\n",
        "Using the cumgauss function to analyze this\n",
        "Condition: other"
       ]
      },
      {
       "output_type": "stream",
       "stream": "stdout",
       "text": [
        "\n",
        "Using the cumgauss function to analyze this\n",
        "File: S02DTn_0_0_02162012_1_att_ss.csv\n",
        "Condition: neutral\n",
        "Using the cumgauss function to analyze this"
       ]
      },
      {
       "output_type": "stream",
       "stream": "stdout",
       "text": [
        "\n",
        "File: S02DTn_0_90_02162012_1_att_ss.csv\n",
        "Condition: neutral\n",
        "Using the cumgauss function to analyze this\n",
        "File: S02DTn_90_0_02162012_1_att_ss.csv"
       ]
      },
      {
       "output_type": "stream",
       "stream": "stdout",
       "text": [
        "\n",
        "Condition: neutral\n",
        "Using the cumgauss function to analyze this\n",
        "File: S02DTn_90_90_02162012_1_att_ss.csv\n",
        "Condition: neutral\n",
        "Using the cumgauss function to analyze this\n",
        "Analyzing S03"
       ]
      },
      {
       "output_type": "stream",
       "stream": "stdout",
       "text": [
        "\n",
        "File: S03AB_0_0_02102012_1_att_ss.csv\n",
        "Condition: cued\n",
        "Using the cumgauss function to analyze this\n",
        "Condition: other"
       ]
      },
      {
       "output_type": "stream",
       "stream": "stdout",
       "text": [
        "\n",
        "Using the cumgauss function to analyze this\n",
        "File: S03AB_0_90_02102012_1_att_ss.csv\n",
        "Condition: cued\n",
        "Using the cumgauss function to analyze this"
       ]
      },
      {
       "output_type": "stream",
       "stream": "stdout",
       "text": [
        "\n",
        "Condition: other\n",
        "Using the cumgauss function to analyze this\n",
        "File: S03AB_90_0_02102012_1_att_ss.csv\n",
        "Condition: cued"
       ]
      },
      {
       "output_type": "stream",
       "stream": "stdout",
       "text": [
        "\n",
        "Using the cumgauss function to analyze this\n",
        "Condition: other\n",
        "Using the cumgauss function to analyze this"
       ]
      },
      {
       "output_type": "stream",
       "stream": "stdout",
       "text": [
        "\n",
        "File: S03AB_90_90_02102012_1_att_ss.csv\n",
        "Condition: cued\n",
        "Using the cumgauss function to analyze this"
       ]
      },
      {
       "output_type": "stream",
       "stream": "stdout",
       "text": [
        "\n",
        "1.20784792329\n",
        "1.0\n",
        "Condition: other\n",
        "Using the cumgauss function to analyze this\n",
        "1.57730887552\n",
        "1.0\n",
        "File: S03ABn_0_0_02102012_1_att_ss.csv\n",
        "Condition: neutral"
       ]
      },
      {
       "output_type": "stream",
       "stream": "stdout",
       "text": [
        "\n",
        "Using the cumgauss function to analyze this\n",
        "File: S03ABn_0_90_02102012_1_att_ss.csv\n",
        "Condition: neutral\n",
        "Using the cumgauss function to analyze this\n",
        "File: S03ABn_90_0_02102012_2_att_ss.csv\n",
        "Condition: neutral"
       ]
      },
      {
       "output_type": "stream",
       "stream": "stdout",
       "text": [
        "\n",
        "Using the cumgauss function to analyze this\n",
        "File: S03ABn_90_90_02102012_1_att_ss.csv\n",
        "Condition: neutral\n",
        "Using the cumgauss function to analyze this\n",
        "Analyzing S04\n",
        "File: S04LC_0_0_02162012_1_att_ss.csv\n",
        "Condition: cued"
       ]
      },
      {
       "output_type": "stream",
       "stream": "stdout",
       "text": [
        "\n",
        "Using the cumgauss function to analyze this\n",
        "Condition: other\n",
        "Using the cumgauss function to analyze this"
       ]
      },
      {
       "output_type": "stream",
       "stream": "stdout",
       "text": [
        "\n",
        "File: S04LC_0_90_02162012_1_att_ss.csv\n",
        "Condition: cued\n",
        "Using the cumgauss function to analyze this\n",
        "Condition: other\n",
        "Using the cumgauss function to analyze this"
       ]
      },
      {
       "output_type": "stream",
       "stream": "stdout",
       "text": [
        "\n",
        "File: S04LC_90_0_02162012_1_att_ss.csv\n",
        "Condition: cued\n",
        "Using the cumgauss function to analyze this"
       ]
      },
      {
       "output_type": "stream",
       "stream": "stdout",
       "text": [
        "\n",
        "Condition: other\n",
        "Using the cumgauss function to analyze this\n",
        "File: S04LC_90_90_02162012_1_att_ss.csv\n",
        "Condition: cued"
       ]
      },
      {
       "output_type": "stream",
       "stream": "stdout",
       "text": [
        "\n",
        "Using the cumgauss function to analyze this\n",
        "Condition: other\n",
        "Using the cumgauss function to analyze this"
       ]
      },
      {
       "output_type": "stream",
       "stream": "stdout",
       "text": [
        "\n",
        "File: S04LCn_0_0_02162012_1_att_ss.csv\n",
        "Condition: neutral\n",
        "Using the cumgauss function to analyze this\n",
        "File: S04LCn_0_90_02162012_1_att_ss.csv\n",
        "Condition: neutral\n",
        "Using the cumgauss function to analyze this"
       ]
      },
      {
       "output_type": "stream",
       "stream": "stdout",
       "text": [
        "\n",
        "File: S04LCn_90_0_02162012_1_att_ss.csv\n",
        "Condition: neutral\n",
        "Using the cumgauss function to analyze this\n",
        "File: S04LCn_90_90_02162012_1_att_ss.csv\n",
        "Condition: neutral\n",
        "Using the cumgauss function to analyze this"
       ]
      },
      {
       "output_type": "stream",
       "stream": "stdout",
       "text": [
        "\n",
        "Analyzing S05\n",
        "File: S05JV_0_0_02162012_1_att_ss.csv\n",
        "Condition: cued\n",
        "Using the cumgauss function to analyze this\n",
        "Condition: other"
       ]
      },
      {
       "output_type": "stream",
       "stream": "stdout",
       "text": [
        "\n",
        "Using the cumgauss function to analyze this\n",
        "File: S05JV_0_90_02162012_1_att_ss.csv\n",
        "Condition: cued\n",
        "Using the cumgauss function to analyze this"
       ]
      },
      {
       "output_type": "stream",
       "stream": "stdout",
       "text": [
        "\n",
        "Condition: other\n",
        "Using the cumgauss function to analyze this\n",
        "File: S05JV_90_0_02162012_1_att_ss.csv\n",
        "Condition: cued"
       ]
      },
      {
       "output_type": "stream",
       "stream": "stdout",
       "text": [
        "\n",
        "Using the cumgauss function to analyze this\n",
        "Condition: other\n",
        "Using the cumgauss function to analyze this"
       ]
      },
      {
       "output_type": "stream",
       "stream": "stdout",
       "text": [
        "\n",
        "File: S05JV_90_90_02162012_1_att_ss.csv\n",
        "Condition: cued\n",
        "Using the cumgauss function to analyze this"
       ]
      },
      {
       "output_type": "stream",
       "stream": "stdout",
       "text": [
        "\n",
        "Condition: other\n",
        "Using the cumgauss function to analyze this\n",
        "File: S05JV_90_90_02232012_1_att_ss.csv\n",
        "Condition: cued"
       ]
      },
      {
       "output_type": "stream",
       "stream": "stdout",
       "text": [
        "\n",
        "Using the cumgauss function to analyze this\n",
        "Condition: other\n",
        "Using the cumgauss function to analyze this"
       ]
      },
      {
       "output_type": "stream",
       "stream": "stdout",
       "text": [
        "\n",
        "File: S05JVn_0_0_02162012_1_att_ss.csv\n",
        "Condition: neutral\n",
        "Using the cumgauss function to analyze this\n",
        "File: S05JVn_0_90_02162012_1_att_ss.csv\n",
        "Condition: neutral\n",
        "Using the cumgauss function to analyze this"
       ]
      },
      {
       "output_type": "stream",
       "stream": "stdout",
       "text": [
        "\n",
        "File: S05JVn_90_0_02162012_1_att_ss.csv\n",
        "Condition: neutral\n",
        "Using the cumgauss function to analyze this\n",
        "File: S05JVn_90_90_02162012_1_att_ss.csv\n",
        "Condition: neutral\n",
        "Using the cumgauss function to analyze this"
       ]
      },
      {
       "output_type": "stream",
       "stream": "stdout",
       "text": [
        "\n",
        "Analyzing S06\n",
        "File: S06LN_0_0_02212012_1_att_ss.csv\n",
        "Condition: cued\n",
        "Using the cumgauss function to analyze this"
       ]
      },
      {
       "output_type": "stream",
       "stream": "stdout",
       "text": [
        "\n",
        "Condition: other\n",
        "Using the cumgauss function to analyze this\n",
        "File: S06LN_0_90_02212012_1_att_ss.csv\n",
        "Condition: cued"
       ]
      },
      {
       "output_type": "stream",
       "stream": "stdout",
       "text": [
        "\n",
        "Using the cumgauss function to analyze this\n",
        "Condition: other\n",
        "Using the cumgauss function to analyze this"
       ]
      },
      {
       "output_type": "stream",
       "stream": "stdout",
       "text": [
        "\n",
        "File: S06LN_90_0_02212012_1_att_ss.csv\n",
        "Condition: cued\n",
        "Using the cumgauss function to analyze this\n",
        "Condition: other\n",
        "Using the cumgauss function to analyze this"
       ]
      },
      {
       "output_type": "stream",
       "stream": "stdout",
       "text": [
        "\n",
        "File: S06LN_90_90_02212012_1_att_ss.csv\n",
        "Condition: cued\n",
        "Using the cumgauss function to analyze this"
       ]
      },
      {
       "output_type": "stream",
       "stream": "stdout",
       "text": [
        "\n",
        "Condition: other\n",
        "Using the cumgauss function to analyze this\n",
        "File: S06LNn_0_0_02212012_1_att_ss.csv\n",
        "Condition: neutral"
       ]
      },
      {
       "output_type": "stream",
       "stream": "stdout",
       "text": [
        "\n",
        "Using the cumgauss function to analyze this\n",
        "File: S06LNn_0_90_02212012_1_att_ss.csv\n",
        "Condition: neutral\n",
        "Using the cumgauss function to analyze this\n",
        "File: S06LNn_90_0_02212012_1_att_ss.csv\n",
        "Condition: neutral"
       ]
      },
      {
       "output_type": "stream",
       "stream": "stdout",
       "text": [
        "\n",
        "Using the cumgauss function to analyze this\n",
        "File: S06LNn_90_90_02212012_1_att_ss.csv\n",
        "Condition: neutral\n",
        "Using the cumgauss function to analyze this\n",
        "Analyzing S07"
       ]
      },
      {
       "output_type": "stream",
       "stream": "stdout",
       "text": [
        "\n",
        "File: S07GM_0_0_02232012_1_att_ss.csv\n",
        "Condition: cued\n",
        "Using the cumgauss function to analyze this\n",
        "Condition: other"
       ]
      },
      {
       "output_type": "stream",
       "stream": "stdout",
       "text": [
        "\n",
        "Using the cumgauss function to analyze this\n",
        "File: S07GM_0_90_02232012_1_att_ss.csv\n",
        "Condition: cued"
       ]
      },
      {
       "output_type": "stream",
       "stream": "stdout",
       "text": [
        "\n",
        "Using the cumgauss function to analyze this\n",
        "Condition: other\n",
        "Using the cumgauss function to analyze this"
       ]
      },
      {
       "output_type": "stream",
       "stream": "stdout",
       "text": [
        "\n",
        "File: S07GM_90_0_02232012_1_att_ss.csv\n",
        "Condition: cued\n",
        "Using the cumgauss function to analyze this\n",
        "Condition: other\n",
        "Using the cumgauss function to analyze this"
       ]
      },
      {
       "output_type": "stream",
       "stream": "stdout",
       "text": [
        "\n",
        "File: S07GM_90_90_02232012_1_att_ss.csv\n",
        "Condition: cued\n",
        "Using the cumgauss function to analyze this\n",
        "Condition: other"
       ]
      },
      {
       "output_type": "stream",
       "stream": "stdout",
       "text": [
        "\n",
        "Using the cumgauss function to analyze this\n",
        "File: S07GMn_0_0_02232012_1_att_ss.csv\n",
        "Condition: neutral\n",
        "Using the cumgauss function to analyze this\n",
        "File: S07GMn_0_90_02232012_1_att_ss.csv"
       ]
      },
      {
       "output_type": "stream",
       "stream": "stdout",
       "text": [
        "\n",
        "Condition: neutral\n",
        "Using the cumgauss function to analyze this\n",
        "File: S07GMn_90_0_02232012_1_att_ss.csv\n",
        "Condition: neutral\n",
        "Using the cumgauss function to analyze this\n",
        "File: S07GMn_90_90_02232012_1_att_ss.csv"
       ]
      },
      {
       "output_type": "stream",
       "stream": "stdout",
       "text": [
        "\n",
        "Condition: neutral\n",
        "Using the cumgauss function to analyze this\n",
        "File: S07MGn_0_0_05292012_1_att_ss.csv\n",
        "Condition: neutral\n",
        "Using the cumgauss function to analyze this\n",
        "File: S07MGn_0_90_05292012_1_att_ss.csv"
       ]
      },
      {
       "output_type": "stream",
       "stream": "stdout",
       "text": [
        "\n",
        "Condition: neutral\n",
        "Using the cumgauss function to analyze this\n",
        "File: S07MGn_90_0_05292012_1_att_ss.csv\n",
        "Condition: neutral\n",
        "Using the cumgauss function to analyze this\n",
        "File: S07MGn_90_90_05292012_1_att_ss.csv"
       ]
      },
      {
       "output_type": "stream",
       "stream": "stdout",
       "text": [
        "\n",
        "Condition: neutral\n",
        "Using the cumgauss function to analyze this\n",
        "Analyzing S09\n",
        "File: S09CL_0_0_02292012_1_att_ss.csv\n",
        "Condition: cued\n",
        "Using the cumgauss function to analyze this"
       ]
      },
      {
       "output_type": "stream",
       "stream": "stdout",
       "text": [
        "\n",
        "Condition: other\n",
        "Using the cumgauss function to analyze this\n",
        "File: S09CL_0_90_02292012_1_att_ss.csv\n",
        "Condition: cued"
       ]
      },
      {
       "output_type": "stream",
       "stream": "stdout",
       "text": [
        "\n",
        "Using the cumgauss function to analyze this\n",
        "Condition: other\n",
        "Using the cumgauss function to analyze this"
       ]
      },
      {
       "output_type": "stream",
       "stream": "stdout",
       "text": [
        "\n",
        "File: S09CL_90_0_02292012_1_att_ss.csv\n",
        "Condition: cued\n",
        "Using the cumgauss function to analyze this"
       ]
      },
      {
       "output_type": "stream",
       "stream": "stdout",
       "text": [
        "\n",
        "Condition: other\n",
        "Using the cumgauss function to analyze this\n",
        "File: S09CL_90_90_02292012_1_att_ss.csv\n",
        "Condition: cued"
       ]
      },
      {
       "output_type": "stream",
       "stream": "stdout",
       "text": [
        "\n",
        "Using the cumgauss function to analyze this\n",
        "Condition: other\n",
        "Using the cumgauss function to analyze this"
       ]
      },
      {
       "output_type": "stream",
       "stream": "stdout",
       "text": [
        "\n",
        "File: S09CL_90_90_02292012_2_att_ss.csv\n",
        "Condition: cued\n",
        "Using the cumgauss function to analyze this"
       ]
      },
      {
       "output_type": "stream",
       "stream": "stdout",
       "text": [
        "\n",
        "Condition: other\n",
        "Using the cumgauss function to analyze this\n",
        "File: S09CLn_0_0_02292012_1_att_ss.csv\n",
        "Condition: neutral\n",
        "Using the cumgauss function to analyze this"
       ]
      },
      {
       "output_type": "stream",
       "stream": "stdout",
       "text": [
        "\n",
        "File: S09CLn_0_90_02292012_1_att_ss.csv\n",
        "Condition: neutral\n",
        "Using the cumgauss function to analyze this\n",
        "File: S09CLn_90_0_02292012_1_att_ss.csv\n",
        "Condition: neutral\n",
        "Using the cumgauss function to analyze this"
       ]
      },
      {
       "output_type": "stream",
       "stream": "stdout",
       "text": [
        "\n",
        "File: S09CLn_90_90_02292012_1_att_ss.csv\n",
        "Condition: neutral\n",
        "Using the cumgauss function to analyze this\n",
        "Analyzing S10\n",
        "File: S10SH_0_0_03012012_1_att_ss.csv\n",
        "Condition: cued"
       ]
      },
      {
       "output_type": "stream",
       "stream": "stdout",
       "text": [
        "\n",
        "Using the cumgauss function to analyze this\n",
        "Condition: other\n",
        "Using the cumgauss function to analyze this"
       ]
      },
      {
       "output_type": "stream",
       "stream": "stdout",
       "text": [
        "\n",
        "File: S10SH_0_90_03012012_1_att_ss.csv\n",
        "Condition: cued\n",
        "Using the cumgauss function to analyze this"
       ]
      },
      {
       "output_type": "stream",
       "stream": "stdout",
       "text": [
        "\n",
        "Condition: other\n",
        "Using the cumgauss function to analyze this\n",
        "File: S10SH_90_0_03012012_1_att_ss.csv\n",
        "Condition: cued"
       ]
      },
      {
       "output_type": "stream",
       "stream": "stdout",
       "text": [
        "\n",
        "Using the cumgauss function to analyze this\n",
        "Condition: other\n",
        "Using the cumgauss function to analyze this"
       ]
      },
      {
       "output_type": "stream",
       "stream": "stdout",
       "text": [
        "\n",
        "File: S10SH_90_90_03012012_1_att_ss.csv\n",
        "Condition: cued\n",
        "Using the cumgauss function to analyze this"
       ]
      },
      {
       "output_type": "stream",
       "stream": "stdout",
       "text": [
        "\n",
        "Condition: other\n",
        "Using the cumgauss function to analyze this\n",
        "File: S10SHn_0_0_03012012_1_att_ss.csv\n",
        "Condition: neutral\n",
        "Using the cumgauss function to analyze this"
       ]
      },
      {
       "output_type": "stream",
       "stream": "stdout",
       "text": [
        "\n",
        "File: S10SHn_0_90_03012012_1_att_ss.csv\n",
        "Condition: neutral\n",
        "Using the cumgauss function to analyze this\n",
        "File: S10SHn_90_0_03012012_1_att_ss.csv\n",
        "Condition: neutral\n",
        "Using the cumgauss function to analyze this"
       ]
      },
      {
       "output_type": "stream",
       "stream": "stdout",
       "text": [
        "\n",
        "File: S10SHn_90_90_03012012_1_att_ss.csv\n",
        "Condition: neutral\n",
        "Using the cumgauss function to analyze this\n",
        "Analyzing S11\n",
        "File: S11TL_0_0_03132012_1_att_ss.csv\n",
        "Condition: cued\n",
        "Using the cumgauss function to analyze this"
       ]
      },
      {
       "output_type": "stream",
       "stream": "stdout",
       "text": [
        "\n",
        "Condition: other\n",
        "Using the cumgauss function to analyze this\n",
        "File: S11TL_0_90_03132012_1_att_ss.csv\n",
        "Condition: cued"
       ]
      },
      {
       "output_type": "stream",
       "stream": "stdout",
       "text": [
        "\n",
        "Using the cumgauss function to analyze this\n",
        "Condition: other\n",
        "Using the cumgauss function to analyze this"
       ]
      },
      {
       "output_type": "stream",
       "stream": "stdout",
       "text": [
        "\n",
        "File: S11TL_90_0_03132012_1_att_ss.csv\n",
        "Condition: cued\n",
        "Using the cumgauss function to analyze this"
       ]
      },
      {
       "output_type": "stream",
       "stream": "stdout",
       "text": [
        "\n",
        "Condition: other\n",
        "Using the cumgauss function to analyze this\n",
        "File: S11TL_90_90_03132012_1_att_ss.csv\n",
        "Condition: cued"
       ]
      },
      {
       "output_type": "stream",
       "stream": "stdout",
       "text": [
        "\n",
        "Using the cumgauss function to analyze this\n",
        "Condition: other\n",
        "Using the cumgauss function to analyze this"
       ]
      },
      {
       "output_type": "stream",
       "stream": "stdout",
       "text": [
        "\n",
        "File: S11TLn_0_0_03132012_1_att_ss.csv\n",
        "Condition: neutral\n",
        "Using the cumgauss function to analyze this\n",
        "File: S11TLn_0_90_03132012_1_att_ss.csv\n",
        "Condition: neutral"
       ]
      },
      {
       "output_type": "stream",
       "stream": "stdout",
       "text": [
        "\n",
        "Using the cumgauss function to analyze this\n",
        "File: S11TLn_90_0_03132012_1_att_ss.csv\n",
        "Condition: neutral\n",
        "Using the cumgauss function to analyze this\n",
        "File: S11TLn_90_90_03132012_1_att_ss.csv"
       ]
      },
      {
       "output_type": "stream",
       "stream": "stdout",
       "text": [
        "\n",
        "Condition: neutral\n",
        "Using the cumgauss function to analyze this\n",
        "Analyzing S12\n",
        "File: S12JD_0_0_05232012_1_att_ss.csv\n",
        "Condition: cued"
       ]
      },
      {
       "output_type": "stream",
       "stream": "stdout",
       "text": [
        "\n",
        "Using the cumgauss function to analyze this\n",
        "Condition: other\n",
        "Using the cumgauss function to analyze this"
       ]
      },
      {
       "output_type": "stream",
       "stream": "stdout",
       "text": [
        "\n",
        "2.78375505627\n",
        "1.0\n",
        "File: S12JD_0_90_05232012_1_att_ss.csv\n",
        "Condition: cued\n",
        "Using the cumgauss function to analyze this"
       ]
      },
      {
       "output_type": "stream",
       "stream": "stdout",
       "text": [
        "\n",
        "Condition: other\n",
        "Using the cumgauss function to analyze this\n",
        "File: S12JD_90_0_05232012_1_att_ss.csv\n",
        "Condition: cued"
       ]
      },
      {
       "output_type": "stream",
       "stream": "stdout",
       "text": [
        "\n",
        "Using the cumgauss function to analyze this\n",
        "Condition: other\n",
        "Using the cumgauss function to analyze this"
       ]
      },
      {
       "output_type": "stream",
       "stream": "stdout",
       "text": [
        "\n",
        "File: S12JD_90_90_05232012_1_att_ss.csv\n",
        "Condition: cued\n",
        "Using the cumgauss function to analyze this"
       ]
      },
      {
       "output_type": "stream",
       "stream": "stdout",
       "text": [
        "\n",
        "Condition: other\n",
        "Using the cumgauss function to analyze this\n",
        "File: S12JD_n_0_0_05232012_1_att_ss.csv\n",
        "Condition: neutral\n",
        "Using the cumgauss function to analyze this"
       ]
      },
      {
       "output_type": "stream",
       "stream": "stdout",
       "text": [
        "\n",
        "File: S12JD_n_0_90_05232012_1_att_ss.csv\n",
        "Condition: neutral\n",
        "Using the cumgauss function to analyze this\n",
        "File: S12JD_n_90_0_05232012_1_att_ss.csv"
       ]
      },
      {
       "output_type": "stream",
       "stream": "stdout",
       "text": [
        "\n",
        "Condition: neutral\n",
        "Using the cumgauss function to analyze this\n",
        "File: S12JD_n_90_90_05232012_1_att_ss.csv\n",
        "Condition: neutral\n",
        "Using the cumgauss function to analyze this\n",
        "Analyzing S14"
       ]
      },
      {
       "output_type": "stream",
       "stream": "stdout",
       "text": [
        "\n",
        "File: S14JN_0_0_06052012_1_att_ss.csv\n",
        "Condition: cued\n",
        "Using the cumgauss function to analyze this\n",
        "Condition: other\n",
        "Using the cumgauss function to analyze this"
       ]
      },
      {
       "output_type": "stream",
       "stream": "stdout",
       "text": [
        "\n",
        "File: S14JN_0_90_06052012_1_att_ss.csv\n",
        "Condition: cued\n",
        "Using the cumgauss function to analyze this"
       ]
      },
      {
       "output_type": "stream",
       "stream": "stdout",
       "text": [
        "\n",
        "Condition: other\n",
        "Using the cumgauss function to analyze this\n",
        "File: S14JN_90_0_06052012_1_att_ss.csv\n",
        "Condition: cued"
       ]
      },
      {
       "output_type": "stream",
       "stream": "stdout",
       "text": [
        "\n",
        "Using the cumgauss function to analyze this\n",
        "Condition: other\n",
        "Using the cumgauss function to analyze this"
       ]
      },
      {
       "output_type": "stream",
       "stream": "stdout",
       "text": [
        "\n",
        "File: S14JN_90_90_06052012_1_att_ss.csv\n",
        "Condition: cued\n",
        "Using the cumgauss function to analyze this\n",
        "1.46510681929"
       ]
      },
      {
       "output_type": "stream",
       "stream": "stdout",
       "text": [
        "\n",
        "1.0\n",
        "Condition: other\n",
        "Using the cumgauss function to analyze this\n",
        "File: S14JNn_0_0_06052012_1_att_ss.csv\n",
        "Condition: neutral\n",
        "Using the cumgauss function to analyze this\n",
        "File: S14JNn_0_90_06052012_1_att_ss.csv"
       ]
      },
      {
       "output_type": "stream",
       "stream": "stdout",
       "text": [
        "\n",
        "Condition: neutral\n",
        "Using the cumgauss function to analyze this\n",
        "File: S14JNn_90_0_06052012_1_att_ss.csv\n",
        "Condition: neutral\n",
        "Using the cumgauss function to analyze this"
       ]
      },
      {
       "output_type": "stream",
       "stream": "stdout",
       "text": [
        "\n",
        "File: S14JNn_90_90_06052012_1_att_ss.csv\n",
        "Condition: neutral\n",
        "Using the cumgauss function to analyze this\n",
        "Analyzing S15\n",
        "File: S15KB_0_0_06052012_1_att_ss.csv\n",
        "Condition: cued"
       ]
      },
      {
       "output_type": "stream",
       "stream": "stdout",
       "text": [
        "\n",
        "Using the cumgauss function to analyze this\n",
        "Condition: other\n",
        "Using the cumgauss function to analyze this"
       ]
      },
      {
       "output_type": "stream",
       "stream": "stdout",
       "text": [
        "\n",
        "1.33088560728\n",
        "1.0\n",
        "File: S15KB_0_90_06052012_1_att_ss.csv\n",
        "Condition: cued\n",
        "Using the cumgauss function to analyze this"
       ]
      },
      {
       "output_type": "stream",
       "stream": "stdout",
       "text": [
        "\n",
        "Condition: other\n",
        "Using the cumgauss function to analyze this\n",
        "File: S15KB_90_0_06052012_1_att_ss.csv\n",
        "Condition: cued"
       ]
      },
      {
       "output_type": "stream",
       "stream": "stdout",
       "text": [
        "\n",
        "Using the cumgauss function to analyze this\n",
        "Condition: other\n",
        "Using the cumgauss function to analyze this"
       ]
      },
      {
       "output_type": "stream",
       "stream": "stdout",
       "text": [
        "\n",
        "File: S15KB_90_90_06052012_1_att_ss.csv\n",
        "Condition: cued\n",
        "Using the cumgauss function to analyze this"
       ]
      },
      {
       "output_type": "stream",
       "stream": "stdout",
       "text": [
        "\n",
        "Condition: other\n",
        "Using the cumgauss function to analyze this\n",
        "File: S15KBn_0_0_06052012_1_att_ss.csv\n",
        "Condition: neutral"
       ]
      },
      {
       "output_type": "stream",
       "stream": "stdout",
       "text": [
        "\n",
        "Using the cumgauss function to analyze this\n",
        "File: S15KBn_0_90_06052012_1_att_ss.csv\n",
        "Condition: neutral\n",
        "Using the cumgauss function to analyze this\n",
        "File: S15KBn_90_0_06052012_1_att_ss.csv"
       ]
      },
      {
       "output_type": "stream",
       "stream": "stdout",
       "text": [
        "\n",
        "Condition: neutral\n",
        "Using the cumgauss function to analyze this\n",
        "File: S15KBn_90_90_06052012_1_att_ss.csv\n",
        "Condition: neutral\n",
        "Using the cumgauss function to analyze this"
       ]
      },
      {
       "output_type": "stream",
       "stream": "stdout",
       "text": [
        "\n",
        "Analyzing S16\n",
        "File: S16PW_0_0_06082012_1_att_ss.csv\n",
        "Condition: cued\n",
        "Using the cumgauss function to analyze this"
       ]
      },
      {
       "output_type": "stream",
       "stream": "stdout",
       "text": [
        "\n",
        "Condition: other\n",
        "Using the cumgauss function to analyze this\n",
        "File: S16PW_0_90_06082012_1_att_ss.csv\n",
        "Condition: cued"
       ]
      },
      {
       "output_type": "stream",
       "stream": "stdout",
       "text": [
        "\n",
        "Using the cumgauss function to analyze this\n",
        "Condition: other\n",
        "Using the cumgauss function to analyze this"
       ]
      },
      {
       "output_type": "stream",
       "stream": "stdout",
       "text": [
        "\n",
        "File: S16PW_90_0_06082012_1_att_ss.csv\n",
        "Condition: cued\n",
        "Using the cumgauss function to analyze this"
       ]
      },
      {
       "output_type": "stream",
       "stream": "stdout",
       "text": [
        "\n",
        "Condition: other\n",
        "Using the cumgauss function to analyze this\n",
        "File: S16PW_90_90_06082012_1_att_ss.csv\n",
        "Condition: cued"
       ]
      },
      {
       "output_type": "stream",
       "stream": "stdout",
       "text": [
        "\n",
        "Using the cumgauss function to analyze this\n",
        "Condition: other\n",
        "Using the cumgauss function to analyze this"
       ]
      },
      {
       "output_type": "stream",
       "stream": "stdout",
       "text": [
        "\n",
        "File: S16PWn_0_0_06082012_1_att_ss.csv\n",
        "Condition: neutral\n",
        "Using the cumgauss function to analyze this\n",
        "File: S16PWn_0_90_06082012_1_att_ss.csv\n",
        "Condition: neutral\n",
        "Using the cumgauss function to analyze this"
       ]
      },
      {
       "output_type": "stream",
       "stream": "stdout",
       "text": [
        "\n",
        "File: S16PWn_90_0_06082012_1_att_ss.csv\n",
        "Condition: neutral\n",
        "Using the cumgauss function to analyze this\n",
        "File: S16PWn_90_90_06082012_1_att_ss.csv\n",
        "Condition: neutral\n",
        "Using the cumgauss function to analyze this"
       ]
      },
      {
       "output_type": "stream",
       "stream": "stdout",
       "text": [
        "\n",
        "Analyzing S17\n",
        "File: S17LD_0_0_06262012_1_att_ss.csv\n",
        "Condition: cued\n",
        "Using the cumgauss function to analyze this"
       ]
      },
      {
       "output_type": "stream",
       "stream": "stdout",
       "text": [
        "\n",
        "Condition: other\n",
        "Using the cumgauss function to analyze this\n",
        "File: S17LD_0_90_06262012_1_att_ss.csv"
       ]
      },
      {
       "output_type": "stream",
       "stream": "stdout",
       "text": [
        "\n",
        "Condition: cued\n",
        "Using the cumgauss function to analyze this"
       ]
      },
      {
       "output_type": "stream",
       "stream": "stdout",
       "text": [
        "\n",
        "Condition: other\n",
        "Using the cumgauss function to analyze this\n",
        "File: S17LD_90_0_06262012_1_att_ss.csv\n",
        "Condition: cued"
       ]
      },
      {
       "output_type": "stream",
       "stream": "stdout",
       "text": [
        "\n",
        "Using the cumgauss function to analyze this\n",
        "Condition: other\n",
        "Using the cumgauss function to analyze this"
       ]
      },
      {
       "output_type": "stream",
       "stream": "stdout",
       "text": [
        "\n",
        "File: S17LD_90_90_06262012_1_att_ss.csv\n",
        "Condition: cued\n",
        "Using the cumgauss function to analyze this"
       ]
      },
      {
       "output_type": "stream",
       "stream": "stdout",
       "text": [
        "\n",
        "Condition: other\n",
        "Using the cumgauss function to analyze this"
       ]
      },
      {
       "output_type": "stream",
       "stream": "stdout",
       "text": [
        "\n",
        "File: S17LDn_0_0_06262012_1_att_ss.csv\n",
        "Condition: neutral\n",
        "Using the cumgauss function to analyze this\n",
        "File: S17LDn_0_90_06262012_1_att_ss.csv\n",
        "Condition: neutral\n",
        "Using the cumgauss function to analyze this"
       ]
      },
      {
       "output_type": "stream",
       "stream": "stdout",
       "text": [
        "\n",
        "File: S17LDn_90_0_06262012_2_att_ss.csv\n",
        "Condition: neutral\n",
        "Using the cumgauss function to analyze this\n",
        "File: S17LDn_90_90_06262012_1_att_ss.csv\n",
        "Condition: neutral\n",
        "Using the cumgauss function to analyze this\n",
        "['S01', 'S02', 'S03', 'S04', 'S05', 'S06', 'S07', 'S09', 'S10', 'S11', 'S12', 'S14', 'S15', 'S16', 'S17']"
       ]
      },
      {
       "output_type": "stream",
       "stream": "stdout",
       "text": [
        "\n",
        "Analyzing S01\n",
        "File: S01HS_0_0_02092012_1_att_ss.csv\n",
        "Condition: cued\n",
        "Using the weib function to analyze this\n",
        "5.28079968601\n",
        "1.0\n",
        "1.00359893401\n",
        "1.0\n",
        "Condition: other\n",
        "Using the weib function to analyze this"
       ]
      },
      {
       "output_type": "stream",
       "stream": "stdout",
       "text": [
        "\n",
        "File: S01HS_0_90_02092012_1_att_ss.csv\n",
        "Condition: cued\n",
        "Using the weib function to analyze this"
       ]
      },
      {
       "output_type": "stream",
       "stream": "stdout",
       "text": [
        "\n",
        "5.42698657046\n",
        "1.0\n",
        "Condition: other\n",
        "Using the weib function to analyze this\n",
        "2.82992336905\n",
        "1.0\n",
        "1.08372724704\n",
        "1.0\n",
        "File: S01HS_90_0_02092012_1_att_ss.csv\n",
        "Condition: cued"
       ]
      },
      {
       "output_type": "stream",
       "stream": "stdout",
       "text": [
        "\n",
        "Using the weib function to analyze this\n",
        "4.74842909725\n",
        "1.0\n",
        "Condition: other\n",
        "Using the weib function to analyze this"
       ]
      },
      {
       "output_type": "stream",
       "stream": "stdout",
       "text": [
        "\n",
        "58.1653092194"
       ]
      },
      {
       "output_type": "stream",
       "stream": "stdout",
       "text": [
        "\n",
        "1.0\n",
        "File: S01HS_90_90_02092012_1_att_ss.csv\n",
        "Condition: cued\n",
        "Using the weib function to analyze this\n",
        "14.2492318713"
       ]
      },
      {
       "output_type": "stream",
       "stream": "stdout",
       "text": [
        "\n",
        "1.0\n",
        "1.00855001286\n",
        "1.0\n",
        "Condition: other\n",
        "Using the weib function to analyze this\n",
        "1.07844021568"
       ]
      },
      {
       "output_type": "stream",
       "stream": "stdout",
       "text": [
        "\n",
        "1.0\n",
        "File: S01HSn_0_0_02162012_1_att_ss.csv\n",
        "Condition: neutral\n",
        "Using the weib function to analyze this\n",
        "File: S01HSn_0_90_02162012_1_att_ss.csv"
       ]
      },
      {
       "output_type": "stream",
       "stream": "stdout",
       "text": [
        "\n",
        "Condition: neutral\n",
        "Using the weib function to analyze this\n",
        "File: S01HSn_90_0_02162012_1_att_ss.csv\n",
        "Condition: neutral"
       ]
      },
      {
       "output_type": "stream",
       "stream": "stdout",
       "text": [
        "\n",
        "Using the weib function to analyze this\n",
        "File: S01HSn_90_90_02162012_1_att_ss.csv\n",
        "Condition: neutral\n",
        "Using the weib function to analyze this\n",
        "Analyzing S02"
       ]
      },
      {
       "output_type": "stream",
       "stream": "stdout",
       "text": [
        "\n",
        "File: S02DT_0_0_02092012_1_att_ss.csv\n",
        "Condition: cued\n",
        "Using the weib function to analyze this\n",
        "223.466241712"
       ]
      },
      {
       "output_type": "stream",
       "stream": "stdout",
       "text": [
        "\n",
        "1.0\n",
        "1.00000000024\n",
        "1.0\n",
        "Condition: other\n",
        "Using the weib function to analyze this\n",
        "7.81212854445\n",
        "1.0\n",
        "File: S02DT_0_90_02092012_1_att_ss.csv\n",
        "Condition: cued"
       ]
      },
      {
       "output_type": "stream",
       "stream": "stdout",
       "text": [
        "\n",
        "Using the weib function to analyze this\n",
        "2.97644557895\n",
        "1.0\n",
        "Condition: other\n",
        "Using the weib function to analyze this\n",
        "70.2432069128"
       ]
      },
      {
       "output_type": "stream",
       "stream": "stdout",
       "text": [
        "\n",
        "1.0\n",
        "1.00000000024\n",
        "1.0\n",
        "File: S02DT_90_0_02092012_1_att_ss.csv\n",
        "Condition: cued\n",
        "Using the weib function to analyze this\n",
        "71.3143631914"
       ]
      },
      {
       "output_type": "stream",
       "stream": "stdout",
       "text": [
        "\n",
        "1.0\n",
        "Condition: other\n",
        "Using the weib function to analyze this\n",
        "73.7408629582\n",
        "1.0\n",
        "File: S02DT_90_90_02092012_1_att_ss.csv\n",
        "Condition: cued\n",
        "Using the weib function to analyze this"
       ]
      },
      {
       "output_type": "stream",
       "stream": "stdout",
       "text": [
        "\n",
        "10.9699371023\n",
        "1.0\n",
        "Condition: other\n",
        "Using the weib function to analyze this\n",
        "41.5215345319"
       ]
      },
      {
       "output_type": "stream",
       "stream": "stdout",
       "text": [
        "\n",
        "1.0\n",
        "File: S02DTn_0_0_02162012_1_att_ss.csv\n",
        "Condition: neutral\n",
        "Using the weib function to analyze this\n",
        "File: S02DTn_0_90_02162012_1_att_ss.csv\n",
        "Condition: neutral\n",
        "Using the weib function to analyze this"
       ]
      },
      {
       "output_type": "stream",
       "stream": "stdout",
       "text": [
        "\n",
        "File: S02DTn_90_0_02162012_1_att_ss.csv\n",
        "Condition: neutral\n",
        "Using the weib function to analyze this\n",
        "File: S02DTn_90_90_02162012_1_att_ss.csv\n",
        "Condition: neutral\n",
        "Using the weib function to analyze this"
       ]
      },
      {
       "output_type": "stream",
       "stream": "stdout",
       "text": [
        "\n",
        "Analyzing S03\n",
        "File: S03AB_0_0_02102012_1_att_ss.csv\n",
        "Condition: cued\n",
        "Using the weib function to analyze this"
       ]
      },
      {
       "output_type": "stream",
       "stream": "stdout",
       "text": [
        "\n",
        "21.385165505\n",
        "1.0\n",
        "Condition: other\n",
        "Using the weib function to analyze this\n",
        "10.9992836345"
       ]
      },
      {
       "output_type": "stream",
       "stream": "stdout",
       "text": [
        "\n",
        "1.0\n",
        "File: S03AB_0_90_02102012_1_att_ss.csv\n",
        "Condition: cued\n",
        "Using the weib function to analyze this\n",
        "18.3441748162"
       ]
      },
      {
       "output_type": "stream",
       "stream": "stdout",
       "text": [
        "\n",
        "1.0\n",
        "1.00063381764\n",
        "1.0\n",
        "Condition: other\n",
        "Using the weib function to analyze this\n",
        "1.07562913266\n",
        "1.0\n",
        "1.44980980717\n",
        "1.0\n",
        "File: S03AB_90_0_02102012_1_att_ss.csv\n",
        "Condition: cued"
       ]
      },
      {
       "output_type": "stream",
       "stream": "stdout",
       "text": [
        "\n",
        "Using the weib function to analyze this\n",
        "2.72752596851\n",
        "1.0\n",
        "Condition: other\n",
        "Using the weib function to analyze this"
       ]
      },
      {
       "output_type": "stream",
       "stream": "stdout",
       "text": [
        "\n",
        "38.254076594"
       ]
      },
      {
       "output_type": "stream",
       "stream": "stdout",
       "text": [
        "\n",
        "1.0\n",
        "File: S03AB_90_90_02102012_1_att_ss.csv\n",
        "Condition: cued\n",
        "Using the weib function to analyze this\n",
        "13.3461197446"
       ]
      },
      {
       "output_type": "stream",
       "stream": "stdout",
       "text": [
        "\n",
        "1.0\n",
        "Condition: other\n",
        "Using the weib function to analyze this\n",
        "40.240912754"
       ]
      },
      {
       "output_type": "stream",
       "stream": "stdout",
       "text": [
        "\n",
        "1.0\n",
        "File: S03ABn_0_0_02102012_1_att_ss.csv\n",
        "Condition: neutral\n",
        "Using the weib function to analyze this\n",
        "File: S03ABn_0_90_02102012_1_att_ss.csv\n",
        "Condition: neutral\n",
        "Using the weib function to analyze this\n",
        "File: S03ABn_90_0_02102012_2_att_ss.csv"
       ]
      },
      {
       "output_type": "stream",
       "stream": "stdout",
       "text": [
        "\n",
        "Condition: neutral\n",
        "Using the weib function to analyze this\n",
        "File: S03ABn_90_90_02102012_1_att_ss.csv\n",
        "Condition: neutral\n",
        "Using the weib function to analyze this"
       ]
      },
      {
       "output_type": "stream",
       "stream": "stdout",
       "text": [
        "\n",
        "Analyzing S04\n",
        "File: S04LC_0_0_02162012_1_att_ss.csv\n",
        "Condition: cued\n",
        "Using the weib function to analyze this"
       ]
      },
      {
       "output_type": "stream",
       "stream": "stdout",
       "text": [
        "\n",
        "7.1589173115\n",
        "1.0\n",
        "Condition: other\n",
        "Using the weib function to analyze this\n",
        "59.8578761359\n",
        "1.0\n",
        "File: S04LC_0_90_02162012_1_att_ss.csv\n",
        "Condition: cued"
       ]
      },
      {
       "output_type": "stream",
       "stream": "stdout",
       "text": [
        "\n",
        "Using the weib function to analyze this\n",
        "3.0498157137\n",
        "1.0\n",
        "Condition: other\n",
        "Using the weib function to analyze this"
       ]
      },
      {
       "output_type": "stream",
       "stream": "stdout",
       "text": [
        "\n",
        "1.76528731844\n",
        "1.0\n",
        "File: S04LC_90_0_02162012_1_att_ss.csv\n",
        "Condition: cued\n",
        "Using the weib function to analyze this"
       ]
      },
      {
       "output_type": "stream",
       "stream": "stdout",
       "text": [
        "\n",
        "11.7347139005\n",
        "1.0\n",
        "Condition: other\n",
        "Using the weib function to analyze this\n",
        "1.39404821918\n",
        "1.0\n",
        "1.69442682544\n",
        "1.0\n",
        "File: S04LC_90_90_02162012_1_att_ss.csv\n",
        "Condition: cued"
       ]
      },
      {
       "output_type": "stream",
       "stream": "stdout",
       "text": [
        "\n",
        "Using the weib function to analyze this\n",
        "7.42963355075\n",
        "1.0\n",
        "Condition: other\n",
        "Using the weib function to analyze this"
       ]
      },
      {
       "output_type": "stream",
       "stream": "stdout",
       "text": [
        "\n",
        "2.8022034338\n",
        "1.0\n",
        "2.08027134187\n",
        "1.0\n",
        "File: S04LCn_0_0_02162012_1_att_ss.csv\n",
        "Condition: neutral\n",
        "Using the weib function to analyze this\n",
        "File: S04LCn_0_90_02162012_1_att_ss.csv"
       ]
      },
      {
       "output_type": "stream",
       "stream": "stdout",
       "text": [
        "\n",
        "Condition: neutral\n",
        "Using the weib function to analyze this\n",
        "File: S04LCn_90_0_02162012_1_att_ss.csv\n",
        "Condition: neutral\n",
        "Using the weib function to analyze this"
       ]
      },
      {
       "output_type": "stream",
       "stream": "stdout",
       "text": [
        "\n",
        "File: S04LCn_90_90_02162012_1_att_ss.csv\n",
        "Condition: neutral\n",
        "Using the weib function to analyze this\n",
        "Analyzing S05"
       ]
      },
      {
       "output_type": "stream",
       "stream": "stdout",
       "text": [
        "\n",
        "File: S05JV_0_0_02162012_1_att_ss.csv\n",
        "Condition: cued\n",
        "Using the weib function to analyze this\n",
        "4.6524021334"
       ]
      },
      {
       "output_type": "stream",
       "stream": "stdout",
       "text": [
        "\n",
        "1.0\n",
        "1.02944245462\n",
        "1.0\n",
        "Condition: other\n",
        "Using the weib function to analyze this\n",
        "7.53168988684\n",
        "1.0\n",
        "File: S05JV_0_90_02162012_1_att_ss.csv\n",
        "Condition: cued\n",
        "Using the weib function to analyze this"
       ]
      },
      {
       "output_type": "stream",
       "stream": "stdout",
       "text": [
        "\n",
        "77.2797813245\n",
        "1.0\n",
        "Condition: other\n",
        "Using the weib function to analyze this\n",
        "42.5414809879"
       ]
      },
      {
       "output_type": "stream",
       "stream": "stdout",
       "text": [
        "\n",
        "1.0\n",
        "1.0\n",
        "1.0\n",
        "File: S05JV_90_0_02162012_1_att_ss.csv\n",
        "Condition: cued\n",
        "Using the weib function to analyze this\n",
        "6.74584607584"
       ]
      },
      {
       "output_type": "stream",
       "stream": "stdout",
       "text": [
        "\n",
        "1.0\n",
        "Condition: other\n",
        "Using the weib function to analyze this\n",
        "178.181358629\n",
        "1.0\n",
        "File: S05JV_90_90_02162012_1_att_ss.csv\n",
        "Condition: cued"
       ]
      },
      {
       "output_type": "stream",
       "stream": "stdout",
       "text": [
        "\n",
        "Using the weib function to analyze this\n",
        "3.04848394728\n",
        "1.0\n",
        "1.75926974608\n",
        "1.0\n",
        "Condition: other\n",
        "Using the weib function to analyze this"
       ]
      },
      {
       "output_type": "stream",
       "stream": "stdout",
       "text": [
        "\n",
        "31.8447474548\n",
        "1.0\n",
        "1.02192210685\n",
        "1.0\n",
        "File: S05JV_90_90_02232012_1_att_ss.csv\n",
        "Condition: cued\n",
        "Using the weib function to analyze this"
       ]
      },
      {
       "output_type": "stream",
       "stream": "stdout",
       "text": [
        "\n",
        "6.66602733598\n",
        "1.0\n",
        "Condition: other\n",
        "Using the weib function to analyze this\n",
        "10.616109756\n",
        "1.0\n",
        "1.03120534359\n",
        "1.0\n",
        "File: S05JVn_0_0_02162012_1_att_ss.csv\n",
        "Condition: neutral\n",
        "Using the weib function to analyze this"
       ]
      },
      {
       "output_type": "stream",
       "stream": "stdout",
       "text": [
        "\n",
        "File: S05JVn_0_90_02162012_1_att_ss.csv\n",
        "Condition: neutral\n",
        "Using the weib function to analyze this\n",
        "File: S05JVn_90_0_02162012_1_att_ss.csv\n",
        "Condition: neutral\n",
        "Using the weib function to analyze this\n",
        "File: S05JVn_90_90_02162012_1_att_ss.csv"
       ]
      },
      {
       "output_type": "stream",
       "stream": "stdout",
       "text": [
        "\n",
        "Condition: neutral\n",
        "Using the weib function to analyze this\n",
        "Analyzing S06\n",
        "File: S06LN_0_0_02212012_1_att_ss.csv\n",
        "Condition: cued"
       ]
      },
      {
       "output_type": "stream",
       "stream": "stdout",
       "text": [
        "\n",
        "Using the weib function to analyze this\n",
        "204.374111849\n",
        "1.0\n",
        "Condition: other\n",
        "Using the weib function to analyze this"
       ]
      },
      {
       "output_type": "stream",
       "stream": "stdout",
       "text": [
        "\n",
        "4.16363642894\n",
        "1.0\n",
        "File: S06LN_0_90_02212012_1_att_ss.csv\n",
        "Condition: cued\n",
        "Using the weib function to analyze this\n",
        "3.80213329717"
       ]
      },
      {
       "output_type": "stream",
       "stream": "stdout",
       "text": [
        "\n",
        "1.0\n",
        "Condition: other\n",
        "Using the weib function to analyze this\n",
        "1.2834048139"
       ]
      },
      {
       "output_type": "stream",
       "stream": "stdout",
       "text": [
        "\n",
        "1.0\n",
        "File: S06LN_90_0_02212012_1_att_ss.csv\n",
        "Condition: cued\n",
        "Using the weib function to analyze this\n",
        "3.2184790696"
       ]
      },
      {
       "output_type": "stream",
       "stream": "stdout",
       "text": [
        "\n",
        "1.0\n",
        "Condition: other\n",
        "Using the weib function to analyze this\n",
        "File: S06LN_90_90_02212012_1_att_ss.csv"
       ]
      },
      {
       "output_type": "stream",
       "stream": "stdout",
       "text": [
        "\n",
        "Condition: cued\n",
        "Using the weib function to analyze this\n",
        "2.39184238009"
       ]
      },
      {
       "output_type": "stream",
       "stream": "stdout",
       "text": [
        "\n",
        "1.0\n",
        "1.10729704877\n",
        "1.0\n",
        "Condition: other\n",
        "Using the weib function to analyze this\n",
        "2.73720062182\n",
        "1.0\n",
        "1.03961556589\n",
        "1.0\n",
        "File: S06LNn_0_0_02212012_1_att_ss.csv\n",
        "Condition: neutral\n",
        "Using the weib function to analyze this\n",
        "File: S06LNn_0_90_02212012_1_att_ss.csv"
       ]
      },
      {
       "output_type": "stream",
       "stream": "stdout",
       "text": [
        "\n",
        "Condition: neutral\n",
        "Using the weib function to analyze this\n",
        "File: S06LNn_90_0_02212012_1_att_ss.csv\n",
        "Condition: neutral\n",
        "Using the weib function to analyze this\n",
        "File: S06LNn_90_90_02212012_1_att_ss.csv"
       ]
      },
      {
       "output_type": "stream",
       "stream": "stdout",
       "text": [
        "\n",
        "Condition: neutral\n",
        "Using the weib function to analyze this\n",
        "Analyzing S07"
       ]
      },
      {
       "output_type": "stream",
       "stream": "stdout",
       "text": [
        "\n",
        "File: S07GM_0_0_02232012_1_att_ss.csv\n",
        "Condition: cued\n",
        "Using the weib function to analyze this\n",
        "4.7253187177\n",
        "1.0\n",
        "Condition: other\n",
        "Using the weib function to analyze this"
       ]
      },
      {
       "output_type": "stream",
       "stream": "stdout",
       "text": [
        "\n",
        "9.11604897485\n",
        "1.0\n",
        "1.0111164649\n",
        "1.0\n",
        "File: S07GM_0_90_02232012_1_att_ss.csv\n",
        "Condition: cued\n",
        "Using the weib function to analyze this"
       ]
      },
      {
       "output_type": "stream",
       "stream": "stdout",
       "text": [
        "\n",
        "2.68258964817\n",
        "1.0\n",
        "Condition: other\n",
        "Using the weib function to analyze this\n",
        "6.85053001836"
       ]
      },
      {
       "output_type": "stream",
       "stream": "stdout",
       "text": [
        "\n",
        "1.0\n",
        "File: S07GM_90_0_02232012_1_att_ss.csv\n",
        "Condition: cued\n",
        "Using the weib function to analyze this\n",
        "61.5857769412"
       ]
      },
      {
       "output_type": "stream",
       "stream": "stdout",
       "text": [
        "\n",
        "1.0\n",
        "Condition: other\n",
        "Using the weib function to analyze this\n",
        "26.8849484716"
       ]
      },
      {
       "output_type": "stream",
       "stream": "stdout",
       "text": [
        "\n",
        "1.0\n",
        "File: S07GM_90_90_02232012_1_att_ss.csv\n",
        "Condition: cued\n",
        "Using the weib function to analyze this\n",
        "5.64459404748"
       ]
      },
      {
       "output_type": "stream",
       "stream": "stdout",
       "text": [
        "\n",
        "1.0\n",
        "Condition: other\n",
        "Using the weib function to analyze this\n",
        "1.00982992022"
       ]
      },
      {
       "output_type": "stream",
       "stream": "stdout",
       "text": [
        "\n",
        "1.0\n",
        "File: S07GMn_0_0_02232012_1_att_ss.csv\n",
        "Condition: neutral\n",
        "Using the weib function to analyze this\n",
        "File: S07GMn_0_90_02232012_1_att_ss.csv\n",
        "Condition: neutral\n",
        "Using the weib function to analyze this\n",
        "File: S07GMn_90_0_02232012_1_att_ss.csv"
       ]
      },
      {
       "output_type": "stream",
       "stream": "stdout",
       "text": [
        "\n",
        "Condition: neutral\n",
        "Using the weib function to analyze this\n",
        "File: S07GMn_90_90_02232012_1_att_ss.csv\n",
        "Condition: neutral\n",
        "Using the weib function to analyze this\n",
        "File: S07MGn_0_0_05292012_1_att_ss.csv"
       ]
      },
      {
       "output_type": "stream",
       "stream": "stdout",
       "text": [
        "\n",
        "Condition: neutral\n",
        "Using the weib function to analyze this\n",
        "File: S07MGn_0_90_05292012_1_att_ss.csv"
       ]
      },
      {
       "output_type": "stream",
       "stream": "stdout",
       "text": [
        "\n",
        "Condition: neutral\n",
        "Using the weib function to analyze this\n",
        "File: S07MGn_90_0_05292012_1_att_ss.csv\n",
        "Condition: neutral\n",
        "Using the weib function to analyze this\n",
        "File: S07MGn_90_90_05292012_1_att_ss.csv"
       ]
      },
      {
       "output_type": "stream",
       "stream": "stdout",
       "text": [
        "\n",
        "Condition: neutral\n",
        "Using the weib function to analyze this\n",
        "Analyzing S09"
       ]
      },
      {
       "output_type": "stream",
       "stream": "stdout",
       "text": [
        "\n",
        "File: S09CL_0_0_02292012_1_att_ss.csv\n",
        "Condition: cued\n",
        "Using the weib function to analyze this\n",
        "2.44912992734\n",
        "1.0\n",
        "1.55476322015\n",
        "1.0\n",
        "Condition: other\n",
        "Using the weib function to analyze this"
       ]
      },
      {
       "output_type": "stream",
       "stream": "stdout",
       "text": [
        "\n",
        "7.80727551493\n",
        "1.0\n",
        "File: S09CL_0_90_02292012_1_att_ss.csv\n",
        "Condition: cued\n",
        "Using the weib function to analyze this"
       ]
      },
      {
       "output_type": "stream",
       "stream": "stdout",
       "text": [
        "\n",
        "4.41806997768\n",
        "1.0\n",
        "1.03415857375\n",
        "1.0\n",
        "Condition: other\n",
        "Using the weib function to analyze this\n",
        "101.862662401"
       ]
      },
      {
       "output_type": "stream",
       "stream": "stdout",
       "text": [
        "\n",
        "1.0\n",
        "1.0\n",
        "1.0\n",
        "File: S09CL_90_0_02292012_1_att_ss.csv\n",
        "Condition: cued\n",
        "Using the weib function to analyze this\n",
        "70.3550958978"
       ]
      },
      {
       "output_type": "stream",
       "stream": "stdout",
       "text": [
        "\n",
        "1.0\n",
        "Condition: other\n",
        "Using the weib function to analyze this\n",
        "52.1412596975"
       ]
      },
      {
       "output_type": "stream",
       "stream": "stdout",
       "text": [
        "\n",
        "1.0\n",
        "File: S09CL_90_90_02292012_1_att_ss.csv\n",
        "Condition: cued\n",
        "Using the weib function to analyze this\n",
        "8.86336765822"
       ]
      },
      {
       "output_type": "stream",
       "stream": "stdout",
       "text": [
        "\n",
        "1.0\n",
        "Condition: other\n",
        "Using the weib function to analyze this\n",
        "6.21508069457\n",
        "1.0\n",
        "2.45231591118\n",
        "1.0\n",
        "File: S09CL_90_90_02292012_2_att_ss.csv\n",
        "Condition: cued"
       ]
      },
      {
       "output_type": "stream",
       "stream": "stdout",
       "text": [
        "\n",
        "Using the weib function to analyze this\n",
        "10.2438139311\n",
        "1.0\n",
        "1.03014369296\n",
        "1.0\n",
        "Condition: other\n",
        "Using the weib function to analyze this"
       ]
      },
      {
       "output_type": "stream",
       "stream": "stdout",
       "text": [
        "\n",
        "74.0541740409"
       ]
      },
      {
       "output_type": "stream",
       "stream": "stdout",
       "text": [
        "\n",
        "1.0\n",
        "File: S09CLn_0_0_02292012_1_att_ss.csv\n",
        "Condition: neutral\n",
        "Using the weib function to analyze this\n",
        "File: S09CLn_0_90_02292012_1_att_ss.csv\n",
        "Condition: neutral\n",
        "Using the weib function to analyze this\n",
        "File: S09CLn_90_0_02292012_1_att_ss.csv"
       ]
      },
      {
       "output_type": "stream",
       "stream": "stdout",
       "text": [
        "\n",
        "Condition: neutral\n",
        "Using the weib function to analyze this\n",
        "File: S09CLn_90_90_02292012_1_att_ss.csv\n",
        "Condition: neutral\n",
        "Using the weib function to analyze this\n",
        "Analyzing S10"
       ]
      },
      {
       "output_type": "stream",
       "stream": "stdout",
       "text": [
        "\n",
        "File: S10SH_0_0_03012012_1_att_ss.csv\n",
        "Condition: cued\n",
        "Using the weib function to analyze this\n",
        "4.35176971742"
       ]
      },
      {
       "output_type": "stream",
       "stream": "stdout",
       "text": [
        "\n",
        "1.0\n",
        "Condition: other\n",
        "Using the weib function to analyze this\n",
        "4.04572203635"
       ]
      },
      {
       "output_type": "stream",
       "stream": "stdout",
       "text": [
        "\n",
        "1.0\n",
        "1.02090460814\n",
        "1.0\n",
        "File: S10SH_0_90_03012012_1_att_ss.csv\n",
        "Condition: cued\n",
        "Using the weib function to analyze this\n",
        "3.28960798432"
       ]
      },
      {
       "output_type": "stream",
       "stream": "stdout",
       "text": [
        "\n",
        "1.0\n",
        "Condition: other\n",
        "Using the weib function to analyze this\n",
        "6.64511959873\n",
        "1.0\n",
        "File: S10SH_90_0_03012012_1_att_ss.csv\n",
        "Condition: cued\n",
        "Using the weib function to analyze this"
       ]
      },
      {
       "output_type": "stream",
       "stream": "stdout",
       "text": [
        "\n",
        "21.8580715419\n",
        "1.0\n",
        "Condition: other\n",
        "Using the weib function to analyze this\n",
        "1.68822379626"
       ]
      },
      {
       "output_type": "stream",
       "stream": "stdout",
       "text": [
        "\n",
        "1.0\n",
        "File: S10SH_90_90_03012012_1_att_ss.csv\n",
        "Condition: cued\n",
        "Using the weib function to analyze this\n",
        "7.15468685234"
       ]
      },
      {
       "output_type": "stream",
       "stream": "stdout",
       "text": [
        "\n",
        "1.0\n",
        "Condition: other\n",
        "Using the weib function to analyze this\n",
        "1.72355779874\n",
        "1.0\n",
        "1.76219138297\n",
        "1.0\n",
        "File: S10SHn_0_0_03012012_1_att_ss.csv\n",
        "Condition: neutral\n",
        "Using the weib function to analyze this\n",
        "File: S10SHn_0_90_03012012_1_att_ss.csv"
       ]
      },
      {
       "output_type": "stream",
       "stream": "stdout",
       "text": [
        "\n",
        "Condition: neutral\n",
        "Using the weib function to analyze this\n",
        "File: S10SHn_90_0_03012012_1_att_ss.csv\n",
        "Condition: neutral\n",
        "Using the weib function to analyze this\n",
        "File: S10SHn_90_90_03012012_1_att_ss.csv"
       ]
      },
      {
       "output_type": "stream",
       "stream": "stdout",
       "text": [
        "\n",
        "Condition: neutral\n",
        "Using the weib function to analyze this\n",
        "Analyzing S11\n",
        "File: S11TL_0_0_03132012_1_att_ss.csv\n",
        "Condition: cued\n",
        "Using the weib function to analyze this"
       ]
      },
      {
       "output_type": "stream",
       "stream": "stdout",
       "text": [
        "\n",
        "12.705125967\n",
        "1.0\n",
        "Condition: other\n",
        "Using the weib function to analyze this\n",
        "13.5894414983\n",
        "1.0\n",
        "File: S11TL_0_90_03132012_1_att_ss.csv\n",
        "Condition: cued"
       ]
      },
      {
       "output_type": "stream",
       "stream": "stdout",
       "text": [
        "\n",
        "Using the weib function to analyze this\n",
        "7.81169707894\n",
        "1.0\n",
        "Condition: other\n",
        "Using the weib function to analyze this"
       ]
      },
      {
       "output_type": "stream",
       "stream": "stdout",
       "text": [
        "\n",
        "3.23129840971\n",
        "1.0\n",
        "File: S11TL_90_0_03132012_1_att_ss.csv\n",
        "Condition: cued\n",
        "Using the weib function to analyze this"
       ]
      },
      {
       "output_type": "stream",
       "stream": "stdout",
       "text": [
        "\n",
        "87.0815261064\n",
        "1.0\n",
        "Condition: other\n",
        "Using the weib function to analyze this\n",
        "3.04748342941"
       ]
      },
      {
       "output_type": "stream",
       "stream": "stdout",
       "text": [
        "\n",
        "1.0\n",
        "1.6491607036\n",
        "1.0\n",
        "File: S11TL_90_90_03132012_1_att_ss.csv\n",
        "Condition: cued\n",
        "Using the weib function to analyze this\n",
        "5.19685019078"
       ]
      },
      {
       "output_type": "stream",
       "stream": "stdout",
       "text": [
        "\n",
        "1.0\n",
        "Condition: other\n",
        "Using the weib function to analyze this\n",
        "2.20623118361\n",
        "1.0\n",
        "File: S11TLn_0_0_03132012_1_att_ss.csv\n",
        "Condition: neutral\n",
        "Using the weib function to analyze this\n",
        "File: S11TLn_0_90_03132012_1_att_ss.csv"
       ]
      },
      {
       "output_type": "stream",
       "stream": "stdout",
       "text": [
        "\n",
        "Condition: neutral\n",
        "Using the weib function to analyze this\n",
        "File: S11TLn_90_0_03132012_1_att_ss.csv\n",
        "Condition: neutral\n",
        "Using the weib function to analyze this\n",
        "File: S11TLn_90_90_03132012_1_att_ss.csv"
       ]
      },
      {
       "output_type": "stream",
       "stream": "stdout",
       "text": [
        "\n",
        "Condition: neutral\n",
        "Using the weib function to analyze this\n",
        "Analyzing S12"
       ]
      },
      {
       "output_type": "stream",
       "stream": "stdout",
       "text": [
        "\n",
        "File: S12JD_0_0_05232012_1_att_ss.csv\n",
        "Condition: cued\n",
        "Using the weib function to analyze this\n",
        "17.4767880072"
       ]
      },
      {
       "output_type": "stream",
       "stream": "stdout",
       "text": [
        "\n",
        "1.0\n",
        "Condition: other\n",
        "Using the weib function to analyze this\n",
        "File: S12JD_0_90_05232012_1_att_ss.csv\n",
        "Condition: cued\n",
        "Using the weib function to analyze this"
       ]
      },
      {
       "output_type": "stream",
       "stream": "stdout",
       "text": [
        "\n",
        "2.4611269541\n",
        "1.0\n",
        "1.08423472309\n",
        "1.0\n",
        "Condition: other\n",
        "Using the weib function to analyze this\n",
        "39.4120217973"
       ]
      },
      {
       "output_type": "stream",
       "stream": "stdout",
       "text": [
        "\n",
        "1.0\n",
        "File: S12JD_90_0_05232012_1_att_ss.csv\n",
        "Condition: cued\n",
        "Using the weib function to analyze this\n",
        "28.5757921388"
       ]
      },
      {
       "output_type": "stream",
       "stream": "stdout",
       "text": [
        "\n",
        "1.0\n",
        "Condition: other\n",
        "Using the weib function to analyze this\n",
        "48.7328389237"
       ]
      },
      {
       "output_type": "stream",
       "stream": "stdout",
       "text": [
        "\n",
        "1.0\n",
        "File: S12JD_90_90_05232012_1_att_ss.csv\n",
        "Condition: cued\n",
        "Using the weib function to analyze this\n",
        "89.024880335"
       ]
      },
      {
       "output_type": "stream",
       "stream": "stdout",
       "text": [
        "\n",
        "1.0\n",
        "Condition: other\n",
        "Using the weib function to analyze this\n",
        "5.57549704085\n",
        "1.0\n",
        "File: S12JD_n_0_0_05232012_1_att_ss.csv\n",
        "Condition: neutral\n",
        "Using the weib function to analyze this\n",
        "File: S12JD_n_0_90_05232012_1_att_ss.csv"
       ]
      },
      {
       "output_type": "stream",
       "stream": "stdout",
       "text": [
        "\n",
        "Condition: neutral\n",
        "Using the weib function to analyze this\n",
        "File: S12JD_n_90_0_05232012_1_att_ss.csv\n",
        "Condition: neutral\n",
        "Using the weib function to analyze this"
       ]
      },
      {
       "output_type": "stream",
       "stream": "stdout",
       "text": [
        "\n",
        "File: S12JD_n_90_90_05232012_1_att_ss.csv"
       ]
      },
      {
       "output_type": "stream",
       "stream": "stdout",
       "text": [
        "\n",
        "Condition: neutral\n",
        "Using the weib function to analyze this\n",
        "Analyzing S14\n",
        "File: S14JN_0_0_06052012_1_att_ss.csv\n",
        "Condition: cued"
       ]
      },
      {
       "output_type": "stream",
       "stream": "stdout",
       "text": [
        "\n",
        "Using the weib function to analyze this\n",
        "Condition: other\n",
        "Using the weib function to analyze this"
       ]
      },
      {
       "output_type": "stream",
       "stream": "stdout",
       "text": [
        "\n",
        "1.01114846423\n",
        "1.0\n",
        "File: S14JN_0_90_06052012_1_att_ss.csv\n",
        "Condition: cued\n",
        "Using the weib function to analyze this"
       ]
      },
      {
       "output_type": "stream",
       "stream": "stdout",
       "text": [
        "\n",
        "10.7123590293\n",
        "1.0\n",
        "Condition: other\n",
        "Using the weib function to analyze this\n",
        "1.30755295391"
       ]
      },
      {
       "output_type": "stream",
       "stream": "stdout",
       "text": [
        "\n",
        "1.0\n",
        "File: S14JN_90_0_06052012_1_att_ss.csv\n",
        "Condition: cued\n",
        "Using the weib function to analyze this\n",
        "1.28102336438\n",
        "1.0\n",
        "Condition: other\n",
        "Using the weib function to analyze this"
       ]
      },
      {
       "output_type": "stream",
       "stream": "stdout",
       "text": [
        "\n",
        "23.7487130438\n",
        "1.0\n",
        "File: S14JN_90_90_06052012_1_att_ss.csv\n",
        "Condition: cued\n",
        "Using the weib function to analyze this\n",
        "36.7085971201"
       ]
      },
      {
       "output_type": "stream",
       "stream": "stdout",
       "text": [
        "\n",
        "1.0\n",
        "Condition: other\n",
        "Using the weib function to analyze this\n",
        "File: S14JNn_0_0_06052012_1_att_ss.csv\n",
        "Condition: neutral\n",
        "Using the weib function to analyze this\n",
        "File: S14JNn_0_90_06052012_1_att_ss.csv"
       ]
      },
      {
       "output_type": "stream",
       "stream": "stdout",
       "text": [
        "\n",
        "Condition: neutral\n",
        "Using the weib function to analyze this\n",
        "File: S14JNn_90_0_06052012_1_att_ss.csv\n",
        "Condition: neutral\n",
        "Using the weib function to analyze this\n",
        "File: S14JNn_90_90_06052012_1_att_ss.csv"
       ]
      },
      {
       "output_type": "stream",
       "stream": "stdout",
       "text": [
        "\n",
        "Condition: neutral\n",
        "Using the weib function to analyze this\n",
        "Analyzing S15\n",
        "File: S15KB_0_0_06052012_1_att_ss.csv\n",
        "Condition: cued\n",
        "Using the weib function to analyze this"
       ]
      },
      {
       "output_type": "stream",
       "stream": "stdout",
       "text": [
        "\n",
        "7.73694361174\n",
        "1.0\n",
        "Condition: other\n",
        "Using the weib function to analyze this\n",
        "28.8442295912\n",
        "1.0\n",
        "File: S15KB_0_90_06052012_1_att_ss.csv\n",
        "Condition: cued\n",
        "Using the weib function to analyze this"
       ]
      },
      {
       "output_type": "stream",
       "stream": "stdout",
       "text": [
        "\n",
        "10.2991178378\n",
        "1.0\n",
        "Condition: other\n",
        "Using the weib function to analyze this\n",
        "2.95223435727\n",
        "1.0\n",
        "1.01358136674\n",
        "1.0\n",
        "File: S15KB_90_0_06052012_1_att_ss.csv\n",
        "Condition: cued"
       ]
      },
      {
       "output_type": "stream",
       "stream": "stdout",
       "text": [
        "\n",
        "Using the weib function to analyze this\n",
        "1.01558802166\n",
        "1.0\n",
        "Condition: other\n",
        "Using the weib function to analyze this"
       ]
      },
      {
       "output_type": "stream",
       "stream": "stdout",
       "text": [
        "\n",
        "1.01509172834"
       ]
      },
      {
       "output_type": "stream",
       "stream": "stdout",
       "text": [
        "\n",
        "1.0\n",
        "File: S15KB_90_90_06052012_1_att_ss.csv\n",
        "Condition: cued\n",
        "Using the weib function to analyze this\n",
        "10.4313763037\n",
        "1.0\n",
        "Condition: other\n",
        "Using the weib function to analyze this"
       ]
      },
      {
       "output_type": "stream",
       "stream": "stdout",
       "text": [
        "\n",
        "32.3718724238"
       ]
      },
      {
       "output_type": "stream",
       "stream": "stdout",
       "text": [
        "\n",
        "1.0\n",
        "File: S15KBn_0_0_06052012_1_att_ss.csv\n",
        "Condition: neutral\n",
        "Using the weib function to analyze this\n",
        "File: S15KBn_0_90_06052012_1_att_ss.csv\n",
        "Condition: neutral\n",
        "Using the weib function to analyze this\n",
        "File: S15KBn_90_0_06052012_1_att_ss.csv"
       ]
      },
      {
       "output_type": "stream",
       "stream": "stdout",
       "text": [
        "\n",
        "Condition: neutral\n",
        "Using the weib function to analyze this\n",
        "File: S15KBn_90_90_06052012_1_att_ss.csv\n",
        "Condition: neutral\n",
        "Using the weib function to analyze this\n",
        "Analyzing S16"
       ]
      },
      {
       "output_type": "stream",
       "stream": "stdout",
       "text": [
        "\n",
        "File: S16PW_0_0_06082012_1_att_ss.csv\n",
        "Condition: cued\n",
        "Using the weib function to analyze this\n",
        "5.39145481971"
       ]
      },
      {
       "output_type": "stream",
       "stream": "stdout",
       "text": [
        "\n",
        "1.0\n",
        "Condition: other\n",
        "Using the weib function to analyze this\n",
        "1.55201899848\n",
        "1.0\n",
        "File: S16PW_0_90_06082012_1_att_ss.csv\n",
        "Condition: cued\n",
        "Using the weib function to analyze this"
       ]
      },
      {
       "output_type": "stream",
       "stream": "stdout",
       "text": [
        "\n",
        "11.9640452662\n",
        "1.0\n",
        "Condition: other\n",
        "Using the weib function to analyze this\n",
        "1.04161627009\n",
        "1.0\n",
        "1.46147995828\n",
        "1.0\n",
        "File: S16PW_90_0_06082012_1_att_ss.csv\n",
        "Condition: cued"
       ]
      },
      {
       "output_type": "stream",
       "stream": "stdout",
       "text": [
        "\n",
        "Using the weib function to analyze this\n",
        "6.97855646244\n",
        "1.0\n",
        "1.01449418857\n",
        "1.0\n",
        "Condition: other\n",
        "Using the weib function to analyze this"
       ]
      },
      {
       "output_type": "stream",
       "stream": "stdout",
       "text": [
        "\n",
        "26.8481376831"
       ]
      },
      {
       "output_type": "stream",
       "stream": "stdout",
       "text": [
        "\n",
        "1.0\n",
        "File: S16PW_90_90_06082012_1_att_ss.csv\n",
        "Condition: cued\n",
        "Using the weib function to analyze this\n",
        "2.52645158923\n",
        "1.0\n",
        "Condition: other\n",
        "Using the weib function to analyze this"
       ]
      },
      {
       "output_type": "stream",
       "stream": "stdout",
       "text": [
        "\n",
        "1.33790736521\n",
        "1.0\n",
        "File: S16PWn_0_0_06082012_1_att_ss.csv\n",
        "Condition: neutral\n",
        "Using the weib function to analyze this\n",
        "File: S16PWn_0_90_06082012_1_att_ss.csv\n",
        "Condition: neutral"
       ]
      },
      {
       "output_type": "stream",
       "stream": "stdout",
       "text": [
        "\n",
        "Using the weib function to analyze this\n",
        "File: S16PWn_90_0_06082012_1_att_ss.csv\n",
        "Condition: neutral\n",
        "Using the weib function to analyze this\n",
        "File: S16PWn_90_90_06082012_1_att_ss.csv"
       ]
      },
      {
       "output_type": "stream",
       "stream": "stdout",
       "text": [
        "\n",
        "Condition: neutral\n",
        "Using the weib function to analyze this\n",
        "Analyzing S17\n",
        "File: S17LD_0_0_06262012_1_att_ss.csv\n",
        "Condition: cued\n",
        "Using the weib function to analyze this"
       ]
      },
      {
       "output_type": "stream",
       "stream": "stdout",
       "text": [
        "\n",
        "220.995698916\n",
        "1.0\n",
        "Condition: other\n",
        "Using the weib function to analyze this"
       ]
      },
      {
       "output_type": "stream",
       "stream": "stdout",
       "text": [
        "\n",
        "208.488177263\n",
        "1.0\n",
        "1.90613370115\n",
        "1.0\n",
        "File: S17LD_0_90_06262012_1_att_ss.csv\n",
        "Condition: cued\n",
        "Using the weib function to analyze this\n",
        "3.51694154257"
       ]
      },
      {
       "output_type": "stream",
       "stream": "stdout",
       "text": [
        "\n",
        "1.0\n",
        "Condition: other\n",
        "Using the weib function to analyze this\n",
        "179.360880133\n",
        "1.0\n",
        "1.00000000015\n",
        "1.0\n",
        "File: S17LD_90_0_06262012_1_att_ss.csv\n",
        "Condition: cued"
       ]
      },
      {
       "output_type": "stream",
       "stream": "stdout",
       "text": [
        "\n",
        "Using the weib function to analyze this\n",
        "3.12908665747\n",
        "1.0\n",
        "Condition: other\n",
        "Using the weib function to analyze this"
       ]
      },
      {
       "output_type": "stream",
       "stream": "stdout",
       "text": [
        "\n",
        "5.86381119062\n",
        "1.0\n",
        "File: S17LD_90_90_06262012_1_att_ss.csv\n",
        "Condition: cued\n",
        "Using the weib function to analyze this\n",
        "6.97630774929"
       ]
      },
      {
       "output_type": "stream",
       "stream": "stdout",
       "text": [
        "\n",
        "1.0\n",
        "1.82634868291\n",
        "1.0\n",
        "Condition: other\n",
        "Using the weib function to analyze this\n",
        "120.098559622"
       ]
      },
      {
       "output_type": "stream",
       "stream": "stdout",
       "text": [
        "\n",
        "1.0\n",
        "File: S17LDn_0_0_06262012_1_att_ss.csv\n",
        "Condition: neutral\n",
        "Using the weib function to analyze this\n",
        "File: S17LDn_0_90_06262012_1_att_ss.csv"
       ]
      },
      {
       "output_type": "stream",
       "stream": "stdout",
       "text": [
        "\n",
        "Condition: neutral\n",
        "Using the weib function to analyze this\n",
        "File: S17LDn_90_0_06262012_2_att_ss.csv\n",
        "Condition: neutral\n",
        "Using the weib function to analyze this\n",
        "File: S17LDn_90_90_06262012_1_att_ss.csv"
       ]
      },
      {
       "output_type": "stream",
       "stream": "stdout",
       "text": [
        "\n",
        "Condition: neutral\n",
        "Using the weib function to analyze this\n",
        "['S01', 'S02', 'S03', 'S04', 'S05', 'S06', 'S07', 'S09', 'S10', 'S11', 'S12', 'S14', 'S15', 'S16', 'S17']\n",
        "Analyzing S01\n",
        "File: S01HS_0_0_02092012_1_att_ss.csv\n",
        "Condition: cued"
       ]
      },
      {
       "output_type": "stream",
       "stream": "stdout",
       "text": [
        "\n",
        "Using the weib function to analyze this\n",
        "11.1024556658\n",
        "1.0\n",
        "Condition: other\n",
        "Using the weib function to analyze this"
       ]
      },
      {
       "output_type": "stream",
       "stream": "stdout",
       "text": [
        "\n",
        "6.70519159272\n",
        "1.0\n",
        "1.00134486122\n",
        "1.0\n",
        "File: S01HS_0_90_02092012_1_att_ss.csv\n",
        "Condition: cued\n",
        "Using the weib function to analyze this"
       ]
      },
      {
       "output_type": "stream",
       "stream": "stdout",
       "text": [
        "\n",
        "5.41220345445\n",
        "1.0\n",
        "1.05762272505\n",
        "1.0\n",
        "Condition: other\n",
        "Using the weib function to analyze this\n",
        "18.9841115738"
       ]
      },
      {
       "output_type": "stream",
       "stream": "stdout",
       "text": [
        "\n",
        "1.0\n",
        "File: S01HS_90_0_02092012_1_att_ss.csv\n",
        "Condition: cued\n",
        "Using the weib function to analyze this\n",
        "1.64703050003"
       ]
      },
      {
       "output_type": "stream",
       "stream": "stdout",
       "text": [
        "\n",
        "1.0\n",
        "1.07745573856\n",
        "1.0\n",
        "Condition: other\n",
        "Using the weib function to analyze this\n",
        "19.4955398773\n",
        "1.0\n",
        "File: S01HS_90_90_02092012_1_att_ss.csv\n",
        "Condition: cued"
       ]
      },
      {
       "output_type": "stream",
       "stream": "stdout",
       "text": [
        "\n",
        "Using the weib function to analyze this\n",
        "7.03255041216\n",
        "1.0\n",
        "Condition: other\n",
        "Using the weib function to analyze this"
       ]
      },
      {
       "output_type": "stream",
       "stream": "stdout",
       "text": [
        "\n",
        "107.221048151"
       ]
      },
      {
       "output_type": "stream",
       "stream": "stdout",
       "text": [
        "\n",
        "1.0\n",
        "File: S01HSn_0_0_02162012_1_att_ss.csv\n",
        "Condition: neutral\n",
        "Using the weib function to analyze this\n",
        "File: S01HSn_0_90_02162012_1_att_ss.csv\n",
        "Condition: neutral\n",
        "Using the weib function to analyze this\n",
        "File: S01HSn_90_0_02162012_1_att_ss.csv"
       ]
      },
      {
       "output_type": "stream",
       "stream": "stdout",
       "text": [
        "\n",
        "Condition: neutral\n",
        "Using the weib function to analyze this\n",
        "File: S01HSn_90_90_02162012_1_att_ss.csv\n",
        "Condition: neutral\n",
        "Using the weib function to analyze this"
       ]
      },
      {
       "output_type": "stream",
       "stream": "stdout",
       "text": [
        "\n",
        "Analyzing S02\n",
        "File: S02DT_0_0_02092012_1_att_ss.csv\n",
        "Condition: cued\n",
        "Using the weib function to analyze this"
       ]
      },
      {
       "output_type": "stream",
       "stream": "stdout",
       "text": [
        "\n",
        "5.14195623128\n",
        "1.0\n",
        "Condition: other\n",
        "Using the weib function to analyze this\n",
        "8.4448879731"
       ]
      },
      {
       "output_type": "stream",
       "stream": "stdout",
       "text": [
        "\n",
        "1.0\n",
        "File: S02DT_0_90_02092012_1_att_ss.csv\n",
        "Condition: cued\n",
        "Using the weib function to analyze this\n",
        "7.54215718574\n",
        "1.0\n",
        "Condition: other\n",
        "Using the weib function to analyze this"
       ]
      },
      {
       "output_type": "stream",
       "stream": "stdout",
       "text": [
        "\n",
        "8.11067767001\n",
        "1.0\n",
        "1.00807821876\n",
        "1.0\n",
        "File: S02DT_90_0_02092012_1_att_ss.csv\n",
        "Condition: cued\n",
        "Using the weib function to analyze this\n",
        "84.080883607"
       ]
      },
      {
       "output_type": "stream",
       "stream": "stdout",
       "text": [
        "\n",
        "1.0\n",
        "Condition: other\n",
        "Using the weib function to analyze this\n",
        "77.4701979876"
       ]
      },
      {
       "output_type": "stream",
       "stream": "stdout",
       "text": [
        "\n",
        "1.0\n",
        "File: S02DT_90_90_02092012_1_att_ss.csv\n",
        "Condition: cued\n",
        "Using the weib function to analyze this\n",
        "5.50268697941"
       ]
      },
      {
       "output_type": "stream",
       "stream": "stdout",
       "text": [
        "\n",
        "1.0\n",
        "1.96839524035\n",
        "1.0\n",
        "Condition: other\n",
        "Using the weib function to analyze this\n",
        "66.0705559397"
       ]
      },
      {
       "output_type": "stream",
       "stream": "stdout",
       "text": [
        "\n",
        "1.0\n",
        "1.52795465277\n",
        "1.0\n",
        "File: S02DTn_0_0_02162012_1_att_ss.csv\n",
        "Condition: neutral\n",
        "Using the weib function to analyze this\n",
        "File: S02DTn_0_90_02162012_1_att_ss.csv\n",
        "Condition: neutral\n",
        "Using the weib function to analyze this"
       ]
      },
      {
       "output_type": "stream",
       "stream": "stdout",
       "text": [
        "\n",
        "File: S02DTn_90_0_02162012_1_att_ss.csv\n",
        "Condition: neutral\n",
        "Using the weib function to analyze this\n",
        "File: S02DTn_90_90_02162012_1_att_ss.csv"
       ]
      },
      {
       "output_type": "stream",
       "stream": "stdout",
       "text": [
        "\n",
        "Condition: neutral\n",
        "Using the weib function to analyze this\n",
        "Analyzing S03\n",
        "File: S03AB_0_0_02102012_1_att_ss.csv\n",
        "Condition: cued\n",
        "Using the weib function to analyze this"
       ]
      },
      {
       "output_type": "stream",
       "stream": "stdout",
       "text": [
        "\n",
        "1.99906152496\n",
        "1.0\n",
        "1.45022172026\n",
        "1.0\n",
        "Condition: other\n",
        "Using the weib function to analyze this\n",
        "4.49031977549"
       ]
      },
      {
       "output_type": "stream",
       "stream": "stdout",
       "text": [
        "\n",
        "1.0\n",
        "2.00093168569\n",
        "1.0\n",
        "File: S03AB_0_90_02102012_1_att_ss.csv\n",
        "Condition: cued\n",
        "Using the weib function to analyze this\n",
        "6.04505871458"
       ]
      },
      {
       "output_type": "stream",
       "stream": "stdout",
       "text": [
        "\n",
        "1.0\n",
        "Condition: other\n",
        "Using the weib function to analyze this\n",
        "12.8647504685\n",
        "1.0\n",
        "File: S03AB_90_0_02102012_1_att_ss.csv\n",
        "Condition: cued\n",
        "Using the weib function to analyze this"
       ]
      },
      {
       "output_type": "stream",
       "stream": "stdout",
       "text": [
        "\n",
        "6.07611978198"
       ]
      },
      {
       "output_type": "stream",
       "stream": "stdout",
       "text": [
        "\n",
        "1.0\n",
        "Condition: other\n",
        "Using the weib function to analyze this\n",
        "61.964813757\n",
        "1.0\n",
        "File: S03AB_90_90_02102012_1_att_ss.csv\n",
        "Condition: cued\n",
        "Using the weib function to analyze this"
       ]
      },
      {
       "output_type": "stream",
       "stream": "stdout",
       "text": [
        "\n",
        "Condition: other\n",
        "Using the weib function to analyze this\n",
        "67.5014138137"
       ]
      },
      {
       "output_type": "stream",
       "stream": "stdout",
       "text": [
        "\n",
        "1.0\n",
        "File: S03ABn_0_0_02102012_1_att_ss.csv\n",
        "Condition: neutral\n",
        "Using the weib function to analyze this\n",
        "File: S03ABn_0_90_02102012_1_att_ss.csv\n",
        "Condition: neutral\n",
        "Using the weib function to analyze this\n",
        "File: S03ABn_90_0_02102012_2_att_ss.csv"
       ]
      },
      {
       "output_type": "stream",
       "stream": "stdout",
       "text": [
        "\n",
        "Condition: neutral\n",
        "Using the weib function to analyze this\n",
        "File: S03ABn_90_90_02102012_1_att_ss.csv\n",
        "Condition: neutral\n",
        "Using the weib function to analyze this\n",
        "Analyzing S04"
       ]
      },
      {
       "output_type": "stream",
       "stream": "stdout",
       "text": [
        "\n",
        "File: S04LC_0_0_02162012_1_att_ss.csv\n",
        "Condition: cued\n",
        "Using the weib function to analyze this\n",
        "4.23606371248\n",
        "1.0\n",
        "1.02504121418\n",
        "1.0\n",
        "Condition: other\n",
        "Using the weib function to analyze this"
       ]
      },
      {
       "output_type": "stream",
       "stream": "stdout",
       "text": [
        "\n",
        "23.437014318\n",
        "1.0\n",
        "File: S04LC_0_90_02162012_1_att_ss.csv\n",
        "Condition: cued\n",
        "Using the weib function to analyze this\n",
        "1.39986200871"
       ]
      },
      {
       "output_type": "stream",
       "stream": "stdout",
       "text": [
        "\n",
        "1.0\n",
        "1.81673982101\n",
        "1.0\n",
        "Condition: other\n",
        "Using the weib function to analyze this\n",
        "13.2824393433"
       ]
      },
      {
       "output_type": "stream",
       "stream": "stdout",
       "text": [
        "\n",
        "1.0\n",
        "1.00000181655\n",
        "1.0\n",
        "File: S04LC_90_0_02162012_1_att_ss.csv\n",
        "Condition: cued\n",
        "Using the weib function to analyze this\n",
        "2.89308382433"
       ]
      },
      {
       "output_type": "stream",
       "stream": "stdout",
       "text": [
        "\n",
        "1.0\n",
        "Condition: other\n",
        "Using the weib function to analyze this\n",
        "2.14004593773\n",
        "1.0\n",
        "1.04818526931\n",
        "1.0\n",
        "File: S04LC_90_90_02162012_1_att_ss.csv\n",
        "Condition: cued"
       ]
      },
      {
       "output_type": "stream",
       "stream": "stdout",
       "text": [
        "\n",
        "Using the weib function to analyze this\n",
        "2.98751485031\n",
        "1.0\n",
        "1.72923259676\n",
        "1.0\n",
        "Condition: other\n",
        "Using the weib function to analyze this"
       ]
      },
      {
       "output_type": "stream",
       "stream": "stdout",
       "text": [
        "\n",
        "11.2892957979"
       ]
      },
      {
       "output_type": "stream",
       "stream": "stdout",
       "text": [
        "\n",
        "1.0\n",
        "File: S04LCn_0_0_02162012_1_att_ss.csv\n",
        "Condition: neutral\n",
        "Using the weib function to analyze this\n",
        "File: S04LCn_0_90_02162012_1_att_ss.csv\n",
        "Condition: neutral\n",
        "Using the weib function to analyze this\n",
        "File: S04LCn_90_0_02162012_1_att_ss.csv"
       ]
      },
      {
       "output_type": "stream",
       "stream": "stdout",
       "text": [
        "\n",
        "Condition: neutral\n",
        "Using the weib function to analyze this\n",
        "File: S04LCn_90_90_02162012_1_att_ss.csv\n",
        "Condition: neutral\n",
        "Using the weib function to analyze this"
       ]
      },
      {
       "output_type": "stream",
       "stream": "stdout",
       "text": [
        "\n",
        "Analyzing S05\n",
        "File: S05JV_0_0_02162012_1_att_ss.csv\n",
        "Condition: cued\n",
        "Using the weib function to analyze this"
       ]
      },
      {
       "output_type": "stream",
       "stream": "stdout",
       "text": [
        "\n",
        "5.18594256074\n",
        "1.0\n",
        "1.02055823116\n",
        "1.0\n",
        "Condition: other\n",
        "Using the weib function to analyze this\n",
        "6.81298782688\n",
        "1.0\n",
        "1.03132074131\n",
        "1.0\n",
        "File: S05JV_0_90_02162012_1_att_ss.csv\n",
        "Condition: cued"
       ]
      },
      {
       "output_type": "stream",
       "stream": "stdout",
       "text": [
        "\n",
        "Using the weib function to analyze this\n",
        "1.58850948472\n",
        "1.0\n",
        "1.05739387849\n",
        "1.0\n",
        "Condition: other\n",
        "Using the weib function to analyze this\n",
        "1.15770345114"
       ]
      },
      {
       "output_type": "stream",
       "stream": "stdout",
       "text": [
        "\n",
        "1.0\n",
        "1.76171876146\n",
        "1.0\n",
        "File: S05JV_90_0_02162012_1_att_ss.csv\n",
        "Condition: cued\n",
        "Using the weib function to analyze this\n",
        "11.9148334828\n",
        "1.0\n",
        "Condition: other\n",
        "Using the weib function to analyze this"
       ]
      },
      {
       "output_type": "stream",
       "stream": "stdout",
       "text": [
        "\n",
        "58.8476197815"
       ]
      },
      {
       "output_type": "stream",
       "stream": "stdout",
       "text": [
        "\n",
        "1.0\n",
        "1.0\n",
        "1.0\n",
        "File: S05JV_90_90_02162012_1_att_ss.csv\n",
        "Condition: cued\n",
        "Using the weib function to analyze this\n",
        "4.17670338543"
       ]
      },
      {
       "output_type": "stream",
       "stream": "stdout",
       "text": [
        "\n",
        "1.0\n",
        "1.02244284729\n",
        "1.0\n",
        "Condition: other\n",
        "Using the weib function to analyze this\n",
        "22.6172686244\n",
        "1.0\n",
        "File: S05JV_90_90_02232012_1_att_ss.csv\n",
        "Condition: cued"
       ]
      },
      {
       "output_type": "stream",
       "stream": "stdout",
       "text": [
        "\n",
        "Using the weib function to analyze this\n",
        "4.94396614407\n",
        "1.0\n",
        "Condition: other\n",
        "Using the weib function to analyze this"
       ]
      },
      {
       "output_type": "stream",
       "stream": "stdout",
       "text": [
        "\n",
        "3.16664732796\n",
        "1.0\n",
        "File: S05JVn_0_0_02162012_1_att_ss.csv\n",
        "Condition: neutral\n",
        "Using the weib function to analyze this\n",
        "File: S05JVn_0_90_02162012_1_att_ss.csv"
       ]
      },
      {
       "output_type": "stream",
       "stream": "stdout",
       "text": [
        "\n",
        "Condition: neutral\n",
        "Using the weib function to analyze this\n",
        "File: S05JVn_90_0_02162012_1_att_ss.csv\n",
        "Condition: neutral\n",
        "Using the weib function to analyze this"
       ]
      },
      {
       "output_type": "stream",
       "stream": "stdout",
       "text": [
        "\n",
        "File: S05JVn_90_90_02162012_1_att_ss.csv\n",
        "Condition: neutral\n",
        "Using the weib function to analyze this\n",
        "Analyzing S06\n",
        "File: S06LN_0_0_02212012_1_att_ss.csv\n",
        "Condition: cued"
       ]
      },
      {
       "output_type": "stream",
       "stream": "stdout",
       "text": [
        "\n",
        "Using the weib function to analyze this\n",
        "7.73059880827\n",
        "1.0\n",
        "Condition: other\n",
        "Using the weib function to analyze this\n",
        "24.0360146723"
       ]
      },
      {
       "output_type": "stream",
       "stream": "stdout",
       "text": [
        "\n",
        "1.0\n",
        "File: S06LN_0_90_02212012_1_att_ss.csv\n",
        "Condition: cued\n",
        "Using the weib function to analyze this\n",
        "7.48647940678"
       ]
      },
      {
       "output_type": "stream",
       "stream": "stdout",
       "text": [
        "\n",
        "1.0\n",
        "Condition: other\n",
        "Using the weib function to analyze this\n",
        "4.93258679471"
       ]
      },
      {
       "output_type": "stream",
       "stream": "stdout",
       "text": [
        "\n",
        "1.0\n",
        "File: S06LN_90_0_02212012_1_att_ss.csv\n",
        "Condition: cued\n",
        "Using the weib function to analyze this\n",
        "3.66533029887"
       ]
      },
      {
       "output_type": "stream",
       "stream": "stdout",
       "text": [
        "\n",
        "1.0\n",
        "Condition: other\n",
        "Using the weib function to analyze this\n",
        "39.6438448903\n",
        "1.0\n",
        "File: S06LN_90_90_02212012_1_att_ss.csv\n",
        "Condition: cued\n",
        "Using the weib function to analyze this"
       ]
      },
      {
       "output_type": "stream",
       "stream": "stdout",
       "text": [
        "\n",
        "3.89373203912\n",
        "1.0\n",
        "Condition: other\n",
        "Using the weib function to analyze this\n",
        "1.722016569\n",
        "1.0\n",
        "File: S06LNn_0_0_02212012_1_att_ss.csv\n",
        "Condition: neutral"
       ]
      },
      {
       "output_type": "stream",
       "stream": "stdout",
       "text": [
        "\n",
        "Using the weib function to analyze this\n",
        "File: S06LNn_0_90_02212012_1_att_ss.csv\n",
        "Condition: neutral\n",
        "Using the weib function to analyze this"
       ]
      },
      {
       "output_type": "stream",
       "stream": "stdout",
       "text": [
        "\n",
        "File: S06LNn_90_0_02212012_1_att_ss.csv\n",
        "Condition: neutral\n",
        "Using the weib function to analyze this\n",
        "File: S06LNn_90_90_02212012_1_att_ss.csv"
       ]
      },
      {
       "output_type": "stream",
       "stream": "stdout",
       "text": [
        "\n",
        "Condition: neutral\n",
        "Using the weib function to analyze this\n",
        "Analyzing S07\n",
        "File: S07GM_0_0_02232012_1_att_ss.csv\n",
        "Condition: cued\n",
        "Using the weib function to analyze this"
       ]
      },
      {
       "output_type": "stream",
       "stream": "stdout",
       "text": [
        "\n",
        "3.60892647411\n",
        "1.0\n",
        "Condition: other\n",
        "Using the weib function to analyze this\n",
        "74.5389919019"
       ]
      },
      {
       "output_type": "stream",
       "stream": "stdout",
       "text": [
        "\n",
        "1.0\n",
        "File: S07GM_0_90_02232012_1_att_ss.csv\n",
        "Condition: cued\n",
        "Using the weib function to analyze this\n",
        "6.30530503823"
       ]
      },
      {
       "output_type": "stream",
       "stream": "stdout",
       "text": [
        "\n",
        "1.0\n",
        "Condition: other\n",
        "Using the weib function to analyze this\n",
        "File: S07GM_90_0_02232012_1_att_ss.csv\n",
        "Condition: cued"
       ]
      },
      {
       "output_type": "stream",
       "stream": "stdout",
       "text": [
        "\n",
        "Using the weib function to analyze this\n",
        "4.10564388742"
       ]
      },
      {
       "output_type": "stream",
       "stream": "stdout",
       "text": [
        "\n",
        "1.0\n",
        "Condition: other\n",
        "Using the weib function to analyze this\n",
        "2.22550669704\n",
        "1.0\n",
        "1.82105986459\n",
        "1.0\n",
        "File: S07GM_90_90_02232012_1_att_ss.csv\n",
        "Condition: cued"
       ]
      },
      {
       "output_type": "stream",
       "stream": "stdout",
       "text": [
        "\n",
        "Using the weib function to analyze this\n",
        "3.36838829867\n",
        "1.0\n",
        "Condition: other\n",
        "Using the weib function to analyze this"
       ]
      },
      {
       "output_type": "stream",
       "stream": "stdout",
       "text": [
        "\n",
        "30.9461919074"
       ]
      },
      {
       "output_type": "stream",
       "stream": "stdout",
       "text": [
        "\n",
        "1.0\n",
        "File: S07GMn_0_0_02232012_1_att_ss.csv\n",
        "Condition: neutral\n",
        "Using the weib function to analyze this\n",
        "File: S07GMn_0_90_02232012_1_att_ss.csv\n",
        "Condition: neutral\n",
        "Using the weib function to analyze this"
       ]
      },
      {
       "output_type": "stream",
       "stream": "stdout",
       "text": [
        "\n",
        "File: S07GMn_90_0_02232012_1_att_ss.csv\n",
        "Condition: neutral\n",
        "Using the weib function to analyze this\n",
        "File: S07GMn_90_90_02232012_1_att_ss.csv\n",
        "Condition: neutral\n",
        "Using the weib function to analyze this"
       ]
      },
      {
       "output_type": "stream",
       "stream": "stdout",
       "text": [
        "\n",
        "File: S07MGn_0_0_05292012_1_att_ss.csv"
       ]
      },
      {
       "output_type": "stream",
       "stream": "stdout",
       "text": [
        "\n",
        "Condition: neutral\n",
        "Using the weib function to analyze this\n",
        "File: S07MGn_0_90_05292012_1_att_ss.csv\n",
        "Condition: neutral\n",
        "Using the weib function to analyze this"
       ]
      },
      {
       "output_type": "stream",
       "stream": "stdout",
       "text": [
        "\n",
        "File: S07MGn_90_0_05292012_1_att_ss.csv\n",
        "Condition: neutral\n",
        "Using the weib function to analyze this\n",
        "File: S07MGn_90_90_05292012_1_att_ss.csv"
       ]
      },
      {
       "output_type": "stream",
       "stream": "stdout",
       "text": [
        "\n",
        "Condition: neutral\n",
        "Using the weib function to analyze this\n",
        "Analyzing S09"
       ]
      },
      {
       "output_type": "stream",
       "stream": "stdout",
       "text": [
        "\n",
        "File: S09CL_0_0_02292012_1_att_ss.csv\n",
        "Condition: cued\n",
        "Using the weib function to analyze this\n",
        "3.85038193799\n",
        "1.0\n",
        "1.02565663346\n",
        "1.0\n",
        "Condition: other\n",
        "Using the weib function to analyze this"
       ]
      },
      {
       "output_type": "stream",
       "stream": "stdout",
       "text": [
        "\n",
        "8.30098684556\n",
        "1.0\n",
        "1.13448881008\n",
        "1.0\n",
        "File: S09CL_0_90_02292012_1_att_ss.csv\n",
        "Condition: cued\n",
        "Using the weib function to analyze this"
       ]
      },
      {
       "output_type": "stream",
       "stream": "stdout",
       "text": [
        "\n",
        "4.42843081957\n",
        "1.0\n",
        "1.00937833178\n",
        "1.0\n",
        "Condition: other\n",
        "Using the weib function to analyze this\n",
        "4.50449338754\n",
        "1.0\n",
        "1.01642166623\n",
        "1.0\n",
        "File: S09CL_90_0_02292012_1_att_ss.csv\n",
        "Condition: cued"
       ]
      },
      {
       "output_type": "stream",
       "stream": "stdout",
       "text": [
        "\n",
        "Using the weib function to analyze this\n",
        "4.1436216836\n",
        "1.0\n",
        "Condition: other\n",
        "Using the weib function to analyze this"
       ]
      },
      {
       "output_type": "stream",
       "stream": "stdout",
       "text": [
        "\n",
        "5.80333534296"
       ]
      },
      {
       "output_type": "stream",
       "stream": "stdout",
       "text": [
        "\n",
        "1.0\n",
        "1.01312079574\n",
        "1.0\n",
        "File: S09CL_90_90_02292012_1_att_ss.csv\n",
        "Condition: cued\n",
        "Using the weib function to analyze this\n",
        "3.85612993323"
       ]
      },
      {
       "output_type": "stream",
       "stream": "stdout",
       "text": [
        "\n",
        "1.0\n",
        "1.10941968704\n",
        "1.0\n",
        "Condition: other\n",
        "Using the weib function to analyze this\n",
        "38.0433096138"
       ]
      },
      {
       "output_type": "stream",
       "stream": "stdout",
       "text": [
        "\n",
        "1.0\n",
        "File: S09CL_90_90_02292012_2_att_ss.csv\n",
        "Condition: cued\n",
        "Using the weib function to analyze this\n",
        "11.8882043508"
       ]
      },
      {
       "output_type": "stream",
       "stream": "stdout",
       "text": [
        "\n",
        "1.0\n",
        "Condition: other\n",
        "Using the weib function to analyze this\n",
        "4.84289633043\n",
        "1.0\n",
        "File: S09CLn_0_0_02292012_1_att_ss.csv\n",
        "Condition: neutral\n",
        "Using the weib function to analyze this"
       ]
      },
      {
       "output_type": "stream",
       "stream": "stdout",
       "text": [
        "\n",
        "File: S09CLn_0_90_02292012_1_att_ss.csv\n",
        "Condition: neutral\n",
        "Using the weib function to analyze this\n",
        "File: S09CLn_90_0_02292012_1_att_ss.csv"
       ]
      },
      {
       "output_type": "stream",
       "stream": "stdout",
       "text": [
        "\n",
        "Condition: neutral\n",
        "Using the weib function to analyze this\n",
        "File: S09CLn_90_90_02292012_1_att_ss.csv\n",
        "Condition: neutral"
       ]
      },
      {
       "output_type": "stream",
       "stream": "stdout",
       "text": [
        "\n",
        "Using the weib function to analyze this\n",
        "Analyzing S10\n",
        "File: S10SH_0_0_03012012_1_att_ss.csv\n",
        "Condition: cued\n",
        "Using the weib function to analyze this"
       ]
      },
      {
       "output_type": "stream",
       "stream": "stdout",
       "text": [
        "\n",
        "6.33012381303\n",
        "1.0\n",
        "Condition: other\n",
        "Using the weib function to analyze this\n",
        "2.98753516413"
       ]
      },
      {
       "output_type": "stream",
       "stream": "stdout",
       "text": [
        "\n",
        "1.0\n",
        "3.12042285421\n",
        "1.0\n",
        "File: S10SH_0_90_03012012_1_att_ss.csv\n",
        "Condition: cued\n",
        "Using the weib function to analyze this"
       ]
      },
      {
       "output_type": "stream",
       "stream": "stdout",
       "text": [
        "\n",
        "4.58508171527\n",
        "1.0\n",
        "Condition: other\n",
        "Using the weib function to analyze this\n",
        "2.55333318755"
       ]
      },
      {
       "output_type": "stream",
       "stream": "stdout",
       "text": [
        "\n",
        "1.0\n",
        "File: S10SH_90_0_03012012_1_att_ss.csv\n",
        "Condition: cued\n",
        "Using the weib function to analyze this"
       ]
      },
      {
       "output_type": "stream",
       "stream": "stdout",
       "text": [
        "\n",
        "4.13646586902\n",
        "1.0\n",
        "Condition: other\n",
        "Using the weib function to analyze this\n",
        "10.5031116926"
       ]
      },
      {
       "output_type": "stream",
       "stream": "stdout",
       "text": [
        "\n",
        "1.0\n",
        "1.00576755703\n",
        "1.0\n",
        "File: S10SH_90_90_03012012_1_att_ss.csv\n",
        "Condition: cued\n",
        "Using the weib function to analyze this\n",
        "8.75987913236"
       ]
      },
      {
       "output_type": "stream",
       "stream": "stdout",
       "text": [
        "\n",
        "1.0\n",
        "Condition: other\n",
        "Using the weib function to analyze this\n",
        "39.5121758651"
       ]
      },
      {
       "output_type": "stream",
       "stream": "stdout",
       "text": [
        "\n",
        "1.0\n",
        "File: S10SHn_0_0_03012012_1_att_ss.csv\n",
        "Condition: neutral\n",
        "Using the weib function to analyze this\n",
        "File: S10SHn_0_90_03012012_1_att_ss.csv\n",
        "Condition: neutral\n",
        "Using the weib function to analyze this"
       ]
      },
      {
       "output_type": "stream",
       "stream": "stdout",
       "text": [
        "\n",
        "File: S10SHn_90_0_03012012_1_att_ss.csv\n",
        "Condition: neutral\n",
        "Using the weib function to analyze this\n",
        "File: S10SHn_90_90_03012012_1_att_ss.csv\n",
        "Condition: neutral"
       ]
      },
      {
       "output_type": "stream",
       "stream": "stdout",
       "text": [
        "\n",
        "Using the weib function to analyze this\n",
        "Analyzing S11\n",
        "File: S11TL_0_0_03132012_1_att_ss.csv\n",
        "Condition: cued\n",
        "Using the weib function to analyze this"
       ]
      },
      {
       "output_type": "stream",
       "stream": "stdout",
       "text": [
        "\n",
        "5.46871258819\n",
        "1.0\n",
        "1.38836178388\n",
        "1.0\n",
        "Condition: other\n",
        "Using the weib function to analyze this\n",
        "3.79033689449"
       ]
      },
      {
       "output_type": "stream",
       "stream": "stdout",
       "text": [
        "\n",
        "1.0\n",
        "1.17418205395\n",
        "1.0\n",
        "File: S11TL_0_90_03132012_1_att_ss.csv\n",
        "Condition: cued\n",
        "Using the weib function to analyze this\n",
        "3.92105206637"
       ]
      },
      {
       "output_type": "stream",
       "stream": "stdout",
       "text": [
        "\n",
        "1.0\n",
        "Condition: other\n",
        "Using the weib function to analyze this\n",
        "16.3608445195"
       ]
      },
      {
       "output_type": "stream",
       "stream": "stdout",
       "text": [
        "\n",
        "1.0\n",
        "1.00001106629\n",
        "1.0\n",
        "File: S11TL_90_0_03132012_1_att_ss.csv\n",
        "Condition: cued\n",
        "Using the weib function to analyze this"
       ]
      },
      {
       "output_type": "stream",
       "stream": "stdout",
       "text": [
        "\n",
        "4.2397013456\n",
        "1.0\n",
        "Condition: other\n",
        "Using the weib function to analyze this"
       ]
      },
      {
       "output_type": "stream",
       "stream": "stdout",
       "text": [
        "\n",
        "69.8818596386\n",
        "1.0\n",
        "File: S11TL_90_90_03132012_1_att_ss.csv\n",
        "Condition: cued\n",
        "Using the weib function to analyze this"
       ]
      },
      {
       "output_type": "stream",
       "stream": "stdout",
       "text": [
        "\n",
        "2.17253287717\n",
        "1.0\n",
        "1.2222558201\n",
        "1.0\n",
        "Condition: other\n",
        "Using the weib function to analyze this\n",
        "1.97263500047"
       ]
      },
      {
       "output_type": "stream",
       "stream": "stdout",
       "text": [
        "\n",
        "1.0\n",
        "1.72594227895\n",
        "1.0\n",
        "File: S11TLn_0_0_03132012_1_att_ss.csv\n",
        "Condition: neutral\n",
        "Using the weib function to analyze this\n",
        "File: S11TLn_0_90_03132012_1_att_ss.csv\n",
        "Condition: neutral"
       ]
      },
      {
       "output_type": "stream",
       "stream": "stdout",
       "text": [
        "\n",
        "Using the weib function to analyze this\n",
        "File: S11TLn_90_0_03132012_1_att_ss.csv\n",
        "Condition: neutral\n",
        "Using the weib function to analyze this"
       ]
      },
      {
       "output_type": "stream",
       "stream": "stdout",
       "text": [
        "\n",
        "File: S11TLn_90_90_03132012_1_att_ss.csv\n",
        "Condition: neutral\n",
        "Using the weib function to analyze this\n",
        "Analyzing S12"
       ]
      },
      {
       "output_type": "stream",
       "stream": "stdout",
       "text": [
        "\n",
        "File: S12JD_0_0_05232012_1_att_ss.csv\n",
        "Condition: cued\n",
        "Using the weib function to analyze this"
       ]
      },
      {
       "output_type": "stream",
       "stream": "stdout",
       "text": [
        "\n",
        "3.83750584149\n",
        "1.0\n",
        "Condition: other\n",
        "Using the weib function to analyze this\n",
        "File: S12JD_0_90_05232012_1_att_ss.csv"
       ]
      },
      {
       "output_type": "stream",
       "stream": "stdout",
       "text": [
        "\n",
        "Condition: cued\n",
        "Using the weib function to analyze this\n",
        "2.31005586925"
       ]
      },
      {
       "output_type": "stream",
       "stream": "stdout",
       "text": [
        "\n",
        "1.0\n",
        "1.00953513795\n",
        "1.0\n",
        "Condition: other\n",
        "Using the weib function to analyze this\n",
        "1.22028410043"
       ]
      },
      {
       "output_type": "stream",
       "stream": "stdout",
       "text": [
        "\n",
        "1.0\n",
        "1.16490383315\n",
        "1.0\n",
        "File: S12JD_90_0_05232012_1_att_ss.csv\n",
        "Condition: cued\n",
        "Using the weib function to analyze this\n",
        "2.426561886"
       ]
      },
      {
       "output_type": "stream",
       "stream": "stdout",
       "text": [
        "\n",
        "1.0\n",
        "1.04613704767\n",
        "1.0\n",
        "Condition: other\n",
        "Using the weib function to analyze this\n",
        "53.5454188717\n",
        "1.0\n",
        "File: S12JD_90_90_05232012_1_att_ss.csv\n",
        "Condition: cued"
       ]
      },
      {
       "output_type": "stream",
       "stream": "stdout",
       "text": [
        "\n",
        "Using the weib function to analyze this\n",
        "7.62914856512\n",
        "1.0\n",
        "Condition: other\n",
        "Using the weib function to analyze this"
       ]
      },
      {
       "output_type": "stream",
       "stream": "stdout",
       "text": [
        "\n",
        "10.6318950977\n",
        "1.0\n",
        "File: S12JD_n_0_0_05232012_1_att_ss.csv\n",
        "Condition: neutral\n",
        "Using the weib function to analyze this\n",
        "File: S12JD_n_0_90_05232012_1_att_ss.csv"
       ]
      },
      {
       "output_type": "stream",
       "stream": "stdout",
       "text": [
        "\n",
        "Condition: neutral\n",
        "Using the weib function to analyze this\n",
        "File: S12JD_n_90_0_05232012_1_att_ss.csv"
       ]
      },
      {
       "output_type": "stream",
       "stream": "stdout",
       "text": [
        "\n",
        "Condition: neutral\n",
        "Using the weib function to analyze this\n",
        "File: S12JD_n_90_90_05232012_1_att_ss.csv\n",
        "Condition: neutral\n",
        "Using the weib function to analyze this"
       ]
      },
      {
       "output_type": "stream",
       "stream": "stdout",
       "text": [
        "\n",
        "Analyzing S14\n",
        "File: S14JN_0_0_06052012_1_att_ss.csv\n",
        "Condition: cued"
       ]
      },
      {
       "output_type": "stream",
       "stream": "stdout",
       "text": [
        "\n",
        "Using the weib function to analyze this\n",
        "3.89273215537\n",
        "1.0\n",
        "Condition: other\n",
        "Using the weib function to analyze this"
       ]
      },
      {
       "output_type": "stream",
       "stream": "stdout",
       "text": [
        "\n",
        "33.308389897"
       ]
      },
      {
       "output_type": "stream",
       "stream": "stdout",
       "text": [
        "\n",
        "1.0\n",
        "File: S14JN_0_90_06052012_1_att_ss.csv\n",
        "Condition: cued\n",
        "Using the weib function to analyze this\n",
        "4.60077252541"
       ]
      },
      {
       "output_type": "stream",
       "stream": "stdout",
       "text": [
        "\n",
        "1.0\n",
        "Condition: other\n",
        "Using the weib function to analyze this\n",
        "1.26841487227"
       ]
      },
      {
       "output_type": "stream",
       "stream": "stdout",
       "text": [
        "\n",
        "1.0\n",
        "File: S14JN_90_0_06052012_1_att_ss.csv\n",
        "Condition: cued\n",
        "Using the weib function to analyze this\n",
        "3.09975323979"
       ]
      },
      {
       "output_type": "stream",
       "stream": "stdout",
       "text": [
        "\n",
        "1.0\n",
        "Condition: other\n",
        "Using the weib function to analyze this\n",
        "12.9197862894\n",
        "1.0\n",
        "File: S14JN_90_90_06052012_1_att_ss.csv\n",
        "Condition: cued"
       ]
      },
      {
       "output_type": "stream",
       "stream": "stdout",
       "text": [
        "\n",
        "Using the weib function to analyze this\n",
        "5.09689940945\n",
        "1.0\n",
        "Condition: other\n",
        "Using the weib function to analyze this"
       ]
      },
      {
       "output_type": "stream",
       "stream": "stdout",
       "text": [
        "\n",
        "26.4888865868"
       ]
      },
      {
       "output_type": "stream",
       "stream": "stdout",
       "text": [
        "\n",
        "1.0\n",
        "File: S14JNn_0_0_06052012_1_att_ss.csv\n",
        "Condition: neutral\n",
        "Using the weib function to analyze this\n",
        "File: S14JNn_0_90_06052012_1_att_ss.csv\n",
        "Condition: neutral\n",
        "Using the weib function to analyze this"
       ]
      },
      {
       "output_type": "stream",
       "stream": "stdout",
       "text": [
        "\n",
        "File: S14JNn_90_0_06052012_1_att_ss.csv\n",
        "Condition: neutral\n",
        "Using the weib function to analyze this\n",
        "File: S14JNn_90_90_06052012_1_att_ss.csv"
       ]
      },
      {
       "output_type": "stream",
       "stream": "stdout",
       "text": [
        "\n",
        "Condition: neutral\n",
        "Using the weib function to analyze this\n",
        "Analyzing S15"
       ]
      },
      {
       "output_type": "stream",
       "stream": "stdout",
       "text": [
        "\n",
        "File: S15KB_0_0_06052012_1_att_ss.csv\n",
        "Condition: cued\n",
        "Using the weib function to analyze this\n",
        "115.814904788"
       ]
      },
      {
       "output_type": "stream",
       "stream": "stdout",
       "text": [
        "\n",
        "1.0\n",
        "Condition: other\n",
        "Using the weib function to analyze this\n",
        "File: S15KB_0_90_06052012_1_att_ss.csv"
       ]
      },
      {
       "output_type": "stream",
       "stream": "stdout",
       "text": [
        "\n",
        "Condition: cued\n",
        "Using the weib function to analyze this"
       ]
      },
      {
       "output_type": "stream",
       "stream": "stdout",
       "text": [
        "\n",
        "15.7174685371\n",
        "1.0\n",
        "Condition: other\n",
        "Using the weib function to analyze this\n",
        "27.6616023884"
       ]
      },
      {
       "output_type": "stream",
       "stream": "stdout",
       "text": [
        "\n",
        "1.0\n",
        "File: S15KB_90_0_06052012_1_att_ss.csv\n",
        "Condition: cued\n",
        "Using the weib function to analyze this"
       ]
      },
      {
       "output_type": "stream",
       "stream": "stdout",
       "text": [
        "\n",
        "1.05105021855\n",
        "1.0\n",
        "Condition: other\n",
        "Using the weib function to analyze this\n",
        "1.39989517805"
       ]
      },
      {
       "output_type": "stream",
       "stream": "stdout",
       "text": [
        "\n",
        "1.0\n",
        "1.00000001757\n",
        "1.0\n",
        "File: S15KB_90_90_06052012_1_att_ss.csv\n",
        "Condition: cued\n",
        "Using the weib function to analyze this"
       ]
      },
      {
       "output_type": "stream",
       "stream": "stdout",
       "text": [
        "\n",
        "26.4774455022\n",
        "1.0\n",
        "Condition: other\n",
        "Using the weib function to analyze this"
       ]
      },
      {
       "output_type": "stream",
       "stream": "stdout",
       "text": [
        "\n",
        "95.6157810783\n",
        "1.0\n",
        "File: S15KBn_0_0_06052012_1_att_ss.csv\n",
        "Condition: neutral\n",
        "Using the weib function to analyze this"
       ]
      },
      {
       "output_type": "stream",
       "stream": "stdout",
       "text": [
        "\n",
        "File: S15KBn_0_90_06052012_1_att_ss.csv\n",
        "Condition: neutral\n",
        "Using the weib function to analyze this\n",
        "File: S15KBn_90_0_06052012_1_att_ss.csv"
       ]
      },
      {
       "output_type": "stream",
       "stream": "stdout",
       "text": [
        "\n",
        "Condition: neutral\n",
        "Using the weib function to analyze this\n",
        "File: S15KBn_90_90_06052012_1_att_ss.csv\n",
        "Condition: neutral"
       ]
      },
      {
       "output_type": "stream",
       "stream": "stdout",
       "text": [
        "\n",
        "Using the weib function to analyze this\n",
        "Analyzing S16\n",
        "File: S16PW_0_0_06082012_1_att_ss.csv\n",
        "Condition: cued"
       ]
      },
      {
       "output_type": "stream",
       "stream": "stdout",
       "text": [
        "\n",
        "Using the weib function to analyze this\n",
        "1.8285390479"
       ]
      },
      {
       "output_type": "stream",
       "stream": "stdout",
       "text": [
        "\n",
        "1.0\n",
        "1.61736908711\n",
        "1.0\n",
        "Condition: other\n",
        "Using the weib function to analyze this\n",
        "182.588783304\n",
        "1.0\n",
        "1.00000000045\n",
        "1.0\n",
        "File: S16PW_0_90_06082012_1_att_ss.csv\n",
        "Condition: cued"
       ]
      },
      {
       "output_type": "stream",
       "stream": "stdout",
       "text": [
        "\n",
        "Using the weib function to analyze this\n",
        "2.43058303746"
       ]
      },
      {
       "output_type": "stream",
       "stream": "stdout",
       "text": [
        "\n",
        "1.0\n",
        "Condition: other\n",
        "Using the weib function to analyze this\n",
        "1.20209670731\n",
        "1.0\n",
        "1.80395343283\n",
        "1.0\n",
        "File: S16PW_90_0_06082012_1_att_ss.csv\n",
        "Condition: cued"
       ]
      },
      {
       "output_type": "stream",
       "stream": "stdout",
       "text": [
        "\n",
        "Using the weib function to analyze this\n",
        "5.07227454267"
       ]
      },
      {
       "output_type": "stream",
       "stream": "stdout",
       "text": [
        "\n",
        "1.0\n",
        "1.01505345023\n",
        "1.0\n",
        "Condition: other\n",
        "Using the weib function to analyze this\n",
        "23.8171486483"
       ]
      },
      {
       "output_type": "stream",
       "stream": "stdout",
       "text": [
        "\n",
        "1.0\n",
        "File: S16PW_90_90_06082012_1_att_ss.csv\n",
        "Condition: cued\n",
        "Using the weib function to analyze this"
       ]
      },
      {
       "output_type": "stream",
       "stream": "stdout",
       "text": [
        "\n",
        "2.73666067515\n",
        "1.0\n",
        "1.04254824997\n",
        "1.0\n",
        "Condition: other\n",
        "Using the weib function to analyze this\n",
        "48.1750463264"
       ]
      },
      {
       "output_type": "stream",
       "stream": "stdout",
       "text": [
        "\n",
        "1.0\n",
        "File: S16PWn_0_0_06082012_1_att_ss.csv\n",
        "Condition: neutral\n",
        "Using the weib function to analyze this\n",
        "File: S16PWn_0_90_06082012_1_att_ss.csv\n",
        "Condition: neutral\n",
        "Using the weib function to analyze this"
       ]
      },
      {
       "output_type": "stream",
       "stream": "stdout",
       "text": [
        "\n",
        "File: S16PWn_90_0_06082012_1_att_ss.csv\n",
        "Condition: neutral\n",
        "Using the weib function to analyze this\n",
        "File: S16PWn_90_90_06082012_1_att_ss.csv"
       ]
      },
      {
       "output_type": "stream",
       "stream": "stdout",
       "text": [
        "\n",
        "Condition: neutral\n",
        "Using the weib function to analyze this\n",
        "Analyzing S17\n",
        "File: S17LD_0_0_06262012_1_att_ss.csv\n",
        "Condition: cued"
       ]
      },
      {
       "output_type": "stream",
       "stream": "stdout",
       "text": [
        "\n",
        "Using the weib function to analyze this\n",
        "4.81917496393"
       ]
      },
      {
       "output_type": "stream",
       "stream": "stdout",
       "text": [
        "\n",
        "1.0\n",
        "1.75541466932\n",
        "1.0\n",
        "Condition: other\n",
        "Using the weib function to analyze this\n",
        "11.3927925218"
       ]
      },
      {
       "output_type": "stream",
       "stream": "stdout",
       "text": [
        "\n",
        "1.0\n",
        "3.66115246293\n",
        "1.0\n",
        "File: S17LD_0_90_06262012_1_att_ss.csv\n",
        "Condition: cued\n",
        "Using the weib function to analyze this"
       ]
      },
      {
       "output_type": "stream",
       "stream": "stdout",
       "text": [
        "\n",
        "6.84306625218\n",
        "1.0\n",
        "Condition: other\n",
        "Using the weib function to analyze this"
       ]
      },
      {
       "output_type": "stream",
       "stream": "stdout",
       "text": [
        "\n",
        "76.0887421878\n",
        "1.0\n",
        "File: S17LD_90_0_06262012_1_att_ss.csv\n",
        "Condition: cued"
       ]
      },
      {
       "output_type": "stream",
       "stream": "stdout",
       "text": [
        "\n",
        "Using the weib function to analyze this\n",
        "2.60826383841\n",
        "1.0\n",
        "1.10862552463\n",
        "1.0\n",
        "Condition: other\n",
        "Using the weib function to analyze this"
       ]
      },
      {
       "output_type": "stream",
       "stream": "stdout",
       "text": [
        "\n",
        "1.34149556863\n",
        "1.0\n",
        "1.56464532627\n",
        "1.0\n",
        "File: S17LD_90_90_06262012_1_att_ss.csv\n",
        "Condition: cued\n",
        "Using the weib function to analyze this"
       ]
      },
      {
       "output_type": "stream",
       "stream": "stdout",
       "text": [
        "\n",
        "217.874196808\n",
        "1.0\n",
        "Condition: other\n",
        "Using the weib function to analyze this"
       ]
      },
      {
       "output_type": "stream",
       "stream": "stdout",
       "text": [
        "\n",
        "55.852083957"
       ]
      },
      {
       "output_type": "stream",
       "stream": "stdout",
       "text": [
        "\n",
        "1.0\n",
        "File: S17LDn_0_0_06262012_1_att_ss.csv\n",
        "Condition: neutral\n",
        "Using the weib function to analyze this\n",
        "File: S17LDn_0_90_06262012_1_att_ss.csv"
       ]
      },
      {
       "output_type": "stream",
       "stream": "stdout",
       "text": [
        "\n",
        "Condition: neutral\n",
        "Using the weib function to analyze this\n",
        "File: S17LDn_90_0_06262012_2_att_ss.csv\n",
        "Condition: neutral"
       ]
      },
      {
       "output_type": "stream",
       "stream": "stdout",
       "text": [
        "\n",
        "Using the weib function to analyze this\n",
        "File: S17LDn_90_90_06262012_1_att_ss.csv\n",
        "Condition: neutral\n",
        "Using the weib function to analyze this\n"
       ]
      }
     ],
     "prompt_number": 7
    },
    {
     "cell_type": "code",
     "collapsed": false,
     "input": [
      "uu = {}\n",
      "ll = {}\n",
      "m = {}\n",
      "for fit_func in ['cumgauss', 'weib']:\n",
      "    m[fit_func] = []\n",
      "    uu[fit_func] = []\n",
      "    ll[fit_func] = []\n",
      "    for ori_idx, ori in enumerate([(0,90), (0,0), (90,0), (90,90)]):\n",
      "        for cue_cond in cue_conds: \n",
      "            m[fit_func].append(np.mean(np.array(coeff[fit_func][ori_idx][cue_cond])))\n",
      "            lb,ub = tools.bootstrap_mean(np.array(coeff[fit_func][ori_idx][cue_cond]))\n",
      "            ll[fit_func].append(lb)\n",
      "            uu[fit_func].append(ub)"
     ],
     "language": "python",
     "metadata": {},
     "outputs": [],
     "prompt_number": 8
    },
    {
     "cell_type": "code",
     "collapsed": false,
     "input": [
      "for fit_func in ['cumgauss', 'weib']:\n",
      "    print fit_func, stats.nanmean(m[fit_func]) #np.mean(ll[fit_func]),np.mean(uu[fit_func])"
     ],
     "language": "python",
     "metadata": {},
     "outputs": [
      {
       "output_type": "stream",
       "stream": "stdout",
       "text": [
        "cumgauss 0.210684052864\n",
        "weib 0.269054249204\n"
       ]
      }
     ],
     "prompt_number": 9
    }
   ],
   "metadata": {}
  }
 ]
}