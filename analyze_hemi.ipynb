{
 "metadata": {
  "name": "analyze_hemi"
 },
 "nbformat": 3,
 "nbformat_minor": 0,
 "worksheets": [
  {
   "cells": [
    {
     "cell_type": "code",
     "collapsed": false,
     "input": [
      "import tools\n",
      "import scipy.optimize as opt\n",
      "from scipy.special import erf"
     ],
     "language": "python",
     "metadata": {},
     "outputs": [],
     "prompt_number": 1
    },
    {
     "cell_type": "code",
     "collapsed": false,
     "input": [
      "#p, l, data_rec = tools.get_data('data_hemi/ariel_07102013_1_att_ss.csv')\n",
      "#p, l, data_rec = tools.get_data('data_hemi/ariel_07102013_2_att_ss.csv')\n",
      "#p, l, data_rec = tools.get_data('data_hemi/ariel_07102013_3_att_ss.csv')\n",
      "#p, l, data_rec = tools.get_data('data_hemi/ariel_07102013_4_att_ss.csv')\n",
      "\n",
      "p, l, data_rec = tools.get_data('data_hemi/GST_07112013_1_att_ss.csv')\n",
      "\n"
     ],
     "language": "python",
     "metadata": {},
     "outputs": [],
     "prompt_number": 2
    },
    {
     "cell_type": "code",
     "collapsed": false,
     "input": [
      "base_conds = []\n",
      "for x in p['center_contrast'].split(' '):\n",
      "    try:\n",
      "         base_conds.append(float(x))\n",
      "    except:\n",
      "        pass"
     ],
     "language": "python",
     "metadata": {},
     "outputs": [],
     "prompt_number": 3
    },
    {
     "cell_type": "code",
     "collapsed": false,
     "input": [
      "base_conds"
     ],
     "language": "python",
     "metadata": {},
     "outputs": [
      {
       "output_type": "pyout",
       "prompt_number": 4,
       "text": [
        "[0.15, 0.3, 0.6]"
       ]
      }
     ],
     "prompt_number": 4
    },
    {
     "cell_type": "code",
     "collapsed": false,
     "input": [
      "p"
     ],
     "language": "python",
     "metadata": {},
     "outputs": [
      {
       "output_type": "pyout",
       "prompt_number": 5,
       "text": [
        "{' break_trials': 50.0,\n",
        " ' center_ori': 0.0,\n",
        " ' center_size': 3.0,\n",
        " ' cue_dur': 0.5,\n",
        " ' cue_to_stim': 0.3,\n",
        " ' div_color': -1.0,\n",
        " ' ecc': 6.0,\n",
        " ' fixation_size': 0.5,\n",
        " ' height': 4.0,\n",
        " ' iti': 0.2,\n",
        " ' n_trials': 250.0,\n",
        " ' refresh_rate': 120.0,\n",
        " ' res': 128.0,\n",
        " ' screen_number': 1.0,\n",
        " ' sf': 2.0,\n",
        " ' stim_dur': 0.2,\n",
        " ' surr_contrast': 1.0,\n",
        " ' surr_ori': 90.0,\n",
        " ' surr_size': 8.0,\n",
        " ' temporal_freq': 4.0,\n",
        " 'center_comparison': ' [-0.6  -0.3  -0.2  -0.15 -0.1   0.    0.1   0.15  0.2   0.3   0.6 ] ',\n",
        " 'center_contrast': ' [ 0.15  0.3   0.6 ] ',\n",
        " 'full_screen': ' True ',\n",
        " 'monitor': ' VISTA_DellP1130 ',\n",
        " 'rgb': ' [ 1.  1.  1.] ',\n",
        " 'subject': ' gst '}"
       ]
      }
     ],
     "prompt_number": 5
    },
    {
     "cell_type": "code",
     "collapsed": false,
     "input": [
      "if np.abs(p[' center_ori'] - p[' surr_ori'])==0:\n",
      "    block = 'para'\n",
      "elif np.abs(p[' center_ori'] - p[' surr_ori'])>0:\n",
      "    block = 'ortho'\n",
      "else:\n",
      "    block= 'none'\n",
      "    "
     ],
     "language": "python",
     "metadata": {},
     "outputs": [
      {
       "output_type": "pyout",
       "prompt_number": 15,
       "text": [
        "90.0"
       ]
      }
     ],
     "prompt_number": 15
    },
    {
     "cell_type": "code",
     "collapsed": false,
     "input": [
      "data_rec.dtype"
     ],
     "language": "python",
     "metadata": {},
     "outputs": [
      {
       "output_type": "pyout",
       "prompt_number": 6,
       "text": [
        "dtype([('trial', '<i8'), ('side', 'S1'), ('surround', 'S1'), ('contrast1', '<f8'), ('contrast2', '<f8'), ('answer', '<i8'), ('rt', '<f8')])"
       ]
      }
     ],
     "prompt_number": 6
    },
    {
     "cell_type": "code",
     "collapsed": false,
     "input": [
      "base_idx = (data_rec['surround'] == 'd').astype(int)\n",
      "comp_idx = (data_rec['surround'] == 'u').astype(int)"
     ],
     "language": "python",
     "metadata": {},
     "outputs": [],
     "prompt_number": 7
    },
    {
     "cell_type": "code",
     "collapsed": false,
     "input": [
      "base_contrasts = []\n",
      "comp_contrasts = []\n",
      "for i, x in enumerate(np.vstack([data_rec['contrast1'], data_rec['contrast2']]).T):\n",
      "    base_contrasts.append(x[base_idx[i]])\n",
      "    comp_contrasts.append(x[comp_idx[i]])\n",
      "\n",
      "base_contrasts = np.array(base_contrasts)\n",
      "comp_contrasts = np.array(comp_contrasts)"
     ],
     "language": "python",
     "metadata": {},
     "outputs": [],
     "prompt_number": 8
    },
    {
     "cell_type": "code",
     "collapsed": false,
     "input": [
      "base_conds = np.unique(base_conds)"
     ],
     "language": "python",
     "metadata": {},
     "outputs": [],
     "prompt_number": 9
    },
    {
     "cell_type": "code",
     "collapsed": false,
     "input": [
      "def cumgauss(x, mu, sigma):\n",
      "    \"\"\"\n",
      "    The cumulative Gaussian at x, for the distribution with mean mu and\n",
      "    standard deviation sigma. \n",
      "\n",
      "    Parameters\n",
      "    ----------\n",
      "    x : float or array\n",
      "       The values of x over which to evaluate the cumulative Gaussian function\n",
      "\n",
      "    mu : float \n",
      "       The mean parameter. Determines the x value at which the y value is 0.5\n",
      "   \n",
      "    sigma : float \n",
      "       The variance parameter. Determines the slope of the curve at the point of \n",
      "       Deflection\n",
      "    \n",
      "    Returns\n",
      "    -------\n",
      "\n",
      "    Notes\n",
      "    -----\n",
      "    Based on:\n",
      "    http://en.wikipedia.org/wiki/Normal_distribution#Cumulative_distribution_function\n",
      "\n",
      "    \"\"\"\n",
      "    return 0.5 * (1 + erf((x-mu)/(np.sqrt(2)*sigma)))\n"
     ],
     "language": "python",
     "metadata": {},
     "outputs": [],
     "prompt_number": 10
    },
    {
     "cell_type": "code",
     "collapsed": false,
     "input": [
      "def err_func(params, x, y, func):\n",
      "        \"\"\"\n",
      "        Error function for fitting a function\n",
      "        \n",
      "        Parameters\n",
      "        ----------\n",
      "        params : tuple\n",
      "            A tuple with the parameters of `func` according to their order of input\n",
      "\n",
      "        x : float array \n",
      "            An independent variable. \n",
      "        \n",
      "        y : float array\n",
      "            The dependent variable. \n",
      "        \n",
      "        func : function\n",
      "            A function with inputs: `(x, *params)`\n",
      "        \n",
      "        Returns\n",
      "        -------\n",
      "        The marginals of the fit to x/y given the params\n",
      "        \"\"\"\n",
      "        return y - func(x, *params)"
     ],
     "language": "python",
     "metadata": {},
     "outputs": [],
     "prompt_number": 11
    },
    {
     "cell_type": "code",
     "collapsed": false,
     "input": [
      "fig, ax = plt.subplots(1)\n",
      "colors = ['b', 'g', 'r']\n",
      "for base_idx, base_contrast in enumerate(base_conds):    \n",
      "    data_idx = np.where(base_contrasts==base_contrast)\n",
      "    this_comp = comp_contrasts[data_idx]\n",
      "    this_ans = data_rec['answer'][data_idx] - comp_idx[data_idx]\n",
      "    x = np.unique(this_comp)\n",
      "    y = []\n",
      "    n = []\n",
      "    for c in x: \n",
      "        idx = np.where(this_comp == c)\n",
      "        n.append(float(len(idx[0])))\n",
      "        y.append(len(np.where(this_ans[idx] == 1)[0])/n[-1])\n",
      "    initial = 0,0.5\n",
      "    params, _ = opt.leastsq(err_func, initial, args=(x, y, cumgauss))\n",
      "    print params\n",
      "    print x,y,n\n",
      "    x_fine = np.arange(0,1,0.01)\n",
      "    ax.plot(x_fine, cumgauss(x_fine, params[0], params[1]))\n",
      "    ax.plot(x,y, 'o', color=colors[base_idx])\n",
      "    ax.set_xlim([0,1])\n",
      "    ax.plot([base_contrast, base_contrast],[0,1], '--', color=colors[base_idx])"
     ],
     "language": "python",
     "metadata": {},
     "outputs": [
      {
       "output_type": "stream",
       "stream": "stdout",
       "text": [
        "[ 0.27637918  0.04368918]\n",
        "[ 0.01  0.05  0.15  0.25  0.3   0.35  0.45  0.75] [0.0, 0.0, 0.0, 0.25, 0.75, 0.875, 0.875, 1.0] [32.0, 8.0, 8.0, 8.0, 8.0, 8.0, 8.0, 8.0]\n",
        "[ 0.41944633  0.15355452]\n",
        "[ 0.01  0.1   0.15  0.2   0.3   0.4   0.45  0.5   0.6   0.9 ] [0.0, 0.0, 0.0, 0.0, 0.375, 0.5, 0.375, 0.7142857142857143, 1.0, 1.0] [16.0, 8.0, 8.0, 8.0, 8.0, 8.0, 8.0, 7.0, 7.0, 7.0]\n",
        "[ 0.53652987  0.05819402]\n",
        "[ 0.01  0.3   0.4   0.45  0.5   0.6   0.7   0.75  0.8   0.9   1.  ] [0.0, 0.14285714285714285, 0.14285714285714285, 0.0, 0.2857142857142857, 0.8571428571428571, 1.0, 1.0, 0.8571428571428571, 0.8571428571428571, 0.8571428571428571] [7.0, 7.0, 7.0, 7.0, 7.0, 7.0, 7.0, 7.0, 7.0, 7.0, 7.0]\n"
       ]
      },
      {
       "output_type": "display_data",
       "png": "[encoded data removed]",
       "text": [
        "<matplotlib.figure.Figure at 0x1112d09d0>"
       ]
      }
     ],
     "prompt_number": 12
    },
    {
     "cell_type": "code",
     "collapsed": false,
     "input": [],
     "language": "python",
     "metadata": {},
     "outputs": [],
     "prompt_number": 12
    },
    {
     "cell_type": "code",
     "collapsed": false,
     "input": [],
     "language": "python",
     "metadata": {},
     "outputs": []
    }
   ],
   "metadata": {}
  }
 ]
}